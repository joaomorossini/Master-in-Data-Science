{
 "nbformat": 4,
 "nbformat_minor": 0,
 "metadata": {
  "colab": {
   "provenance": []
  },
  "kernelspec": {
   "name": "python3",
   "display_name": "Python 3"
  },
  "language_info": {
   "name": "python"
  }
 },
 "cells": [
  {
   "cell_type": "markdown",
   "source": [
    "# Clusterização\n",
    "\n",
    "### Atividade 1: Crie um dataframe a partir do banco de dados `basedosdados.br_inep_ideb.municipio` disponível em [Ideb](https://basedosdados.org/dataset/br-inep-ideb?bdm_table=municipio). Selecione apenas as colunas `ano`, `sigla_uf`, `taxa_aprovacao`, `nota_saeb_matematica`, `nota_saeb_lingua_portuguesa` e `ideb`."
   ],
   "metadata": {
    "id": "eI_n6yqQcTJp"
   }
  },
  {
   "cell_type": "code",
   "source": [
    "# Importando as dependências externas\n",
    "import pandas as pd\n",
    "import seaborn as sns\n",
    "from sklearn.preprocessing import StandardScaler\n",
    "from sklearn.cluster import KMeans\n",
    "from sklearn.metrics import silhouette_score\n",
    "import scipy.stats as stats\n",
    "import matplotlib.pyplot as plt\n",
    "import math\n",
    "from sklearn.decomposition import PCA"
   ],
   "metadata": {
    "id": "MTBYqZAAWBEq"
   },
   "execution_count": 121,
   "outputs": []
  },
  {
   "cell_type": "code",
   "source": [
    "# Criando o dataframe a partir dos dados em csv\n",
    "ideb_original = pd.read_csv('ideb.csv')\n",
    "\n",
    "# Novo dataframe com as colunas de interesse\n",
    "ideb = ideb[['ano', 'sigla_uf', 'taxa_aprovacao', 'nota_saeb_matematica', 'nota_saeb_lingua_portuguesa', 'ideb']]\n",
    "ideb.head(2)"
   ],
   "metadata": {
    "colab": {
     "base_uri": "https://localhost:8080/",
     "height": 112
    },
    "id": "CaLaiY6diwfb",
    "outputId": "af3367cb-c286-46b6-df13-b7ec7ef4e081"
   },
   "execution_count": null,
   "outputs": [
    {
     "output_type": "execute_result",
     "data": {
      "text/plain": [
       "    ano sigla_uf  taxa_aprovacao  nota_saeb_matematica  \\\n",
       "0  2005       AC            53.9                 167.8   \n",
       "1  2005       AC            49.3                 151.8   \n",
       "\n",
       "   nota_saeb_lingua_portuguesa  ideb  \n",
       "0                        165.6   2.3  \n",
       "1                        149.6   1.8  "
      ],
      "text/html": [
       "\n",
       "  <div id=\"df-ef85e916-14e1-4ed9-9bee-745b86e87a8e\">\n",
       "    <div class=\"colab-df-container\">\n",
       "      <div>\n",
       "<style scoped>\n",
       "    .dataframe tbody tr th:only-of-type {\n",
       "        vertical-align: middle;\n",
       "    }\n",
       "\n",
       "    .dataframe tbody tr th {\n",
       "        vertical-align: top;\n",
       "    }\n",
       "\n",
       "    .dataframe thead th {\n",
       "        text-align: right;\n",
       "    }\n",
       "</style>\n",
       "<table border=\"1\" class=\"dataframe\">\n",
       "  <thead>\n",
       "    <tr style=\"text-align: right;\">\n",
       "      <th></th>\n",
       "      <th>ano</th>\n",
       "      <th>sigla_uf</th>\n",
       "      <th>taxa_aprovacao</th>\n",
       "      <th>nota_saeb_matematica</th>\n",
       "      <th>nota_saeb_lingua_portuguesa</th>\n",
       "      <th>ideb</th>\n",
       "    </tr>\n",
       "  </thead>\n",
       "  <tbody>\n",
       "    <tr>\n",
       "      <th>0</th>\n",
       "      <td>2005</td>\n",
       "      <td>AC</td>\n",
       "      <td>53.9</td>\n",
       "      <td>167.8</td>\n",
       "      <td>165.6</td>\n",
       "      <td>2.3</td>\n",
       "    </tr>\n",
       "    <tr>\n",
       "      <th>1</th>\n",
       "      <td>2005</td>\n",
       "      <td>AC</td>\n",
       "      <td>49.3</td>\n",
       "      <td>151.8</td>\n",
       "      <td>149.6</td>\n",
       "      <td>1.8</td>\n",
       "    </tr>\n",
       "  </tbody>\n",
       "</table>\n",
       "</div>\n",
       "      <button class=\"colab-df-convert\" onclick=\"convertToInteractive('df-ef85e916-14e1-4ed9-9bee-745b86e87a8e')\"\n",
       "              title=\"Convert this dataframe to an interactive table.\"\n",
       "              style=\"display:none;\">\n",
       "        \n",
       "  <svg xmlns=\"http://www.w3.org/2000/svg\" height=\"24px\"viewBox=\"0 0 24 24\"\n",
       "       width=\"24px\">\n",
       "    <path d=\"M0 0h24v24H0V0z\" fill=\"none\"/>\n",
       "    <path d=\"M18.56 5.44l.94 2.06.94-2.06 2.06-.94-2.06-.94-.94-2.06-.94 2.06-2.06.94zm-11 1L8.5 8.5l.94-2.06 2.06-.94-2.06-.94L8.5 2.5l-.94 2.06-2.06.94zm10 10l.94 2.06.94-2.06 2.06-.94-2.06-.94-.94-2.06-.94 2.06-2.06.94z\"/><path d=\"M17.41 7.96l-1.37-1.37c-.4-.4-.92-.59-1.43-.59-.52 0-1.04.2-1.43.59L10.3 9.45l-7.72 7.72c-.78.78-.78 2.05 0 2.83L4 21.41c.39.39.9.59 1.41.59.51 0 1.02-.2 1.41-.59l7.78-7.78 2.81-2.81c.8-.78.8-2.07 0-2.86zM5.41 20L4 18.59l7.72-7.72 1.47 1.35L5.41 20z\"/>\n",
       "  </svg>\n",
       "      </button>\n",
       "      \n",
       "  <style>\n",
       "    .colab-df-container {\n",
       "      display:flex;\n",
       "      flex-wrap:wrap;\n",
       "      gap: 12px;\n",
       "    }\n",
       "\n",
       "    .colab-df-convert {\n",
       "      background-color: #E8F0FE;\n",
       "      border: none;\n",
       "      border-radius: 50%;\n",
       "      cursor: pointer;\n",
       "      display: none;\n",
       "      fill: #1967D2;\n",
       "      height: 32px;\n",
       "      padding: 0 0 0 0;\n",
       "      width: 32px;\n",
       "    }\n",
       "\n",
       "    .colab-df-convert:hover {\n",
       "      background-color: #E2EBFA;\n",
       "      box-shadow: 0px 1px 2px rgba(60, 64, 67, 0.3), 0px 1px 3px 1px rgba(60, 64, 67, 0.15);\n",
       "      fill: #174EA6;\n",
       "    }\n",
       "\n",
       "    [theme=dark] .colab-df-convert {\n",
       "      background-color: #3B4455;\n",
       "      fill: #D2E3FC;\n",
       "    }\n",
       "\n",
       "    [theme=dark] .colab-df-convert:hover {\n",
       "      background-color: #434B5C;\n",
       "      box-shadow: 0px 1px 3px 1px rgba(0, 0, 0, 0.15);\n",
       "      filter: drop-shadow(0px 1px 2px rgba(0, 0, 0, 0.3));\n",
       "      fill: #FFFFFF;\n",
       "    }\n",
       "  </style>\n",
       "\n",
       "      <script>\n",
       "        const buttonEl =\n",
       "          document.querySelector('#df-ef85e916-14e1-4ed9-9bee-745b86e87a8e button.colab-df-convert');\n",
       "        buttonEl.style.display =\n",
       "          google.colab.kernel.accessAllowed ? 'block' : 'none';\n",
       "\n",
       "        async function convertToInteractive(key) {\n",
       "          const element = document.querySelector('#df-ef85e916-14e1-4ed9-9bee-745b86e87a8e');\n",
       "          const dataTable =\n",
       "            await google.colab.kernel.invokeFunction('convertToInteractive',\n",
       "                                                     [key], {});\n",
       "          if (!dataTable) return;\n",
       "\n",
       "          const docLinkHtml = 'Like what you see? Visit the ' +\n",
       "            '<a target=\"_blank\" href=https://colab.research.google.com/notebooks/data_table.ipynb>data table notebook</a>'\n",
       "            + ' to learn more about interactive tables.';\n",
       "          element.innerHTML = '';\n",
       "          dataTable['output_type'] = 'display_data';\n",
       "          await google.colab.output.renderOutput(dataTable, element);\n",
       "          const docLink = document.createElement('div');\n",
       "          docLink.innerHTML = docLinkHtml;\n",
       "          element.appendChild(docLink);\n",
       "        }\n",
       "      </script>\n",
       "    </div>\n",
       "  </div>\n",
       "  "
      ]
     },
     "metadata": {},
     "execution_count": 25
    }
   ]
  },
  {
   "cell_type": "markdown",
   "source": [
    "### Atividade 2: Selecione apenas os dados referentes ao ano de 2019 e agrupe os dados por estado, considerando a média."
   ],
   "metadata": {
    "id": "eqPLrlMzdVt9"
   }
  },
  {
   "cell_type": "code",
   "source": [
    "# Selecionando os dados de 2019\n",
    "ideb_19 = ideb_1[ideb_1['ano'] == 2019]\n",
    "ideb_19.head(2)"
   ],
   "metadata": {
    "id": "XrbwGjo_WEn3",
    "colab": {
     "base_uri": "https://localhost:8080/",
     "height": 112
    },
    "outputId": "e7510154-1324-41d3-a8dc-4a54acb56674"
   },
   "execution_count": null,
   "outputs": [
    {
     "output_type": "execute_result",
     "data": {
      "text/plain": [
       "       ano sigla_uf  taxa_aprovacao  nota_saeb_matematica  \\\n",
       "8947  2019       AC            98.2                288.92   \n",
       "8948  2019       AC            96.5                254.78   \n",
       "\n",
       "      nota_saeb_lingua_portuguesa  ideb  \n",
       "8947                       263.10   8.1  \n",
       "8948                       231.63   6.8  "
      ],
      "text/html": [
       "\n",
       "  <div id=\"df-c0538ad4-038e-4d5d-a469-c6575e5fc54d\">\n",
       "    <div class=\"colab-df-container\">\n",
       "      <div>\n",
       "<style scoped>\n",
       "    .dataframe tbody tr th:only-of-type {\n",
       "        vertical-align: middle;\n",
       "    }\n",
       "\n",
       "    .dataframe tbody tr th {\n",
       "        vertical-align: top;\n",
       "    }\n",
       "\n",
       "    .dataframe thead th {\n",
       "        text-align: right;\n",
       "    }\n",
       "</style>\n",
       "<table border=\"1\" class=\"dataframe\">\n",
       "  <thead>\n",
       "    <tr style=\"text-align: right;\">\n",
       "      <th></th>\n",
       "      <th>ano</th>\n",
       "      <th>sigla_uf</th>\n",
       "      <th>taxa_aprovacao</th>\n",
       "      <th>nota_saeb_matematica</th>\n",
       "      <th>nota_saeb_lingua_portuguesa</th>\n",
       "      <th>ideb</th>\n",
       "    </tr>\n",
       "  </thead>\n",
       "  <tbody>\n",
       "    <tr>\n",
       "      <th>8947</th>\n",
       "      <td>2019</td>\n",
       "      <td>AC</td>\n",
       "      <td>98.2</td>\n",
       "      <td>288.92</td>\n",
       "      <td>263.10</td>\n",
       "      <td>8.1</td>\n",
       "    </tr>\n",
       "    <tr>\n",
       "      <th>8948</th>\n",
       "      <td>2019</td>\n",
       "      <td>AC</td>\n",
       "      <td>96.5</td>\n",
       "      <td>254.78</td>\n",
       "      <td>231.63</td>\n",
       "      <td>6.8</td>\n",
       "    </tr>\n",
       "  </tbody>\n",
       "</table>\n",
       "</div>\n",
       "      <button class=\"colab-df-convert\" onclick=\"convertToInteractive('df-c0538ad4-038e-4d5d-a469-c6575e5fc54d')\"\n",
       "              title=\"Convert this dataframe to an interactive table.\"\n",
       "              style=\"display:none;\">\n",
       "        \n",
       "  <svg xmlns=\"http://www.w3.org/2000/svg\" height=\"24px\"viewBox=\"0 0 24 24\"\n",
       "       width=\"24px\">\n",
       "    <path d=\"M0 0h24v24H0V0z\" fill=\"none\"/>\n",
       "    <path d=\"M18.56 5.44l.94 2.06.94-2.06 2.06-.94-2.06-.94-.94-2.06-.94 2.06-2.06.94zm-11 1L8.5 8.5l.94-2.06 2.06-.94-2.06-.94L8.5 2.5l-.94 2.06-2.06.94zm10 10l.94 2.06.94-2.06 2.06-.94-2.06-.94-.94-2.06-.94 2.06-2.06.94z\"/><path d=\"M17.41 7.96l-1.37-1.37c-.4-.4-.92-.59-1.43-.59-.52 0-1.04.2-1.43.59L10.3 9.45l-7.72 7.72c-.78.78-.78 2.05 0 2.83L4 21.41c.39.39.9.59 1.41.59.51 0 1.02-.2 1.41-.59l7.78-7.78 2.81-2.81c.8-.78.8-2.07 0-2.86zM5.41 20L4 18.59l7.72-7.72 1.47 1.35L5.41 20z\"/>\n",
       "  </svg>\n",
       "      </button>\n",
       "      \n",
       "  <style>\n",
       "    .colab-df-container {\n",
       "      display:flex;\n",
       "      flex-wrap:wrap;\n",
       "      gap: 12px;\n",
       "    }\n",
       "\n",
       "    .colab-df-convert {\n",
       "      background-color: #E8F0FE;\n",
       "      border: none;\n",
       "      border-radius: 50%;\n",
       "      cursor: pointer;\n",
       "      display: none;\n",
       "      fill: #1967D2;\n",
       "      height: 32px;\n",
       "      padding: 0 0 0 0;\n",
       "      width: 32px;\n",
       "    }\n",
       "\n",
       "    .colab-df-convert:hover {\n",
       "      background-color: #E2EBFA;\n",
       "      box-shadow: 0px 1px 2px rgba(60, 64, 67, 0.3), 0px 1px 3px 1px rgba(60, 64, 67, 0.15);\n",
       "      fill: #174EA6;\n",
       "    }\n",
       "\n",
       "    [theme=dark] .colab-df-convert {\n",
       "      background-color: #3B4455;\n",
       "      fill: #D2E3FC;\n",
       "    }\n",
       "\n",
       "    [theme=dark] .colab-df-convert:hover {\n",
       "      background-color: #434B5C;\n",
       "      box-shadow: 0px 1px 3px 1px rgba(0, 0, 0, 0.15);\n",
       "      filter: drop-shadow(0px 1px 2px rgba(0, 0, 0, 0.3));\n",
       "      fill: #FFFFFF;\n",
       "    }\n",
       "  </style>\n",
       "\n",
       "      <script>\n",
       "        const buttonEl =\n",
       "          document.querySelector('#df-c0538ad4-038e-4d5d-a469-c6575e5fc54d button.colab-df-convert');\n",
       "        buttonEl.style.display =\n",
       "          google.colab.kernel.accessAllowed ? 'block' : 'none';\n",
       "\n",
       "        async function convertToInteractive(key) {\n",
       "          const element = document.querySelector('#df-c0538ad4-038e-4d5d-a469-c6575e5fc54d');\n",
       "          const dataTable =\n",
       "            await google.colab.kernel.invokeFunction('convertToInteractive',\n",
       "                                                     [key], {});\n",
       "          if (!dataTable) return;\n",
       "\n",
       "          const docLinkHtml = 'Like what you see? Visit the ' +\n",
       "            '<a target=\"_blank\" href=https://colab.research.google.com/notebooks/data_table.ipynb>data table notebook</a>'\n",
       "            + ' to learn more about interactive tables.';\n",
       "          element.innerHTML = '';\n",
       "          dataTable['output_type'] = 'display_data';\n",
       "          await google.colab.output.renderOutput(dataTable, element);\n",
       "          const docLink = document.createElement('div');\n",
       "          docLink.innerHTML = docLinkHtml;\n",
       "          element.appendChild(docLink);\n",
       "        }\n",
       "      </script>\n",
       "    </div>\n",
       "  </div>\n",
       "  "
      ]
     },
     "metadata": {},
     "execution_count": 31
    }
   ]
  },
  {
   "cell_type": "code",
   "source": [
    "# Agrupando os dados por estado\n",
    "ideb_19 = ideb_19.groupby(by='sigla_uf').mean()\n",
    "ideb_19.reset_index(inplace=True)\n",
    "ideb_19.head()"
   ],
   "metadata": {
    "colab": {
     "base_uri": "https://localhost:8080/",
     "height": 206
    },
    "id": "BuQ4RFlzo0pk",
    "outputId": "2ec36e6f-883a-4692-c109-347837cff25d"
   },
   "execution_count": null,
   "outputs": [
    {
     "output_type": "execute_result",
     "data": {
      "text/plain": [
       "  sigla_uf     ano  taxa_aprovacao  nota_saeb_matematica  \\\n",
       "0       AC  2019.0       88.561184            245.253478   \n",
       "1       AL  2019.0       92.081591            237.883189   \n",
       "2       AM  2019.0       86.853550            223.121965   \n",
       "3       AP  2019.0       81.552252            217.216667   \n",
       "4       BA  2019.0       83.032948            233.942537   \n",
       "\n",
       "   nota_saeb_lingua_portuguesa      ideb  \n",
       "0                   237.995942  4.671739  \n",
       "1                   231.412708  4.509295  \n",
       "2                   219.773218  4.032397  \n",
       "3                   215.831111  3.694444  \n",
       "4                   230.205596  4.034125  "
      ],
      "text/html": [
       "\n",
       "  <div id=\"df-66cc481d-364c-474d-a4a8-7ec649c3e432\">\n",
       "    <div class=\"colab-df-container\">\n",
       "      <div>\n",
       "<style scoped>\n",
       "    .dataframe tbody tr th:only-of-type {\n",
       "        vertical-align: middle;\n",
       "    }\n",
       "\n",
       "    .dataframe tbody tr th {\n",
       "        vertical-align: top;\n",
       "    }\n",
       "\n",
       "    .dataframe thead th {\n",
       "        text-align: right;\n",
       "    }\n",
       "</style>\n",
       "<table border=\"1\" class=\"dataframe\">\n",
       "  <thead>\n",
       "    <tr style=\"text-align: right;\">\n",
       "      <th></th>\n",
       "      <th>sigla_uf</th>\n",
       "      <th>ano</th>\n",
       "      <th>taxa_aprovacao</th>\n",
       "      <th>nota_saeb_matematica</th>\n",
       "      <th>nota_saeb_lingua_portuguesa</th>\n",
       "      <th>ideb</th>\n",
       "    </tr>\n",
       "  </thead>\n",
       "  <tbody>\n",
       "    <tr>\n",
       "      <th>0</th>\n",
       "      <td>AC</td>\n",
       "      <td>2019.0</td>\n",
       "      <td>88.561184</td>\n",
       "      <td>245.253478</td>\n",
       "      <td>237.995942</td>\n",
       "      <td>4.671739</td>\n",
       "    </tr>\n",
       "    <tr>\n",
       "      <th>1</th>\n",
       "      <td>AL</td>\n",
       "      <td>2019.0</td>\n",
       "      <td>92.081591</td>\n",
       "      <td>237.883189</td>\n",
       "      <td>231.412708</td>\n",
       "      <td>4.509295</td>\n",
       "    </tr>\n",
       "    <tr>\n",
       "      <th>2</th>\n",
       "      <td>AM</td>\n",
       "      <td>2019.0</td>\n",
       "      <td>86.853550</td>\n",
       "      <td>223.121965</td>\n",
       "      <td>219.773218</td>\n",
       "      <td>4.032397</td>\n",
       "    </tr>\n",
       "    <tr>\n",
       "      <th>3</th>\n",
       "      <td>AP</td>\n",
       "      <td>2019.0</td>\n",
       "      <td>81.552252</td>\n",
       "      <td>217.216667</td>\n",
       "      <td>215.831111</td>\n",
       "      <td>3.694444</td>\n",
       "    </tr>\n",
       "    <tr>\n",
       "      <th>4</th>\n",
       "      <td>BA</td>\n",
       "      <td>2019.0</td>\n",
       "      <td>83.032948</td>\n",
       "      <td>233.942537</td>\n",
       "      <td>230.205596</td>\n",
       "      <td>4.034125</td>\n",
       "    </tr>\n",
       "  </tbody>\n",
       "</table>\n",
       "</div>\n",
       "      <button class=\"colab-df-convert\" onclick=\"convertToInteractive('df-66cc481d-364c-474d-a4a8-7ec649c3e432')\"\n",
       "              title=\"Convert this dataframe to an interactive table.\"\n",
       "              style=\"display:none;\">\n",
       "        \n",
       "  <svg xmlns=\"http://www.w3.org/2000/svg\" height=\"24px\"viewBox=\"0 0 24 24\"\n",
       "       width=\"24px\">\n",
       "    <path d=\"M0 0h24v24H0V0z\" fill=\"none\"/>\n",
       "    <path d=\"M18.56 5.44l.94 2.06.94-2.06 2.06-.94-2.06-.94-.94-2.06-.94 2.06-2.06.94zm-11 1L8.5 8.5l.94-2.06 2.06-.94-2.06-.94L8.5 2.5l-.94 2.06-2.06.94zm10 10l.94 2.06.94-2.06 2.06-.94-2.06-.94-.94-2.06-.94 2.06-2.06.94z\"/><path d=\"M17.41 7.96l-1.37-1.37c-.4-.4-.92-.59-1.43-.59-.52 0-1.04.2-1.43.59L10.3 9.45l-7.72 7.72c-.78.78-.78 2.05 0 2.83L4 21.41c.39.39.9.59 1.41.59.51 0 1.02-.2 1.41-.59l7.78-7.78 2.81-2.81c.8-.78.8-2.07 0-2.86zM5.41 20L4 18.59l7.72-7.72 1.47 1.35L5.41 20z\"/>\n",
       "  </svg>\n",
       "      </button>\n",
       "      \n",
       "  <style>\n",
       "    .colab-df-container {\n",
       "      display:flex;\n",
       "      flex-wrap:wrap;\n",
       "      gap: 12px;\n",
       "    }\n",
       "\n",
       "    .colab-df-convert {\n",
       "      background-color: #E8F0FE;\n",
       "      border: none;\n",
       "      border-radius: 50%;\n",
       "      cursor: pointer;\n",
       "      display: none;\n",
       "      fill: #1967D2;\n",
       "      height: 32px;\n",
       "      padding: 0 0 0 0;\n",
       "      width: 32px;\n",
       "    }\n",
       "\n",
       "    .colab-df-convert:hover {\n",
       "      background-color: #E2EBFA;\n",
       "      box-shadow: 0px 1px 2px rgba(60, 64, 67, 0.3), 0px 1px 3px 1px rgba(60, 64, 67, 0.15);\n",
       "      fill: #174EA6;\n",
       "    }\n",
       "\n",
       "    [theme=dark] .colab-df-convert {\n",
       "      background-color: #3B4455;\n",
       "      fill: #D2E3FC;\n",
       "    }\n",
       "\n",
       "    [theme=dark] .colab-df-convert:hover {\n",
       "      background-color: #434B5C;\n",
       "      box-shadow: 0px 1px 3px 1px rgba(0, 0, 0, 0.15);\n",
       "      filter: drop-shadow(0px 1px 2px rgba(0, 0, 0, 0.3));\n",
       "      fill: #FFFFFF;\n",
       "    }\n",
       "  </style>\n",
       "\n",
       "      <script>\n",
       "        const buttonEl =\n",
       "          document.querySelector('#df-66cc481d-364c-474d-a4a8-7ec649c3e432 button.colab-df-convert');\n",
       "        buttonEl.style.display =\n",
       "          google.colab.kernel.accessAllowed ? 'block' : 'none';\n",
       "\n",
       "        async function convertToInteractive(key) {\n",
       "          const element = document.querySelector('#df-66cc481d-364c-474d-a4a8-7ec649c3e432');\n",
       "          const dataTable =\n",
       "            await google.colab.kernel.invokeFunction('convertToInteractive',\n",
       "                                                     [key], {});\n",
       "          if (!dataTable) return;\n",
       "\n",
       "          const docLinkHtml = 'Like what you see? Visit the ' +\n",
       "            '<a target=\"_blank\" href=https://colab.research.google.com/notebooks/data_table.ipynb>data table notebook</a>'\n",
       "            + ' to learn more about interactive tables.';\n",
       "          element.innerHTML = '';\n",
       "          dataTable['output_type'] = 'display_data';\n",
       "          await google.colab.output.renderOutput(dataTable, element);\n",
       "          const docLink = document.createElement('div');\n",
       "          docLink.innerHTML = docLinkHtml;\n",
       "          element.appendChild(docLink);\n",
       "        }\n",
       "      </script>\n",
       "    </div>\n",
       "  </div>\n",
       "  "
      ]
     },
     "metadata": {},
     "execution_count": 38
    }
   ]
  },
  {
   "cell_type": "markdown",
   "source": [
    "### Atividade 3: Padronize os dados."
   ],
   "metadata": {
    "id": "DIZFtzqlOgGL"
   }
  },
  {
   "cell_type": "code",
   "source": [
    "# Padronizando os dados do dataframe ideb_2019\n",
    "ideb_19_scaled = ideb_19.copy()\n",
    "\n",
    "# Retirando dados categóricos\n",
    "ideb_19_scaled.drop(ideb_19_scaled[['sigla_uf', 'ano']], axis=1, inplace=True)\n",
    "\n",
    "# Instanciando a função StandardScaler\n",
    "scaler = StandardScaler()\n",
    "\n",
    "# Padronizando os dados do dataframe\n",
    "ideb_19_scaled[ideb_19_scaled.columns] = scaler.fit_transform(ideb_19_scaled)\n",
    "\n",
    "# Reinserindo a coluna 'sigla_uf' com o nome 'uf'\n",
    "ideb_19_scaled[['uf']] = ideb_19[['sigla_uf']]\n",
    "ideb_19_scaled.head()"
   ],
   "metadata": {
    "id": "ipeYn2F_WGOo",
    "colab": {
     "base_uri": "https://localhost:8080/",
     "height": 206
    },
    "outputId": "f89e3e12-3eaf-4525-d853-d89b9f028bff"
   },
   "execution_count": null,
   "outputs": [
    {
     "output_type": "execute_result",
     "data": {
      "text/plain": [
       "   taxa_aprovacao  nota_saeb_matematica  nota_saeb_lingua_portuguesa  \\\n",
       "0       -0.025280              0.080727                    -0.016434   \n",
       "1        0.801179             -0.437122                    -0.531887   \n",
       "2       -0.426168             -1.474271                    -1.443233   \n",
       "3       -1.670713             -1.889188                    -1.751891   \n",
       "4       -1.323101             -0.713999                    -0.626401   \n",
       "\n",
       "       ideb  uf  \n",
       "0  0.092154  AC  \n",
       "1 -0.201424  AL  \n",
       "2 -1.063297  AM  \n",
       "3 -1.674063  AP  \n",
       "4 -1.060175  BA  "
      ],
      "text/html": [
       "\n",
       "  <div id=\"df-3b7479b6-b2d3-4ed8-bc8f-ab52589c76fc\">\n",
       "    <div class=\"colab-df-container\">\n",
       "      <div>\n",
       "<style scoped>\n",
       "    .dataframe tbody tr th:only-of-type {\n",
       "        vertical-align: middle;\n",
       "    }\n",
       "\n",
       "    .dataframe tbody tr th {\n",
       "        vertical-align: top;\n",
       "    }\n",
       "\n",
       "    .dataframe thead th {\n",
       "        text-align: right;\n",
       "    }\n",
       "</style>\n",
       "<table border=\"1\" class=\"dataframe\">\n",
       "  <thead>\n",
       "    <tr style=\"text-align: right;\">\n",
       "      <th></th>\n",
       "      <th>taxa_aprovacao</th>\n",
       "      <th>nota_saeb_matematica</th>\n",
       "      <th>nota_saeb_lingua_portuguesa</th>\n",
       "      <th>ideb</th>\n",
       "      <th>uf</th>\n",
       "    </tr>\n",
       "  </thead>\n",
       "  <tbody>\n",
       "    <tr>\n",
       "      <th>0</th>\n",
       "      <td>-0.025280</td>\n",
       "      <td>0.080727</td>\n",
       "      <td>-0.016434</td>\n",
       "      <td>0.092154</td>\n",
       "      <td>AC</td>\n",
       "    </tr>\n",
       "    <tr>\n",
       "      <th>1</th>\n",
       "      <td>0.801179</td>\n",
       "      <td>-0.437122</td>\n",
       "      <td>-0.531887</td>\n",
       "      <td>-0.201424</td>\n",
       "      <td>AL</td>\n",
       "    </tr>\n",
       "    <tr>\n",
       "      <th>2</th>\n",
       "      <td>-0.426168</td>\n",
       "      <td>-1.474271</td>\n",
       "      <td>-1.443233</td>\n",
       "      <td>-1.063297</td>\n",
       "      <td>AM</td>\n",
       "    </tr>\n",
       "    <tr>\n",
       "      <th>3</th>\n",
       "      <td>-1.670713</td>\n",
       "      <td>-1.889188</td>\n",
       "      <td>-1.751891</td>\n",
       "      <td>-1.674063</td>\n",
       "      <td>AP</td>\n",
       "    </tr>\n",
       "    <tr>\n",
       "      <th>4</th>\n",
       "      <td>-1.323101</td>\n",
       "      <td>-0.713999</td>\n",
       "      <td>-0.626401</td>\n",
       "      <td>-1.060175</td>\n",
       "      <td>BA</td>\n",
       "    </tr>\n",
       "  </tbody>\n",
       "</table>\n",
       "</div>\n",
       "      <button class=\"colab-df-convert\" onclick=\"convertToInteractive('df-3b7479b6-b2d3-4ed8-bc8f-ab52589c76fc')\"\n",
       "              title=\"Convert this dataframe to an interactive table.\"\n",
       "              style=\"display:none;\">\n",
       "        \n",
       "  <svg xmlns=\"http://www.w3.org/2000/svg\" height=\"24px\"viewBox=\"0 0 24 24\"\n",
       "       width=\"24px\">\n",
       "    <path d=\"M0 0h24v24H0V0z\" fill=\"none\"/>\n",
       "    <path d=\"M18.56 5.44l.94 2.06.94-2.06 2.06-.94-2.06-.94-.94-2.06-.94 2.06-2.06.94zm-11 1L8.5 8.5l.94-2.06 2.06-.94-2.06-.94L8.5 2.5l-.94 2.06-2.06.94zm10 10l.94 2.06.94-2.06 2.06-.94-2.06-.94-.94-2.06-.94 2.06-2.06.94z\"/><path d=\"M17.41 7.96l-1.37-1.37c-.4-.4-.92-.59-1.43-.59-.52 0-1.04.2-1.43.59L10.3 9.45l-7.72 7.72c-.78.78-.78 2.05 0 2.83L4 21.41c.39.39.9.59 1.41.59.51 0 1.02-.2 1.41-.59l7.78-7.78 2.81-2.81c.8-.78.8-2.07 0-2.86zM5.41 20L4 18.59l7.72-7.72 1.47 1.35L5.41 20z\"/>\n",
       "  </svg>\n",
       "      </button>\n",
       "      \n",
       "  <style>\n",
       "    .colab-df-container {\n",
       "      display:flex;\n",
       "      flex-wrap:wrap;\n",
       "      gap: 12px;\n",
       "    }\n",
       "\n",
       "    .colab-df-convert {\n",
       "      background-color: #E8F0FE;\n",
       "      border: none;\n",
       "      border-radius: 50%;\n",
       "      cursor: pointer;\n",
       "      display: none;\n",
       "      fill: #1967D2;\n",
       "      height: 32px;\n",
       "      padding: 0 0 0 0;\n",
       "      width: 32px;\n",
       "    }\n",
       "\n",
       "    .colab-df-convert:hover {\n",
       "      background-color: #E2EBFA;\n",
       "      box-shadow: 0px 1px 2px rgba(60, 64, 67, 0.3), 0px 1px 3px 1px rgba(60, 64, 67, 0.15);\n",
       "      fill: #174EA6;\n",
       "    }\n",
       "\n",
       "    [theme=dark] .colab-df-convert {\n",
       "      background-color: #3B4455;\n",
       "      fill: #D2E3FC;\n",
       "    }\n",
       "\n",
       "    [theme=dark] .colab-df-convert:hover {\n",
       "      background-color: #434B5C;\n",
       "      box-shadow: 0px 1px 3px 1px rgba(0, 0, 0, 0.15);\n",
       "      filter: drop-shadow(0px 1px 2px rgba(0, 0, 0, 0.3));\n",
       "      fill: #FFFFFF;\n",
       "    }\n",
       "  </style>\n",
       "\n",
       "      <script>\n",
       "        const buttonEl =\n",
       "          document.querySelector('#df-3b7479b6-b2d3-4ed8-bc8f-ab52589c76fc button.colab-df-convert');\n",
       "        buttonEl.style.display =\n",
       "          google.colab.kernel.accessAllowed ? 'block' : 'none';\n",
       "\n",
       "        async function convertToInteractive(key) {\n",
       "          const element = document.querySelector('#df-3b7479b6-b2d3-4ed8-bc8f-ab52589c76fc');\n",
       "          const dataTable =\n",
       "            await google.colab.kernel.invokeFunction('convertToInteractive',\n",
       "                                                     [key], {});\n",
       "          if (!dataTable) return;\n",
       "\n",
       "          const docLinkHtml = 'Like what you see? Visit the ' +\n",
       "            '<a target=\"_blank\" href=https://colab.research.google.com/notebooks/data_table.ipynb>data table notebook</a>'\n",
       "            + ' to learn more about interactive tables.';\n",
       "          element.innerHTML = '';\n",
       "          dataTable['output_type'] = 'display_data';\n",
       "          await google.colab.output.renderOutput(dataTable, element);\n",
       "          const docLink = document.createElement('div');\n",
       "          docLink.innerHTML = docLinkHtml;\n",
       "          element.appendChild(docLink);\n",
       "        }\n",
       "      </script>\n",
       "    </div>\n",
       "  </div>\n",
       "  "
      ]
     },
     "metadata": {},
     "execution_count": 40
    }
   ]
  },
  {
   "cell_type": "code",
   "source": [
    "# Gerando a matriz de correlações para definir as variáveis para o KMeans\n",
    "ideb_19_scaled.corr() # Selecionadas as colunas 'taxa_aprovao' e 'ideb'"
   ],
   "metadata": {
    "colab": {
     "base_uri": "https://localhost:8080/",
     "height": 232
    },
    "id": "JehSF6v4quRG",
    "outputId": "c37c98de-7504-41a5-ab65-9075c932f5b7"
   },
   "execution_count": null,
   "outputs": [
    {
     "output_type": "stream",
     "name": "stderr",
     "text": [
      "<ipython-input-42-9ff9a31d28fb>:2: FutureWarning: The default value of numeric_only in DataFrame.corr is deprecated. In a future version, it will default to False. Select only valid columns or specify the value of numeric_only to silence this warning.\n",
      "  ideb_19_scaled.corr()\n"
     ]
    },
    {
     "output_type": "execute_result",
     "data": {
      "text/plain": [
       "                             taxa_aprovacao  nota_saeb_matematica  \\\n",
       "taxa_aprovacao                     1.000000              0.694758   \n",
       "nota_saeb_matematica               0.694758              1.000000   \n",
       "nota_saeb_lingua_portuguesa        0.678749              0.991215   \n",
       "ideb                               0.810383              0.956512   \n",
       "\n",
       "                             nota_saeb_lingua_portuguesa      ideb  \n",
       "taxa_aprovacao                                  0.678749  0.810383  \n",
       "nota_saeb_matematica                            0.991215  0.956512  \n",
       "nota_saeb_lingua_portuguesa                     1.000000  0.938921  \n",
       "ideb                                            0.938921  1.000000  "
      ],
      "text/html": [
       "\n",
       "  <div id=\"df-dfd4ad21-9798-46c5-815e-1ce960a072f7\">\n",
       "    <div class=\"colab-df-container\">\n",
       "      <div>\n",
       "<style scoped>\n",
       "    .dataframe tbody tr th:only-of-type {\n",
       "        vertical-align: middle;\n",
       "    }\n",
       "\n",
       "    .dataframe tbody tr th {\n",
       "        vertical-align: top;\n",
       "    }\n",
       "\n",
       "    .dataframe thead th {\n",
       "        text-align: right;\n",
       "    }\n",
       "</style>\n",
       "<table border=\"1\" class=\"dataframe\">\n",
       "  <thead>\n",
       "    <tr style=\"text-align: right;\">\n",
       "      <th></th>\n",
       "      <th>taxa_aprovacao</th>\n",
       "      <th>nota_saeb_matematica</th>\n",
       "      <th>nota_saeb_lingua_portuguesa</th>\n",
       "      <th>ideb</th>\n",
       "    </tr>\n",
       "  </thead>\n",
       "  <tbody>\n",
       "    <tr>\n",
       "      <th>taxa_aprovacao</th>\n",
       "      <td>1.000000</td>\n",
       "      <td>0.694758</td>\n",
       "      <td>0.678749</td>\n",
       "      <td>0.810383</td>\n",
       "    </tr>\n",
       "    <tr>\n",
       "      <th>nota_saeb_matematica</th>\n",
       "      <td>0.694758</td>\n",
       "      <td>1.000000</td>\n",
       "      <td>0.991215</td>\n",
       "      <td>0.956512</td>\n",
       "    </tr>\n",
       "    <tr>\n",
       "      <th>nota_saeb_lingua_portuguesa</th>\n",
       "      <td>0.678749</td>\n",
       "      <td>0.991215</td>\n",
       "      <td>1.000000</td>\n",
       "      <td>0.938921</td>\n",
       "    </tr>\n",
       "    <tr>\n",
       "      <th>ideb</th>\n",
       "      <td>0.810383</td>\n",
       "      <td>0.956512</td>\n",
       "      <td>0.938921</td>\n",
       "      <td>1.000000</td>\n",
       "    </tr>\n",
       "  </tbody>\n",
       "</table>\n",
       "</div>\n",
       "      <button class=\"colab-df-convert\" onclick=\"convertToInteractive('df-dfd4ad21-9798-46c5-815e-1ce960a072f7')\"\n",
       "              title=\"Convert this dataframe to an interactive table.\"\n",
       "              style=\"display:none;\">\n",
       "        \n",
       "  <svg xmlns=\"http://www.w3.org/2000/svg\" height=\"24px\"viewBox=\"0 0 24 24\"\n",
       "       width=\"24px\">\n",
       "    <path d=\"M0 0h24v24H0V0z\" fill=\"none\"/>\n",
       "    <path d=\"M18.56 5.44l.94 2.06.94-2.06 2.06-.94-2.06-.94-.94-2.06-.94 2.06-2.06.94zm-11 1L8.5 8.5l.94-2.06 2.06-.94-2.06-.94L8.5 2.5l-.94 2.06-2.06.94zm10 10l.94 2.06.94-2.06 2.06-.94-2.06-.94-.94-2.06-.94 2.06-2.06.94z\"/><path d=\"M17.41 7.96l-1.37-1.37c-.4-.4-.92-.59-1.43-.59-.52 0-1.04.2-1.43.59L10.3 9.45l-7.72 7.72c-.78.78-.78 2.05 0 2.83L4 21.41c.39.39.9.59 1.41.59.51 0 1.02-.2 1.41-.59l7.78-7.78 2.81-2.81c.8-.78.8-2.07 0-2.86zM5.41 20L4 18.59l7.72-7.72 1.47 1.35L5.41 20z\"/>\n",
       "  </svg>\n",
       "      </button>\n",
       "      \n",
       "  <style>\n",
       "    .colab-df-container {\n",
       "      display:flex;\n",
       "      flex-wrap:wrap;\n",
       "      gap: 12px;\n",
       "    }\n",
       "\n",
       "    .colab-df-convert {\n",
       "      background-color: #E8F0FE;\n",
       "      border: none;\n",
       "      border-radius: 50%;\n",
       "      cursor: pointer;\n",
       "      display: none;\n",
       "      fill: #1967D2;\n",
       "      height: 32px;\n",
       "      padding: 0 0 0 0;\n",
       "      width: 32px;\n",
       "    }\n",
       "\n",
       "    .colab-df-convert:hover {\n",
       "      background-color: #E2EBFA;\n",
       "      box-shadow: 0px 1px 2px rgba(60, 64, 67, 0.3), 0px 1px 3px 1px rgba(60, 64, 67, 0.15);\n",
       "      fill: #174EA6;\n",
       "    }\n",
       "\n",
       "    [theme=dark] .colab-df-convert {\n",
       "      background-color: #3B4455;\n",
       "      fill: #D2E3FC;\n",
       "    }\n",
       "\n",
       "    [theme=dark] .colab-df-convert:hover {\n",
       "      background-color: #434B5C;\n",
       "      box-shadow: 0px 1px 3px 1px rgba(0, 0, 0, 0.15);\n",
       "      filter: drop-shadow(0px 1px 2px rgba(0, 0, 0, 0.3));\n",
       "      fill: #FFFFFF;\n",
       "    }\n",
       "  </style>\n",
       "\n",
       "      <script>\n",
       "        const buttonEl =\n",
       "          document.querySelector('#df-dfd4ad21-9798-46c5-815e-1ce960a072f7 button.colab-df-convert');\n",
       "        buttonEl.style.display =\n",
       "          google.colab.kernel.accessAllowed ? 'block' : 'none';\n",
       "\n",
       "        async function convertToInteractive(key) {\n",
       "          const element = document.querySelector('#df-dfd4ad21-9798-46c5-815e-1ce960a072f7');\n",
       "          const dataTable =\n",
       "            await google.colab.kernel.invokeFunction('convertToInteractive',\n",
       "                                                     [key], {});\n",
       "          if (!dataTable) return;\n",
       "\n",
       "          const docLinkHtml = 'Like what you see? Visit the ' +\n",
       "            '<a target=\"_blank\" href=https://colab.research.google.com/notebooks/data_table.ipynb>data table notebook</a>'\n",
       "            + ' to learn more about interactive tables.';\n",
       "          element.innerHTML = '';\n",
       "          dataTable['output_type'] = 'display_data';\n",
       "          await google.colab.output.renderOutput(dataTable, element);\n",
       "          const docLink = document.createElement('div');\n",
       "          docLink.innerHTML = docLinkHtml;\n",
       "          element.appendChild(docLink);\n",
       "        }\n",
       "      </script>\n",
       "    </div>\n",
       "  </div>\n",
       "  "
      ]
     },
     "metadata": {},
     "execution_count": 42
    }
   ]
  },
  {
   "cell_type": "markdown",
   "source": [
    "### Atividade 4: Use o método do cotovelo para encontrar um valor adequado de k."
   ],
   "metadata": {
    "id": "83C6DDlCO3n9"
   }
  },
  {
   "cell_type": "code",
   "source": [
    "#Criando lista vazia para armazenar as inércias\n",
    "inercia = []\n",
    "\n",
    "# Definindo os números de clusters para aplicar o método do cotovelo\n",
    "kmin = 2\n",
    "kmax = 10\n",
    "\n",
    "# Criando laço de repetição para cálculo iterativo das inércias\n",
    "for i in range(kmin, kmax+1):\n",
    "  kmeans = KMeans(n_clusters = i, random_state = 42, n_init = 10) # Instanciando o KMeans\n",
    "  kmeans.fit(ideb_19_scaled[['taxa_aprovacao', 'ideb']]) # Aplicando o KMeans para i clusters às colunas de interesse\n",
    "  inercia.append(kmeans.inertia_) # Calculando a inércia de i clusters e adicionando à lista 'inercia'\n",
    "\n",
    "print(inercia)"
   ],
   "metadata": {
    "id": "uMyX33odWKIE",
    "colab": {
     "base_uri": "https://localhost:8080/"
    },
    "outputId": "cf8bcd57-1890-49bb-ab39-46349f48ed4d"
   },
   "execution_count": null,
   "outputs": [
    {
     "output_type": "stream",
     "name": "stdout",
     "text": [
      "[19.611770193073262, 10.916462347693209, 7.350137180329911, 5.2636677217504095, 3.771923613572479, 2.9382545041746133, 2.6167623199035797, 2.2654182197219677, 1.9079003825177068]\n"
     ]
    }
   ]
  },
  {
   "cell_type": "code",
   "source": [
    "# Gerando o gráfico de cotovelo\n",
    "sns.lineplot(data='ideb_19_scaled', x=range(kmin, kmax+1), y=inercia) # O gráficp indica que o número ideal está entre 4 e 6 clusters"
   ],
   "metadata": {
    "colab": {
     "base_uri": "https://localhost:8080/",
     "height": 448
    },
    "id": "LpChCaTos3k8",
    "outputId": "b3261623-7955-4869-c8f9-dc818c5c2cd9"
   },
   "execution_count": null,
   "outputs": [
    {
     "output_type": "execute_result",
     "data": {
      "text/plain": [
       "<Axes: >"
      ]
     },
     "metadata": {},
     "execution_count": 46
    },
    {
     "output_type": "display_data",
     "data": {
      "text/plain": [
       "<Figure size 640x480 with 1 Axes>"
      ],
      "image/png": "[encoded data removed]"
     },
     "metadata": {}
    }
   ]
  },
  {
   "cell_type": "markdown",
   "source": [
    "### Atividade 5: Use o método da silhueta para encontrar um valor adequado de k"
   ],
   "metadata": {
    "id": "OCXL1qDNPAwg"
   }
  },
  {
   "cell_type": "code",
   "source": [
    "#Criando lista vazia para armazenar os coeficientes de silhueta\n",
    "silhueta = []\n",
    "\n",
    "# Definindo os números de clusters\n",
    "kmin = 2\n",
    "kmax = 10\n",
    "\n",
    "# Criando laço de repetição para cálculo iterativo dos coeficientes de silhueta\n",
    "for i in range(kmin, kmax+1):\n",
    "  kmeans = KMeans(n_clusters = i, random_state = 42, n_init = 10) # Instanciando o KMeans\n",
    "  kmeans.fit(ideb_19_scaled[['taxa_aprovacao', 'ideb']]) # Aplicando o KMeans para i clusters às colunas de interesse\n",
    "  silhueta.append(silhouette_score(ideb_19_scaled[['taxa_aprovacao', 'ideb']], kmeans.labels_, metric='euclidean'))\n",
    "\n",
    "print(silhueta)"
   ],
   "metadata": {
    "id": "FHq5nB27WLdW",
    "colab": {
     "base_uri": "https://localhost:8080/"
    },
    "outputId": "f952c888-b4d5-449a-edb8-064c6c853688"
   },
   "execution_count": null,
   "outputs": [
    {
     "output_type": "stream",
     "name": "stdout",
     "text": [
      "[0.4921158200800192, 0.43255804096508516, 0.4233536294111657, 0.4119734061089768, 0.4351475656505773, 0.43233283769210284, 0.40408649838482497, 0.3891986679435178, 0.3495566703516739]\n"
     ]
    }
   ]
  },
  {
   "cell_type": "code",
   "source": [
    "# Gerando o gráfico de silhueta\n",
    "n = [i for i in range(kmin, kmax+1)]\n",
    "sns.barplot(x=n, y=silhueta, color='blue')"
   ],
   "metadata": {
    "colab": {
     "base_uri": "https://localhost:8080/",
     "height": 448
    },
    "id": "-KuybYqyvk1C",
    "outputId": "4a7c454c-8bf0-40d7-86d6-68c5fe1da756"
   },
   "execution_count": null,
   "outputs": [
    {
     "output_type": "execute_result",
     "data": {
      "text/plain": [
       "<Axes: >"
      ]
     },
     "metadata": {},
     "execution_count": 55
    },
    {
     "output_type": "display_data",
     "data": {
      "text/plain": [
       "<Figure size 640x480 with 1 Axes>"
      ],
      "image/png": "[encoded data removed]"
     },
     "metadata": {}
    }
   ]
  },
  {
   "cell_type": "code",
   "source": [
    "# Gerando gráfico de linhas sobrepostas, unindo os métodos do cotovelo e da silhueta\n",
    "fig, ax = plt.subplots()\n",
    "sns.lineplot(x=range(kmin,kmax+1), y=inercia, marker='o', color='purple')\n",
    "plt.legend(labels=[\"cotovelo\"], bbox_to_anchor=(0.8, 1), loc='upper right')\n",
    "ax2 = ax.twinx()\n",
    "sns.lineplot(x=range(kmin,kmax+1), y=silhueta, marker='o', color='green')\n",
    "plt.legend(labels=[\"silhueta\"], bbox_to_anchor=(0.8, 0.9), loc='upper right');"
   ],
   "metadata": {
    "colab": {
     "base_uri": "https://localhost:8080/",
     "height": 430
    },
    "id": "n-yd-twjQe6o",
    "outputId": "4eb48d19-a7ed-487d-e575-29ea02b3fc37"
   },
   "execution_count": 108,
   "outputs": [
    {
     "output_type": "display_data",
     "data": {
      "text/plain": [
       "<Figure size 640x480 with 2 Axes>"
      ],
      "image/png": "[encoded data removed]"
     },
     "metadata": {}
    }
   ]
  },
  {
   "cell_type": "markdown",
   "source": [
    "### Atividade 6: Faça a clusterização com o valor escolhido para k."
   ],
   "metadata": {
    "id": "2p-vTKMfOoUZ"
   }
  },
  {
   "cell_type": "code",
   "source": [
    "# Definido k=6\n",
    "\n",
    "# Instanciando o KMeans\n",
    "kmeans_ideal = KMeans(n_clusters=6, random_state=42)\n",
    "\n",
    "# Aplicando o KMeans às colunas de interesse\n",
    "kmeans_ideal.fit(ideb_19_scaled[['taxa_aprovacao', 'ideb']])\n",
    "\n",
    "# Visualizando os labels, que identificam os clusters\n",
    "kmeans.labels_"
   ],
   "metadata": {
    "id": "CTa-cXjGWNbn",
    "colab": {
     "base_uri": "https://localhost:8080/"
    },
    "outputId": "242c32b7-28d9-4087-e082-7c3fec225d83"
   },
   "execution_count": null,
   "outputs": [
    {
     "output_type": "stream",
     "name": "stderr",
     "text": [
      "/usr/local/lib/python3.10/dist-packages/sklearn/cluster/_kmeans.py:870: FutureWarning: The default value of `n_init` will change from 10 to 'auto' in 1.4. Set the value of `n_init` explicitly to suppress the warning\n",
      "  warnings.warn(\n"
     ]
    },
    {
     "output_type": "execute_result",
     "data": {
      "text/plain": [
       "array([0, 5, 3, 1, 1, 2, 4, 4, 2, 5, 4, 0, 0, 1, 3, 5, 0, 2, 0, 1, 4, 3,\n",
       "       4, 4, 1, 2, 5], dtype=int32)"
      ]
     },
     "metadata": {},
     "execution_count": 58
    }
   ]
  },
  {
   "cell_type": "code",
   "source": [
    "# Inserindo os labels como nova coluna do dataframe\n",
    "ideb_19_scaled['cluster'] = kmeans.labels_\n",
    "ideb_19_scaled.head()"
   ],
   "metadata": {
    "colab": {
     "base_uri": "https://localhost:8080/",
     "height": 206
    },
    "id": "IE7pvttVxoAP",
    "outputId": "85e02dde-fac0-41d5-b7ab-95f14bedf657"
   },
   "execution_count": null,
   "outputs": [
    {
     "output_type": "execute_result",
     "data": {
      "text/plain": [
       "   taxa_aprovacao  nota_saeb_matematica  nota_saeb_lingua_portuguesa  \\\n",
       "0       -0.025280              0.080727                    -0.016434   \n",
       "1        0.801179             -0.437122                    -0.531887   \n",
       "2       -0.426168             -1.474271                    -1.443233   \n",
       "3       -1.670713             -1.889188                    -1.751891   \n",
       "4       -1.323101             -0.713999                    -0.626401   \n",
       "\n",
       "       ideb  uf  cluster  \n",
       "0  0.092154  AC        0  \n",
       "1 -0.201424  AL        5  \n",
       "2 -1.063297  AM        3  \n",
       "3 -1.674063  AP        1  \n",
       "4 -1.060175  BA        1  "
      ],
      "text/html": [
       "\n",
       "  <div id=\"df-7a6a5ffe-6811-4a3b-989f-f3a3cda77db5\">\n",
       "    <div class=\"colab-df-container\">\n",
       "      <div>\n",
       "<style scoped>\n",
       "    .dataframe tbody tr th:only-of-type {\n",
       "        vertical-align: middle;\n",
       "    }\n",
       "\n",
       "    .dataframe tbody tr th {\n",
       "        vertical-align: top;\n",
       "    }\n",
       "\n",
       "    .dataframe thead th {\n",
       "        text-align: right;\n",
       "    }\n",
       "</style>\n",
       "<table border=\"1\" class=\"dataframe\">\n",
       "  <thead>\n",
       "    <tr style=\"text-align: right;\">\n",
       "      <th></th>\n",
       "      <th>taxa_aprovacao</th>\n",
       "      <th>nota_saeb_matematica</th>\n",
       "      <th>nota_saeb_lingua_portuguesa</th>\n",
       "      <th>ideb</th>\n",
       "      <th>uf</th>\n",
       "      <th>cluster</th>\n",
       "    </tr>\n",
       "  </thead>\n",
       "  <tbody>\n",
       "    <tr>\n",
       "      <th>0</th>\n",
       "      <td>-0.025280</td>\n",
       "      <td>0.080727</td>\n",
       "      <td>-0.016434</td>\n",
       "      <td>0.092154</td>\n",
       "      <td>AC</td>\n",
       "      <td>0</td>\n",
       "    </tr>\n",
       "    <tr>\n",
       "      <th>1</th>\n",
       "      <td>0.801179</td>\n",
       "      <td>-0.437122</td>\n",
       "      <td>-0.531887</td>\n",
       "      <td>-0.201424</td>\n",
       "      <td>AL</td>\n",
       "      <td>5</td>\n",
       "    </tr>\n",
       "    <tr>\n",
       "      <th>2</th>\n",
       "      <td>-0.426168</td>\n",
       "      <td>-1.474271</td>\n",
       "      <td>-1.443233</td>\n",
       "      <td>-1.063297</td>\n",
       "      <td>AM</td>\n",
       "      <td>3</td>\n",
       "    </tr>\n",
       "    <tr>\n",
       "      <th>3</th>\n",
       "      <td>-1.670713</td>\n",
       "      <td>-1.889188</td>\n",
       "      <td>-1.751891</td>\n",
       "      <td>-1.674063</td>\n",
       "      <td>AP</td>\n",
       "      <td>1</td>\n",
       "    </tr>\n",
       "    <tr>\n",
       "      <th>4</th>\n",
       "      <td>-1.323101</td>\n",
       "      <td>-0.713999</td>\n",
       "      <td>-0.626401</td>\n",
       "      <td>-1.060175</td>\n",
       "      <td>BA</td>\n",
       "      <td>1</td>\n",
       "    </tr>\n",
       "  </tbody>\n",
       "</table>\n",
       "</div>\n",
       "      <button class=\"colab-df-convert\" onclick=\"convertToInteractive('df-7a6a5ffe-6811-4a3b-989f-f3a3cda77db5')\"\n",
       "              title=\"Convert this dataframe to an interactive table.\"\n",
       "              style=\"display:none;\">\n",
       "        \n",
       "  <svg xmlns=\"http://www.w3.org/2000/svg\" height=\"24px\"viewBox=\"0 0 24 24\"\n",
       "       width=\"24px\">\n",
       "    <path d=\"M0 0h24v24H0V0z\" fill=\"none\"/>\n",
       "    <path d=\"M18.56 5.44l.94 2.06.94-2.06 2.06-.94-2.06-.94-.94-2.06-.94 2.06-2.06.94zm-11 1L8.5 8.5l.94-2.06 2.06-.94-2.06-.94L8.5 2.5l-.94 2.06-2.06.94zm10 10l.94 2.06.94-2.06 2.06-.94-2.06-.94-.94-2.06-.94 2.06-2.06.94z\"/><path d=\"M17.41 7.96l-1.37-1.37c-.4-.4-.92-.59-1.43-.59-.52 0-1.04.2-1.43.59L10.3 9.45l-7.72 7.72c-.78.78-.78 2.05 0 2.83L4 21.41c.39.39.9.59 1.41.59.51 0 1.02-.2 1.41-.59l7.78-7.78 2.81-2.81c.8-.78.8-2.07 0-2.86zM5.41 20L4 18.59l7.72-7.72 1.47 1.35L5.41 20z\"/>\n",
       "  </svg>\n",
       "      </button>\n",
       "      \n",
       "  <style>\n",
       "    .colab-df-container {\n",
       "      display:flex;\n",
       "      flex-wrap:wrap;\n",
       "      gap: 12px;\n",
       "    }\n",
       "\n",
       "    .colab-df-convert {\n",
       "      background-color: #E8F0FE;\n",
       "      border: none;\n",
       "      border-radius: 50%;\n",
       "      cursor: pointer;\n",
       "      display: none;\n",
       "      fill: #1967D2;\n",
       "      height: 32px;\n",
       "      padding: 0 0 0 0;\n",
       "      width: 32px;\n",
       "    }\n",
       "\n",
       "    .colab-df-convert:hover {\n",
       "      background-color: #E2EBFA;\n",
       "      box-shadow: 0px 1px 2px rgba(60, 64, 67, 0.3), 0px 1px 3px 1px rgba(60, 64, 67, 0.15);\n",
       "      fill: #174EA6;\n",
       "    }\n",
       "\n",
       "    [theme=dark] .colab-df-convert {\n",
       "      background-color: #3B4455;\n",
       "      fill: #D2E3FC;\n",
       "    }\n",
       "\n",
       "    [theme=dark] .colab-df-convert:hover {\n",
       "      background-color: #434B5C;\n",
       "      box-shadow: 0px 1px 3px 1px rgba(0, 0, 0, 0.15);\n",
       "      filter: drop-shadow(0px 1px 2px rgba(0, 0, 0, 0.3));\n",
       "      fill: #FFFFFF;\n",
       "    }\n",
       "  </style>\n",
       "\n",
       "      <script>\n",
       "        const buttonEl =\n",
       "          document.querySelector('#df-7a6a5ffe-6811-4a3b-989f-f3a3cda77db5 button.colab-df-convert');\n",
       "        buttonEl.style.display =\n",
       "          google.colab.kernel.accessAllowed ? 'block' : 'none';\n",
       "\n",
       "        async function convertToInteractive(key) {\n",
       "          const element = document.querySelector('#df-7a6a5ffe-6811-4a3b-989f-f3a3cda77db5');\n",
       "          const dataTable =\n",
       "            await google.colab.kernel.invokeFunction('convertToInteractive',\n",
       "                                                     [key], {});\n",
       "          if (!dataTable) return;\n",
       "\n",
       "          const docLinkHtml = 'Like what you see? Visit the ' +\n",
       "            '<a target=\"_blank\" href=https://colab.research.google.com/notebooks/data_table.ipynb>data table notebook</a>'\n",
       "            + ' to learn more about interactive tables.';\n",
       "          element.innerHTML = '';\n",
       "          dataTable['output_type'] = 'display_data';\n",
       "          await google.colab.output.renderOutput(dataTable, element);\n",
       "          const docLink = document.createElement('div');\n",
       "          docLink.innerHTML = docLinkHtml;\n",
       "          element.appendChild(docLink);\n",
       "        }\n",
       "      </script>\n",
       "    </div>\n",
       "  </div>\n",
       "  "
      ]
     },
     "metadata": {},
     "execution_count": 60
    }
   ]
  },
  {
   "cell_type": "markdown",
   "source": [
    "### Atividade 7: Faça um gráfico de dispersão destacando cada grupo."
   ],
   "metadata": {
    "id": "otEYFO5KOshc"
   }
  },
  {
   "cell_type": "code",
   "source": [
    "# Gerando gráfico de dispersão\n",
    "sns.scatterplot(data= ideb_19_scaled, x= ideb_19_scaled['taxa_aprovacao'], y= ideb_19_scaled['ideb'], hue= ideb_19_scaled['cluster'])"
   ],
   "metadata": {
    "id": "vC91Txh9WO6C",
    "colab": {
     "base_uri": "https://localhost:8080/",
     "height": 467
    },
    "outputId": "437ad208-da0d-472c-c1d3-23707b667bd0"
   },
   "execution_count": null,
   "outputs": [
    {
     "output_type": "execute_result",
     "data": {
      "text/plain": [
       "<Axes: xlabel='taxa_aprovacao', ylabel='ideb'>"
      ]
     },
     "metadata": {},
     "execution_count": 77
    },
    {
     "output_type": "display_data",
     "data": {
      "text/plain": [
       "<Figure size 640x480 with 1 Axes>"
      ],
      "image/png": "[encoded data removed]"
     },
     "metadata": {}
    }
   ]
  },
  {
   "cell_type": "markdown",
   "source": [
    "### Atividade 8: Quais são os estados de cada grupo?"
   ],
   "metadata": {
    "id": "VcXRkwdVOxwN"
   }
  },
  {
   "cell_type": "code",
   "source": [
    "# Listando os estados por grupo utilizando laços de repetição\n",
    "for cluster in range(0,6):\n",
    "  lista_clusters = []\n",
    "  for i in range(len(ideb_19_scaled['uf'])):\n",
    "    if ideb_19_scaled['cluster'][i] == cluster:\n",
    "      lista_clusters.append(ideb_19_scaled['uf'][i])\n",
    "  print('Cluster', cluster,': ', lista_clusters)"
   ],
   "metadata": {
    "id": "30ybTnxRWQ8n",
    "colab": {
     "base_uri": "https://localhost:8080/"
    },
    "outputId": "04d1bfd0-3169-438d-dafb-9530b2c4618f"
   },
   "execution_count": null,
   "outputs": [
    {
     "output_type": "stream",
     "name": "stdout",
     "text": [
      "Cluster 0 :  ['AC', 'MS', 'MT', 'PI', 'RJ']\n",
      "Cluster 1 :  ['AP', 'BA', 'PA', 'RN', 'SE']\n",
      "Cluster 2 :  ['CE', 'GO', 'PR', 'SP']\n",
      "Cluster 3 :  ['AM', 'PB', 'RR']\n",
      "Cluster 4 :  ['DF', 'ES', 'MG', 'RO', 'RS', 'SC']\n",
      "Cluster 5 :  ['AL', 'MA', 'PE', 'TO']\n"
     ]
    }
   ]
  },
  {
   "cell_type": "markdown",
   "source": [
    "### Atividade 9: Faça um boxplot para comparar os valores das variáveis por grupo."
   ],
   "metadata": {
    "id": "ZdgBTz3Zcuc4"
   }
  },
  {
   "cell_type": "code",
   "source": [
    "# Gerando o boxplot para a variável taxa de aprovação\n",
    "sns.boxplot(data= ideb_19_scaled, x= 'cluster', y='taxa_aprovacao');"
   ],
   "metadata": {
    "id": "gt_ESjVxWTis",
    "colab": {
     "base_uri": "https://localhost:8080/",
     "height": 449
    },
    "outputId": "10bf1026-845c-41d3-c0ba-c1acf705f886"
   },
   "execution_count": null,
   "outputs": [
    {
     "output_type": "display_data",
     "data": {
      "text/plain": [
       "<Figure size 640x480 with 1 Axes>"
      ],
      "image/png": "[encoded data removed]"
     },
     "metadata": {}
    }
   ]
  },
  {
   "cell_type": "code",
   "source": [
    "# Gerando o boxplot para a variável ideb\n",
    "sns.boxplot(data= ideb_19_scaled, x= 'cluster', y= 'ideb');"
   ],
   "metadata": {
    "colab": {
     "base_uri": "https://localhost:8080/",
     "height": 449
    },
    "id": "9w6hcPsfCnDv",
    "outputId": "ffcbf6f1-bdd3-4694-d28c-490f2e779cfd"
   },
   "execution_count": null,
   "outputs": [
    {
     "output_type": "display_data",
     "data": {
      "text/plain": [
       "<Figure size 640x480 with 1 Axes>"
      ],
      "image/png": "[encoded data removed]"
     },
     "metadata": {}
    }
   ]
  },
  {
   "cell_type": "markdown",
   "source": [
    "### Atividade 10: Podemos afirmar, estatisticamente, que os grupos são distintos? Isto é, os dados foram adequadamente clusterizados?"
   ],
   "metadata": {
    "id": "WMzMCRWXf0yQ"
   }
  },
  {
   "cell_type": "code",
   "source": [
    "# Aplicando a ANOVA para testar as hipóteses abaixo\n",
    "# H0: clusters não são distintos\n",
    "# H1: clusters são distintos\n",
    "\n",
    "# Criando dataframes para cada cluster\n",
    "clusters = []\n",
    "for i in range(6):\n",
    "    cluster = ideb_19_scaled[ideb_19_scaled['cluster'] == i][['taxa_aprovacao', 'ideb']]\n",
    "    clusters.append(cluster)\n",
    "\n",
    "# Calculando a ANOVA\n",
    "fvalue, pvalue = stats.f_oneway(*clusters)\n",
    "\n",
    "# Apresentando os resultados\n",
    "print('Valor F: ', fvalue, ' | Valor P: ', pvalue)\n",
    "\n",
    "# O resultado da ANOVA indica, para ambas as variáveis sob análise, valores F altos e valores P baixos, muito inferiores a 5%\n",
    "# Dessa forma, pode-se rejeitar H0 e concluir que os grupos são de fato estatisticamente distintos"
   ],
   "metadata": {
    "id": "cmgCqWffWV7D",
    "colab": {
     "base_uri": "https://localhost:8080/"
    },
    "outputId": "69353c2d-8470-435d-bbef-cb9cdf1b8dd7"
   },
   "execution_count": null,
   "outputs": [
    {
     "output_type": "stream",
     "name": "stdout",
     "text": [
      "Valor F:  [70.65088719 46.04565627]  | Valor P:  [2.05101040e-12 1.29433949e-10]\n"
     ]
    }
   ]
  },
  {
   "cell_type": "markdown",
   "source": [
    "### Atividade 11: Faça a clusterização com outro valor para k."
   ],
   "metadata": {
    "id": "3jL3LC5pbXev"
   }
  },
  {
   "cell_type": "code",
   "source": [
    "# Aplicando KMeans para k=4\n",
    "\n",
    "# Instanciando o KMeans\n",
    "kmeans_4 = KMeans(n_clusters=4, random_state=42)\n",
    "\n",
    "# Aplicando o KMeans às colunas de interesse\n",
    "kmeans_4.fit(ideb_19_scaled[['taxa_aprovacao', 'ideb']])\n",
    "\n",
    "# Visualizando os labels, que identificam os clusters\n",
    "kmeans_4.labels_"
   ],
   "metadata": {
    "id": "uILkB2dwWYA6",
    "colab": {
     "base_uri": "https://localhost:8080/"
    },
    "outputId": "90330f4e-98fd-4836-b875-8192ee0829fe"
   },
   "execution_count": null,
   "outputs": [
    {
     "output_type": "stream",
     "name": "stderr",
     "text": [
      "/usr/local/lib/python3.10/dist-packages/sklearn/cluster/_kmeans.py:870: FutureWarning: The default value of `n_init` will change from 10 to 'auto' in 1.4. Set the value of `n_init` explicitly to suppress the warning\n",
      "  warnings.warn(\n"
     ]
    },
    {
     "output_type": "execute_result",
     "data": {
      "text/plain": [
       "array([0, 0, 2, 1, 1, 3, 0, 3, 3, 2, 0, 0, 0, 1, 2, 0, 2, 3, 0, 1, 0, 2,\n",
       "       0, 0, 1, 3, 0], dtype=int32)"
      ]
     },
     "metadata": {},
     "execution_count": 97
    }
   ]
  },
  {
   "cell_type": "code",
   "source": [
    "# Criando novo dataframe como uma cópia do ideb_19_scaled\n",
    "ideb_19_scaled_copy = ideb_19_scaled.copy()\n",
    "\n",
    "# Atribuindo as novas identificações de cluster para cada uf\n",
    "ideb_19_scaled_copy['cluster'] = kmeans_4.labels_\n",
    "ideb_19_scaled_copy.head()"
   ],
   "metadata": {
    "colab": {
     "base_uri": "https://localhost:8080/",
     "height": 206
    },
    "id": "NEdOMNTaOFbu",
    "outputId": "2584f001-9750-4a5b-a045-87cff69cec04"
   },
   "execution_count": null,
   "outputs": [
    {
     "output_type": "execute_result",
     "data": {
      "text/plain": [
       "   taxa_aprovacao  nota_saeb_matematica  nota_saeb_lingua_portuguesa  \\\n",
       "0       -0.025280              0.080727                    -0.016434   \n",
       "1        0.801179             -0.437122                    -0.531887   \n",
       "2       -0.426168             -1.474271                    -1.443233   \n",
       "3       -1.670713             -1.889188                    -1.751891   \n",
       "4       -1.323101             -0.713999                    -0.626401   \n",
       "\n",
       "       ideb  uf  cluster  \n",
       "0  0.092154  AC        0  \n",
       "1 -0.201424  AL        0  \n",
       "2 -1.063297  AM        2  \n",
       "3 -1.674063  AP        1  \n",
       "4 -1.060175  BA        1  "
      ],
      "text/html": [
       "\n",
       "  <div id=\"df-24cbf620-a2ec-4fdc-b17e-e25392e08d5c\">\n",
       "    <div class=\"colab-df-container\">\n",
       "      <div>\n",
       "<style scoped>\n",
       "    .dataframe tbody tr th:only-of-type {\n",
       "        vertical-align: middle;\n",
       "    }\n",
       "\n",
       "    .dataframe tbody tr th {\n",
       "        vertical-align: top;\n",
       "    }\n",
       "\n",
       "    .dataframe thead th {\n",
       "        text-align: right;\n",
       "    }\n",
       "</style>\n",
       "<table border=\"1\" class=\"dataframe\">\n",
       "  <thead>\n",
       "    <tr style=\"text-align: right;\">\n",
       "      <th></th>\n",
       "      <th>taxa_aprovacao</th>\n",
       "      <th>nota_saeb_matematica</th>\n",
       "      <th>nota_saeb_lingua_portuguesa</th>\n",
       "      <th>ideb</th>\n",
       "      <th>uf</th>\n",
       "      <th>cluster</th>\n",
       "    </tr>\n",
       "  </thead>\n",
       "  <tbody>\n",
       "    <tr>\n",
       "      <th>0</th>\n",
       "      <td>-0.025280</td>\n",
       "      <td>0.080727</td>\n",
       "      <td>-0.016434</td>\n",
       "      <td>0.092154</td>\n",
       "      <td>AC</td>\n",
       "      <td>0</td>\n",
       "    </tr>\n",
       "    <tr>\n",
       "      <th>1</th>\n",
       "      <td>0.801179</td>\n",
       "      <td>-0.437122</td>\n",
       "      <td>-0.531887</td>\n",
       "      <td>-0.201424</td>\n",
       "      <td>AL</td>\n",
       "      <td>0</td>\n",
       "    </tr>\n",
       "    <tr>\n",
       "      <th>2</th>\n",
       "      <td>-0.426168</td>\n",
       "      <td>-1.474271</td>\n",
       "      <td>-1.443233</td>\n",
       "      <td>-1.063297</td>\n",
       "      <td>AM</td>\n",
       "      <td>2</td>\n",
       "    </tr>\n",
       "    <tr>\n",
       "      <th>3</th>\n",
       "      <td>-1.670713</td>\n",
       "      <td>-1.889188</td>\n",
       "      <td>-1.751891</td>\n",
       "      <td>-1.674063</td>\n",
       "      <td>AP</td>\n",
       "      <td>1</td>\n",
       "    </tr>\n",
       "    <tr>\n",
       "      <th>4</th>\n",
       "      <td>-1.323101</td>\n",
       "      <td>-0.713999</td>\n",
       "      <td>-0.626401</td>\n",
       "      <td>-1.060175</td>\n",
       "      <td>BA</td>\n",
       "      <td>1</td>\n",
       "    </tr>\n",
       "  </tbody>\n",
       "</table>\n",
       "</div>\n",
       "      <button class=\"colab-df-convert\" onclick=\"convertToInteractive('df-24cbf620-a2ec-4fdc-b17e-e25392e08d5c')\"\n",
       "              title=\"Convert this dataframe to an interactive table.\"\n",
       "              style=\"display:none;\">\n",
       "        \n",
       "  <svg xmlns=\"http://www.w3.org/2000/svg\" height=\"24px\"viewBox=\"0 0 24 24\"\n",
       "       width=\"24px\">\n",
       "    <path d=\"M0 0h24v24H0V0z\" fill=\"none\"/>\n",
       "    <path d=\"M18.56 5.44l.94 2.06.94-2.06 2.06-.94-2.06-.94-.94-2.06-.94 2.06-2.06.94zm-11 1L8.5 8.5l.94-2.06 2.06-.94-2.06-.94L8.5 2.5l-.94 2.06-2.06.94zm10 10l.94 2.06.94-2.06 2.06-.94-2.06-.94-.94-2.06-.94 2.06-2.06.94z\"/><path d=\"M17.41 7.96l-1.37-1.37c-.4-.4-.92-.59-1.43-.59-.52 0-1.04.2-1.43.59L10.3 9.45l-7.72 7.72c-.78.78-.78 2.05 0 2.83L4 21.41c.39.39.9.59 1.41.59.51 0 1.02-.2 1.41-.59l7.78-7.78 2.81-2.81c.8-.78.8-2.07 0-2.86zM5.41 20L4 18.59l7.72-7.72 1.47 1.35L5.41 20z\"/>\n",
       "  </svg>\n",
       "      </button>\n",
       "      \n",
       "  <style>\n",
       "    .colab-df-container {\n",
       "      display:flex;\n",
       "      flex-wrap:wrap;\n",
       "      gap: 12px;\n",
       "    }\n",
       "\n",
       "    .colab-df-convert {\n",
       "      background-color: #E8F0FE;\n",
       "      border: none;\n",
       "      border-radius: 50%;\n",
       "      cursor: pointer;\n",
       "      display: none;\n",
       "      fill: #1967D2;\n",
       "      height: 32px;\n",
       "      padding: 0 0 0 0;\n",
       "      width: 32px;\n",
       "    }\n",
       "\n",
       "    .colab-df-convert:hover {\n",
       "      background-color: #E2EBFA;\n",
       "      box-shadow: 0px 1px 2px rgba(60, 64, 67, 0.3), 0px 1px 3px 1px rgba(60, 64, 67, 0.15);\n",
       "      fill: #174EA6;\n",
       "    }\n",
       "\n",
       "    [theme=dark] .colab-df-convert {\n",
       "      background-color: #3B4455;\n",
       "      fill: #D2E3FC;\n",
       "    }\n",
       "\n",
       "    [theme=dark] .colab-df-convert:hover {\n",
       "      background-color: #434B5C;\n",
       "      box-shadow: 0px 1px 3px 1px rgba(0, 0, 0, 0.15);\n",
       "      filter: drop-shadow(0px 1px 2px rgba(0, 0, 0, 0.3));\n",
       "      fill: #FFFFFF;\n",
       "    }\n",
       "  </style>\n",
       "\n",
       "      <script>\n",
       "        const buttonEl =\n",
       "          document.querySelector('#df-24cbf620-a2ec-4fdc-b17e-e25392e08d5c button.colab-df-convert');\n",
       "        buttonEl.style.display =\n",
       "          google.colab.kernel.accessAllowed ? 'block' : 'none';\n",
       "\n",
       "        async function convertToInteractive(key) {\n",
       "          const element = document.querySelector('#df-24cbf620-a2ec-4fdc-b17e-e25392e08d5c');\n",
       "          const dataTable =\n",
       "            await google.colab.kernel.invokeFunction('convertToInteractive',\n",
       "                                                     [key], {});\n",
       "          if (!dataTable) return;\n",
       "\n",
       "          const docLinkHtml = 'Like what you see? Visit the ' +\n",
       "            '<a target=\"_blank\" href=https://colab.research.google.com/notebooks/data_table.ipynb>data table notebook</a>'\n",
       "            + ' to learn more about interactive tables.';\n",
       "          element.innerHTML = '';\n",
       "          dataTable['output_type'] = 'display_data';\n",
       "          await google.colab.output.renderOutput(dataTable, element);\n",
       "          const docLink = document.createElement('div');\n",
       "          docLink.innerHTML = docLinkHtml;\n",
       "          element.appendChild(docLink);\n",
       "        }\n",
       "      </script>\n",
       "    </div>\n",
       "  </div>\n",
       "  "
      ]
     },
     "metadata": {},
     "execution_count": 102
    }
   ]
  },
  {
   "cell_type": "code",
   "source": [
    "# Gerando o novo gráfico de dispersão\n",
    "sns.scatterplot(data=ideb_19_scaled_copy, x='taxa_aprovacao', y='ideb', hue='cluster')"
   ],
   "metadata": {
    "id": "0PFZHU4QPWPR",
    "outputId": "d59e6415-b025-43b8-b4f8-5702f7da2921",
    "colab": {
     "base_uri": "https://localhost:8080/",
     "height": 467
    }
   },
   "execution_count": null,
   "outputs": [
    {
     "output_type": "execute_result",
     "data": {
      "text/plain": [
       "<Axes: xlabel='taxa_aprovacao', ylabel='ideb'>"
      ]
     },
     "metadata": {},
     "execution_count": 103
    },
    {
     "output_type": "display_data",
     "data": {
      "text/plain": [
       "<Figure size 640x480 with 1 Axes>"
      ],
      "image/png": "[encoded data removed]"
     },
     "metadata": {}
    }
   ]
  },
  {
   "cell_type": "code",
   "source": [],
   "metadata": {
    "id": "hSt9scn6Qab_"
   },
   "execution_count": null,
   "outputs": []
  },
  {
   "cell_type": "markdown",
   "source": [
    "### Atividade 12: Qual dos dois valores testados para k seria mais adequado?"
   ],
   "metadata": {
    "id": "jAzu927IeS_S"
   }
  },
  {
   "cell_type": "code",
   "source": [
    "# Calculando o número ótimo de clusters\n",
    "\n",
    "# Abaixo, aplicou-se o código utilizado no exercício anterior do módulo para confirmar a conclusão de forma definitiva\n",
    "def numero_otimo_clusters(kmin, kmax):\n",
    "    inercia = []\n",
    "\n",
    "    for i in range(kmin,kmax+1):\n",
    "        kmeans = KMeans(n_clusters=i, random_state=42, n_init=10)\n",
    "        kmeans.fit(ideb_19_scaled[['taxa_aprovacao','ideb']])\n",
    "        inercia.append(kmeans.inertia_)\n",
    "    \n",
    "    x0, y0 = kmin, inercia[0]\n",
    "    x1, y1 = kmax, inercia[len(inercia)-1]\n",
    "\n",
    "    distancias = []\n",
    "    for i in range(len(inercia)):\n",
    "        x = i+kmin\n",
    "        y = inercia[i]\n",
    "        numerador = abs( (y1-y0)*x - (x1-x0)*y + x1*y0 - y1*x0 )\n",
    "        denominador = math.sqrt( (y1 - y0)**2 + (x1 - x0)**2 )\n",
    "        distancias.append(numerador/denominador)\n",
    "    return distancias.index(max(distancias)) + 2\n",
    "\n",
    "# calculando a quantidade ótima de clusters\n",
    "k_otimo = numero_otimo_clusters(2,10)\n",
    "\n",
    "print('Número ótimo de clusters: ' + str(k_otimo))"
   ],
   "metadata": {
    "colab": {
     "base_uri": "https://localhost:8080/"
    },
    "id": "03twgZc_R0Eb",
    "outputId": "be0113c6-8a1f-4c4b-cd06-8ac5c3cefad7"
   },
   "execution_count": 116,
   "outputs": [
    {
     "output_type": "stream",
     "name": "stdout",
     "text": [
      "Número ótimo de clusters: 4\n"
     ]
    }
   ]
  },
  {
   "cell_type": "markdown",
   "source": [
    "### Atividade 13: (Para refletir) Como poderíamos fazer a clusterização e visualizar os grupos se tivessemos que usar mais de duas variáveis?\n",
    "\n",
    "Dica: Pesquise sobre Redução de Dimensionalidade, é um assunto bem divertido!"
   ],
   "metadata": {
    "id": "r_po021CjNOz"
   }
  },
  {
   "cell_type": "code",
   "source": [
    "# Aplicando o KMeans com 3 variáveis e k=4\n",
    "\n",
    "# Criando variável 'dimensoes' para simplificar o código\n",
    "dimensoes = ideb_19_scaled[['taxa_aprovacao', 'ideb', 'nota_saeb_matematica']]\n",
    "\n",
    "# Instanciando o algoritmo KMeans\n",
    "kmeans_3d = KMeans(n_clusters=4, random_state=42)\n",
    "\n",
    "# Aplicando o KMeans às colunas de interesse\n",
    "kmeans_3d.fit(dimensoes)\n",
    "\n",
    "# Visualizando os labels, que identificam os clusters\n",
    "kmeans_3d.labels_"
   ],
   "metadata": {
    "id": "t0l-sC2uf7y3",
    "colab": {
     "base_uri": "https://localhost:8080/"
    },
    "outputId": "62e8a366-ed01-4bfd-ac76-4fea9d4cc69d"
   },
   "execution_count": 124,
   "outputs": [
    {
     "output_type": "stream",
     "name": "stderr",
     "text": [
      "/usr/local/lib/python3.10/dist-packages/sklearn/cluster/_kmeans.py:870: FutureWarning: The default value of `n_init` will change from 10 to 'auto' in 1.4. Set the value of `n_init` explicitly to suppress the warning\n",
      "  warnings.warn(\n"
     ]
    },
    {
     "output_type": "execute_result",
     "data": {
      "text/plain": [
       "array([3, 3, 0, 0, 0, 2, 1, 2, 2, 3, 1, 1, 3, 0, 0, 3, 3, 2, 1, 0, 1, 0,\n",
       "       1, 1, 0, 2, 3], dtype=int32)"
      ]
     },
     "metadata": {},
     "execution_count": 124
    }
   ]
  },
  {
   "cell_type": "code",
   "source": [
    "# Criando novo dataframe e incluindo os rótulos dos clusters\n",
    "ideb_pca = ideb_19_scaled.copy()\n",
    "ideb_pca['cluster'] = kmeans_3d.labels_\n",
    "\n",
    "\n",
    "#Aplicando PCA\n",
    "\n",
    "# Reduzindo a dimensionalidade para 2 componentes\n",
    "pca = PCA(n_components=2)\n",
    "X_pca = pca.fit_transform(dimensoes)\n",
    "\n",
    "# Gerando gráfico de dispersão dos componentes PCA, colorindo os pontos pelos rótulos de cluster\n",
    "plt.scatter(X_pca[:, 0], X_pca[:, 1], c=ideb_pca['cluster'])\n",
    "plt.show()\n"
   ],
   "metadata": {
    "colab": {
     "base_uri": "https://localhost:8080/",
     "height": 430
    },
    "id": "ujRL5EySWyNg",
    "outputId": "86204438-e6bf-41bf-eef7-78448cb747f3"
   },
   "execution_count": 125,
   "outputs": [
    {
     "output_type": "display_data",
     "data": {
      "text/plain": [
       "<Figure size 640x480 with 1 Axes>"
      ],
      "image/png": "[encoded data removed]"
     },
     "metadata": {}
    }
   ]
  }
 ]
}
