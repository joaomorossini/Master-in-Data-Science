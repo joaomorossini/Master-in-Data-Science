{
 "nbformat": 4,
 "nbformat_minor": 0,
 "metadata": {
  "colab": {
   "provenance": []
  },
  "kernelspec": {
   "name": "python3",
   "language": "python",
   "display_name": "Python 3 (ipykernel)"
  },
  "language_info": {
   "name": "python"
  }
 },
 "cells": [
  {
   "cell_type": "markdown",
   "source": [
    "Para esta atividade iremos usar um conjunto de dados sobre preços de imóveis. O conjunto original pode ser encontrado no [kaggle](https://www.kaggle.com/datasets/gunhee/koreahousedata). Os dados que usaremos foram alterados para facilitar as análises."
   ],
   "metadata": {
    "id": "mCtQu82oNqOK"
   }
  },
  {
   "cell_type": "code",
   "source": [
    "# Importando dependências externas\n",
    "import pandas as pd\n",
    "import numpy as np\n",
    "import statsmodels.api as sm\n",
    "import seaborn as sns\n",
    "from scipy.stats import shapiro\n",
    "from sklearn.preprocessing import StandardScaler\n",
    "from statsmodels.stats.api import het_goldfeldquandt\n",
    "from statsmodels.stats.stattools import durbin_watson\n",
    "from statsmodels.tools.eval_measures import mse, rmse, meanabs\n",
    "from statsmodels.stats.outliers_influence import variance_inflation_factor\n",
    "from statsmodels.stats.diagnostic import linear_rainbow"
   ],
   "metadata": {
    "id": "_FZHpdVhoCeH",
    "ExecuteTime": {
     "end_time": "2023-07-28T18:13:25.401555Z",
     "start_time": "2023-07-28T18:13:24.380591Z"
    }
   },
   "execution_count": 1,
   "outputs": []
  },
  {
   "cell_type": "code",
   "execution_count": 2,
   "outputs": [],
   "source": [
    "# Omitindo as mensagens de aviso \"Warnings\"\n",
    "import warnings\n",
    "warnings.filterwarnings('ignore')"
   ],
   "metadata": {
    "collapsed": false,
    "ExecuteTime": {
     "end_time": "2023-07-28T18:13:25.407528Z",
     "start_time": "2023-07-28T18:13:24.971406Z"
    }
   }
  },
  {
   "cell_type": "code",
   "execution_count": 3,
   "outputs": [
    {
     "data": {
      "text/plain": "'en_GB.UTF-8'"
     },
     "execution_count": 3,
     "metadata": {},
     "output_type": "execute_result"
    }
   ],
   "source": [
    "# Como se trata de um dataset de Londres, configurei o 'locale' para o Reino Unido para formatar os valores monetários\n",
    "\n",
    "# Importando a biblioteca\n",
    "import locale\n",
    "# Definindo o 'locale'\n",
    "locale.setlocale(locale.LC_ALL, 'en_GB.UTF-8')"
   ],
   "metadata": {
    "collapsed": false,
    "ExecuteTime": {
     "end_time": "2023-07-28T18:13:25.407893Z",
     "start_time": "2023-07-28T18:13:24.984939Z"
    }
   }
  },
  {
   "cell_type": "markdown",
   "source": [
    "# Regressão Linear Simples\n",
    "\n",
    "## Atividade 1: Importe os dados e verifique se há dados faltantes."
   ],
   "metadata": {
    "collapsed": false
   }
  },
  {
   "cell_type": "code",
   "source": [
    "# Carregando os dados\n",
    "df_original = pd.read_csv('2.4_Regressao_Linear_Entrega_Dados.csv')\n",
    "df_original.head(2)"
   ],
   "metadata": {
    "id": "DJ2q7L1kqtYF",
    "ExecuteTime": {
     "end_time": "2023-07-28T18:13:25.408135Z",
     "start_time": "2023-07-28T18:13:24.991214Z"
    }
   },
   "execution_count": 4,
   "outputs": [
    {
     "data": {
      "text/plain": "    preco  ano_construcao  ano_Venda         m2  andar tipo_Aquecimento  \\\n0  849552            2006       2007  75,623042      3       individual   \n1  307962            1985       2007  54,534061      8       individual   \n\n  tempo_ate_onibus tempo_ate_metro  qtde_elevadores  \\\n0       5min~10min     10min~15min                0   \n1           0~5min      5min~10min                2   \n\n   qtde_escritorios_publicos_perto  qtde_hospitais_perto  \\\n0                                2                     1   \n1                                5                     1   \n\n   qtde_lojas_departamento_perto  qtde_shoppings_perto  \\\n0                              1                     1   \n1                              2                     1   \n\n   qtde_estacionamentos_perto  qtde_escolas_fundamental1_perto  \\\n0                           0                                3   \n1                           1                                2   \n\n   qtde_escolas_fundamental2_perto  qtde_escolas_medio_perto  \\\n0                                2                         2   \n1                                1                         1   \n\n   qtde_universidades_perto  \n0                         2  \n1                         0  ",
      "text/html": "<div>\n<style scoped>\n    .dataframe tbody tr th:only-of-type {\n        vertical-align: middle;\n    }\n\n    .dataframe tbody tr th {\n        vertical-align: top;\n    }\n\n    .dataframe thead th {\n        text-align: right;\n    }\n</style>\n<table border=\"1\" class=\"dataframe\">\n  <thead>\n    <tr style=\"text-align: right;\">\n      <th></th>\n      <th>preco</th>\n      <th>ano_construcao</th>\n      <th>ano_Venda</th>\n      <th>m2</th>\n      <th>andar</th>\n      <th>tipo_Aquecimento</th>\n      <th>tempo_ate_onibus</th>\n      <th>tempo_ate_metro</th>\n      <th>qtde_elevadores</th>\n      <th>qtde_escritorios_publicos_perto</th>\n      <th>qtde_hospitais_perto</th>\n      <th>qtde_lojas_departamento_perto</th>\n      <th>qtde_shoppings_perto</th>\n      <th>qtde_estacionamentos_perto</th>\n      <th>qtde_escolas_fundamental1_perto</th>\n      <th>qtde_escolas_fundamental2_perto</th>\n      <th>qtde_escolas_medio_perto</th>\n      <th>qtde_universidades_perto</th>\n    </tr>\n  </thead>\n  <tbody>\n    <tr>\n      <th>0</th>\n      <td>849552</td>\n      <td>2006</td>\n      <td>2007</td>\n      <td>75,623042</td>\n      <td>3</td>\n      <td>individual</td>\n      <td>5min~10min</td>\n      <td>10min~15min</td>\n      <td>0</td>\n      <td>2</td>\n      <td>1</td>\n      <td>1</td>\n      <td>1</td>\n      <td>0</td>\n      <td>3</td>\n      <td>2</td>\n      <td>2</td>\n      <td>2</td>\n    </tr>\n    <tr>\n      <th>1</th>\n      <td>307962</td>\n      <td>1985</td>\n      <td>2007</td>\n      <td>54,534061</td>\n      <td>8</td>\n      <td>individual</td>\n      <td>0~5min</td>\n      <td>5min~10min</td>\n      <td>2</td>\n      <td>5</td>\n      <td>1</td>\n      <td>2</td>\n      <td>1</td>\n      <td>1</td>\n      <td>2</td>\n      <td>1</td>\n      <td>1</td>\n      <td>0</td>\n    </tr>\n  </tbody>\n</table>\n</div>"
     },
     "execution_count": 4,
     "metadata": {},
     "output_type": "execute_result"
    }
   ]
  },
  {
   "cell_type": "markdown",
   "source": [
    "# MODELO 1"
   ],
   "metadata": {
    "collapsed": false
   }
  },
  {
   "cell_type": "code",
   "execution_count": 5,
   "outputs": [],
   "source": [
    "# Criando uma cópia do DataFrame para o modelo 1\n",
    "df1 = df_original.copy()"
   ],
   "metadata": {
    "collapsed": false,
    "ExecuteTime": {
     "end_time": "2023-07-28T18:13:25.408391Z",
     "start_time": "2023-07-28T18:13:25.027581Z"
    }
   }
  },
  {
   "cell_type": "code",
   "source": [
    "# Avaliando os dados Pt. 1 de 2\n",
    "df1.describe().T"
   ],
   "metadata": {
    "id": "boeW8HaCUvyt",
    "ExecuteTime": {
     "end_time": "2023-07-28T18:13:25.408563Z",
     "start_time": "2023-07-28T18:13:25.035752Z"
    }
   },
   "execution_count": 6,
   "outputs": [
    {
     "data": {
      "text/plain": "                                  count          mean            std  \\\npreco                            5891.0  1.327309e+06  638305.118677   \nano_construcao                   5891.0  2.002967e+03       8.811782   \nano_Venda                        5891.0  2.012692e+03       2.905488   \nandar                            5891.0  1.202631e+01       7.548743   \nqtde_elevadores                  5891.0  1.114599e+01       7.806232   \nqtde_escritorios_publicos_perto  5891.0  4.141572e+00       1.793496   \nqtde_hospitais_perto             5891.0  1.296045e+00       0.479760   \nqtde_lojas_departamento_perto    5891.0  8.962825e-01       0.810964   \nqtde_shoppings_perto             5891.0  9.414361e-01       0.401355   \nqtde_estacionamentos_perto       5891.0  6.542183e-01       0.658320   \nqtde_escolas_fundamental1_perto  5891.0  3.022407e+00       0.954575   \nqtde_escolas_fundamental2_perto  5891.0  2.417756e+00       1.037898   \nqtde_escolas_medio_perto         5891.0  2.659311e+00       1.556041   \nqtde_universidades_perto         5891.0  2.764726e+00       1.489289   \n\n                                      min       25%        50%        75%  \\\npreco                            196458.0  865482.0  1247784.0  1746900.0   \nano_construcao                     1978.0    1993.0     2006.0     2008.0   \nano_Venda                          2007.0    2010.0     2013.0     2015.0   \nandar                                 1.0       6.0       11.0       17.0   \nqtde_elevadores                       0.0       5.0       11.0       16.0   \nqtde_escritorios_publicos_perto       0.0       3.0        5.0        5.0   \nqtde_hospitais_perto                  0.0       1.0        1.0        2.0   \nqtde_lojas_departamento_perto         0.0       0.0        1.0        2.0   \nqtde_shoppings_perto                  0.0       1.0        1.0        1.0   \nqtde_estacionamentos_perto            0.0       0.0        1.0        1.0   \nqtde_escolas_fundamental1_perto       0.0       2.0        3.0        4.0   \nqtde_escolas_fundamental2_perto       0.0       2.0        3.0        3.0   \nqtde_escolas_medio_perto              0.0       1.0        2.0        4.0   \nqtde_universidades_perto              0.0       2.0        2.0        4.0   \n\n                                       max  \npreco                            3515040.0  \nano_construcao                      2015.0  \nano_Venda                           2017.0  \nandar                                 43.0  \nqtde_elevadores                       27.0  \nqtde_escritorios_publicos_perto        7.0  \nqtde_hospitais_perto                   2.0  \nqtde_lojas_departamento_perto          2.0  \nqtde_shoppings_perto                   2.0  \nqtde_estacionamentos_perto             2.0  \nqtde_escolas_fundamental1_perto        6.0  \nqtde_escolas_fundamental2_perto        4.0  \nqtde_escolas_medio_perto               5.0  \nqtde_universidades_perto               5.0  ",
      "text/html": "<div>\n<style scoped>\n    .dataframe tbody tr th:only-of-type {\n        vertical-align: middle;\n    }\n\n    .dataframe tbody tr th {\n        vertical-align: top;\n    }\n\n    .dataframe thead th {\n        text-align: right;\n    }\n</style>\n<table border=\"1\" class=\"dataframe\">\n  <thead>\n    <tr style=\"text-align: right;\">\n      <th></th>\n      <th>count</th>\n      <th>mean</th>\n      <th>std</th>\n      <th>min</th>\n      <th>25%</th>\n      <th>50%</th>\n      <th>75%</th>\n      <th>max</th>\n    </tr>\n  </thead>\n  <tbody>\n    <tr>\n      <th>preco</th>\n      <td>5891.0</td>\n      <td>1.327309e+06</td>\n      <td>638305.118677</td>\n      <td>196458.0</td>\n      <td>865482.0</td>\n      <td>1247784.0</td>\n      <td>1746900.0</td>\n      <td>3515040.0</td>\n    </tr>\n    <tr>\n      <th>ano_construcao</th>\n      <td>5891.0</td>\n      <td>2.002967e+03</td>\n      <td>8.811782</td>\n      <td>1978.0</td>\n      <td>1993.0</td>\n      <td>2006.0</td>\n      <td>2008.0</td>\n      <td>2015.0</td>\n    </tr>\n    <tr>\n      <th>ano_Venda</th>\n      <td>5891.0</td>\n      <td>2.012692e+03</td>\n      <td>2.905488</td>\n      <td>2007.0</td>\n      <td>2010.0</td>\n      <td>2013.0</td>\n      <td>2015.0</td>\n      <td>2017.0</td>\n    </tr>\n    <tr>\n      <th>andar</th>\n      <td>5891.0</td>\n      <td>1.202631e+01</td>\n      <td>7.548743</td>\n      <td>1.0</td>\n      <td>6.0</td>\n      <td>11.0</td>\n      <td>17.0</td>\n      <td>43.0</td>\n    </tr>\n    <tr>\n      <th>qtde_elevadores</th>\n      <td>5891.0</td>\n      <td>1.114599e+01</td>\n      <td>7.806232</td>\n      <td>0.0</td>\n      <td>5.0</td>\n      <td>11.0</td>\n      <td>16.0</td>\n      <td>27.0</td>\n    </tr>\n    <tr>\n      <th>qtde_escritorios_publicos_perto</th>\n      <td>5891.0</td>\n      <td>4.141572e+00</td>\n      <td>1.793496</td>\n      <td>0.0</td>\n      <td>3.0</td>\n      <td>5.0</td>\n      <td>5.0</td>\n      <td>7.0</td>\n    </tr>\n    <tr>\n      <th>qtde_hospitais_perto</th>\n      <td>5891.0</td>\n      <td>1.296045e+00</td>\n      <td>0.479760</td>\n      <td>0.0</td>\n      <td>1.0</td>\n      <td>1.0</td>\n      <td>2.0</td>\n      <td>2.0</td>\n    </tr>\n    <tr>\n      <th>qtde_lojas_departamento_perto</th>\n      <td>5891.0</td>\n      <td>8.962825e-01</td>\n      <td>0.810964</td>\n      <td>0.0</td>\n      <td>0.0</td>\n      <td>1.0</td>\n      <td>2.0</td>\n      <td>2.0</td>\n    </tr>\n    <tr>\n      <th>qtde_shoppings_perto</th>\n      <td>5891.0</td>\n      <td>9.414361e-01</td>\n      <td>0.401355</td>\n      <td>0.0</td>\n      <td>1.0</td>\n      <td>1.0</td>\n      <td>1.0</td>\n      <td>2.0</td>\n    </tr>\n    <tr>\n      <th>qtde_estacionamentos_perto</th>\n      <td>5891.0</td>\n      <td>6.542183e-01</td>\n      <td>0.658320</td>\n      <td>0.0</td>\n      <td>0.0</td>\n      <td>1.0</td>\n      <td>1.0</td>\n      <td>2.0</td>\n    </tr>\n    <tr>\n      <th>qtde_escolas_fundamental1_perto</th>\n      <td>5891.0</td>\n      <td>3.022407e+00</td>\n      <td>0.954575</td>\n      <td>0.0</td>\n      <td>2.0</td>\n      <td>3.0</td>\n      <td>4.0</td>\n      <td>6.0</td>\n    </tr>\n    <tr>\n      <th>qtde_escolas_fundamental2_perto</th>\n      <td>5891.0</td>\n      <td>2.417756e+00</td>\n      <td>1.037898</td>\n      <td>0.0</td>\n      <td>2.0</td>\n      <td>3.0</td>\n      <td>3.0</td>\n      <td>4.0</td>\n    </tr>\n    <tr>\n      <th>qtde_escolas_medio_perto</th>\n      <td>5891.0</td>\n      <td>2.659311e+00</td>\n      <td>1.556041</td>\n      <td>0.0</td>\n      <td>1.0</td>\n      <td>2.0</td>\n      <td>4.0</td>\n      <td>5.0</td>\n    </tr>\n    <tr>\n      <th>qtde_universidades_perto</th>\n      <td>5891.0</td>\n      <td>2.764726e+00</td>\n      <td>1.489289</td>\n      <td>0.0</td>\n      <td>2.0</td>\n      <td>2.0</td>\n      <td>4.0</td>\n      <td>5.0</td>\n    </tr>\n  </tbody>\n</table>\n</div>"
     },
     "execution_count": 6,
     "metadata": {},
     "output_type": "execute_result"
    }
   ]
  },
  {
   "cell_type": "code",
   "execution_count": 7,
   "outputs": [
    {
     "name": "stdout",
     "output_type": "stream",
     "text": [
      "<class 'pandas.core.frame.DataFrame'>\n",
      "RangeIndex: 5891 entries, 0 to 5890\n",
      "Data columns (total 18 columns):\n",
      " #   Column                           Non-Null Count  Dtype \n",
      "---  ------                           --------------  ----- \n",
      " 0   preco                            5891 non-null   int64 \n",
      " 1   ano_construcao                   5891 non-null   int64 \n",
      " 2   ano_Venda                        5891 non-null   int64 \n",
      " 3   m2                               5891 non-null   object\n",
      " 4   andar                            5891 non-null   int64 \n",
      " 5   tipo_Aquecimento                 5891 non-null   object\n",
      " 6   tempo_ate_onibus                 5891 non-null   object\n",
      " 7   tempo_ate_metro                  5891 non-null   object\n",
      " 8   qtde_elevadores                  5891 non-null   int64 \n",
      " 9   qtde_escritorios_publicos_perto  5891 non-null   int64 \n",
      " 10  qtde_hospitais_perto             5891 non-null   int64 \n",
      " 11  qtde_lojas_departamento_perto    5891 non-null   int64 \n",
      " 12  qtde_shoppings_perto             5891 non-null   int64 \n",
      " 13  qtde_estacionamentos_perto       5891 non-null   int64 \n",
      " 14  qtde_escolas_fundamental1_perto  5891 non-null   int64 \n",
      " 15  qtde_escolas_fundamental2_perto  5891 non-null   int64 \n",
      " 16  qtde_escolas_medio_perto         5891 non-null   int64 \n",
      " 17  qtde_universidades_perto         5891 non-null   int64 \n",
      "dtypes: int64(14), object(4)\n",
      "memory usage: 828.5+ KB\n"
     ]
    }
   ],
   "source": [
    "# Avaliando os dados Pt. 2 de 2\n",
    "df1.info()"
   ],
   "metadata": {
    "collapsed": false,
    "ExecuteTime": {
     "end_time": "2023-07-28T18:13:25.408707Z",
     "start_time": "2023-07-28T18:13:25.076905Z"
    }
   }
  },
  {
   "cell_type": "code",
   "execution_count": 8,
   "outputs": [
    {
     "name": "stdout",
     "output_type": "stream",
     "text": [
      "Qtd de dados do tipo NA: \n",
      " preco                              0\n",
      "ano_construcao                     0\n",
      "ano_Venda                          0\n",
      "m2                                 0\n",
      "andar                              0\n",
      "tipo_Aquecimento                   0\n",
      "tempo_ate_onibus                   0\n",
      "tempo_ate_metro                    0\n",
      "qtde_elevadores                    0\n",
      "qtde_escritorios_publicos_perto    0\n",
      "qtde_hospitais_perto               0\n",
      "qtde_lojas_departamento_perto      0\n",
      "qtde_shoppings_perto               0\n",
      "qtde_estacionamentos_perto         0\n",
      "qtde_escolas_fundamental1_perto    0\n",
      "qtde_escolas_fundamental2_perto    0\n",
      "qtde_escolas_medio_perto           0\n",
      "qtde_universidades_perto           0\n",
      "dtype: int64 \n",
      " | Qtd de dados do tipo Null: \n",
      " preco                              0\n",
      "ano_construcao                     0\n",
      "ano_Venda                          0\n",
      "m2                                 0\n",
      "andar                              0\n",
      "tipo_Aquecimento                   0\n",
      "tempo_ate_onibus                   0\n",
      "tempo_ate_metro                    0\n",
      "qtde_elevadores                    0\n",
      "qtde_escritorios_publicos_perto    0\n",
      "qtde_hospitais_perto               0\n",
      "qtde_lojas_departamento_perto      0\n",
      "qtde_shoppings_perto               0\n",
      "qtde_estacionamentos_perto         0\n",
      "qtde_escolas_fundamental1_perto    0\n",
      "qtde_escolas_fundamental2_perto    0\n",
      "qtde_escolas_medio_perto           0\n",
      "qtde_universidades_perto           0\n",
      "dtype: int64\n"
     ]
    }
   ],
   "source": [
    "# Verificando se há dados faltantes\n",
    "print(f'Qtd de dados do tipo NA: \\n {df1.isna().sum()} \\n | Qtd de dados do tipo Null: \\n {df1.isnull().sum()}')"
   ],
   "metadata": {
    "collapsed": false,
    "ExecuteTime": {
     "end_time": "2023-07-28T18:13:25.408829Z",
     "start_time": "2023-07-28T18:13:25.085516Z"
    }
   }
  },
  {
   "cell_type": "markdown",
   "source": [
    "## Atividade 2: Selecione apenas as variáveis `preco` e `m2`, aplique o logaritmo natural na variável `m2` e verifique a correlação entre as variáveis."
   ],
   "metadata": {
    "id": "0w7txBL-wAmA"
   }
  },
  {
   "cell_type": "code",
   "source": [
    "# Selecionando as variáveis de interesse\n",
    "df1 = df1[['preco', 'm2']]\n",
    "df1.head(2)"
   ],
   "metadata": {
    "id": "0-S8z6nQwRnp",
    "ExecuteTime": {
     "end_time": "2023-07-28T18:13:25.408952Z",
     "start_time": "2023-07-28T18:13:25.099156Z"
    }
   },
   "execution_count": 9,
   "outputs": [
    {
     "data": {
      "text/plain": "    preco         m2\n0  849552  75,623042\n1  307962  54,534061",
      "text/html": "<div>\n<style scoped>\n    .dataframe tbody tr th:only-of-type {\n        vertical-align: middle;\n    }\n\n    .dataframe tbody tr th {\n        vertical-align: top;\n    }\n\n    .dataframe thead th {\n        text-align: right;\n    }\n</style>\n<table border=\"1\" class=\"dataframe\">\n  <thead>\n    <tr style=\"text-align: right;\">\n      <th></th>\n      <th>preco</th>\n      <th>m2</th>\n    </tr>\n  </thead>\n  <tbody>\n    <tr>\n      <th>0</th>\n      <td>849552</td>\n      <td>75,623042</td>\n    </tr>\n    <tr>\n      <th>1</th>\n      <td>307962</td>\n      <td>54,534061</td>\n    </tr>\n  </tbody>\n</table>\n</div>"
     },
     "execution_count": 9,
     "metadata": {},
     "output_type": "execute_result"
    }
   ]
  },
  {
   "cell_type": "code",
   "execution_count": 10,
   "outputs": [
    {
     "name": "stdout",
     "output_type": "stream",
     "text": [
      "preco      int64\n",
      "m2       float64\n",
      "dtype: object\n"
     ]
    }
   ],
   "source": [
    "# Convertendo a variável m2 para float\n",
    "df1['m2'] = df1['m2'].str.replace(',', '.').astype(float)\n",
    "print(df1.dtypes)"
   ],
   "metadata": {
    "collapsed": false,
    "ExecuteTime": {
     "end_time": "2023-07-28T18:13:25.409063Z",
     "start_time": "2023-07-28T18:13:25.108313Z"
    }
   }
  },
  {
   "cell_type": "code",
   "source": [
    "# Aplicando o logaritmo natural na variável m2\n",
    "df1['m2_log'] = np.log(df1['m2'])\n",
    "df1.head(2)"
   ],
   "metadata": {
    "id": "MA6b2JMXNWsg",
    "ExecuteTime": {
     "end_time": "2023-07-28T18:13:25.409183Z",
     "start_time": "2023-07-28T18:13:25.116200Z"
    }
   },
   "execution_count": 11,
   "outputs": [
    {
     "data": {
      "text/plain": "    preco         m2    m2_log\n0  849552  75.623042  4.325761\n1  307962  54.534061  3.998825",
      "text/html": "<div>\n<style scoped>\n    .dataframe tbody tr th:only-of-type {\n        vertical-align: middle;\n    }\n\n    .dataframe tbody tr th {\n        vertical-align: top;\n    }\n\n    .dataframe thead th {\n        text-align: right;\n    }\n</style>\n<table border=\"1\" class=\"dataframe\">\n  <thead>\n    <tr style=\"text-align: right;\">\n      <th></th>\n      <th>preco</th>\n      <th>m2</th>\n      <th>m2_log</th>\n    </tr>\n  </thead>\n  <tbody>\n    <tr>\n      <th>0</th>\n      <td>849552</td>\n      <td>75.623042</td>\n      <td>4.325761</td>\n    </tr>\n    <tr>\n      <th>1</th>\n      <td>307962</td>\n      <td>54.534061</td>\n      <td>3.998825</td>\n    </tr>\n  </tbody>\n</table>\n</div>"
     },
     "execution_count": 11,
     "metadata": {},
     "output_type": "execute_result"
    }
   ]
  },
  {
   "cell_type": "code",
   "source": [
    "# Verificando se há correlação entre as variáveis 'preco' e m2_log\n",
    "df1[['preco', 'm2_log']].corr()"
   ],
   "metadata": {
    "id": "VAE8ZG0TqtB9",
    "ExecuteTime": {
     "end_time": "2023-07-28T18:13:25.409305Z",
     "start_time": "2023-07-28T18:13:25.123937Z"
    }
   },
   "execution_count": 12,
   "outputs": [
    {
     "data": {
      "text/plain": "           preco    m2_log\npreco   1.000000  0.706048\nm2_log  0.706048  1.000000",
      "text/html": "<div>\n<style scoped>\n    .dataframe tbody tr th:only-of-type {\n        vertical-align: middle;\n    }\n\n    .dataframe tbody tr th {\n        vertical-align: top;\n    }\n\n    .dataframe thead th {\n        text-align: right;\n    }\n</style>\n<table border=\"1\" class=\"dataframe\">\n  <thead>\n    <tr style=\"text-align: right;\">\n      <th></th>\n      <th>preco</th>\n      <th>m2_log</th>\n    </tr>\n  </thead>\n  <tbody>\n    <tr>\n      <th>preco</th>\n      <td>1.000000</td>\n      <td>0.706048</td>\n    </tr>\n    <tr>\n      <th>m2_log</th>\n      <td>0.706048</td>\n      <td>1.000000</td>\n    </tr>\n  </tbody>\n</table>\n</div>"
     },
     "execution_count": 12,
     "metadata": {},
     "output_type": "execute_result"
    }
   ]
  },
  {
   "cell_type": "markdown",
   "source": [
    "## Atividade 3: Crie um modelo de regressão linear simples e encontre os coeficientes do modelo."
   ],
   "metadata": {
    "id": "_H6juqPrLTTq"
   }
  },
  {
   "cell_type": "code",
   "source": [
    "# Atribuindo as variáveis X e y\n",
    "X1 = df1['m2_log']\n",
    "y1 = df1['preco']"
   ],
   "metadata": {
    "id": "hO6cQFNioCcl",
    "ExecuteTime": {
     "end_time": "2023-07-28T18:13:25.409372Z",
     "start_time": "2023-07-28T18:13:25.129021Z"
    }
   },
   "execution_count": 13,
   "outputs": []
  },
  {
   "cell_type": "code",
   "execution_count": 14,
   "metadata": {
    "id": "Eo2w7S54r-Ai",
    "ExecuteTime": {
     "end_time": "2023-07-28T18:13:25.409495Z",
     "start_time": "2023-07-28T18:13:25.137320Z"
    }
   },
   "outputs": [
    {
     "data": {
      "text/plain": "   const    m2_log\n0    1.0  4.325761\n1    1.0  3.998825",
      "text/html": "<div>\n<style scoped>\n    .dataframe tbody tr th:only-of-type {\n        vertical-align: middle;\n    }\n\n    .dataframe tbody tr th {\n        vertical-align: top;\n    }\n\n    .dataframe thead th {\n        text-align: right;\n    }\n</style>\n<table border=\"1\" class=\"dataframe\">\n  <thead>\n    <tr style=\"text-align: right;\">\n      <th></th>\n      <th>const</th>\n      <th>m2_log</th>\n    </tr>\n  </thead>\n  <tbody>\n    <tr>\n      <th>0</th>\n      <td>1.0</td>\n      <td>4.325761</td>\n    </tr>\n    <tr>\n      <th>1</th>\n      <td>1.0</td>\n      <td>3.998825</td>\n    </tr>\n  </tbody>\n</table>\n</div>"
     },
     "execution_count": 14,
     "metadata": {},
     "output_type": "execute_result"
    }
   ],
   "source": [
    "# Adicionando a constante\n",
    "X1 = sm.add_constant(X1)\n",
    "\n",
    "# Visualizando o resultado\n",
    "X1.head(2)"
   ]
  },
  {
   "cell_type": "code",
   "execution_count": 15,
   "outputs": [],
   "source": [
    "# Estabelecendo o nível de significância\n",
    "alpha = 0.05"
   ],
   "metadata": {
    "collapsed": false,
    "ExecuteTime": {
     "end_time": "2023-07-28T18:13:25.409560Z",
     "start_time": "2023-07-28T18:13:25.145565Z"
    }
   }
  },
  {
   "cell_type": "markdown",
   "source": [
    "### Criação e visualização do modelo"
   ],
   "metadata": {
    "collapsed": false
   }
  },
  {
   "cell_type": "code",
   "execution_count": 16,
   "outputs": [
    {
     "name": "stdout",
     "output_type": "stream",
     "text": [
      "                            OLS Regression Results                            \n",
      "==============================================================================\n",
      "Dep. Variable:                  preco   R-squared:                       0.499\n",
      "Model:                            OLS   Adj. R-squared:                  0.498\n",
      "Method:                 Least Squares   F-statistic:                     5854.\n",
      "Date:                Fri, 28 Jul 2023   Prob (F-statistic):               0.00\n",
      "Time:                        15:13:25   Log-Likelihood:                -85068.\n",
      "No. Observations:                5891   AIC:                         1.701e+05\n",
      "Df Residuals:                    5889   BIC:                         1.702e+05\n",
      "Df Model:                           1                                         \n",
      "Covariance Type:            nonrobust                                         \n",
      "==============================================================================\n",
      "                 coef    std err          t      P>|t|      [0.025      0.975]\n",
      "------------------------------------------------------------------------------\n",
      "const       -3.37e+06   6.17e+04    -54.642      0.000   -3.49e+06   -3.25e+06\n",
      "m2_log      1.067e+06   1.39e+04     76.511      0.000    1.04e+06    1.09e+06\n",
      "==============================================================================\n",
      "Omnibus:                      150.092   Durbin-Watson:                   0.743\n",
      "Prob(Omnibus):                  0.000   Jarque-Bera (JB):              153.123\n",
      "Skew:                           0.373   Prob(JB):                     5.62e-34\n",
      "Kurtosis:                       2.739   Cond. No.                         48.7\n",
      "==============================================================================\n",
      "\n",
      "Notes:\n",
      "[1] Standard Errors assume that the covariance matrix of the errors is correctly specified.\n"
     ]
    }
   ],
   "source": [
    "# Criando o modelo de regressão linear simples\n",
    "\n",
    "# Método: Ordinary Least Squares (OLS), ou método dos mínimos quadrados\n",
    "model1 = sm.OLS(y1, X1).fit()\n",
    "\n",
    "# Visualizando o modelo\n",
    "print(model1.summary())"
   ],
   "metadata": {
    "collapsed": false,
    "ExecuteTime": {
     "end_time": "2023-07-28T18:13:25.409678Z",
     "start_time": "2023-07-28T18:13:25.150313Z"
    }
   }
  },
  {
   "cell_type": "code",
   "execution_count": 17,
   "outputs": [
    {
     "name": "stdout",
     "output_type": "stream",
     "text": [
      "const    -3.370460e+06\n",
      "m2_log    1.066759e+06\n",
      "dtype: float64\n"
     ]
    }
   ],
   "source": [
    "# Visualizando os parâmetros do Modelo 1\n",
    "print(model1.params)"
   ],
   "metadata": {
    "collapsed": false,
    "ExecuteTime": {
     "end_time": "2023-07-28T18:13:25.409785Z",
     "start_time": "2023-07-28T18:13:25.165255Z"
    }
   }
  },
  {
   "cell_type": "code",
   "execution_count": 18,
   "outputs": [
    {
     "name": "stdout",
     "output_type": "stream",
     "text": [
      "0      -3.945320e+05\n",
      "1      -5.873606e+05\n",
      "2      -6.032906e+05\n",
      "3       5.068284e+04\n",
      "4      -7.398490e+05\n",
      "            ...     \n",
      "5886    1.075735e+06\n",
      "5887    4.346068e+05\n",
      "5888    8.325286e+05\n",
      "5889    1.089082e+05\n",
      "5890    1.050227e+06\n",
      "Length: 5891, dtype: float64\n"
     ]
    }
   ],
   "source": [
    "# Calculando os resíduos\n",
    "model1_resid = model1.resid\n",
    "print(model1_resid)"
   ],
   "metadata": {
    "collapsed": false,
    "ExecuteTime": {
     "end_time": "2023-07-28T18:13:25.409907Z",
     "start_time": "2023-07-28T18:13:25.169807Z"
    }
   }
  },
  {
   "cell_type": "markdown",
   "source": [
    "# Modelo 1 completo\n",
    "\n",
    "`y = -3.37e+06 + 1.067e+06 * X['m2_log']`\n",
    "Nota: O valor de `R² (0.499)` é aceitável para um modelo de regressão linear simples, mas não é um valor alto. Isso indica que o modelo não explica muito bem a variável dependente."
   ],
   "metadata": {
    "collapsed": false
   }
  },
  {
   "cell_type": "markdown",
   "source": [
    "## Atividade 4: Verifique os pressupostos da regressão linear."
   ],
   "metadata": {
    "id": "n9are8ehMDJl"
   }
  },
  {
   "cell_type": "code",
   "execution_count": 19,
   "outputs": [],
   "source": [
    "# Criando um dicionário para armazenar as conclusões sobre cada pressuposto\n",
    "conclusions1 = {}"
   ],
   "metadata": {
    "collapsed": false,
    "ExecuteTime": {
     "end_time": "2023-07-28T18:13:25.409970Z",
     "start_time": "2023-07-28T18:13:25.175463Z"
    }
   }
  },
  {
   "cell_type": "markdown",
   "source": [
    "## Linearidade\n",
    "### Métodos aplicados: Gráfico de dispersão e Teste Rainbow"
   ],
   "metadata": {
    "id": "98VVXB_-vy_7"
   }
  },
  {
   "cell_type": "code",
   "source": [
    "# Gerando o gráfico de dispersão\n",
    "sns.scatterplot(x='m2_log', y='preco', data=df1);"
   ],
   "metadata": {
    "id": "NDAe-65gv0_r",
    "ExecuteTime": {
     "end_time": "2023-07-28T18:13:25.667061Z",
     "start_time": "2023-07-28T18:13:25.181073Z"
    }
   },
   "execution_count": 20,
   "outputs": [
    {
     "data": {
      "text/plain": "<Figure size 640x480 with 1 Axes>",
      "image/png": "[encoded data removed]"
     },
     "metadata": {},
     "output_type": "display_data"
    }
   ]
  },
  {
   "cell_type": "markdown",
   "source": [
    "### Teste Rainbow para confirmar linearidade\n",
    "- H0: Não há relação linear entre a variável independente e a variável dependente\n",
    "- H1: Há relação linear entre a variável independente e a variável dependente\n",
    "- Pressuposto para uso da regresão linear: H0 deve ser rejeitada"
   ],
   "metadata": {
    "collapsed": false
   }
  },
  {
   "cell_type": "code",
   "execution_count": 21,
   "outputs": [
    {
     "name": "stdout",
     "output_type": "stream",
     "text": [
      "Estatística Rainbow: 1.9900346294793798\n",
      "Valor-p Rainbow: 1.2749919970583877e-76\n",
      "-------------------------------------\n",
      "p-valor < alfa. H0 REJEITADA. Há evidências de que o modelo SATISFAZ a suposição de linearidade.\n"
     ]
    }
   ],
   "source": [
    "# Teste Rainbow para confirmar linearidade\n",
    "\n",
    "# Realizando o teste Rainbow\n",
    "rainbow_statistic1, rainbow_p_value1 = linear_rainbow(model1)\n",
    "\n",
    "# Imprimindo o resultado do teste\n",
    "print('Estatística Rainbow:', rainbow_statistic1)\n",
    "print('Valor-p Rainbow:', rainbow_p_value1)\n",
    "print('-------------------------------------')\n",
    "\n",
    "# Comparando o p-valor com o nível de significância alpha\n",
    "if rainbow_p_value1 < alpha:\n",
    "    print('p-valor < alfa. H0 REJEITADA. Há evidências de que o modelo SATISFAZ a suposição de linearidade.')\n",
    "    conclusion_linearity1 = { 'Linearidade': 'Pressuposto SATISFEITO'}\n",
    "else:\n",
    "    print('p-valor > alfa. H0 NÃO REJEITADA. Há evidências de que o modelo NÃO SATISFAZ a suposição de linearidade.')\n",
    "    conclusion_linearity1 = { 'Linearidade': 'Pressuposto NÃO SATISFEITO'}\n",
    "\n",
    "# Armazenando a conclusão no dicionário\n",
    "conclusions1.update(conclusion_linearity1)"
   ],
   "metadata": {
    "collapsed": false,
    "ExecuteTime": {
     "end_time": "2023-07-28T18:13:25.681591Z",
     "start_time": "2023-07-28T18:13:25.490874Z"
    }
   }
  },
  {
   "cell_type": "markdown",
   "source": [
    "## Homocedasticidade\n",
    "### Método aplicado: Teste de Goldfeld Quandt"
   ],
   "metadata": {
    "id": "WtkZeNJ68CAY"
   }
  },
  {
   "cell_type": "markdown",
   "source": [
    "#### Hipóteses:\n",
    "- H0: Há homocedasticidade (variância constante dos resíduos)\n",
    "- H1: Não há homocedasticidade (variância não constante dos resíduos)\n",
    "- Pressuposto para uso da regressão linear: H0 NÃO deve ser rejeitada"
   ],
   "metadata": {
    "collapsed": false
   }
  },
  {
   "cell_type": "code",
   "source": [
    "# Verificando a homocedasticidade\n",
    "stat, p_value, _ = het_goldfeldquandt(model1_resid, X1)\n",
    "print(f'P-valor é igual a: {p_value}')\n",
    "print('-------------------------------------')\n",
    "\n",
    "# Comparando o p-valor com o nível de significância alpha\n",
    "if p_value < alpha:\n",
    "    print('P-valor < alfa. H0 REJEITADA. Conclusão: Há evidências de que os resíduos NÃO SÃO homocedásticos.')\n",
    "    conclusion_homocedasticity1 = { 'Homocedasticidade': 'Pressuposto NÃO SATISFEITO'}\n",
    "else:\n",
    "    print('P-valor > alfa. H0 NÃO REJEITADA. Conclusão: Há evidências de que os resíduos SÃO homocedásticos.')\n",
    "    conclusion_homocedasticity1 = { 'Homocedasticidade': 'Pressuposto SATISFEITO'}\n",
    "\n",
    "# Armazenando a conclusão no dicionário\n",
    "conclusions1.update(conclusion_homocedasticity1)"
   ],
   "metadata": {
    "id": "WM8AkHaOy2rQ",
    "ExecuteTime": {
     "end_time": "2023-07-28T18:13:25.695815Z",
     "start_time": "2023-07-28T18:13:25.499691Z"
    }
   },
   "execution_count": 22,
   "outputs": [
    {
     "name": "stdout",
     "output_type": "stream",
     "text": [
      "P-valor é igual a: 3.423253608687636e-22\n",
      "-------------------------------------\n",
      "P-valor < alfa. H0 REJEITADA. Conclusão: Há evidências de que os resíduos NÃO SÃO homocedásticos.\n"
     ]
    }
   ]
  },
  {
   "cell_type": "markdown",
   "source": [
    "## Normalidade dos Resíduos\n",
    "### Método aplicado: Teste de Shapiro-Wilk\n",
    "\n",
    "### Hipóteses:\n",
    "- H0: Os resíduos seguem distribuição normal\n",
    "- H1: Os resíduos não seguem distribuição normal\n",
    "- Pressuposto para uso da regressão linear: H0 NÃO deve ser rejeitada"
   ],
   "metadata": {
    "id": "iRQGANwz8FMw"
   }
  },
  {
   "cell_type": "code",
   "source": [
    "# Aplicando teste de Shapiro-Wilk\n",
    "stat, p_value = shapiro(model1_resid)\n",
    "\n",
    "print(f'P-valor é igual a: {p_value}')\n",
    "print('-------------------------------------')\n",
    "\n",
    "if p_value < 0.05:\n",
    "    print('P-valor < alfa. Conclusão: H0 REJEITADA. Há evidência de que os resíduos NÃO SEGUEM distribuição normal')\n",
    "    conclusion_normality1 = {'Normalidade': 'Pressuposto NÃO SATISFEITO'}\n",
    "else:\n",
    "    print('P-valor > alfa. Conclusão: H0 NÃO REJEITADA. Há evidência de que os resíduos SEGUEM distribuição normal')\n",
    "    conclusion_normality1 = {'Normalidade': 'Pressuposto SATISFEITO'}\n",
    "\n",
    "# Armazenando a conclusão no dicionário\n",
    "conclusions1.update(conclusion_normality1)"
   ],
   "metadata": {
    "id": "0tzcAmvw4DWg",
    "ExecuteTime": {
     "end_time": "2023-07-28T18:13:25.710722Z",
     "start_time": "2023-07-28T18:13:25.504726Z"
    }
   },
   "execution_count": 23,
   "outputs": [
    {
     "name": "stdout",
     "output_type": "stream",
     "text": [
      "P-valor é igual a: 7.838917594454599e-26\n",
      "-------------------------------------\n",
      "P-valor < alfa. Conclusão: H0 REJEITADA. Há evidência de que os resíduos NÃO SEGUEM distribuição normal\n"
     ]
    }
   ]
  },
  {
   "cell_type": "markdown",
   "source": [
    "## Autocorrelação dos Resíduos\n",
    "### Método aplicado: Teste de Durbin-Watson\n",
    "### Hipóteses:\n",
    "- H0: Não existe correlação entre os resíduos\n",
    "- H1: Existe correlação entre os resíduos\n",
    "- Pressuposto para uso da regressão linear: H0 NÃO deve ser rejeitada"
   ],
   "metadata": {
    "id": "v1OgQlgz8Ix9"
   }
  },
  {
   "cell_type": "code",
   "source": [
    "# Aplicando o teste de Durbin-Watson para verificar a autocorrelação dos resíduos\n",
    "auto_correlation = durbin_watson(model1_resid)\n",
    "print(auto_correlation)\n",
    "\n",
    "# Valores entre 1.5 e 2.5 indicam que não há autocorrelação\n",
    "if auto_correlation < 1.5 or auto_correlation > 2.5:\n",
    "    print('H0 REJEITADA. Há evidência de autocorrelação dos resíduos')\n",
    "    conclusion_autocorrelation1 = {'Autocorrelação dos resíduos': 'Pressuposto NÃO SATISFEITO'}\n",
    "else:\n",
    "    print('H0 NÃO REJEITADA. Não há evidência de autocorrelação dos resíduos')\n",
    "    conclusion_autocorrelation1 = {'Autocorrelação dos resíduos': 'Pressuposto SATISFEITO'}\n",
    "\n",
    "# Armazenando a conclusão no dicionário\n",
    "conclusions1.update(conclusion_autocorrelation1)"
   ],
   "metadata": {
    "id": "Ew5rKJ9y64-0",
    "ExecuteTime": {
     "end_time": "2023-07-28T18:13:25.710959Z",
     "start_time": "2023-07-28T18:13:25.514467Z"
    }
   },
   "execution_count": 24,
   "outputs": [
    {
     "name": "stdout",
     "output_type": "stream",
     "text": [
      "0.7433704819691179\n",
      "H0 REJEITADA. Há evidência de autocorrelação dos resíduos\n"
     ]
    }
   ]
  },
  {
   "cell_type": "markdown",
   "source": [
    "## Multicolinearidade\n",
    "### Método aplicado: Fator de Inflação da Variância (VIF)\n",
    "### Hipóteses:\n",
    "- H0: Não há multicolinearidade\n",
    "- H1: Há multicolinearidade"
   ],
   "metadata": {
    "id": "vueVPgKiyj9O"
   }
  },
  {
   "cell_type": "code",
   "source": [
    "print('Conclusão: NÃO APLICÁVEL porque há somente uma variável X')\n",
    "conclusion_multicolinearity1 = {'Multicolinearidade': 'Não aplicável'}\n",
    "\n",
    "# Armazenando a conclusão no dicionário\n",
    "conclusions1.update(conclusion_multicolinearity1)"
   ],
   "metadata": {
    "id": "k98pU7-QeBQW",
    "ExecuteTime": {
     "end_time": "2023-07-28T18:13:25.711207Z",
     "start_time": "2023-07-28T18:13:25.518991Z"
    }
   },
   "execution_count": 25,
   "outputs": [
    {
     "name": "stdout",
     "output_type": "stream",
     "text": [
      "Conclusão: NÃO APLICÁVEL porque há somente uma variável X\n"
     ]
    }
   ]
  },
  {
   "cell_type": "markdown",
   "source": [
    "## Resumo da avaliação dos pressupostos"
   ],
   "metadata": {
    "collapsed": false
   }
  },
  {
   "cell_type": "code",
   "execution_count": 26,
   "outputs": [],
   "source": [
    "# Criando função para resumir a verificação dos pressupostos\n",
    "def assumptions_summary(conclusions):\n",
    "    print('Resumo da verificação dos pressupostos:')\n",
    "    print('-------------------------------------')\n",
    "    for key, value in conclusions.items():\n",
    "        if value == 'Pressuposto SATISFEITO':\n",
    "            print(f'{key}: {value} ✅')\n",
    "        else:\n",
    "            print(f'{key}: {value} ❌')\n",
    "    print('-------------------------------------')\n",
    "    print('CONCLUSÃO GERAL:')\n",
    "    # Condição que se 1 ou mais pressupostos não forem atendidos, a regressão linear não é aconselhável\n",
    "    if 'Pressuposto NÃO SATISFEITO' in conclusions.values():\n",
    "        print('❌ Atenção: Um ou mais pressupostos não foram atendidos. A regressão linear NÃO é aconselhável.')\n",
    "    else:\n",
    "        print('✅ Todos os pressupostos foram atendidos. A regressão linear é aconselhável.')"
   ],
   "metadata": {
    "collapsed": false,
    "ExecuteTime": {
     "end_time": "2023-07-28T18:13:25.711369Z",
     "start_time": "2023-07-28T18:13:25.526452Z"
    }
   }
  },
  {
   "cell_type": "code",
   "execution_count": 27,
   "outputs": [
    {
     "name": "stdout",
     "output_type": "stream",
     "text": [
      "Resumo da verificação dos pressupostos:\n",
      "-------------------------------------\n",
      "Linearidade: Pressuposto SATISFEITO ✅\n",
      "Homocedasticidade: Pressuposto NÃO SATISFEITO ❌\n",
      "Normalidade: Pressuposto NÃO SATISFEITO ❌\n",
      "Autocorrelação dos resíduos: Pressuposto NÃO SATISFEITO ❌\n",
      "Multicolinearidade: Não aplicável ❌\n",
      "-------------------------------------\n",
      "CONCLUSÃO GERAL:\n",
      "❌ Atenção: Um ou mais pressupostos não foram atendidos. A regressão linear NÃO é aconselhável.\n"
     ]
    }
   ],
   "source": [
    "# Resumo da verificação dos pressupostos\n",
    "assumptions_summary(conclusions1)"
   ],
   "metadata": {
    "collapsed": false,
    "ExecuteTime": {
     "end_time": "2023-07-28T18:13:25.712674Z",
     "start_time": "2023-07-28T18:13:25.530960Z"
    }
   }
  },
  {
   "cell_type": "markdown",
   "source": [
    "# Regressão Linear Múltipla\n",
    "\n",
    "## Atividade 5: Crie um modelo de regressão linear múltipla."
   ],
   "metadata": {
    "id": "lBkwAWg-omOk"
   }
  },
  {
   "cell_type": "markdown",
   "source": [
    "# MODELO 2"
   ],
   "metadata": {
    "collapsed": false
   }
  },
  {
   "cell_type": "code",
   "source": [
    "# Criando uma cópia do dataframe original\n",
    "df2 = df_original.copy()"
   ],
   "metadata": {
    "id": "wpKZbiPT8iBm",
    "colab": {
     "base_uri": "https://localhost:8080/",
     "height": 270
    },
    "outputId": "cfe6a522-b13b-4a5a-9437-bc3d10305a48",
    "ExecuteTime": {
     "end_time": "2023-07-28T18:13:25.712964Z",
     "start_time": "2023-07-28T18:13:25.536309Z"
    }
   },
   "execution_count": 28,
   "outputs": []
  },
  {
   "cell_type": "code",
   "execution_count": 29,
   "outputs": [],
   "source": [
    "# Convertendo a variável m2 para float\n",
    "df2['m2'] = df2['m2'].str.replace(',', '.').astype(float)"
   ],
   "metadata": {
    "collapsed": false,
    "ExecuteTime": {
     "end_time": "2023-07-28T18:13:25.713075Z",
     "start_time": "2023-07-28T18:13:25.545037Z"
    }
   }
  },
  {
   "cell_type": "markdown",
   "source": [
    "### Agrupando variáveis"
   ],
   "metadata": {
    "collapsed": false
   }
  },
  {
   "cell_type": "code",
   "source": [
    "# Vamos condensar algumas variáveis em uma única\n",
    "df2['qtde_servicos'] = df2['qtde_hospitais_perto'] + \\\n",
    "                      df2['qtde_lojas_departamento_perto'] + \\\n",
    "                      df2['qtde_escritorios_publicos_perto'] + \\\n",
    "                      df2['qtde_escolas_fundamental1_perto'] + \\\n",
    "                      df2['qtde_escolas_fundamental2_perto'] + \\\n",
    "                      df2['qtde_escolas_medio_perto'] + \\\n",
    "                      df2['qtde_universidades_perto']\n",
    "\n",
    "# excluindo as variáveis originais do DataFrame\n",
    "df2.drop(['qtde_hospitais_perto','qtde_lojas_departamento_perto',\n",
    "         'qtde_escritorios_publicos_perto','qtde_escolas_fundamental1_perto',\n",
    "         'qtde_escolas_fundamental2_perto','qtde_escolas_medio_perto',\n",
    "         'qtde_universidades_perto'],\n",
    "        axis=1, inplace=True)"
   ],
   "metadata": {
    "id": "j6T3etwMDMcd",
    "ExecuteTime": {
     "end_time": "2023-07-28T18:13:25.713146Z",
     "start_time": "2023-07-28T18:13:25.547607Z"
    }
   },
   "execution_count": 30,
   "outputs": []
  },
  {
   "cell_type": "code",
   "source": [
    "# criando nova variável\n",
    "df2['qtde_conveniencia'] = df2['qtde_shoppings_perto'] + df2['qtde_estacionamentos_perto']\n",
    "\n",
    "# excluindo variáveis do DataFrame\n",
    "df2.drop(['qtde_shoppings_perto','qtde_estacionamentos_perto'],\n",
    "        axis=1, inplace=True)"
   ],
   "metadata": {
    "colab": {
     "base_uri": "https://localhost:8080/",
     "height": 270
    },
    "id": "qfvV2oIiFGcu",
    "outputId": "159884b9-589e-4105-89ce-985a32d82790",
    "ExecuteTime": {
     "end_time": "2023-07-28T18:13:25.744004Z",
     "start_time": "2023-07-28T18:13:25.559223Z"
    }
   },
   "execution_count": 31,
   "outputs": []
  },
  {
   "cell_type": "markdown",
   "source": [
    "### Tratando os dados categóricos utilizando One Hot Encoding"
   ],
   "metadata": {
    "collapsed": false
   }
  },
  {
   "cell_type": "code",
   "source": [
    "# aplicando One Hot Encoding à variável tipo_Aquecimento\n",
    "df_aux = pd.get_dummies(df2['tipo_Aquecimento'], prefix='tipo_Aquecimento')\n",
    "df2 = pd.concat([df2, df_aux], axis=1)\n",
    "df2.drop(['tipo_Aquecimento', 'tipo_Aquecimento_central'], axis=1, inplace=True)"
   ],
   "metadata": {
    "id": "AmA0pXNAFGVk",
    "ExecuteTime": {
     "end_time": "2023-07-28T18:13:25.755333Z",
     "start_time": "2023-07-28T18:13:25.567359Z"
    }
   },
   "execution_count": 32,
   "outputs": []
  },
  {
   "cell_type": "code",
   "source": [
    "# aplicando One Hot Encoding à variável tempo_ate_onibus\n",
    "df_aux = pd.get_dummies(df2['tempo_ate_onibus'], prefix='tempo_ate_onibus')\n",
    "df2 = pd.concat([df2, df_aux], axis=1)\n",
    "df2.drop(['tempo_ate_onibus', 'tempo_ate_onibus_10min~15min'], axis=1, inplace=True)"
   ],
   "metadata": {
    "id": "Ta7KXcf2RFXL",
    "ExecuteTime": {
     "end_time": "2023-07-28T18:13:25.756087Z",
     "start_time": "2023-07-28T18:13:25.574916Z"
    }
   },
   "execution_count": 33,
   "outputs": []
  },
  {
   "cell_type": "code",
   "source": [
    "# aplicando One Hot Encoding à variável tempo_ate_metro\n",
    "df_aux = pd.get_dummies(df2['tempo_ate_metro'], prefix='tempo_ate_metro')\n",
    "df2 = pd.concat([df2, df_aux], axis=1)\n",
    "df2.drop(['tempo_ate_metro', 'tempo_ate_metro_no_bus_stop_nearby'], axis=1, inplace=True)"
   ],
   "metadata": {
    "colab": {
     "base_uri": "https://localhost:8080/",
     "height": 287
    },
    "id": "EZjExHtUK0qZ",
    "outputId": "b47be83d-8175-4155-914f-7f4af292edd1",
    "ExecuteTime": {
     "end_time": "2023-07-28T18:13:25.756251Z",
     "start_time": "2023-07-28T18:13:25.580192Z"
    }
   },
   "execution_count": 34,
   "outputs": []
  },
  {
   "cell_type": "markdown",
   "source": [
    "### Criando o modelo"
   ],
   "metadata": {
    "collapsed": false
   }
  },
  {
   "cell_type": "code",
   "source": [
    "# separando os dados em X e y\n",
    "X2 = df2.drop('preco', axis=1)\n",
    "y2 = df2['preco']"
   ],
   "metadata": {
    "id": "zXAy7GhbLxSw",
    "ExecuteTime": {
     "end_time": "2023-07-28T18:13:25.773091Z",
     "start_time": "2023-07-28T18:13:25.589137Z"
    }
   },
   "execution_count": 35,
   "outputs": []
  },
  {
   "cell_type": "code",
   "source": [
    "# Colocando os dados na mesma escala\n",
    "\n",
    "# instanciando a função\n",
    "scaler2 = StandardScaler()\n",
    "\n",
    "# criando uma cópia dos valores\n",
    "X_scaled2 = X2.copy()\n",
    "\n",
    "# aplicando a padronização\n",
    "X_scaled2[X_scaled2.columns] = scaler2.fit_transform(X_scaled2)\n",
    "\n",
    "X_scaled2.head(2)"
   ],
   "metadata": {
    "colab": {
     "base_uri": "https://localhost:8080/",
     "height": 287
    },
    "id": "egeeZp_wv_sY",
    "outputId": "7f564d69-d471-416e-804b-e90ec0d9ef08",
    "ExecuteTime": {
     "end_time": "2023-07-28T18:13:25.802903Z",
     "start_time": "2023-07-28T18:13:25.591931Z"
    }
   },
   "execution_count": 36,
   "outputs": [
    {
     "data": {
      "text/plain": "   ano_construcao  ano_Venda        m2     andar  qtde_elevadores  \\\n0        0.344181  -1.959067 -0.370182 -1.195839        -1.427953   \n1       -2.039194  -1.959067 -0.963752 -0.533420        -1.171726   \n\n   qtde_servicos  qtde_conveniencia  tipo_Aquecimento_individual  \\\n0      -0.723875          -0.772684                     0.231641   \n1      -0.896304           0.524518                     0.231641   \n\n   tempo_ate_onibus_0~5min  tempo_ate_onibus_5min~10min  \\\n0                -1.806284                     1.854545   \n1                 0.553623                    -0.539216   \n\n   tempo_ate_metro_0-5min  tempo_ate_metro_10min~15min  \\\n0               -0.938566                     2.511759   \n1               -0.938566                    -0.398127   \n\n   tempo_ate_metro_15min~20min  tempo_ate_metro_5min~10min  \n0                     -0.43931                   -0.488514  \n1                     -0.43931                    2.047024  ",
      "text/html": "<div>\n<style scoped>\n    .dataframe tbody tr th:only-of-type {\n        vertical-align: middle;\n    }\n\n    .dataframe tbody tr th {\n        vertical-align: top;\n    }\n\n    .dataframe thead th {\n        text-align: right;\n    }\n</style>\n<table border=\"1\" class=\"dataframe\">\n  <thead>\n    <tr style=\"text-align: right;\">\n      <th></th>\n      <th>ano_construcao</th>\n      <th>ano_Venda</th>\n      <th>m2</th>\n      <th>andar</th>\n      <th>qtde_elevadores</th>\n      <th>qtde_servicos</th>\n      <th>qtde_conveniencia</th>\n      <th>tipo_Aquecimento_individual</th>\n      <th>tempo_ate_onibus_0~5min</th>\n      <th>tempo_ate_onibus_5min~10min</th>\n      <th>tempo_ate_metro_0-5min</th>\n      <th>tempo_ate_metro_10min~15min</th>\n      <th>tempo_ate_metro_15min~20min</th>\n      <th>tempo_ate_metro_5min~10min</th>\n    </tr>\n  </thead>\n  <tbody>\n    <tr>\n      <th>0</th>\n      <td>0.344181</td>\n      <td>-1.959067</td>\n      <td>-0.370182</td>\n      <td>-1.195839</td>\n      <td>-1.427953</td>\n      <td>-0.723875</td>\n      <td>-0.772684</td>\n      <td>0.231641</td>\n      <td>-1.806284</td>\n      <td>1.854545</td>\n      <td>-0.938566</td>\n      <td>2.511759</td>\n      <td>-0.43931</td>\n      <td>-0.488514</td>\n    </tr>\n    <tr>\n      <th>1</th>\n      <td>-2.039194</td>\n      <td>-1.959067</td>\n      <td>-0.963752</td>\n      <td>-0.533420</td>\n      <td>-1.171726</td>\n      <td>-0.896304</td>\n      <td>0.524518</td>\n      <td>0.231641</td>\n      <td>0.553623</td>\n      <td>-0.539216</td>\n      <td>-0.938566</td>\n      <td>-0.398127</td>\n      <td>-0.43931</td>\n      <td>2.047024</td>\n    </tr>\n  </tbody>\n</table>\n</div>"
     },
     "execution_count": 36,
     "metadata": {},
     "output_type": "execute_result"
    }
   ]
  },
  {
   "cell_type": "code",
   "source": [
    "# Criando o modelo\n",
    "X2 = sm.add_constant(X_scaled2)\n",
    "model2 = sm.OLS(y2, X2).fit()"
   ],
   "metadata": {
    "id": "ohnhmbLJ80fj",
    "ExecuteTime": {
     "end_time": "2023-07-28T18:13:25.848033Z",
     "start_time": "2023-07-28T18:13:25.618850Z"
    }
   },
   "execution_count": 37,
   "outputs": []
  },
  {
   "cell_type": "code",
   "source": [
    "# Visualizando os parâmetros do modelo2\n",
    "print(model2.params)"
   ],
   "metadata": {
    "id": "qf5dc9fpnhf9",
    "ExecuteTime": {
     "end_time": "2023-07-28T18:13:25.848457Z",
     "start_time": "2023-07-28T18:13:25.645268Z"
    }
   },
   "execution_count": 38,
   "outputs": [
    {
     "name": "stdout",
     "output_type": "stream",
     "text": [
      "const                          1.327309e+06\n",
      "ano_construcao                 1.317201e+05\n",
      "ano_Venda                      2.075267e+05\n",
      "m2                             4.018310e+05\n",
      "andar                          6.776331e+04\n",
      "qtde_elevadores                7.917780e+04\n",
      "qtde_servicos                 -8.736460e+04\n",
      "qtde_conveniencia              5.713787e+03\n",
      "tipo_Aquecimento_individual    6.703751e+04\n",
      "tempo_ate_onibus_0~5min        2.700116e+05\n",
      "tempo_ate_onibus_5min~10min    2.577272e+05\n",
      "tempo_ate_metro_0-5min         7.402452e+04\n",
      "tempo_ate_metro_10min~15min    4.994503e+04\n",
      "tempo_ate_metro_15min~20min   -2.401399e+04\n",
      "tempo_ate_metro_5min~10min     5.962786e+04\n",
      "dtype: float64\n"
     ]
    }
   ]
  },
  {
   "cell_type": "markdown",
   "source": [
    "## Atividade 6: Faça a previsão do preço de um apartamento com as seguinte características:\n",
    "- ano_construcao = 2000\n",
    "- ano_Venda = 2003\n",
    "- m2 = 83\n",
    "- andar = 2\n",
    "- qtde_elevadores = 1\n",
    "- qtde_servicos = 4\n",
    "- qtde_conveniencia = 2\n",
    "- tipo_Aquecimento_individual = 1\n",
    "- tempo_ate_onibus_0~5min = 0\n",
    "- tempo_ate_onibus_5min~10min = 1\n",
    "- tempo_ate_metro_0-5min = 1\n",
    "- tempo_ate_metro_10min~15min = 0\n",
    "- tempo_ate_metro_15min~20min = 0\n",
    "- tempo_ate_metro_5min~10min = 0"
   ],
   "metadata": {
    "id": "T9HfBnG6Phj_"
   }
  },
  {
   "cell_type": "code",
   "source": [
    "# Aplicando previsão\n",
    "\n",
    "# Criando dicionário com os valores das variáveis X\n",
    "prev_test2 = {\n",
    "    'ano_construcao': 2000,\n",
    "    'ano_Venda': 2003,\n",
    "    'm2': 83,\n",
    "    'andar': 2,\n",
    "    'qtde_elevadores': 1,\n",
    "    'qtde_servicos': 4,\n",
    "    'qtde_conveniencia': 2,\n",
    "    'tipo_Aquecimento_individual': 1,\n",
    "    'tempo_ate_onibus_0~5min': 0,\n",
    "    'tempo_ate_onibus_5min~10min': 1,\n",
    "    'tempo_ate_metro_0-5min': 1,\n",
    "    'tempo_ate_metro_10min~15min': 0,\n",
    "    'tempo_ate_metro_15min~20min': 0,\n",
    "    'tempo_ate_metro_5min~10min': 0\n",
    "}"
   ],
   "metadata": {
    "id": "BncdpN8VPwsa",
    "ExecuteTime": {
     "end_time": "2023-07-28T18:13:25.848591Z",
     "start_time": "2023-07-28T18:13:25.645626Z"
    }
   },
   "execution_count": 39,
   "outputs": []
  },
  {
   "cell_type": "code",
   "execution_count": 40,
   "outputs": [
    {
     "data": {
      "text/plain": "   ano_construcao  ano_Venda  m2  andar  qtde_elevadores  qtde_servicos  \\\n0            2000       2003  83      2                1              4   \n\n   qtde_conveniencia  tipo_Aquecimento_individual  tempo_ate_onibus_0~5min  \\\n0                  2                            1                        0   \n\n   tempo_ate_onibus_5min~10min  tempo_ate_metro_0-5min  \\\n0                            1                       1   \n\n   tempo_ate_metro_10min~15min  tempo_ate_metro_15min~20min  \\\n0                            0                            0   \n\n   tempo_ate_metro_5min~10min  \n0                           0  ",
      "text/html": "<div>\n<style scoped>\n    .dataframe tbody tr th:only-of-type {\n        vertical-align: middle;\n    }\n\n    .dataframe tbody tr th {\n        vertical-align: top;\n    }\n\n    .dataframe thead th {\n        text-align: right;\n    }\n</style>\n<table border=\"1\" class=\"dataframe\">\n  <thead>\n    <tr style=\"text-align: right;\">\n      <th></th>\n      <th>ano_construcao</th>\n      <th>ano_Venda</th>\n      <th>m2</th>\n      <th>andar</th>\n      <th>qtde_elevadores</th>\n      <th>qtde_servicos</th>\n      <th>qtde_conveniencia</th>\n      <th>tipo_Aquecimento_individual</th>\n      <th>tempo_ate_onibus_0~5min</th>\n      <th>tempo_ate_onibus_5min~10min</th>\n      <th>tempo_ate_metro_0-5min</th>\n      <th>tempo_ate_metro_10min~15min</th>\n      <th>tempo_ate_metro_15min~20min</th>\n      <th>tempo_ate_metro_5min~10min</th>\n    </tr>\n  </thead>\n  <tbody>\n    <tr>\n      <th>0</th>\n      <td>2000</td>\n      <td>2003</td>\n      <td>83</td>\n      <td>2</td>\n      <td>1</td>\n      <td>4</td>\n      <td>2</td>\n      <td>1</td>\n      <td>0</td>\n      <td>1</td>\n      <td>1</td>\n      <td>0</td>\n      <td>0</td>\n      <td>0</td>\n    </tr>\n  </tbody>\n</table>\n</div>"
     },
     "execution_count": 40,
     "metadata": {},
     "output_type": "execute_result"
    }
   ],
   "source": [
    "# Convertendo o dicionário em DataFrame\n",
    "prev_test2 = pd.DataFrame([prev_test2])\n",
    "prev_test2"
   ],
   "metadata": {
    "collapsed": false,
    "ExecuteTime": {
     "end_time": "2023-07-28T18:13:25.848844Z",
     "start_time": "2023-07-28T18:13:25.645727Z"
    }
   }
  },
  {
   "cell_type": "code",
   "execution_count": 41,
   "outputs": [],
   "source": [
    "# Aplicando o StandardScaler ao DataFrame\n",
    "prev_test_scaled2 = scaler2.transform(prev_test2)"
   ],
   "metadata": {
    "collapsed": false,
    "ExecuteTime": {
     "end_time": "2023-07-28T18:13:26.114423Z",
     "start_time": "2023-07-28T18:13:25.670288Z"
    }
   }
  },
  {
   "cell_type": "code",
   "execution_count": 42,
   "outputs": [],
   "source": [
    "# Inserindo a constante necessária para o modelo\n",
    "prev_test_scaled2 = np.insert(prev_test_scaled2, 0,1)"
   ],
   "metadata": {
    "collapsed": false,
    "ExecuteTime": {
     "end_time": "2023-07-28T18:13:26.117082Z",
     "start_time": "2023-07-28T18:13:25.674905Z"
    }
   }
  },
  {
   "cell_type": "code",
   "execution_count": 43,
   "outputs": [
    {
     "name": "stdout",
     "output_type": "stream",
     "text": [
      "O preço previsto para um apartamento com essas características é: £580,413.42\n"
     ]
    }
   ],
   "source": [
    "# Realizando previsão com o modelo 2 e os valores do dicionário\n",
    "prev_test_result2 = model2.predict(prev_test_scaled2)[0] # o índice 0 é para retornar o valor e não o array\n",
    "prev_test_result2 = locale.currency(prev_test_result2, grouping=True, symbol=True)\n",
    "print(f'O preço previsto para um apartamento com essas características é: {prev_test_result2}')"
   ],
   "metadata": {
    "collapsed": false,
    "ExecuteTime": {
     "end_time": "2023-07-28T18:13:26.117351Z",
     "start_time": "2023-07-28T18:13:25.680364Z"
    }
   }
  },
  {
   "cell_type": "markdown",
   "source": [
    "## Atividade 7: Verifique os pressupostos do modelo."
   ],
   "metadata": {
    "id": "mkNyzH3fUBhd"
   }
  },
  {
   "cell_type": "code",
   "execution_count": 44,
   "outputs": [],
   "source": [
    "# Criando um dicionário para armazenar as conclusões sobre cada pressuposto\n",
    "conclusions2 = {}"
   ],
   "metadata": {
    "collapsed": false,
    "ExecuteTime": {
     "end_time": "2023-07-28T18:13:26.140230Z",
     "start_time": "2023-07-28T18:13:25.685905Z"
    }
   }
  },
  {
   "cell_type": "markdown",
   "source": [
    "## Homocedasticidade dos Resíduos"
   ],
   "metadata": {
    "id": "sdfaRE2zPEWA"
   }
  },
  {
   "cell_type": "code",
   "execution_count": 45,
   "outputs": [],
   "source": [
    "# Criando função para checar a Homocedasticidade\n",
    "def check_homocedasticity(model, alpha=0.05):\n",
    "    resid = model.resid\n",
    "    X = model.model.exog\n",
    "    test = het_goldfeldquandt(resid, X)\n",
    "    p_value = test[1]\n",
    "    if p_value < alpha:\n",
    "        conclusion = 'Pressuposto NÃO SATISFEITO'\n",
    "    else:\n",
    "        conclusion = 'Pressuposto SATISFEITO'\n",
    "\n",
    "    return {'Homocedasticidade': conclusion}"
   ],
   "metadata": {
    "collapsed": false,
    "ExecuteTime": {
     "end_time": "2023-07-28T18:13:26.145482Z",
     "start_time": "2023-07-28T18:13:25.692709Z"
    }
   }
  },
  {
   "cell_type": "markdown",
   "source": [
    "## Normalidade dos Resíduos"
   ],
   "metadata": {
    "id": "V_ekgudIPJen"
   }
  },
  {
   "cell_type": "code",
   "source": [
    "# Criando função para verificar a normalidade dos resíduos\n",
    "def check_normality(model, alpha=0.05):\n",
    "    resid = model.resid\n",
    "    test = shapiro(resid)\n",
    "    p_value = test[1]\n",
    "    if p_value < alpha:\n",
    "        conclusion = 'Pressuposto NÃO SATISFEITO'\n",
    "    else:\n",
    "        conclusion = 'Pressuposto SATISFEITO'\n",
    "\n",
    "    return {'Normalidade': conclusion}"
   ],
   "metadata": {
    "id": "BV24IzV9pG6v",
    "ExecuteTime": {
     "end_time": "2023-07-28T18:13:26.169349Z",
     "start_time": "2023-07-28T18:13:25.699573Z"
    }
   },
   "execution_count": 46,
   "outputs": []
  },
  {
   "cell_type": "markdown",
   "source": [
    "## Autocorrelação dos Resíduos"
   ],
   "metadata": {
    "id": "gTCwlrXaPQOQ"
   }
  },
  {
   "cell_type": "code",
   "source": [
    "# Criando função para checar a Autocorrelação dos Resíduos\n",
    "def check_autocorrelation(model):\n",
    "    resid = model.resid\n",
    "    test = durbin_watson(resid)\n",
    "    if test < 1.5:\n",
    "        conclusion = 'Pressuposto NÃO SATISFEITO'\n",
    "    elif test > 2.5:\n",
    "        conclusion = 'Pressuposto NÃO SATISFEITO'\n",
    "    else:\n",
    "        conclusion = 'Pressuposto SATISFEITO'\n",
    "\n",
    "    return {'Autocorrelação dos resíduos': conclusion}"
   ],
   "metadata": {
    "id": "U1Ie1QclpG2i",
    "ExecuteTime": {
     "end_time": "2023-07-28T18:13:26.172456Z",
     "start_time": "2023-07-28T18:13:25.705999Z"
    }
   },
   "execution_count": 47,
   "outputs": []
  },
  {
   "cell_type": "markdown",
   "source": [
    "## Multicolinearidade"
   ],
   "metadata": {
    "id": "KdrxXcmDNS-I"
   }
  },
  {
   "cell_type": "code",
   "source": [
    "# Calculando o VIF\n",
    "def check_multicollinearity(model, vif_threshold=10.0):\n",
    "    X = model.model.exog\n",
    "    vif = [variance_inflation_factor(X, i) for i in range(X.shape[1])]\n",
    "    high_vif = {f'Variável{i}': vif_value for i, vif_value in enumerate(vif) if vif_value > vif_threshold}\n",
    "    if high_vif:\n",
    "        conclusion = 'Pressuposto NÃO SATISFEITO'\n",
    "    else:\n",
    "        conclusion = 'Pressuposto SATISFEITO'\n",
    "\n",
    "    return {'Multicollinearidade': conclusion, '--Variáveis com VIF acima do limite': high_vif}"
   ],
   "metadata": {
    "id": "B-_WmbsMKMuK",
    "ExecuteTime": {
     "end_time": "2023-07-28T18:13:26.172694Z",
     "start_time": "2023-07-28T18:13:25.736012Z"
    }
   },
   "execution_count": 48,
   "outputs": []
  },
  {
   "cell_type": "code",
   "execution_count": 49,
   "outputs": [],
   "source": [
    "# Criando função para checar todos os pressupostos\n",
    "def check_assumptions(model, conclusions, alpha=0.05, vif_threshold=10.0):\n",
    "    # Rodando todos os testes e armazenando resultados num dicionário\n",
    "    conclusions.update(check_homocedasticity(model, alpha))\n",
    "    conclusions.update(check_normality(model, alpha))\n",
    "    conclusions.update(check_autocorrelation(model))\n",
    "    conclusions.update(check_multicollinearity(model, vif_threshold))\n",
    "    # Aplicando a função `assumptions_summary` para gerar o resumo das conclusões\n",
    "    assumptions_summary(conclusions)"
   ],
   "metadata": {
    "collapsed": false,
    "ExecuteTime": {
     "end_time": "2023-07-28T18:13:26.172788Z",
     "start_time": "2023-07-28T18:13:25.736498Z"
    }
   }
  },
  {
   "cell_type": "code",
   "execution_count": 50,
   "outputs": [
    {
     "name": "stdout",
     "output_type": "stream",
     "text": [
      "Resumo da verificação dos pressupostos:\n",
      "-------------------------------------\n",
      "Homocedasticidade: Pressuposto NÃO SATISFEITO ❌\n",
      "Normalidade: Pressuposto NÃO SATISFEITO ❌\n",
      "Autocorrelação dos resíduos: Pressuposto NÃO SATISFEITO ❌\n",
      "Multicollinearidade: Pressuposto NÃO SATISFEITO ❌\n",
      "--Variáveis com VIF acima do limite: {'Variável9': 24.535240105582353, 'Variável10': 23.55155044796696} ❌\n",
      "-------------------------------------\n",
      "CONCLUSÃO GERAL:\n",
      "❌ Atenção: Um ou mais pressupostos não foram atendidos. A regressão linear NÃO é aconselhável.\n"
     ]
    }
   ],
   "source": [
    "# Verificando os pressupostos do modelo 2\n",
    "check_assumptions(model2, conclusions2)"
   ],
   "metadata": {
    "collapsed": false,
    "ExecuteTime": {
     "end_time": "2023-07-28T18:13:26.173004Z",
     "start_time": "2023-07-28T18:13:25.736726Z"
    }
   }
  },
  {
   "cell_type": "markdown",
   "source": [
    "## Atividade 7: Avalie e compare ambos os modelos e decida qual é melhor."
   ],
   "metadata": {
    "id": "kAI6EAqwWM81"
   }
  },
  {
   "cell_type": "markdown",
   "source": [
    "## Comparando os modelos\n",
    "Nota: Nenhum dos modelos satisfaz os pressupostos. A comparação abaixo será feita apenas para fins didáticos"
   ],
   "metadata": {
    "collapsed": false
   }
  },
  {
   "cell_type": "code",
   "execution_count": 51,
   "outputs": [],
   "source": [
    "# Armazenando as previsões dos modelos em variáveis específicas\n",
    "y_pred1 = model1.predict(X1)\n",
    "y_pred2 = model2.predict(X2)"
   ],
   "metadata": {
    "collapsed": false,
    "ExecuteTime": {
     "end_time": "2023-07-28T18:13:26.173091Z",
     "start_time": "2023-07-28T18:13:25.773287Z"
    }
   }
  },
  {
   "cell_type": "code",
   "execution_count": 52,
   "outputs": [
    {
     "name": "stdout",
     "output_type": "stream",
     "text": [
      "R-quadrado: modelo 1 = 0.4985037705616264 | modelo 2 = 0.8265485207255558\n",
      "R-quadrado ajustado: modelo 1 = 0.49841861243130914 | modelo 2 = 0.8261352598831728\n"
     ]
    }
   ],
   "source": [
    "# Comparando os valores de R quadrado\n",
    "print(f'R-quadrado: modelo 1 = {model1.rsquared} | modelo 2 = {model2.rsquared}')\n",
    "\n",
    "# Comparando os valores de R quadrado ajustado\n",
    "print(f'R-quadrado ajustado: modelo 1 = {model1.rsquared_adj} | modelo 2 = {model2.rsquared_adj}')"
   ],
   "metadata": {
    "collapsed": false,
    "ExecuteTime": {
     "end_time": "2023-07-28T18:13:26.174275Z",
     "start_time": "2023-07-28T18:13:25.777610Z"
    }
   }
  },
  {
   "cell_type": "code",
   "execution_count": 53,
   "outputs": [
    {
     "name": "stdout",
     "output_type": "stream",
     "text": [
      "MSE modelo 1: 204,291,641,659.57 | MSE modelo 2: 70,657,933,936.89\n",
      "RMSE modelo 1: 451,986.33 | RMSE modelo 2: 265,815.60\n"
     ]
    }
   ],
   "source": [
    "# Comparando os valores de MSE\n",
    "print(f'MSE modelo 1: {mse(y1, y_pred1):,.2f} | MSE modelo 2: {mse(y2, y_pred2):,.2f}')\n",
    "\n",
    "# Comparando os valores de RMSE\n",
    "print(f'RMSE modelo 1: {rmse(y1, y_pred1):,.2f} | RMSE modelo 2: {rmse(y2, y_pred2):,.2f}')"
   ],
   "metadata": {
    "collapsed": false,
    "ExecuteTime": {
     "end_time": "2023-07-28T18:13:26.174936Z",
     "start_time": "2023-07-28T18:13:25.787780Z"
    }
   }
  },
  {
   "cell_type": "code",
   "execution_count": 54,
   "outputs": [
    {
     "name": "stdout",
     "output_type": "stream",
     "text": [
      "MAE modelo 1: 364,887.02 | MAE modelo 2: 197,753.38\n"
     ]
    }
   ],
   "source": [
    "# Comparando os valores de MAE\n",
    "print(f'MAE modelo 1: {meanabs(y1, y_pred1):,.2f} | MAE modelo 2: {meanabs(y2, y_pred2):,.2f}')"
   ],
   "metadata": {
    "collapsed": false,
    "ExecuteTime": {
     "end_time": "2023-07-28T18:13:26.189103Z",
     "start_time": "2023-07-28T18:13:25.795772Z"
    }
   }
  },
  {
   "cell_type": "markdown",
   "source": [
    "## Conclusão final:\n",
    "As métricas do Modelo 2 são melhores, porém nenhum dos modelos satisfaz os pressupostos.\n",
    "Portanto, ambos os casos são inadequados para utilização da regressão linear"
   ],
   "metadata": {
    "collapsed": false
   }
  },
  {
   "cell_type": "code",
   "execution_count": 54,
   "outputs": [],
   "source": [],
   "metadata": {
    "collapsed": false,
    "ExecuteTime": {
     "end_time": "2023-07-28T18:13:26.199459Z",
     "start_time": "2023-07-28T18:13:25.800778Z"
    }
   }
  }
 ]
}
