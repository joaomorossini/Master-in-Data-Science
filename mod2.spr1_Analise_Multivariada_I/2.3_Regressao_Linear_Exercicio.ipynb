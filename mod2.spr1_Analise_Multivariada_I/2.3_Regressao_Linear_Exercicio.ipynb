{
 "nbformat": 4,
 "nbformat_minor": 0,
 "metadata": {
  "colab": {
   "provenance": []
  },
  "kernelspec": {
   "name": "python3",
   "language": "python",
   "display_name": "Python 3 (ipykernel)"
  },
  "language_info": {
   "name": "python"
  }
 },
 "cells": [
  {
   "cell_type": "markdown",
   "source": [
    "# Regressão Linear Simples\n",
    "\n",
    "Regressão é uma técnica usada para tentar estabelecer uma relação entre variáveis, em geral, com objetivo de entender ou prever como uma dada variável quantitativa contínua varia em relação a outras variáveis. A variável na qual se tem interesse é a variável alvo e, em geral, vai ser denotada por $y$ enquanto que a(s) demais variável(is) usadas serão as chamadas de variáveis regressoras e denotadas por $X_i$, em que $i$ varia de 1 até o número de variáveis.\n",
    "\n",
    "Por exemplo, você observa que quanto maior a temperatura, mais as pessoas consomem sorvete e, então, tenta prever a quantidade média de sorvetes vendida por um grupo de lojas usando como base apenas a temperatura.\n",
    "\n",
    "Neste caso o $y$ é a quantidade média de sorvetes vendidos, pois é a variável na qual está interessado em entender ou determinar o comportamento, enquanto que a temperatura será $X$, pois é a variável que você está usando para tentar determinar $y$. Você poderia obter vários modelos diferentes como, por exemplo, $y = cos(X)$ ou $y = 3x$. Eventualmente, muitos modelos podem se mostrar interessante, mas nós vamos focar em modelos lineares, isto é, modelos da forma $Y = \\beta_0 + \\beta_1 X_1 + \\beta_2 X_2 + \\ldots + \\beta_n X_n$, em que $\\beta_0, \\beta_1, \\ldots, \\beta_n$ são todas constantes que devem ser estimadas para se obter o modelo.\n",
    "\n",
    "Quando só tivermos uma variável $X$ diremos que a regressão linear é simples, quando tivermos mais de uma variável $X$ diremos que a regressão linear é múltipla."
   ],
   "metadata": {
    "id": "XLXxmGAJtwG-"
   }
  },
  {
   "cell_type": "markdown",
   "source": [
    "Em Python, podemos construir modelos lineares usando os pacotes `statsmodels` ou `sklearn`. Vamos usar o `statsmodels` nesse momento pois estamos interessados em entender melhor alguns detalhes estatísticos dos modelos de regressão linear.\n",
    "\n",
    "Então vamos para a prática! Vamos importar os dados de cidades e criar alguns modelos de regressão linear!"
   ],
   "metadata": {
    "id": "n84TuUb3vP4D"
   }
  },
  {
   "cell_type": "code",
   "source": [
    "import pandas as pd"
   ],
   "metadata": {
    "id": "_FZHpdVhoCeH",
    "ExecuteTime": {
     "end_time": "2023-07-25T15:26:11.101239Z",
     "start_time": "2023-07-25T15:26:10.406337Z"
    }
   },
   "execution_count": 3,
   "outputs": []
  },
  {
   "cell_type": "code",
   "source": [
    "# Carregando os dados\n",
    "df = pd.read_csv('../mod2.spr1_Analise_Multivariada_I/2.3_Regressao_Linear_Exercicio_Dados.csv')\n",
    "df.head(2)"
   ],
   "metadata": {
    "colab": {
     "base_uri": "https://localhost:8080/",
     "height": 403
    },
    "id": "DJ2q7L1kqtYF",
    "executionInfo": {
     "status": "ok",
     "timestamp": 1676056187044,
     "user_tz": 180,
     "elapsed": 8373,
     "user": {
      "displayName": "Hevans Pereira",
      "userId": "05229330684698288921"
     }
    },
    "outputId": "7c34246d-5674-4a5e-c735-8d7c1a9305e6",
    "ExecuteTime": {
     "end_time": "2023-07-25T15:26:11.449964Z",
     "start_time": "2023-07-25T15:26:10.412782Z"
    }
   },
   "execution_count": 4,
   "outputs": [
    {
     "data": {
      "text/plain": "  nomeLocalidade estado  População residente  Densidade demográfica  \\\n0     Acrelândia   Acre                12538                   6.93   \n1   Assis Brasil   Acre                 6072                   1.22   \n\n   Porcentagem de Jovens  Porcentagem de Ativos  Porcentagem de Idosos  \\\n0                  52.92                  43.04                   4.04   \n1                  55.58                  40.07                   4.35   \n\n   Taxa de Urbanização  Taxa de Saneamento Básico  \\\n0                48.34                       0.00   \n1                65.30                       2.39   \n\n   Ativos com Baixo Nível Educacional  ...  \\\n0                               75.34  ...   \n1                               66.83  ...   \n\n   Percentual de empresas do setor terciário em relação ao total  \\\n0                                              75.41               \n1                                             100.00               \n\n   Percentual de trabalhadores do setor primário em relação ao total  \\\n0                                               8.86                   \n1                                               0.60                   \n\n   Percentual de trabalhadores do setor secundário em relação ao total  \\\n0                                              21.53                     \n1                                               0.00                     \n\n   Percentual de trabalhadores do setor terciário em relação ao total  \\\n0                                              34.07                    \n1                                              36.25                    \n\n   Média Salarial  Produtividade  Taxa de desemprego dos jovens  \\\n0          994.67     2654247.23                          19.17   \n1         1163.49     2113108.99                          10.57   \n\n   Taxa de desemprego  \\\n0                9.62   \n1                7.44   \n\n   Número de trabalhadores(Comerciais, hotéis e restaurantes) por 1,000 habitantes  \\\n0                                              12.12                                 \n1                                              17.79                                 \n\n   Número de ativos culturais e de lazer por 10,000 habitantes  \n0                                                0.0            \n1                                                0.0            \n\n[2 rows x 40 columns]",
      "text/html": "<div>\n<style scoped>\n    .dataframe tbody tr th:only-of-type {\n        vertical-align: middle;\n    }\n\n    .dataframe tbody tr th {\n        vertical-align: top;\n    }\n\n    .dataframe thead th {\n        text-align: right;\n    }\n</style>\n<table border=\"1\" class=\"dataframe\">\n  <thead>\n    <tr style=\"text-align: right;\">\n      <th></th>\n      <th>nomeLocalidade</th>\n      <th>estado</th>\n      <th>População residente</th>\n      <th>Densidade demográfica</th>\n      <th>Porcentagem de Jovens</th>\n      <th>Porcentagem de Ativos</th>\n      <th>Porcentagem de Idosos</th>\n      <th>Taxa de Urbanização</th>\n      <th>Taxa de Saneamento Básico</th>\n      <th>Ativos com Baixo Nível Educacional</th>\n      <th>...</th>\n      <th>Percentual de empresas do setor terciário em relação ao total</th>\n      <th>Percentual de trabalhadores do setor primário em relação ao total</th>\n      <th>Percentual de trabalhadores do setor secundário em relação ao total</th>\n      <th>Percentual de trabalhadores do setor terciário em relação ao total</th>\n      <th>Média Salarial</th>\n      <th>Produtividade</th>\n      <th>Taxa de desemprego dos jovens</th>\n      <th>Taxa de desemprego</th>\n      <th>Número de trabalhadores(Comerciais, hotéis e restaurantes) por 1,000 habitantes</th>\n      <th>Número de ativos culturais e de lazer por 10,000 habitantes</th>\n    </tr>\n  </thead>\n  <tbody>\n    <tr>\n      <th>0</th>\n      <td>Acrelândia</td>\n      <td>Acre</td>\n      <td>12538</td>\n      <td>6.93</td>\n      <td>52.92</td>\n      <td>43.04</td>\n      <td>4.04</td>\n      <td>48.34</td>\n      <td>0.00</td>\n      <td>75.34</td>\n      <td>...</td>\n      <td>75.41</td>\n      <td>8.86</td>\n      <td>21.53</td>\n      <td>34.07</td>\n      <td>994.67</td>\n      <td>2654247.23</td>\n      <td>19.17</td>\n      <td>9.62</td>\n      <td>12.12</td>\n      <td>0.0</td>\n    </tr>\n    <tr>\n      <th>1</th>\n      <td>Assis Brasil</td>\n      <td>Acre</td>\n      <td>6072</td>\n      <td>1.22</td>\n      <td>55.58</td>\n      <td>40.07</td>\n      <td>4.35</td>\n      <td>65.30</td>\n      <td>2.39</td>\n      <td>66.83</td>\n      <td>...</td>\n      <td>100.00</td>\n      <td>0.60</td>\n      <td>0.00</td>\n      <td>36.25</td>\n      <td>1163.49</td>\n      <td>2113108.99</td>\n      <td>10.57</td>\n      <td>7.44</td>\n      <td>17.79</td>\n      <td>0.0</td>\n    </tr>\n  </tbody>\n</table>\n<p>2 rows × 40 columns</p>\n</div>"
     },
     "execution_count": 4,
     "metadata": {},
     "output_type": "execute_result"
    }
   ]
  },
  {
   "cell_type": "markdown",
   "source": [
    "Vamos separar apenas algumas variáveis de interesse. Será que podemos estimar o `% de pobres` com base na `Porcentagem de Ativos` para o estado de Minas Gerais? Será que podemos obter alguma interpretação de tal modelo?\n",
    "\n",
    "A variável `Porcentagem de Ativos` é a porcentagem da população em idade economicamente ativa (entre 25 e 64 anos)."
   ],
   "metadata": {
    "id": "0w7txBL-wAmA"
   }
  },
  {
   "cell_type": "code",
   "source": [
    "# Filtrando apenas os dados referentes a Minas Gerais\n",
    "df = df[df['estado'] == 'Minas Gerais']\n",
    "df.head(2)"
   ],
   "metadata": {
    "id": "sk0xN7dmAMOv",
    "ExecuteTime": {
     "end_time": "2023-07-25T15:26:11.452918Z",
     "start_time": "2023-07-25T15:26:10.495252Z"
    }
   },
   "execution_count": 5,
   "outputs": [
    {
     "data": {
      "text/plain": "           nomeLocalidade        estado  População residente  \\\n1564  Abadia dos Dourados  Minas Gerais                 6704   \n1565               Abaeté  Minas Gerais                22690   \n\n      Densidade demográfica  Porcentagem de Jovens  Porcentagem de Ativos  \\\n1564                   7.61                  34.99                  55.83   \n1565                  12.49                  37.16                  52.61   \n\n      Porcentagem de Idosos  Taxa de Urbanização  Taxa de Saneamento Básico  \\\n1564                   9.17                63.80                      56.24   \n1565                  10.23                86.94                      79.99   \n\n      Ativos com Baixo Nível Educacional  ...  \\\n1564                               79.31  ...   \n1565                               73.89  ...   \n\n      Percentual de empresas do setor terciário em relação ao total  \\\n1564                                              75.00               \n1565                                              63.84               \n\n      Percentual de trabalhadores do setor primário em relação ao total  \\\n1564                                              12.19                   \n1565                                              18.30                   \n\n      Percentual de trabalhadores do setor secundário em relação ao total  \\\n1564                                              43.57                     \n1565                                              13.74                     \n\n      Percentual de trabalhadores do setor terciário em relação ao total  \\\n1564                                              19.85                    \n1565                                              49.14                    \n\n      Média Salarial  Produtividade  Taxa de desemprego dos jovens  \\\n1564          720.64     1922182.04                          10.73   \n1565          869.82     2078524.85                          15.11   \n\n      Taxa de desemprego  \\\n1564                4.08   \n1565                5.21   \n\n      Número de trabalhadores(Comerciais, hotéis e restaurantes) por 1,000 habitantes  \\\n1564                                              13.72                                 \n1565                                              29.66                                 \n\n      Número de ativos culturais e de lazer por 10,000 habitantes  \n1564                                               0.00            \n1565                                               2.64            \n\n[2 rows x 40 columns]",
      "text/html": "<div>\n<style scoped>\n    .dataframe tbody tr th:only-of-type {\n        vertical-align: middle;\n    }\n\n    .dataframe tbody tr th {\n        vertical-align: top;\n    }\n\n    .dataframe thead th {\n        text-align: right;\n    }\n</style>\n<table border=\"1\" class=\"dataframe\">\n  <thead>\n    <tr style=\"text-align: right;\">\n      <th></th>\n      <th>nomeLocalidade</th>\n      <th>estado</th>\n      <th>População residente</th>\n      <th>Densidade demográfica</th>\n      <th>Porcentagem de Jovens</th>\n      <th>Porcentagem de Ativos</th>\n      <th>Porcentagem de Idosos</th>\n      <th>Taxa de Urbanização</th>\n      <th>Taxa de Saneamento Básico</th>\n      <th>Ativos com Baixo Nível Educacional</th>\n      <th>...</th>\n      <th>Percentual de empresas do setor terciário em relação ao total</th>\n      <th>Percentual de trabalhadores do setor primário em relação ao total</th>\n      <th>Percentual de trabalhadores do setor secundário em relação ao total</th>\n      <th>Percentual de trabalhadores do setor terciário em relação ao total</th>\n      <th>Média Salarial</th>\n      <th>Produtividade</th>\n      <th>Taxa de desemprego dos jovens</th>\n      <th>Taxa de desemprego</th>\n      <th>Número de trabalhadores(Comerciais, hotéis e restaurantes) por 1,000 habitantes</th>\n      <th>Número de ativos culturais e de lazer por 10,000 habitantes</th>\n    </tr>\n  </thead>\n  <tbody>\n    <tr>\n      <th>1564</th>\n      <td>Abadia dos Dourados</td>\n      <td>Minas Gerais</td>\n      <td>6704</td>\n      <td>7.61</td>\n      <td>34.99</td>\n      <td>55.83</td>\n      <td>9.17</td>\n      <td>63.80</td>\n      <td>56.24</td>\n      <td>79.31</td>\n      <td>...</td>\n      <td>75.00</td>\n      <td>12.19</td>\n      <td>43.57</td>\n      <td>19.85</td>\n      <td>720.64</td>\n      <td>1922182.04</td>\n      <td>10.73</td>\n      <td>4.08</td>\n      <td>13.72</td>\n      <td>0.00</td>\n    </tr>\n    <tr>\n      <th>1565</th>\n      <td>Abaeté</td>\n      <td>Minas Gerais</td>\n      <td>22690</td>\n      <td>12.49</td>\n      <td>37.16</td>\n      <td>52.61</td>\n      <td>10.23</td>\n      <td>86.94</td>\n      <td>79.99</td>\n      <td>73.89</td>\n      <td>...</td>\n      <td>63.84</td>\n      <td>18.30</td>\n      <td>13.74</td>\n      <td>49.14</td>\n      <td>869.82</td>\n      <td>2078524.85</td>\n      <td>15.11</td>\n      <td>5.21</td>\n      <td>29.66</td>\n      <td>2.64</td>\n    </tr>\n  </tbody>\n</table>\n<p>2 rows × 40 columns</p>\n</div>"
     },
     "execution_count": 5,
     "metadata": {},
     "output_type": "execute_result"
    }
   ]
  },
  {
   "cell_type": "code",
   "source": [
    "# Selecionando apenas as colunas de interesse\n",
    "df = df[['Porcentagem de Ativos', '% de pobres']]\n",
    "df.head(2)"
   ],
   "metadata": {
    "colab": {
     "base_uri": "https://localhost:8080/",
     "height": 206
    },
    "id": "0-S8z6nQwRnp",
    "executionInfo": {
     "status": "ok",
     "timestamp": 1676056187062,
     "user_tz": 180,
     "elapsed": 65,
     "user": {
      "displayName": "Hevans Pereira",
      "userId": "05229330684698288921"
     }
    },
    "outputId": "3192003a-eb4f-40a5-f235-c7e833758482",
    "ExecuteTime": {
     "end_time": "2023-07-25T15:26:11.453380Z",
     "start_time": "2023-07-25T15:26:10.521978Z"
    }
   },
   "execution_count": 6,
   "outputs": [
    {
     "data": {
      "text/plain": "      Porcentagem de Ativos  % de pobres\n1564                  55.83         7.94\n1565                  52.61         6.69",
      "text/html": "<div>\n<style scoped>\n    .dataframe tbody tr th:only-of-type {\n        vertical-align: middle;\n    }\n\n    .dataframe tbody tr th {\n        vertical-align: top;\n    }\n\n    .dataframe thead th {\n        text-align: right;\n    }\n</style>\n<table border=\"1\" class=\"dataframe\">\n  <thead>\n    <tr style=\"text-align: right;\">\n      <th></th>\n      <th>Porcentagem de Ativos</th>\n      <th>% de pobres</th>\n    </tr>\n  </thead>\n  <tbody>\n    <tr>\n      <th>1564</th>\n      <td>55.83</td>\n      <td>7.94</td>\n    </tr>\n    <tr>\n      <th>1565</th>\n      <td>52.61</td>\n      <td>6.69</td>\n    </tr>\n  </tbody>\n</table>\n</div>"
     },
     "execution_count": 6,
     "metadata": {},
     "output_type": "execute_result"
    }
   ]
  },
  {
   "cell_type": "markdown",
   "source": [
    "Vamos aplicar uma transformação logarítmica na variável `Porcentagem de Ativos`. Tais transformações são necessárias ou úteis em alguns casos."
   ],
   "metadata": {
    "id": "eys-FKbjK2R1"
   }
  },
  {
   "cell_type": "code",
   "source": [
    "import numpy as np"
   ],
   "metadata": {
    "id": "wI8yVY8Sd7Or",
    "ExecuteTime": {
     "end_time": "2023-07-25T15:26:11.453607Z",
     "start_time": "2023-07-25T15:26:10.530427Z"
    }
   },
   "execution_count": 7,
   "outputs": []
  },
  {
   "cell_type": "code",
   "execution_count": 8,
   "outputs": [
    {
     "data": {
      "text/plain": "      Porcentagem de Ativos  % de pobres\n1564               4.022311         7.94\n1565               3.962906         6.69",
      "text/html": "<div>\n<style scoped>\n    .dataframe tbody tr th:only-of-type {\n        vertical-align: middle;\n    }\n\n    .dataframe tbody tr th {\n        vertical-align: top;\n    }\n\n    .dataframe thead th {\n        text-align: right;\n    }\n</style>\n<table border=\"1\" class=\"dataframe\">\n  <thead>\n    <tr style=\"text-align: right;\">\n      <th></th>\n      <th>Porcentagem de Ativos</th>\n      <th>% de pobres</th>\n    </tr>\n  </thead>\n  <tbody>\n    <tr>\n      <th>1564</th>\n      <td>4.022311</td>\n      <td>7.94</td>\n    </tr>\n    <tr>\n      <th>1565</th>\n      <td>3.962906</td>\n      <td>6.69</td>\n    </tr>\n  </tbody>\n</table>\n</div>"
     },
     "execution_count": 8,
     "metadata": {},
     "output_type": "execute_result"
    }
   ],
   "source": [
    "# Aplicando a transformação logarítmica\n",
    "df['Porcentagem de Ativos'] = np.log(df['Porcentagem de Ativos'])\n",
    "df.head(2)"
   ],
   "metadata": {
    "collapsed": false,
    "ExecuteTime": {
     "end_time": "2023-07-25T15:26:11.467869Z",
     "start_time": "2023-07-25T15:26:10.533730Z"
    }
   }
  },
  {
   "cell_type": "markdown",
   "source": [
    "O modelo de regressão linear de duas variáveis será melhor à medida que as variáveis $X$ e $y$ apresentam alta correlação linear. Mas lembre-se de que para calcular a correlação todas as variáveis devem estar em uma mesma escala, se tivermos mais de uma variável. Também será uma boa prática criar modelos com variáveis na mesma escala.\n",
    "\n",
    "Se for uma regressão linear simples, a mudança de escala não é necessária."
   ],
   "metadata": {
    "id": "Fb9pn09QwxtA"
   }
  },
  {
   "cell_type": "code",
   "source": [
    "# Gerando a matriz de correlação\n",
    "df.corr()"
   ],
   "metadata": {
    "colab": {
     "base_uri": "https://localhost:8080/",
     "height": 112
    },
    "id": "VAE8ZG0TqtB9",
    "executionInfo": {
     "status": "ok",
     "timestamp": 1676056187068,
     "user_tz": 180,
     "elapsed": 65,
     "user": {
      "displayName": "Hevans Pereira",
      "userId": "05229330684698288921"
     }
    },
    "outputId": "ba49022d-ed0c-4e11-8ec7-a2d7009704bb",
    "ExecuteTime": {
     "end_time": "2023-07-25T15:26:11.468371Z",
     "start_time": "2023-07-25T15:26:10.545510Z"
    }
   },
   "execution_count": 9,
   "outputs": [
    {
     "data": {
      "text/plain": "                       Porcentagem de Ativos  % de pobres\nPorcentagem de Ativos               1.000000    -0.832919\n% de pobres                        -0.832919     1.000000",
      "text/html": "<div>\n<style scoped>\n    .dataframe tbody tr th:only-of-type {\n        vertical-align: middle;\n    }\n\n    .dataframe tbody tr th {\n        vertical-align: top;\n    }\n\n    .dataframe thead th {\n        text-align: right;\n    }\n</style>\n<table border=\"1\" class=\"dataframe\">\n  <thead>\n    <tr style=\"text-align: right;\">\n      <th></th>\n      <th>Porcentagem de Ativos</th>\n      <th>% de pobres</th>\n    </tr>\n  </thead>\n  <tbody>\n    <tr>\n      <th>Porcentagem de Ativos</th>\n      <td>1.000000</td>\n      <td>-0.832919</td>\n    </tr>\n    <tr>\n      <th>% de pobres</th>\n      <td>-0.832919</td>\n      <td>1.000000</td>\n    </tr>\n  </tbody>\n</table>\n</div>"
     },
     "execution_count": 9,
     "metadata": {},
     "output_type": "execute_result"
    }
   ]
  },
  {
   "cell_type": "markdown",
   "source": [
    "Podemos ver que a correlação linear entre as variáveis é de -0.83 aproximadamente, que é uma correlação forte. Lembre que esse valor varia de -1 a +1, sendo que quanto mais próximo desses valores, maior é a correlação."
   ],
   "metadata": {
    "id": "ZRBTnwABx7yF"
   }
  },
  {
   "cell_type": "markdown",
   "source": [
    "Para criar um modelo de regressão linear com o pacote `statsmodels` vamos usar a função `statsmodels.api.OLS()` e ajustar o modelo com método `.fit()`. No `statsmodels` devemos obrigatoriamente adicionar o termo constante ao modelo, em outros pacotes o termo constante pode vir naturalmente inserido no modelo. Podemos realizar essa operação com a função `add_constant(X)` em que `X` representa a(s) variável(is) `X`."
   ],
   "metadata": {
    "id": "beBrPWAToYV7"
   }
  },
  {
   "cell_type": "code",
   "source": [
    "# Importando dependência\n",
    "import statsmodels.api as sm\n",
    "\n",
    "# Definindo variáveis\n",
    "X = df['Porcentagem de Ativos']\n",
    "y = df['% de pobres']\n",
    "\n",
    "# Adicionando a constante\n",
    "X = sm.add_constant(X)\n",
    "print(X)"
   ],
   "metadata": {
    "colab": {
     "base_uri": "https://localhost:8080/"
    },
    "id": "hO6cQFNioCcl",
    "executionInfo": {
     "status": "ok",
     "timestamp": 1676056189360,
     "user_tz": 180,
     "elapsed": 2355,
     "user": {
      "displayName": "Hevans Pereira",
      "userId": "05229330684698288921"
     }
    },
    "outputId": "72afd1fb-1ab2-48db-eb93-c3da5b2b5926",
    "ExecuteTime": {
     "end_time": "2023-07-25T15:26:11.520042Z",
     "start_time": "2023-07-25T15:26:10.557245Z"
    }
   },
   "execution_count": 10,
   "outputs": [
    {
     "name": "stdout",
     "output_type": "stream",
     "text": [
      "      const  Porcentagem de Ativos\n",
      "1564    1.0               4.022311\n",
      "1565    1.0               3.962906\n",
      "1566    1.0               3.918204\n",
      "1567    1.0               3.878466\n",
      "1568    1.0               3.826029\n",
      "...     ...                    ...\n",
      "2412    1.0               3.840312\n",
      "2413    1.0               3.797061\n",
      "2414    1.0               3.960432\n",
      "2415    1.0               3.901366\n",
      "2416    1.0               3.968781\n",
      "\n",
      "[853 rows x 2 columns]\n"
     ]
    }
   ]
  },
  {
   "cell_type": "code",
   "execution_count": 11,
   "outputs": [
    {
     "name": "stdout",
     "output_type": "stream",
     "text": [
      "                            OLS Regression Results                            \n",
      "==============================================================================\n",
      "Dep. Variable:            % de pobres   R-squared:                       0.694\n",
      "Model:                            OLS   Adj. R-squared:                  0.693\n",
      "Method:                 Least Squares   F-statistic:                     1928.\n",
      "Date:                Tue, 25 Jul 2023   Prob (F-statistic):          6.90e-221\n",
      "Time:                        12:26:11   Log-Likelihood:                -2804.6\n",
      "No. Observations:                 853   AIC:                             5613.\n",
      "Df Residuals:                     851   BIC:                             5623.\n",
      "Df Model:                           1                                         \n",
      "Covariance Type:            nonrobust                                         \n",
      "=========================================================================================\n",
      "                            coef    std err          t      P>|t|      [0.025      0.975]\n",
      "-----------------------------------------------------------------------------------------\n",
      "const                   508.5711     11.184     45.475      0.000     486.620     530.522\n",
      "Porcentagem de Ativos  -125.6802      2.862    -43.907      0.000    -131.298    -120.062\n",
      "==============================================================================\n",
      "Omnibus:                       32.468   Durbin-Watson:                   1.993\n",
      "Prob(Omnibus):                  0.000   Jarque-Bera (JB):               35.484\n",
      "Skew:                           0.466   Prob(JB):                     1.97e-08\n",
      "Kurtosis:                       3.361   Cond. No.                         210.\n",
      "==============================================================================\n",
      "\n",
      "Notes:\n",
      "[1] Standard Errors assume that the covariance matrix of the errors is correctly specified.\n"
     ]
    }
   ],
   "source": [
    "# Criando o modelo | Nota: OLS = Ordinary Least Squares (Método dos Mínimos Quadrados)\n",
    "modelo1 = sm.OLS(y, X).fit()\n",
    "\n",
    "# Visualizando o modelo\n",
    "print(modelo1.summary())"
   ],
   "metadata": {
    "collapsed": false,
    "ExecuteTime": {
     "end_time": "2023-07-25T15:26:11.522660Z",
     "start_time": "2023-07-25T15:26:11.003540Z"
    }
   }
  },
  {
   "cell_type": "markdown",
   "source": [
    "O quadro acima contém várias informações sobre o modelo. Uma parte importante fica na coluna da direita, em que encontramos `R-squared` essa é uma medida de quão bom está o modelo. Falaremos sobre ela mais a frente.\n",
    "\n",
    "Por hora basta saber que 'R-squared' atinge no máximo 1 e que quanto mais próximo de 1, melhor está o modelo. No nosso caso o $R^2$ é de 0.69 indicando que o modelo não está ótimo mas está relativamente bom.\n",
    "\n",
    "Na parte inferior também podemos ver a estimativa para a constante e para o coeficiente que multiplica $X$. Ou seja, obtemos daí os valores que formam o modelo em si."
   ],
   "metadata": {
    "id": "bMT3fmZczqoC"
   }
  },
  {
   "cell_type": "code",
   "execution_count": 12,
   "outputs": [
    {
     "name": "stdout",
     "output_type": "stream",
     "text": [
      "const                    508.571124\n",
      "Porcentagem de Ativos   -125.680176\n",
      "dtype: float64\n"
     ]
    }
   ],
   "source": [
    "# Visualizando apenas os parâmetros\n",
    "print(modelo1.params)"
   ],
   "metadata": {
    "collapsed": false,
    "ExecuteTime": {
     "end_time": "2023-07-25T15:26:11.523053Z",
     "start_time": "2023-07-25T15:26:11.022521Z"
    }
   }
  },
  {
   "cell_type": "markdown",
   "source": [
    "Para se obter somente os valores estimados pode-se usar `modelo.params`"
   ],
   "metadata": {
    "id": "gxifGVMpohUY"
   }
  },
  {
   "cell_type": "markdown",
   "source": [
    "Portanto, nosso modelo ficou da forma $y = 508.57 - 125.68 X$ em que $y$ é `% de pobres` e $X$ é `Porcentagem de Ativos`. Isso significa que a cada uma unidade que se aumenta no logaritmo da porcentagem de ativos, diminui-se 125.68 unidades da variável porcentagem de pobres.\n",
    "\n",
    "O resultado pode parecer estranho, mas lembre-se de que foi aplicado o logaritmo na variável `Porcentagem de Ativos`, dessa forma fica um pouco mais difícil interpretar o modelo. Claramente a porcentagem de pobres não pode assumir quaisquer valores."
   ],
   "metadata": {
    "id": "-mvTYBY90QL3"
   }
  },
  {
   "cell_type": "markdown",
   "source": [
    "Se o modelo estiver bom, podemos usá-lo para fazer estimativas. Para fazer isso basta pegar o modelo treinado e usar o método `.predict()` passando o valor que deseja considerar para `X`, lembrando de inserir a constante."
   ],
   "metadata": {
    "id": "q4la01UX1sfG"
   }
  },
  {
   "cell_type": "code",
   "execution_count": 13,
   "outputs": [
    {
     "data": {
      "text/plain": "array([68.69050856])"
     },
     "execution_count": 13,
     "metadata": {},
     "output_type": "execute_result"
    }
   ],
   "source": [
    "# Realizando uma previsão: constante = 1, X = 3.5\n",
    "modelo1.predict([1, 3.5])"
   ],
   "metadata": {
    "collapsed": false,
    "ExecuteTime": {
     "end_time": "2023-07-25T15:26:11.523417Z",
     "start_time": "2023-07-25T15:26:11.031750Z"
    }
   }
  },
  {
   "cell_type": "code",
   "source": [
    "# Desfazendo a transformação logarítmica (aplicando a operação inversa: exponenciação)\n",
    "np.exp(3.5)"
   ],
   "metadata": {
    "colab": {
     "base_uri": "https://localhost:8080/"
    },
    "id": "gKHc0p5V1ZIB",
    "executionInfo": {
     "status": "ok",
     "timestamp": 1676056189361,
     "user_tz": 180,
     "elapsed": 21,
     "user": {
      "displayName": "Hevans Pereira",
      "userId": "05229330684698288921"
     }
    },
    "outputId": "0afe40ee-6868-40cb-b13d-b83298918655",
    "ExecuteTime": {
     "end_time": "2023-07-25T15:26:11.523754Z",
     "start_time": "2023-07-25T15:26:11.037826Z"
    }
   },
   "execution_count": 14,
   "outputs": [
    {
     "data": {
      "text/plain": "33.11545195869231"
     },
     "execution_count": 14,
     "metadata": {},
     "output_type": "execute_result"
    }
   ]
  },
  {
   "cell_type": "markdown",
   "source": [
    "O resultado acima pode ser interpretado como:\n",
    "Quando o valor de X ( Porcentagem de Ativos ) é igual a 33.11%, o valor de y ( % de pobres ) é igual a 68.69%."
   ],
   "metadata": {
    "collapsed": false
   }
  },
  {
   "cell_type": "markdown",
   "source": [
    "Lembrando que 3.5 é o valor transformado pelo logaritmo. Como exp(3.5) é aproximadamente 33.11, obtemos uma previsão de cerca de 68.69% de pobres nessa região que possui porcentagem de ativos de 33.11%."
   ],
   "metadata": {
    "id": "5DLvoe0m2Kkl"
   }
  },
  {
   "cell_type": "markdown",
   "source": [
    "Também devemos tomar muito cuidado com os valores que podemos considerar para a variável `X` se formos fazer alguma previsão."
   ],
   "metadata": {
    "id": "CH-8ZArQNG-K"
   }
  },
  {
   "cell_type": "code",
   "execution_count": 15,
   "outputs": [
    {
     "name": "stdout",
     "output_type": "stream",
     "text": [
      "Valor mínimo: 3.580737295494233 | Valor máximo: 4.053869729656382\n"
     ]
    }
   ],
   "source": [
    "# Visualizando valores máximos e mínimos de X\n",
    "# Idealmente, as previsões feitas a partir do modelo devem se restringir à faixa de valores em que o modelo foi treinado\n",
    "maximo = df['Porcentagem de Ativos'].max()\n",
    "minimo = df['Porcentagem de Ativos'].min()\n",
    "print(f'Valor mínimo: {minimo} | Valor máximo: {maximo}')"
   ],
   "metadata": {
    "collapsed": false,
    "ExecuteTime": {
     "end_time": "2023-07-25T15:26:11.524047Z",
     "start_time": "2023-07-25T15:26:11.044336Z"
    }
   }
  },
  {
   "cell_type": "markdown",
   "source": [
    "Observando os valores acima, podemos ver que só seria adequado tentar fazer previsões utilizando uma porcentagem de ativos entre 3.58 e 4.05. Isto acontece porque o modelo foi estimado com valores nessa faixa e tentar fazer previsões fora dessa faixa pode causar um erro muito grande. Quanto mais longe desses extremos, menos confiável é a previsão do modelo.\n",
    "\n",
    "Não vamos entrar em detalhes estatísticos (são muitaaaaaas fórmulas de estimação de erro e variância) mas alguns autores defendem que em hipótese alguma pode-se supor um valor fora da faixa; outros argumentam que poderia utilizar apenas se fossem valores próximo e com muita cautela."
   ],
   "metadata": {
    "id": "bwq4WYbnNeBc"
   }
  },
  {
   "cell_type": "markdown",
   "source": [
    "## **Atenção!!!** Nosso modelo parece bom, mas nada de sair usando ele para tirar conclusões! Primeiramente é preciso verificar se o modelo satisfaz os pressupostos. Se não satisfizer, então não poderemos utilizá-lo na forma como está.\n",
    "\n",
    "Muitas pessoas não fazem essa verificação, isto é um erro grave. Não faça isso! Deixe os estatísticos felizes verificando todos os detalhes!"
   ],
   "metadata": {
    "id": "IUdwF3nnUiYo"
   }
  },
  {
   "cell_type": "markdown",
   "source": [
    "## Pressupostos da Regressão Linear\n",
    "\n",
    "A regressão linear não pode ser usada de maneira indiscriminada. A validade das conclusões que se pode extrair de um modelo estão apoiadas nas suposições que foram usadas para sua construção, isto é, seus pressupostos.\n",
    "\n",
    "Um modelo de regressão linear é construído assumindo:\n",
    "\n",
    "* Linearidade: Relação linear entre X e y;\n",
    "\n",
    "* Homocedasticidade: A variância dos resíduos é constante;\n",
    "\n",
    "* Independência: Os resíduos devem ser independentes;\n",
    "\n",
    "* Normalidade: Os resíduos são normalmente distribuídos.\n",
    "\n",
    "* As variáveis `X_i` não devem ser fortemente correlacionadas uma com as outras;\n",
    "\n",
    "\n",
    "Resíduos (ou erros) são as diferenças entre o valor real da variável `y` para um dado `X` e o valor `\\hat{y}` estimado pelo modelo para o mesmo `X`."
   ],
   "metadata": {
    "id": "kXrpiXvHnrlg"
   }
  },
  {
   "cell_type": "code",
   "source": [
    "# Calculando os resíduos\n",
    "y_pred1 = modelo1.predict(X)\n",
    "res1 = y - y_pred1\n",
    "print(res1)"
   ],
   "metadata": {
    "id": "ijqQoXL041-F",
    "ExecuteTime": {
     "end_time": "2023-07-25T15:26:11.526088Z",
     "start_time": "2023-07-25T15:26:11.053348Z"
    }
   },
   "execution_count": 16,
   "outputs": [
    {
     "name": "stdout",
     "output_type": "stream",
     "text": [
      "1564    4.893675\n",
      "1565   -3.822374\n",
      "1566    7.199427\n",
      "1567    5.405193\n",
      "1568    2.984910\n",
      "          ...   \n",
      "2412   -6.640017\n",
      "2413    0.614169\n",
      "2414   -4.353316\n",
      "2415   -2.586706\n",
      "2416    5.316013\n",
      "Length: 853, dtype: float64\n"
     ]
    }
   ]
  },
  {
   "cell_type": "markdown",
   "source": [
    "Vamos verificar se nosso modelo satisfaz os pressupostos da regressão linear."
   ],
   "metadata": {
    "id": "4iUo8TEDfnqj"
   }
  },
  {
   "cell_type": "markdown",
   "source": [
    "### Linearidade\n",
    "\n",
    "Para observar a linearidade, no caso da regressão simples, podemos utilizar um gráfico de dispersão."
   ],
   "metadata": {
    "id": "98VVXB_-vy_7"
   }
  },
  {
   "cell_type": "code",
   "source": [
    "# Importando dependência externa\n",
    "import seaborn as sns\n",
    "\n",
    "# Gerando gráfico de dispersão\n",
    "sns.scatterplot(x='Porcentagem de Ativos', y='% de pobres', data=df)"
   ],
   "metadata": {
    "colab": {
     "base_uri": "https://localhost:8080/",
     "height": 282
    },
    "id": "NDAe-65gv0_r",
    "executionInfo": {
     "status": "ok",
     "timestamp": 1676056190831,
     "user_tz": 180,
     "elapsed": 1478,
     "user": {
      "displayName": "Hevans Pereira",
      "userId": "05229330684698288921"
     }
    },
    "outputId": "343fbe4a-eea8-4c3b-b8a9-53874f36bea7",
    "ExecuteTime": {
     "end_time": "2023-07-25T15:26:11.531073Z",
     "start_time": "2023-07-25T15:26:11.059170Z"
    }
   },
   "execution_count": 17,
   "outputs": [
    {
     "data": {
      "text/plain": "<Axes: xlabel='Porcentagem de Ativos', ylabel='% de pobres'>"
     },
     "execution_count": 17,
     "metadata": {},
     "output_type": "execute_result"
    },
    {
     "data": {
      "text/plain": "<Figure size 640x480 with 1 Axes>",
      "image/png": "[encoded data removed]"
     },
     "metadata": {},
     "output_type": "display_data"
    }
   ]
  },
  {
   "cell_type": "markdown",
   "source": [
    "Observando o gráfico podemos ver que quanto maior a porcentagem de ativos, menor é a porcentagem de pobres. O gráfico parece indicar uma reta, embora haja muita dispersão. Isto é indicação de linearidade."
   ],
   "metadata": {
    "id": "66zDVQDL51nD"
   }
  },
  {
   "cell_type": "markdown",
   "source": [
    "### Homocedasticidade\n",
    "\n",
    "Vamos checar a homocedasticidade com um teste de hipótese: Goldfeld Quandt. Este teste pode ser realizado importando-se a função `statsmodels.stats.api.het_goldfeldquandt()`.\n",
    "\n",
    "Neste teste, a hipótese nula é de que há homocedasticidade."
   ],
   "metadata": {
    "id": "WtkZeNJ68CAY"
   }
  },
  {
   "cell_type": "code",
   "source": [
    "from statsmodels.stats.api import het_goldfeldquandt\n",
    "\n",
    "stat, p_value, _ = het_goldfeldquandt(res1, X)\n",
    "print(f'p_valor é igual a: {p_value}')"
   ],
   "metadata": {
    "colab": {
     "base_uri": "https://localhost:8080/"
    },
    "id": "WM8AkHaOy2rQ",
    "executionInfo": {
     "status": "ok",
     "timestamp": 1676056190832,
     "user_tz": 180,
     "elapsed": 19,
     "user": {
      "displayName": "Hevans Pereira",
      "userId": "05229330684698288921"
     }
    },
    "outputId": "114d6388-cc88-4ce1-d209-8829d0504ff3",
    "ExecuteTime": {
     "end_time": "2023-07-25T15:31:42.479896Z",
     "start_time": "2023-07-25T15:31:42.473858Z"
    }
   },
   "execution_count": 21,
   "outputs": [
    {
     "name": "stdout",
     "output_type": "stream",
     "text": [
      "p_valor é igual a: 0.3849820504660344\n"
     ]
    }
   ]
  },
  {
   "cell_type": "markdown",
   "source": [
    "Como o p valor é maior que 0.05, NÃO . Isto é, podemos supor que há homocedasticidade nos resíduos."
   ],
   "metadata": {
    "id": "ycVJ3h1u6YIN"
   }
  },
  {
   "cell_type": "markdown",
   "source": [
    "### Normalidade dos Resíduos\n",
    "\n",
    "Vamos checar a normalidadde dos resíduos usando o teste de hipóteses de Shapiro-Wilk. Neste caso, a hipótese nula é que a amostra segue distribuição normal. Podemos realizar este teste importando a função `scipy.stats.shapiro()`."
   ],
   "metadata": {
    "id": "iRQGANwz8FMw"
   }
  },
  {
   "cell_type": "code",
   "source": [
    "from scipy.stats import shapiro\n",
    "\n",
    "stat, p_value = shapiro(res1)\n",
    "print(f'p_valor é igual a: {p_value}')"
   ],
   "metadata": {
    "colab": {
     "base_uri": "https://localhost:8080/"
    },
    "id": "0tzcAmvw4DWg",
    "executionInfo": {
     "status": "ok",
     "timestamp": 1676056190833,
     "user_tz": 180,
     "elapsed": 14,
     "user": {
      "displayName": "Hevans Pereira",
      "userId": "05229330684698288921"
     }
    },
    "outputId": "be7634a5-389d-4c85-a059-ae2751c9950b",
    "ExecuteTime": {
     "end_time": "2023-07-25T15:33:34.378205Z",
     "start_time": "2023-07-25T15:33:34.356958Z"
    }
   },
   "execution_count": 22,
   "outputs": [
    {
     "name": "stdout",
     "output_type": "stream",
     "text": [
      "p_valor é igual a: 1.2978301811017445e-07\n"
     ]
    }
   ]
  },
  {
   "cell_type": "markdown",
   "source": [
    "Como o p valor é menor que 0.05, podemos rejeitar a hipótese nula. Isto é, temos evidência de que os resíduos não seguem uma distribuição normal.\n",
    "\n",
    "Isto indica que nosso modelo não satisfaz todos os pressupostos que deveria satisfazer. \n",
    "\n",
    "Muito importante! Não deveríamos usar este modelo para nenhum tipo de análise ou previsão."
   ],
   "metadata": {
    "id": "RV_VFdU-6jFp"
   }
  },
  {
   "cell_type": "markdown",
   "source": [
    "### Autocorrelação dos Resíduos\n",
    "\n",
    "Para checar se há autocorrelação entre os resíduos vamos usar o teste de hipótese de Durbin Watson. Ele pode ser importado do `statsmodels` com a sintaxe `statsmodels.stats.stattolls.durbin_waton()`."
   ],
   "metadata": {
    "id": "v1OgQlgz8Ix9"
   }
  },
  {
   "cell_type": "code",
   "source": [
    "from statsmodels.stats.stattools import durbin_watson\n",
    "\n",
    "durbin_watson(res1)"
   ],
   "metadata": {
    "colab": {
     "base_uri": "https://localhost:8080/"
    },
    "id": "Ew5rKJ9y64-0",
    "executionInfo": {
     "status": "ok",
     "timestamp": 1676056190834,
     "user_tz": 180,
     "elapsed": 11,
     "user": {
      "displayName": "Hevans Pereira",
      "userId": "05229330684698288921"
     }
    },
    "outputId": "38393b79-7680-436b-ccd9-d88ed3099d8e",
    "ExecuteTime": {
     "end_time": "2023-07-25T15:35:44.630349Z",
     "start_time": "2023-07-25T15:35:44.622330Z"
    }
   },
   "execution_count": 24,
   "outputs": [
    {
     "data": {
      "text/plain": "1.9933786933048794"
     },
     "execution_count": 24,
     "metadata": {},
     "output_type": "execute_result"
    }
   ]
  },
  {
   "cell_type": "markdown",
   "source": [
    "Para decidirmor se há ou não autocorrelação dos resíduos, devemos observar o valor do teste. Valores entre 1.5 e 2.5 indicam que não há autocorrelação, valores fora dessa faixa indicam que há autocorrelação."
   ],
   "metadata": {
    "id": "9IcMU2g32eke"
   }
  },
  {
   "cell_type": "markdown",
   "source": [
    "### Multicolinearidade\n",
    "\n",
    "Não é preciso checar a multicolinearidade, pois só temos UMA variável preditora. Essa checagem é importante quando temos mais de uma variável preditora."
   ],
   "metadata": {
    "id": "vueVPgKiyj9O"
   }
  },
  {
   "cell_type": "markdown",
   "source": [
    "# Regressão Linear Múltipla\n",
    "\n",
    "A regressão linear múltipla é uma extensão da regressão linear simples, pois a ideia é obter um modelo da forma $Y = \\beta_0 + \\beta_1 X_1 + \\beta_2 X_2 + \\ldots + \\beta_n X_n$.\n",
    "\n",
    "Vamos importar os dados novamente e criar um modelo de regressão linear múltipla. Vamos continuar analisando os dados para o estado de Minas Gerais, mas agora vamos tentar entender a variável `% de pobres` como combinação linear de `Porcentagem de Ativos` e `IDH`."
   ],
   "metadata": {
    "id": "lBkwAWg-omOk"
   }
  },
  {
   "cell_type": "code",
   "source": [
    "# Importando e tratando os dados novamente\n",
    "df = pd.read_csv('../mod2.spr1_Analise_Multivariada_I/2.3_Regressao_Linear_Exercicio_Dados.csv')\n",
    "\n",
    "# Filtrando apenas os dados referentes a Minas Gerais\n",
    "df = df[df['estado'] == 'Minas Gerais']\n",
    "\n",
    "# Selecionando apenas as colunas de interesse\n",
    "df = df[['Porcentagem de Ativos', 'IDH', '% de pobres']]\n",
    "\n",
    "# Visualizando\n",
    "df.head(2)"
   ],
   "metadata": {
    "id": "wpKZbiPT8iBm",
    "colab": {
     "base_uri": "https://localhost:8080/",
     "height": 403
    },
    "executionInfo": {
     "status": "ok",
     "timestamp": 1676056202064,
     "user_tz": 180,
     "elapsed": 11237,
     "user": {
      "displayName": "Hevans Pereira",
      "userId": "05229330684698288921"
     }
    },
    "outputId": "f9656c92-1e3a-4993-d203-c9d134935815",
    "ExecuteTime": {
     "end_time": "2023-07-25T18:20:32.450974Z",
     "start_time": "2023-07-25T18:20:32.391698Z"
    }
   },
   "execution_count": 26,
   "outputs": [
    {
     "data": {
      "text/plain": "      Porcentagem de Ativos   IDH  % de pobres\n1564                  55.83  0.84         7.94\n1565                  52.61  0.85         6.69",
      "text/html": "<div>\n<style scoped>\n    .dataframe tbody tr th:only-of-type {\n        vertical-align: middle;\n    }\n\n    .dataframe tbody tr th {\n        vertical-align: top;\n    }\n\n    .dataframe thead th {\n        text-align: right;\n    }\n</style>\n<table border=\"1\" class=\"dataframe\">\n  <thead>\n    <tr style=\"text-align: right;\">\n      <th></th>\n      <th>Porcentagem de Ativos</th>\n      <th>IDH</th>\n      <th>% de pobres</th>\n    </tr>\n  </thead>\n  <tbody>\n    <tr>\n      <th>1564</th>\n      <td>55.83</td>\n      <td>0.84</td>\n      <td>7.94</td>\n    </tr>\n    <tr>\n      <th>1565</th>\n      <td>52.61</td>\n      <td>0.85</td>\n      <td>6.69</td>\n    </tr>\n  </tbody>\n</table>\n</div>"
     },
     "execution_count": 26,
     "metadata": {},
     "output_type": "execute_result"
    }
   ]
  },
  {
   "cell_type": "code",
   "source": [
    "# Definindo X e y\n",
    "X = df[['Porcentagem de Ativos', 'IDH']]\n",
    "y = df['% de pobres']"
   ],
   "metadata": {
    "id": "0m_DqUUzG4jx",
    "ExecuteTime": {
     "end_time": "2023-07-25T18:29:51.470447Z",
     "start_time": "2023-07-25T18:29:51.463101Z"
    }
   },
   "execution_count": 37,
   "outputs": []
  },
  {
   "cell_type": "markdown",
   "source": [
    "Vamos importar a biblioteca `numpy` e aplicar o logaritmo a cada observação do conjunto X. Pode ser necessário alguma manipulação dos dados antes de criar um modelo."
   ],
   "metadata": {
    "id": "fh36RxhkPq8m"
   }
  },
  {
   "cell_type": "code",
   "execution_count": 38,
   "outputs": [
    {
     "data": {
      "text/plain": "      Porcentagem de Ativos       IDH\n1564               4.022311 -0.174353\n1565               3.962906 -0.162519",
      "text/html": "<div>\n<style scoped>\n    .dataframe tbody tr th:only-of-type {\n        vertical-align: middle;\n    }\n\n    .dataframe tbody tr th {\n        vertical-align: top;\n    }\n\n    .dataframe thead th {\n        text-align: right;\n    }\n</style>\n<table border=\"1\" class=\"dataframe\">\n  <thead>\n    <tr style=\"text-align: right;\">\n      <th></th>\n      <th>Porcentagem de Ativos</th>\n      <th>IDH</th>\n    </tr>\n  </thead>\n  <tbody>\n    <tr>\n      <th>1564</th>\n      <td>4.022311</td>\n      <td>-0.174353</td>\n    </tr>\n    <tr>\n      <th>1565</th>\n      <td>3.962906</td>\n      <td>-0.162519</td>\n    </tr>\n  </tbody>\n</table>\n</div>"
     },
     "execution_count": 38,
     "metadata": {},
     "output_type": "execute_result"
    }
   ],
   "source": [
    "# Aplicando transformação logarítmica aos dados contidos em `X`\n",
    "X = np.log(X)\n",
    "X.head(2)"
   ],
   "metadata": {
    "collapsed": false,
    "ExecuteTime": {
     "end_time": "2023-07-25T18:30:36.985903Z",
     "start_time": "2023-07-25T18:30:36.980384Z"
    }
   }
  },
  {
   "cell_type": "markdown",
   "source": [
    "Padronizando os dados para uma mesma escala."
   ],
   "metadata": {
    "id": "5N9DIzM-Pvu2"
   }
  },
  {
   "cell_type": "code",
   "source": [
    "# Importando dependência externa\n",
    "from sklearn.preprocessing import StandardScaler\n",
    "\n",
    "# Instanciando a classe\n",
    "scaler = StandardScaler()\n",
    "\n",
    "# Criando cópia dos valores\n",
    "X_scaled = X.copy()\n",
    "\n",
    "# Padronizando os dados\n",
    "X_scaled[['Porcentagem de Ativos', 'IDH']] = scaler.fit_transform(X_scaled)\n",
    "\n",
    "#Visualizando novo dataframe\n",
    "X_scaled.head(2)"
   ],
   "metadata": {
    "colab": {
     "base_uri": "https://localhost:8080/",
     "height": 206
    },
    "id": "egeeZp_wv_sY",
    "executionInfo": {
     "status": "ok",
     "timestamp": 1676056202073,
     "user_tz": 180,
     "elapsed": 95,
     "user": {
      "displayName": "Hevans Pereira",
      "userId": "05229330684698288921"
     }
    },
    "outputId": "2f79c11d-0388-407d-d128-6638c4431fe0",
    "ExecuteTime": {
     "end_time": "2023-07-25T18:33:21.867200Z",
     "start_time": "2023-07-25T18:33:21.848712Z"
    }
   },
   "execution_count": 42,
   "outputs": [
    {
     "data": {
      "text/plain": "      Porcentagem de Ativos       IDH\n1564               1.494950  0.535906\n1565               0.729624  0.859209",
      "text/html": "<div>\n<style scoped>\n    .dataframe tbody tr th:only-of-type {\n        vertical-align: middle;\n    }\n\n    .dataframe tbody tr th {\n        vertical-align: top;\n    }\n\n    .dataframe thead th {\n        text-align: right;\n    }\n</style>\n<table border=\"1\" class=\"dataframe\">\n  <thead>\n    <tr style=\"text-align: right;\">\n      <th></th>\n      <th>Porcentagem de Ativos</th>\n      <th>IDH</th>\n    </tr>\n  </thead>\n  <tbody>\n    <tr>\n      <th>1564</th>\n      <td>1.494950</td>\n      <td>0.535906</td>\n    </tr>\n    <tr>\n      <th>1565</th>\n      <td>0.729624</td>\n      <td>0.859209</td>\n    </tr>\n  </tbody>\n</table>\n</div>"
     },
     "execution_count": 42,
     "metadata": {},
     "output_type": "execute_result"
    }
   ]
  },
  {
   "cell_type": "markdown",
   "source": [
    "A sintaxe para criar um modelo de regressão linear múltipla é a mesma que usamos para a regressão linear simples, a única diferença é que a variável X é um DataFrame com mais de uma coluna."
   ],
   "metadata": {
    "id": "BbWer3xLTY50"
   }
  },
  {
   "cell_type": "code",
   "source": [
    "# Criando o modelo\n",
    "\n",
    "X2 = sm.add_constant(X_scaled)\n",
    "modelo2 = sm.OLS(y, X2).fit()\n",
    "print(modelo2.summary())"
   ],
   "metadata": {
    "id": "ohnhmbLJ80fj",
    "colab": {
     "base_uri": "https://localhost:8080/"
    },
    "executionInfo": {
     "status": "ok",
     "timestamp": 1676056202074,
     "user_tz": 180,
     "elapsed": 95,
     "user": {
      "displayName": "Hevans Pereira",
      "userId": "05229330684698288921"
     }
    },
    "outputId": "1a62b19f-5b75-4c51-d3e3-c20fbe833f7f",
    "ExecuteTime": {
     "end_time": "2023-07-25T18:33:59.604662Z",
     "start_time": "2023-07-25T18:33:59.565692Z"
    }
   },
   "execution_count": 44,
   "outputs": [
    {
     "name": "stdout",
     "output_type": "stream",
     "text": [
      "                            OLS Regression Results                            \n",
      "==============================================================================\n",
      "Dep. Variable:            % de pobres   R-squared:                       0.752\n",
      "Model:                            OLS   Adj. R-squared:                  0.751\n",
      "Method:                 Least Squares   F-statistic:                     1286.\n",
      "Date:                Tue, 25 Jul 2023   Prob (F-statistic):          9.52e-258\n",
      "Time:                        15:33:59   Log-Likelihood:                -2715.4\n",
      "No. Observations:                 853   AIC:                             5437.\n",
      "Df Residuals:                     850   BIC:                             5451.\n",
      "Df Model:                           2                                         \n",
      "Covariance Type:            nonrobust                                         \n",
      "=========================================================================================\n",
      "                            coef    std err          t      P>|t|      [0.025      0.975]\n",
      "-----------------------------------------------------------------------------------------\n",
      "const                    17.6301      0.200     88.044      0.000      17.237      18.023\n",
      "Porcentagem de Ativos    -7.3665      0.263    -28.052      0.000      -7.882      -6.851\n",
      "IDH                      -3.6925      0.263    -14.061      0.000      -4.208      -3.177\n",
      "==============================================================================\n",
      "Omnibus:                        5.696   Durbin-Watson:                   2.036\n",
      "Prob(Omnibus):                  0.058   Jarque-Bera (JB):                5.578\n",
      "Skew:                           0.176   Prob(JB):                       0.0615\n",
      "Kurtosis:                       3.180   Cond. No.                         2.16\n",
      "==============================================================================\n",
      "\n",
      "Notes:\n",
      "[1] Standard Errors assume that the covariance matrix of the errors is correctly specified.\n"
     ]
    }
   ]
  },
  {
   "cell_type": "markdown",
   "source": [
    "Observando o R quadrado ajustado para o modelo 1 (que foi 0.69) e para a regressão linear que usa duas variáveis preditoras (0,75), podemos ver que o R quadrado ajustado foi maior para o segundo modelo. Isto é, usar as duas variáveis melhorou o modelo.\n",
    "\n",
    "Adicionar variáveis vai sempre melhorar o modelo? A resposta é não! Veremos isso em detalhes mais a frente."
   ],
   "metadata": {
    "id": "mpONYCCEow57"
   }
  },
  {
   "cell_type": "code",
   "source": [
    "# Visualizando os parâmetros do modelo2\n",
    "print(modelo2.params)"
   ],
   "metadata": {
    "id": "qf5dc9fpnhf9",
    "colab": {
     "base_uri": "https://localhost:8080/"
    },
    "executionInfo": {
     "status": "ok",
     "timestamp": 1676056202075,
     "user_tz": 180,
     "elapsed": 87,
     "user": {
      "displayName": "Hevans Pereira",
      "userId": "05229330684698288921"
     }
    },
    "outputId": "996aef1e-b1db-4b9f-ad5a-fd7ceda5c2ee",
    "ExecuteTime": {
     "end_time": "2023-07-25T18:42:11.924054Z",
     "start_time": "2023-07-25T18:42:11.904269Z"
    }
   },
   "execution_count": 45,
   "outputs": [
    {
     "name": "stdout",
     "output_type": "stream",
     "text": [
      "const                    17.630141\n",
      "Porcentagem de Ativos    -7.366506\n",
      "IDH                      -3.692514\n",
      "dtype: float64\n"
     ]
    }
   ]
  },
  {
   "cell_type": "markdown",
   "source": [
    "O modelo estimado foi $y = 17.63 - 7.37$ `Porcentagem de Ativos` $- 3.69$ `IDH`"
   ],
   "metadata": {
    "id": "J_RvgRW1o1bn"
   }
  },
  {
   "cell_type": "markdown",
   "source": [
    "Agora temos que calcular os resíduos e analisar se o modelo satisfaz os pressupostos."
   ],
   "metadata": {
    "id": "mkNyzH3fUBhd"
   }
  },
  {
   "cell_type": "code",
   "source": [
    "# Calculando os resíduos\n",
    "y_pred2 = modelo2.predict(X2)\n",
    "res2 = y - y_pred2\n",
    "print(res2[0:2])"
   ],
   "metadata": {
    "id": "Fa82XrU4nhe4",
    "ExecuteTime": {
     "end_time": "2023-07-25T19:15:27.725714Z",
     "start_time": "2023-07-25T19:15:27.633896Z"
    }
   },
   "execution_count": 46,
   "outputs": [
    {
     "name": "stdout",
     "output_type": "stream",
     "text": [
      "1564    3.301259\n",
      "1565   -2.392716\n",
      "dtype: float64\n"
     ]
    }
   ]
  },
  {
   "cell_type": "markdown",
   "source": [
    "### Verificando Homocedasticidade dos Resíduos (Goldfeld-Quandt)"
   ],
   "metadata": {
    "id": "sdfaRE2zPEWA"
   }
  },
  {
   "cell_type": "code",
   "source": [
    "from statsmodels.stats.api import het_goldfeldquandt\n",
    "\n",
    "significance_level = 0.05\n",
    "\n",
    "stat, p_value, _ = het_goldfeldquandt(res2, X2)\n",
    "\n",
    "if p_value < significance_level:\n",
    "    print(f'p_valor ({round(p_value,2)}) é menor que o nível de significância, portanto pode-se rejeitar a hipótese nula')\n",
    "else:\n",
    "    print(f'p_valor ({round(p_value,2)}) é maior que o nível de significância, portanto não se pode rejeitar a hipótese nula. Esse resultado suporta a aplicação da regressão linear múltipla')"
   ],
   "metadata": {
    "id": "6qt7gRBJpG8G",
    "colab": {
     "base_uri": "https://localhost:8080/"
    },
    "executionInfo": {
     "status": "ok",
     "timestamp": 1676056202077,
     "user_tz": 180,
     "elapsed": 72,
     "user": {
      "displayName": "Hevans Pereira",
      "userId": "05229330684698288921"
     }
    },
    "outputId": "729e130c-1b16-4025-fec2-85db9725e726",
    "ExecuteTime": {
     "end_time": "2023-07-25T19:24:30.269482Z",
     "start_time": "2023-07-25T19:24:30.255146Z"
    }
   },
   "execution_count": 54,
   "outputs": [
    {
     "name": "stdout",
     "output_type": "stream",
     "text": [
      "p_valor (0.73) é maior que o nível de significância, portanto não se pode rejeitar a hipótese nula. Esse resultado suporta a aplicação da regressão linear múltipla\n"
     ]
    }
   ]
  },
  {
   "cell_type": "markdown",
   "source": [
    "Como o p valor é maior que 0.05, não podemos rejeitar a hipótese nula. Isto é, podemos supor que há homocedasticidade nos resíduos."
   ],
   "metadata": {
    "id": "9gWNaaksCfkt"
   }
  },
  {
   "cell_type": "markdown",
   "source": [
    "### Verificando Normalidade dos Resíduos (Shapiro-Wilk)\n",
    "- H0: Os resíduos seguem uma distribuição normal\n",
    "- H1: Os resíduos não seguem uma distribuição normal"
   ],
   "metadata": {
    "id": "V_ekgudIPJen"
   }
  },
  {
   "cell_type": "code",
   "source": [
    "# Aplicando o teste de Shapiro-Wilk\n",
    "stat, p_value = shapiro(res2)\n",
    "if p_value < significance_level:\n",
    "    print(f'p_valor ({round(p_value,2)}) é menor que o nível de significância, portanto pode-se rejeitar a hipótese nula')\n",
    "else:\n",
    "    print(f'p_valor ({round(p_value,2)}) é maior que o nível de significância, portanto não se pode rejeitar a hipótese nula. Esse resultado suporta a aplicação da regressão linear múltipla')"
   ],
   "metadata": {
    "id": "BV24IzV9pG6v",
    "colab": {
     "base_uri": "https://localhost:8080/"
    },
    "executionInfo": {
     "status": "ok",
     "timestamp": 1676056202414,
     "user_tz": 180,
     "elapsed": 380,
     "user": {
      "displayName": "Hevans Pereira",
      "userId": "05229330684698288921"
     }
    },
    "outputId": "bb3bd7b0-dfbc-4448-e0e8-312633cdb27a",
    "ExecuteTime": {
     "end_time": "2023-07-25T19:27:45.471681Z",
     "start_time": "2023-07-25T19:27:45.456882Z"
    }
   },
   "execution_count": 58,
   "outputs": [
    {
     "name": "stdout",
     "output_type": "stream",
     "text": [
      "p_valor (0.1) é maior que o nível de significância, portanto não se pode rejeitar a hipótese nula. Esse resultado suporta a aplicação da regressão linear múltipla\n"
     ]
    }
   ]
  },
  {
   "cell_type": "markdown",
   "source": [
    "Como o p valor é maior que 0.05, não podemos rejeitar a hipótese nula. Isto é, podemos considerar que os resíduos são normalmente distribuídos."
   ],
   "metadata": {
    "id": "iIkLLV4pDfh4"
   }
  },
  {
   "cell_type": "markdown",
   "source": [
    "# Autocorrelação dos Resíduos (Durbin-Watson)"
   ],
   "metadata": {
    "id": "gTCwlrXaPQOQ"
   }
  },
  {
   "cell_type": "code",
   "source": [
    "# Aplicando o teste de Durbin-Watson\n",
    "durbin_watson(res2)"
   ],
   "metadata": {
    "id": "U1Ie1QclpG2i",
    "colab": {
     "base_uri": "https://localhost:8080/"
    },
    "executionInfo": {
     "status": "ok",
     "timestamp": 1676056202415,
     "user_tz": 180,
     "elapsed": 33,
     "user": {
      "displayName": "Hevans Pereira",
      "userId": "05229330684698288921"
     }
    },
    "outputId": "6ccc560f-ced3-4aed-9fb8-9ae38c2efebc",
    "ExecuteTime": {
     "end_time": "2023-07-25T19:32:03.886723Z",
     "start_time": "2023-07-25T19:32:03.879576Z"
    }
   },
   "execution_count": 60,
   "outputs": [
    {
     "data": {
      "text/plain": "2.0361090761268095"
     },
     "execution_count": 60,
     "metadata": {},
     "output_type": "execute_result"
    }
   ]
  },
  {
   "cell_type": "markdown",
   "source": [
    "Como o valor da estatística está próximo de 2, conclui-se que NÃO HÁ autocorrelação das observações."
   ],
   "metadata": {
    "id": "AfIgyDQLIwb_"
   }
  },
  {
   "cell_type": "markdown",
   "source": [
    "## Multicolinearidade\n",
    "\n",
    "Vamos usar fatores de inflação de variância (Variance Inflation Factors - VIF) para verificar se há multicolinearidade. Cada variável vai ter seu valor VIF calculado e consideraremos:\n",
    "\n",
    "* Se VIF > 10, há indícios de que pode haver multicolinearidade\n",
    "\n",
    "* Se VIF > 100, certamente há multicolinearidade entre as variáveis\n",
    "\n",
    "\n",
    "Se alguma variável apresentar alto valor de VIF, considere removê-la do modelo.\n",
    "\n",
    "Para calcular o VIF vamos usar a função `variance_inflation_factor` usando a sintaxe `statsmodels.stats.outliers_influence.variance_inflation_factor`"
   ],
   "metadata": {
    "id": "KdrxXcmDNS-I"
   }
  },
  {
   "cell_type": "code",
   "source": [
    "from statsmodels.stats.outliers_influence import variance_inflation_factor\n",
    "\n",
    "# Criando uma lista com os valores de VIF\n",
    "VIF = [variance_inflation_factor(X2.values, i) for i in range(X2.shape[1])]\n",
    "\n",
    "for indice, vif in enumerate(VIF):\n",
    "    print(f'{X2.columns[indice]}: {round(vif,2)}')"
   ],
   "metadata": {
    "colab": {
     "base_uri": "https://localhost:8080/"
    },
    "id": "B-_WmbsMKMuK",
    "executionInfo": {
     "status": "ok",
     "timestamp": 1676056202415,
     "user_tz": 180,
     "elapsed": 30,
     "user": {
      "displayName": "Hevans Pereira",
      "userId": "05229330684698288921"
     }
    },
    "outputId": "1762714d-154d-40ad-a878-42cc1d669f94",
    "ExecuteTime": {
     "end_time": "2023-07-25T19:39:36.070090Z",
     "start_time": "2023-07-25T19:39:36.064578Z"
    }
   },
   "execution_count": 64,
   "outputs": [
    {
     "name": "stdout",
     "output_type": "stream",
     "text": [
      "const: 1.0\n",
      "Porcentagem de Ativos: 1.72\n",
      "IDH: 1.72\n"
     ]
    }
   ]
  },
  {
   "cell_type": "markdown",
   "source": [
    "Como todos os valores são menores que 10, não há indícios de multicolinearidade."
   ],
   "metadata": {
    "id": "Pyc-gCdbO2up"
   }
  },
  {
   "cell_type": "markdown",
   "source": [
    "# Avaliando Modelos\n",
    "\n",
    "Agora temos dois modelos que tentam estimar a mesma variável $y$. Qual deles é melhor? Para responder a esta pergunta temos que falar sobre as métricas de avaliação de modelos."
   ],
   "metadata": {
    "id": "kAI6EAqwWM81"
   }
  },
  {
   "cell_type": "markdown",
   "source": [
    "## Métricas\n",
    "\n",
    "Já vimos como criar modelos de regressão linear (simples e múltipla). Uma maneira de avaliar o modelo é pelo R quadrado, mas existem outras formas (outras métricas) para medir a performance de um modelo e diferentes problemas podem demandar diferentes métricas de interesse. Por isso, hoje vamos conhecer algumas formas de medir a qualidade dos modelos de regressão linear."
   ],
   "metadata": {
    "id": "uXGflopan-wL"
   }
  },
  {
   "cell_type": "markdown",
   "source": [
    "### R² e R² Ajustado\n",
    "\n",
    "R² é uma medida que serve para testar quão bem um modelo está se ajustado aos dados. Quanto mais próximo de 1, melhor o modelo. Quanto mais variáveis adicionamos ao modelo, maior é o valor do R² e isto é um problema!\n",
    "\n",
    "Algumas variáveis são importantes para o modelo e outras nem tanto, e o R² não nos permite avaliar isso diretamente. Além disso, ter muitas variáveis no modelo pode levar a um problema chamado overfitting (você vai estudar sobre ele logo no módulo de Machine Learning).\n",
    "\n",
    "O resumo da história toda é que nós queremos o melhor modelo possível que use a menor quantidade possível de variáveis! É aí que surge o R² Ajustado, que é uma modificação no R² feita para levar em conta o número de variáveis do modelo. Se usarmos muitas variáveis o R² vai ser alto mas o R² Ajustado vai ser baixo.\n",
    "\n",
    "O R² Ajustado é calculado por \n",
    "\n",
    "$$R² Ajustado = 1 - (1 - R²) \\frac{n-1}{n-p-1}$$\n",
    "\n",
    "em que $n$ é o número de observações na amostra e $p$ é o número de variáveis independentes do modelo"
   ],
   "metadata": {
    "id": "NupvlnWJpbjy"
   }
  },
  {
   "cell_type": "markdown",
   "source": [
    "Podemos obter os valor do $R^2$ com a sintaxe `modelo.rsquared` e o $R^2$ ajustado com `modelo.rsquared_adj` para modelos do `statsmodels`. "
   ],
   "metadata": {
    "id": "I5OcehFBpiRN"
   }
  },
  {
   "cell_type": "code",
   "source": [
    "# Comparando os valores de R quadrado\n",
    "print(modelo1.rsquared)\n",
    "print(modelo2.rsquared)"
   ],
   "metadata": {
    "id": "Qm3dZZ7QXsua",
    "colab": {
     "base_uri": "https://localhost:8080/"
    },
    "executionInfo": {
     "status": "ok",
     "timestamp": 1676056202416,
     "user_tz": 180,
     "elapsed": 27,
     "user": {
      "displayName": "Hevans Pereira",
      "userId": "05229330684698288921"
     }
    },
    "outputId": "a0ed8c4e-1d80-4d71-fb3e-b9cc572ab2b2",
    "ExecuteTime": {
     "end_time": "2023-07-25T21:05:05.331892Z",
     "start_time": "2023-07-25T21:05:05.323446Z"
    }
   },
   "execution_count": 75,
   "outputs": [
    {
     "name": "stdout",
     "output_type": "stream",
     "text": [
      "0.6937541367795073\n",
      "0.7515471678126603\n"
     ]
    }
   ]
  },
  {
   "cell_type": "code",
   "execution_count": 76,
   "outputs": [
    {
     "name": "stdout",
     "output_type": "stream",
     "text": [
      "0.6933942709002823\n",
      "0.750962572913396\n"
     ]
    }
   ],
   "source": [
    "# Comparando os valores de R quadrado ajustado\n",
    "print(modelo1.rsquared_adj)\n",
    "print(modelo2.rsquared_adj)"
   ],
   "metadata": {
    "collapsed": false,
    "ExecuteTime": {
     "end_time": "2023-07-25T21:05:15.131296Z",
     "start_time": "2023-07-25T21:05:15.120561Z"
    }
   }
  },
  {
   "cell_type": "markdown",
   "source": [
    "Com base nesses resultados podemos considerar que o modelo 2 é melhor."
   ],
   "metadata": {
    "id": "xwcHemV_X6yj"
   }
  },
  {
   "cell_type": "markdown",
   "source": [
    "Mas qual é a interpretação dessa métrica?\n",
    "\n",
    "Podemos dizer que 75 por cento do comportamento de $y$ é explicado por $X$."
   ],
   "metadata": {
    "id": "NG0MXd4wYBKL"
   }
  },
  {
   "cell_type": "markdown",
   "source": [
    "### RMSE (Root Mean Squared Error)\n",
    "\n",
    "Antes de falarmos sobre a Raiz do Erro Quadrático Médio (Root Mean Squared Error, em inglês) vamos falar brevemente sobre MSE (Mean Squared Error - Erro Quadrático Médio)\n",
    "\n",
    "A forma para calcular o MSE encontra-se a seguir, mas não se assuste! Vamos entender o que esta expressão está fazendo.\n",
    "\n",
    "$$MSE = \\frac{1}{N} \\sum_{i=1}^{N} (y_i - \\hat{y_i}) ^ 2$$\n",
    "\n",
    "Nesta expressão, $N$ indica a quantidade de observações que foram usadas para construir o modelo, $y_i$ é o valor real da variável alvo para a $i$-ésima observação e $\\hat{y_i}$ é o valor estimado pelo modelo para a variável preditora para a $i$-ésima observação.\n",
    "\n",
    "Entendendo a expressão:\n",
    "\n",
    "O que está dentro do parênteses é o erro que o modelo está cometendo ao fazer as previsões. Por exemplo, se para a terceira observação tivermos $y_3 = 5.1$ e o modelo estimar $\\hat{y_3} = 4.9$, então o erro cometido é de $0.2$.\n",
    "\n",
    "* Por que elevar ao quadrado?\n",
    "\n",
    "Digamos que nosso modelo tivesse sido construído com base em duas observações e para uma das observações o modelo estimasse um erro de 0.2 e na outra estimasse -0.2. Neste caso a soma daria 0 (zero) e o erro total seria zero, mas claramente nosso modelo não está acertando tudo. Para contornar esse problema temos que eliminar o sinal negativo, e para isso podemos elevar tudo ao quadrado!\n",
    "\n",
    "* Por que calcular a média?\n",
    "\n",
    "Suponha que temos dois modelos que foram estimados com os mesmos tipos de dados mas com diferentes quantidades de observações: o modelo 1 foi treinado com somente uma observação e cometeu um erro de 3, e o modelo 2 foi treinado com 1000 observações e obteve um erro de 0.1 para cada observação.\n",
    "\n",
    "Qual dos dois modelos está se saindo melhor? Claramente o modelo 2 está cometendo um erro bem pequeno para cada observação e é melhor, mas se apenas somarmos os erros totais obteríamos que o modelo 1 teve um erro de 3 enquanto que o modelo 2 teve um erro de 1000*0.1 = 100.\n",
    "\n",
    "A conclusão é que a soma direta dos erros não é um bom critério de avaliação de modelos, pois quanto mais observações usarmos para estimar o modelo, maior será a soma dos erros.\n",
    "\n",
    "Como resolver esse problema?\n",
    "\n",
    "Basta calcula a média! Neste caso o erro do modelo 1 será $\\frac{3}{1}=3$ e o erro do modelo 2 será $\\frac{100}{1000} = 0.1$\n",
    "\n",
    "\n",
    "Combinando as duas ideias (valores não negativos e média) obtemos o MSE.\n",
    "\n",
    "A função MSE pode ser acessada no `statsmodels` com `statsmodels.tools.eval_measures.mse()`"
   ],
   "metadata": {
    "id": "TaHqdw0UprhN"
   }
  },
  {
   "cell_type": "code",
   "source": [
    "# Importando a função MSE\n",
    "from statsmodels.tools.eval_measures import mse\n",
    "\n",
    "# Calculando o MSE para o modelo 1\n",
    "mse1 = mse(y, y_pred1)\n",
    "\n",
    "# Calculando o MSE para o modelo 2\n",
    "mse2 = mse(y, y_pred2)\n",
    "\n",
    "# Visualizando os resultados\n",
    "print(f'MSE modelo 1: {mse1}')\n",
    "print(f'MSE modelo 2: {mse2}')"
   ],
   "metadata": {
    "id": "Dcfg5SehnhyB",
    "colab": {
     "base_uri": "https://localhost:8080/"
    },
    "executionInfo": {
     "status": "ok",
     "timestamp": 1676056202416,
     "user_tz": 180,
     "elapsed": 23,
     "user": {
      "displayName": "Hevans Pereira",
      "userId": "05229330684698288921"
     }
    },
    "outputId": "a5e57b14-cbe9-4b8e-d61c-4dd50805f45a",
    "ExecuteTime": {
     "end_time": "2023-07-27T19:47:22.843985Z",
     "start_time": "2023-07-27T19:47:22.836884Z"
    }
   },
   "execution_count": 77,
   "outputs": [
    {
     "name": "stdout",
     "output_type": "stream",
     "text": [
      "MSE modelo 1: 42.01008508622861\n",
      "MSE modelo 2: 34.08217342217531\n"
     ]
    }
   ]
  },
  {
   "cell_type": "markdown",
   "source": [
    "Queremos que o erro seja o menor possível. Dessa forma, podemos considerar que o modelo 1 se saiu ligeiramente melhor."
   ],
   "metadata": {
    "id": "PlyGpLMCRLRm"
   }
  },
  {
   "cell_type": "markdown",
   "source": [
    "Se o MSE é uma boa métrica, por que temos que calcular a raiz quadrada do MSE?\n",
    "\n",
    "Isso acontece por se estivermos trabalhando com estimação de valores em reais, por exemplo, então $y_i - \\hat{y_i}$ tem dimensão de real mas $(y_i - \\hat{y_i})^2$ tem dimensão de real quadrado o que torna mais difícil a interpretação do resultado.\n",
    "\n",
    "Para resolver este problema basta calcular uma raiz quadrada!!! E assim nasceu o RMSE:\n",
    "\n",
    "$$RMSE = \\sqrt{\\frac{1}{N} \\sum_{i=1}^{N} (y_i - \\hat{y_i}) ^ 2}$$\n",
    "\n",
    "Não é uma expressão tão complicada. Você conseguiria com os conhecimentos já obtidos criar um função em Python que fizesse esse cálculo, mas vamos utilizar funções prontas de bibliotecas para esta atividade. Mais especificamente a função `statsmodels.tools.eval_measures.rmse()`"
   ],
   "metadata": {
    "id": "QLtr3BGxpzvT"
   }
  },
  {
   "cell_type": "code",
   "source": [
    "# Importando a função RMSE\n",
    "from statsmodels.tools.eval_measures import rmse\n",
    "\n",
    "# Calculando o RMSE para o modelo 1\n",
    "rmse1 = rmse(y, y_pred1)\n",
    "\n",
    "# Calculando o RMSE para o modelo 2\n",
    "rmse2 = rmse(y, y_pred2)\n",
    "\n",
    "# Visualizando os resultados\n",
    "print(f'RMSE modelo 1: {rmse1}')\n",
    "print(f'RMSE modelo 2: {rmse2}')"
   ],
   "metadata": {
    "id": "nmvVYetfpuzw",
    "colab": {
     "base_uri": "https://localhost:8080/"
    },
    "executionInfo": {
     "status": "ok",
     "timestamp": 1676056202416,
     "user_tz": 180,
     "elapsed": 20,
     "user": {
      "displayName": "Hevans Pereira",
      "userId": "05229330684698288921"
     }
    },
    "outputId": "32ca3a05-2791-4c2f-8ce0-46d5930f91de",
    "ExecuteTime": {
     "end_time": "2023-07-27T19:50:09.570033Z",
     "start_time": "2023-07-27T19:50:09.558425Z"
    }
   },
   "execution_count": 78,
   "outputs": [
    {
     "name": "stdout",
     "output_type": "stream",
     "text": [
      "RMSE modelo 1: 6.4815187329998984\n",
      "RMSE modelo 2: 5.8379939553047935\n"
     ]
    }
   ]
  },
  {
   "cell_type": "markdown",
   "source": [
    "Com o RMSE podemos ver que a ligeira vantagem do modelo 1 é bem pequena."
   ],
   "metadata": {
    "id": "O6MQ1IqfRXAS"
   }
  },
  {
   "cell_type": "markdown",
   "source": [
    "### MAE (Mean Absolute Error)\n",
    "\n",
    "O Erro Absoluto Médio (Mean Absolute Error, em inglês) é como o nome sugere uma métrica que calcula o erro para cada observação e obtém a soma, em módulo, de todos estes erros (por isso \"Absoluto\" no nome) e depois toma a média desse valor.\n",
    "\n",
    "Vamos tentar entender essa métrica, semelhante ao que fizemos para o RMSE. A fórmula para calcular o MAE encontra-se a seguir:\n",
    "\n",
    "$$MAE = \\frac{1}{N} \\sum_{i=1}^{N} | y_i - \\hat{y_i}|$$\n",
    "\n",
    "\n",
    "Nesta expressão, $N$ indica a quantidade de observações que foram usadas para construir o modelo, $y_i$ é o valor real da variável alvo para a $i$-ésima observação e $\\hat{y_i}$ é o valor estimado pelo modelo para a variável preditora para a $i$-ésima observação.\n",
    "\n",
    "\n",
    "No RMSE nós eliminávamos o sinal negativo elevando ao quadrado, no MAE nós eliminamos o sinal negativo colocando tudo em módulo."
   ],
   "metadata": {
    "id": "Fl1YotE8qAYl"
   }
  },
  {
   "cell_type": "markdown",
   "source": [
    "Podemos obter o MAE com a sintaxe `statsmodels.tools.eval_measures.meanabs()` para modelos do `statamodels`."
   ],
   "metadata": {
    "id": "3YuD6DsTqJOh"
   }
  },
  {
   "cell_type": "code",
   "source": [
    "# Importando a função meanabs\n",
    "from statsmodels.tools.eval_measures import meanabs\n",
    "\n",
    "# Calculando a MAE para o modelo 1\n",
    "mae1 = meanabs(y, y_pred1)\n",
    "\n",
    "# Calculando a MAE para o modelo 2\n",
    "mae2 = meanabs(y, y_pred2)\n",
    "\n",
    "# Visualizando os resultados\n",
    "print(f'MAE modelo 1: {mae1}')\n",
    "print(f'MAE modelo 2: {mae2}')"
   ],
   "metadata": {
    "id": "fWQs5RRyputg",
    "colab": {
     "base_uri": "https://localhost:8080/"
    },
    "executionInfo": {
     "status": "ok",
     "timestamp": 1676056202417,
     "user_tz": 180,
     "elapsed": 18,
     "user": {
      "displayName": "Hevans Pereira",
      "userId": "05229330684698288921"
     }
    },
    "outputId": "45c007b6-dec7-446c-a6c1-b880f2f97e9f",
    "ExecuteTime": {
     "end_time": "2023-07-27T19:52:33.469874Z",
     "start_time": "2023-07-27T19:52:33.458044Z"
    }
   },
   "execution_count": 79,
   "outputs": [
    {
     "name": "stdout",
     "output_type": "stream",
     "text": [
      "MAE modelo 1: 5.1651003604925245\n",
      "MAE modelo 2: 4.613942976975189\n"
     ]
    }
   ]
  },
  {
   "cell_type": "markdown",
   "source": [
    "Os dois modelos apresentaram praticamente o mesmo MAE.\n",
    "\n",
    "Analisando todas as métricas conjuntamente, podemos dizer que o modelo 2 está se saindo melhor, pois tem praticamente os mesmo valores de RMSE e MAE, mas apresentar $R^2$ maior."
   ],
   "metadata": {
    "id": "R3jeY3drReQd"
   }
  },
  {
   "cell_type": "markdown",
   "source": [
    "Vale lembrar que em toda essa análise não falamos sobre outliers e pontos de alavanca, pois este mereciam várias análises à parte. Fica o convite para pesquisar como estes tópicos influenciam modelos de regressão linear (sim, eles podem influenciar e muito!)."
   ],
   "metadata": {
    "id": "jWW1CXHPJTVw"
   }
  },
  {
   "cell_type": "code",
   "source": [],
   "metadata": {
    "id": "spf1LvXrqEl8",
    "ExecuteTime": {
     "end_time": "2023-07-25T15:26:11.547790Z",
     "start_time": "2023-07-25T15:26:11.449011Z"
    }
   },
   "execution_count": 17,
   "outputs": []
  }
 ]
}
