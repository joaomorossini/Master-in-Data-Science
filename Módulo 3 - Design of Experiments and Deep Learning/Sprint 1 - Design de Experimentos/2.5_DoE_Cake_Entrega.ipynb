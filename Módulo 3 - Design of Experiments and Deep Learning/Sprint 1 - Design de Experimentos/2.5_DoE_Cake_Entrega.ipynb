{
 "nbformat": 4,
 "nbformat_minor": 0,
 "metadata": {
  "colab": {
   "provenance": [
    {
     "file_id": "1Rb-yYswmyRXWK17eAMIn4lSRGMGoKJsh",
     "timestamp": 1688739947681
    },
    {
     "file_id": "1lL8c-N-j0CfPEvVrq7leCFW2LxiRGhok",
     "timestamp": 1688739853801
    },
    {
     "file_id": "1UEeTA6vgxlHOs8b6Jbi5QPTsoz3Ferf1",
     "timestamp": 1688739311348
    },
    {
     "file_id": "1qRaRYMaWnYU95gjOnpStke3Wf4iHay-B",
     "timestamp": 1688735504882
    }
   ],
   "authorship_tag": "ABX9TyMddCo8PNMh8EOwz41ImQSs"
  },
  "kernelspec": {
   "name": "python3",
   "language": "python",
   "display_name": "Python 3 (ipykernel)"
  },
  "language_info": {
   "name": "python"
  }
 },
 "cells": [
  {
   "cell_type": "markdown",
   "source": [
    "# DoE | Análise de Resultados de Experimentos Fatoriais com Python\n",
    "\n",
    "Nesta atividade, vamos analisar resultados de experimentos fatoriais. Iniciaremos por uma análise mais simples e manuale e avançaremos com o uso da ANOVA.\n",
    "\n",
    "Vamos utilizar o dataset adaptado CAKE [cake.csv](https://drive.google.com/file/d/1rKsiVTj82Mtr_Mi_SPXwXFr71d32C3HV/view?usp=drive_link)."
   ],
   "metadata": {
    "id": "PrHeSbKAew7h"
   }
  },
  {
   "cell_type": "markdown",
   "source": [
    "# Atividade 0 - Baixe e Importe o Dataset\n",
    "Importe o arquivo como dataframe do Pandas"
   ],
   "metadata": {
    "id": "pcbyf3DUfm9i"
   }
  },
  {
   "cell_type": "code",
   "source": [
    "# External dependencies\n",
    "import pandas as pd\n",
    "import seaborn as sns"
   ],
   "metadata": {
    "id": "BC2AJvuFCwp7",
    "ExecuteTime": {
     "end_time": "2023-10-06T11:52:48.038705Z",
     "start_time": "2023-10-06T11:52:48.031822Z"
    }
   },
   "execution_count": 1,
   "outputs": []
  },
  {
   "cell_type": "code",
   "execution_count": 75,
   "outputs": [],
   "source": [
    "# Omitt warnings\n",
    "import warnings\n",
    "warnings.filterwarnings('ignore')"
   ],
   "metadata": {
    "collapsed": false,
    "ExecuteTime": {
     "end_time": "2023-10-06T13:25:11.005854Z",
     "start_time": "2023-10-06T13:25:10.994605Z"
    }
   }
  },
  {
   "cell_type": "code",
   "execution_count": 8,
   "outputs": [
    {
     "data": {
      "text/plain": "   FLOUR  EGGS  TASTE\n0     -1    -1  3.625\n1     -1    -1  2.600\n2     -1     1  5.250\n3     -1     1  4.700\n4      1    -1  3.775\n5      1    -1  3.475\n6      1     1  5.650\n7      1     1  4.950",
      "text/html": "<div>\n<style scoped>\n    .dataframe tbody tr th:only-of-type {\n        vertical-align: middle;\n    }\n\n    .dataframe tbody tr th {\n        vertical-align: top;\n    }\n\n    .dataframe thead th {\n        text-align: right;\n    }\n</style>\n<table border=\"1\" class=\"dataframe\">\n  <thead>\n    <tr style=\"text-align: right;\">\n      <th></th>\n      <th>FLOUR</th>\n      <th>EGGS</th>\n      <th>TASTE</th>\n    </tr>\n  </thead>\n  <tbody>\n    <tr>\n      <th>0</th>\n      <td>-1</td>\n      <td>-1</td>\n      <td>3.625</td>\n    </tr>\n    <tr>\n      <th>1</th>\n      <td>-1</td>\n      <td>-1</td>\n      <td>2.600</td>\n    </tr>\n    <tr>\n      <th>2</th>\n      <td>-1</td>\n      <td>1</td>\n      <td>5.250</td>\n    </tr>\n    <tr>\n      <th>3</th>\n      <td>-1</td>\n      <td>1</td>\n      <td>4.700</td>\n    </tr>\n    <tr>\n      <th>4</th>\n      <td>1</td>\n      <td>-1</td>\n      <td>3.775</td>\n    </tr>\n    <tr>\n      <th>5</th>\n      <td>1</td>\n      <td>-1</td>\n      <td>3.475</td>\n    </tr>\n    <tr>\n      <th>6</th>\n      <td>1</td>\n      <td>1</td>\n      <td>5.650</td>\n    </tr>\n    <tr>\n      <th>7</th>\n      <td>1</td>\n      <td>1</td>\n      <td>4.950</td>\n    </tr>\n  </tbody>\n</table>\n</div>"
     },
     "execution_count": 8,
     "metadata": {},
     "output_type": "execute_result"
    }
   ],
   "source": [
    "# Import dataset\n",
    "df_original = pd.read_csv('2.5_dataset_cake.csv')\n",
    "df_original.head(10)"
   ],
   "metadata": {
    "collapsed": false,
    "ExecuteTime": {
     "end_time": "2023-10-06T11:59:30.331382Z",
     "start_time": "2023-10-06T11:59:30.326846Z"
    }
   }
  },
  {
   "cell_type": "code",
   "execution_count": 3,
   "outputs": [
    {
     "name": "stdout",
     "output_type": "stream",
     "text": [
      "<class 'pandas.core.frame.DataFrame'>\n",
      "RangeIndex: 8 entries, 0 to 7\n",
      "Data columns (total 3 columns):\n",
      " #   Column  Non-Null Count  Dtype  \n",
      "---  ------  --------------  -----  \n",
      " 0   FLOUR   8 non-null      int64  \n",
      " 1   EGGS    8 non-null      int64  \n",
      " 2   TASTE   8 non-null      float64\n",
      "dtypes: float64(1), int64(2)\n",
      "memory usage: 324.0 bytes\n",
      "None\n"
     ]
    }
   ],
   "source": [
    "# Check dataset\n",
    "print(df_original.info())"
   ],
   "metadata": {
    "collapsed": false,
    "ExecuteTime": {
     "end_time": "2023-10-06T11:53:49.727538Z",
     "start_time": "2023-10-06T11:53:49.699998Z"
    }
   }
  },
  {
   "cell_type": "code",
   "execution_count": 4,
   "outputs": [],
   "source": [
    "# duplicate dataset\n",
    "df = df_original.copy()"
   ],
   "metadata": {
    "collapsed": false,
    "ExecuteTime": {
     "end_time": "2023-10-06T11:55:26.297010Z",
     "start_time": "2023-10-06T11:55:26.284816Z"
    }
   }
  },
  {
   "cell_type": "markdown",
   "source": [
    "# Atividade 1 (Opcional) - Plote os experimentos presentes na Tabela\n",
    "Sugestão: utilize a ferramenta `PairGrid` do Seaborn"
   ],
   "metadata": {
    "id": "N7fwciNegBsN"
   }
  },
  {
   "cell_type": "code",
   "source": [
    "# Generate a Seaborn PairGrid with the datapoints scatter plotted\n",
    "grid = sns.PairGrid(df, vars=df[df.columns[:-1]], hue='TASTE', palette='Dark2')\n",
    "grid.map(sns.scatterplot);"
   ],
   "metadata": {
    "id": "7nZRd8kmC_Rn",
    "ExecuteTime": {
     "end_time": "2023-10-06T12:17:54.854201Z",
     "start_time": "2023-10-06T12:17:53.637412Z"
    }
   },
   "execution_count": 27,
   "outputs": [
    {
     "data": {
      "text/plain": "<Figure size 500x500 with 4 Axes>",
      "image/png": "[encoded data removed]"
     },
     "metadata": {},
     "output_type": "display_data"
    }
   ]
  },
  {
   "cell_type": "markdown",
   "source": [
    "# Atividade 2 - Divida o dataframe e calcule os efeitos do primeiro fator"
   ],
   "metadata": {
    "id": "O4zKtE7qgTK3"
   }
  },
  {
   "cell_type": "code",
   "source": [
    "# List of factors\n",
    "print('Fatores: ', df.columns.values)"
   ],
   "metadata": {
    "id": "yiUUrfqKEvGh",
    "ExecuteTime": {
     "end_time": "2023-10-06T12:05:53.490498Z",
     "start_time": "2023-10-06T12:05:53.474211Z"
    }
   },
   "execution_count": 15,
   "outputs": [
    {
     "name": "stdout",
     "output_type": "stream",
     "text": [
      "Fatores:  ['FLOUR' 'EGGS' 'TASTE']\n"
     ]
    }
   ]
  },
  {
   "cell_type": "code",
   "source": [
    "# Filter 'EGGS' column: EGGS == 1 --> A\n",
    "df_eggs_a = df[df['EGGS'] == 1]\n",
    "eggs_a = df_eggs_a['TASTE'].mean()\n",
    "print('Eggs A - Mean taste score: ',eggs_a, '\\n')\n",
    "print(df_eggs_a)"
   ],
   "metadata": {
    "id": "EBz2H9OPFZtT",
    "ExecuteTime": {
     "end_time": "2023-10-06T12:27:21.385940Z",
     "start_time": "2023-10-06T12:27:21.380686Z"
    }
   },
   "execution_count": 38,
   "outputs": [
    {
     "name": "stdout",
     "output_type": "stream",
     "text": [
      "Eggs A - Mean taste score:  5.1375 \n",
      "\n",
      "   FLOUR  EGGS  TASTE\n",
      "2     -1     1   5.25\n",
      "3     -1     1   4.70\n",
      "6      1     1   5.65\n",
      "7      1     1   4.95\n"
     ]
    }
   ]
  },
  {
   "cell_type": "code",
   "source": [
    "# Filter 'EGGS' column: EGGS == -1 --> B\n",
    "df_eggs_b = df[df['EGGS'] == -1]\n",
    "eggs_b = df_eggs_b['TASTE'].mean()\n",
    "print('Eggs B - Mean taste score: ',eggs_b, '\\n')\n",
    "print(df_eggs_b)"
   ],
   "metadata": {
    "id": "bkpfstunigid",
    "ExecuteTime": {
     "end_time": "2023-10-06T12:27:22.524677Z",
     "start_time": "2023-10-06T12:27:22.520381Z"
    }
   },
   "execution_count": 39,
   "outputs": [
    {
     "name": "stdout",
     "output_type": "stream",
     "text": [
      "Eggs B - Mean taste score:  3.36875 \n",
      "\n",
      "   FLOUR  EGGS  TASTE\n",
      "0     -1    -1  3.625\n",
      "1     -1    -1  2.600\n",
      "4      1    -1  3.775\n",
      "5      1    -1  3.475\n"
     ]
    }
   ]
  },
  {
   "cell_type": "code",
   "execution_count": 44,
   "outputs": [
    {
     "name": "stdout",
     "output_type": "stream",
     "text": [
      "Eggs Effect:  1.77\n"
     ]
    }
   ],
   "source": [
    "# Calculate the effect - Eggs\n",
    "eggs_effect = abs(eggs_a - eggs_b)\n",
    "# Print the effect with 2 decimal places\n",
    "print('Eggs Effect: ', round(eggs_effect, 2))"
   ],
   "metadata": {
    "collapsed": false,
    "ExecuteTime": {
     "end_time": "2023-10-06T12:31:13.371108Z",
     "start_time": "2023-10-06T12:31:13.364064Z"
    }
   }
  },
  {
   "cell_type": "markdown",
   "source": [
    "# Atividade 2 - Divida o dataframe e calcule os efeitos do segundo fator"
   ],
   "metadata": {
    "id": "aqBMn0-fgghf"
   }
  },
  {
   "cell_type": "code",
   "execution_count": 40,
   "outputs": [
    {
     "name": "stdout",
     "output_type": "stream",
     "text": [
      "Flour A - Mean taste score:  4.4625 \n",
      "\n",
      "   FLOUR  EGGS  TASTE\n",
      "4      1    -1  3.775\n",
      "5      1    -1  3.475\n",
      "6      1     1  5.650\n",
      "7      1     1  4.950\n"
     ]
    }
   ],
   "source": [
    "# Filter 'FLOUR' column: FLOUR == 1 --> A\n",
    "df_flour_a = df[df['FLOUR'] == 1]\n",
    "flour_a = df_flour_a['TASTE'].mean()\n",
    "print('Flour A - Mean taste score: ',flour_a, '\\n')\n",
    "print(df_flour_a)"
   ],
   "metadata": {
    "collapsed": false,
    "ExecuteTime": {
     "end_time": "2023-10-06T12:27:29.718519Z",
     "start_time": "2023-10-06T12:27:29.709175Z"
    }
   }
  },
  {
   "cell_type": "code",
   "execution_count": 41,
   "outputs": [
    {
     "name": "stdout",
     "output_type": "stream",
     "text": [
      "Flour B - Mean taste score:  4.04375 \n",
      "\n",
      "   FLOUR  EGGS  TASTE\n",
      "0     -1    -1  3.625\n",
      "1     -1    -1  2.600\n",
      "2     -1     1  5.250\n",
      "3     -1     1  4.700\n"
     ]
    }
   ],
   "source": [
    "# Filter 'FLOUR' column: FLOUR == -1 --> B\n",
    "df_flour_b = df[df['FLOUR'] == -1]\n",
    "flour_b = df_flour_b['TASTE'].mean()\n",
    "print('Flour B - Mean taste score: ',flour_b, '\\n')\n",
    "print(df_flour_b)"
   ],
   "metadata": {
    "collapsed": false,
    "ExecuteTime": {
     "end_time": "2023-10-06T12:27:54.714744Z",
     "start_time": "2023-10-06T12:27:54.709461Z"
    }
   }
  },
  {
   "cell_type": "code",
   "source": [
    " # Calculate de effect - Flour\n",
    "flour_effect = abs(flour_a - flour_b)\n",
    "# Print the effect with 2 decimal places\n",
    "print('Flour Effect: ', round(flour_effect, 2))"
   ],
   "metadata": {
    "id": "5PZ2YZcXFgXR",
    "ExecuteTime": {
     "end_time": "2023-10-06T12:32:12.064369Z",
     "start_time": "2023-10-06T12:32:12.053216Z"
    }
   },
   "execution_count": 45,
   "outputs": [
    {
     "name": "stdout",
     "output_type": "stream",
     "text": [
      "Flour Effect:  0.42\n"
     ]
    }
   ]
  },
  {
   "cell_type": "markdown",
   "source": [
    "# Atividade 3 - Calcule o Efeito combinado\n",
    "Dica: Esse efeito é obtido a partir das Diagonais"
   ],
   "metadata": {
    "id": "i79UyWW8ikRr"
   }
  },
  {
   "cell_type": "code",
   "source": [
    "# Calculate Mean Taste Score - AA\n",
    "d_aa = df[(df['EGGS'] == 1) & (df['FLOUR'] == 1)]\n",
    "aa = d_aa['TASTE'].mean()\n",
    "print('AA - Mean taste score: ',round(aa,2), '\\n')\n",
    "\n",
    "# Calculate Mean Taste Score - BB\n",
    "d_bb = df[(df['EGGS'] == -1) & (df['FLOUR'] == -1)]\n",
    "bb = d_bb['TASTE'].mean()\n",
    "print('BB - Mean taste score: ',round(bb,2), '\\n')\n",
    "\n",
    "# Calculate Mean Taste Score - Ascending diagonal\n",
    "diag_asc = (aa + bb) / 2\n",
    "print('Ascending Diagonal - Mean taste score: ',round(diag_asc,2), '\\n')"
   ],
   "metadata": {
    "id": "VS98_aD8JN7z",
    "ExecuteTime": {
     "end_time": "2023-10-06T13:15:40.602646Z",
     "start_time": "2023-10-06T13:15:40.597840Z"
    }
   },
   "execution_count": 68,
   "outputs": [
    {
     "name": "stdout",
     "output_type": "stream",
     "text": [
      "AA - Mean taste score:  5.3 \n",
      "\n",
      "BB - Mean taste score:  3.11 \n",
      "\n",
      "Ascending Diagonal - Mean taste score:  4.21 \n",
      "\n"
     ]
    }
   ]
  },
  {
   "cell_type": "code",
   "execution_count": 69,
   "outputs": [
    {
     "name": "stdout",
     "output_type": "stream",
     "text": [
      "AB - Mean taste score:  4.97 \n",
      "\n",
      "BA - Mean taste score:  3.62 \n",
      "\n",
      "Descending Diagonal - Mean taste score:  4.3 \n",
      "\n"
     ]
    }
   ],
   "source": [
    "# Calculate Mean Taste Score - AB\n",
    "d_ab = df[(df['EGGS'] == 1) & (df['FLOUR'] == -1)]\n",
    "ab = d_ab['TASTE'].mean()\n",
    "print('AB - Mean taste score: ',round(ab,2), '\\n')\n",
    "\n",
    "# Calculate Mean Taste Score - BA\n",
    "d_ba = df[(df['EGGS'] == -1) & (df['FLOUR'] == 1)]\n",
    "ba = d_ba['TASTE'].mean()\n",
    "print('BA - Mean taste score: ',round(ba,2), '\\n')\n",
    "\n",
    "# Calculate Mean Taste Score - Descending diagonal\n",
    "diag_desc = (ab + ba) / 2\n",
    "print('Descending Diagonal - Mean taste score: ',round(diag_desc,2), '\\n')"
   ],
   "metadata": {
    "collapsed": false,
    "ExecuteTime": {
     "end_time": "2023-10-06T13:16:26.867530Z",
     "start_time": "2023-10-06T13:16:26.861056Z"
    }
   }
  },
  {
   "cell_type": "code",
   "execution_count": 70,
   "outputs": [
    {
     "name": "stdout",
     "output_type": "stream",
     "text": [
      "Combined Effect:  0.09\n"
     ]
    }
   ],
   "source": [
    "# Calculate the combined effect\n",
    "combined_effect = abs(diag_asc - diag_desc)\n",
    "print('Combined Effect: ', round(combined_effect, 2))"
   ],
   "metadata": {
    "collapsed": false,
    "ExecuteTime": {
     "end_time": "2023-10-06T13:16:45.923495Z",
     "start_time": "2023-10-06T13:16:45.910342Z"
    }
   }
  },
  {
   "cell_type": "code",
   "execution_count": 71,
   "outputs": [
    {
     "name": "stdout",
     "output_type": "stream",
     "text": [
      "Eggs Effect:  1.77\n",
      "Flour Effect:  0.42\n",
      "Combined Effect:  0.09\n"
     ]
    }
   ],
   "source": [
    "# Prints the effects\n",
    "print('Eggs Effect: ', round(eggs_effect, 2))\n",
    "print('Flour Effect: ', round(flour_effect, 2))\n",
    "print('Combined Effect: ', round(combined_effect, 2))"
   ],
   "metadata": {
    "collapsed": false,
    "ExecuteTime": {
     "end_time": "2023-10-06T13:18:28.149550Z",
     "start_time": "2023-10-06T13:18:28.142639Z"
    }
   }
  },
  {
   "cell_type": "markdown",
   "source": [
    "# Atividade 4 - Crie um Modelo de Efeitos Fixos e faça a Análise Estatística"
   ],
   "metadata": {
    "id": "FuVw1IpHjElI"
   }
  },
  {
   "cell_type": "markdown",
   "source": [
    "**Análise Estatística do Modelo de Efeitos Fixos (Fixed Effects Model)**\n",
    "\n",
    "O modelo de efeitos fixos assume que os níveis de cada fator são fixos e pré-determinados. Isso significa que o objetivo do experimento é avaliar o efeito dos diferentes níveis dos fatores, em vez de fazer inferências sobre uma população mais ampla.\n",
    "\n",
    "A análise estatística do modelo de efeitos fixos envolve a construção de um modelo matemático que relaciona os níveis dos fatores com as variáveis de resposta. Normalmente, utiliza-se a regressão linear para estabelecer essa relação."
   ],
   "metadata": {
    "id": "XB3YViYWjwZ2"
   }
  },
  {
   "cell_type": "markdown",
   "source": [
    "Atividade 4.1: Crie o Modelo\n",
    "Sugestão: utilize o OLS (Ordinary Least Squares / Mínimos Quadrados Ordinários)"
   ],
   "metadata": {
    "id": "y6XR-Ff6j8uJ"
   }
  },
  {
   "cell_type": "code",
   "source": [
    "# External dependencies\n",
    "import statsmodels.api as sm\n",
    "from statsmodels.formula.api import ols\n",
    "\n",
    "# Create the model\n",
    "function = 'TASTE ~ EGGS + FLOUR + EGGS*FLOUR'\n",
    "model = ols(function, df).fit() # Ordinary Least Squares (OLS) model\n",
    "summary = model.summary()\n",
    "print(summary)"
   ],
   "metadata": {
    "id": "yWw8HC2MO_19",
    "ExecuteTime": {
     "end_time": "2023-10-06T13:45:41.046698Z",
     "start_time": "2023-10-06T13:45:41.041758Z"
    }
   },
   "execution_count": 82,
   "outputs": [
    {
     "name": "stdout",
     "output_type": "stream",
     "text": [
      "                            OLS Regression Results                            \n",
      "==============================================================================\n",
      "Dep. Variable:                  TASTE   R-squared:                       0.873\n",
      "Model:                            OLS   Adj. R-squared:                  0.777\n",
      "Method:                 Least Squares   F-statistic:                     9.139\n",
      "Date:                Fri, 06 Oct 2023   Prob (F-statistic):             0.0291\n",
      "Time:                        10:45:41   Log-Likelihood:                -2.8977\n",
      "No. Observations:                   8   AIC:                             13.80\n",
      "Df Residuals:                       4   BIC:                             14.11\n",
      "Df Model:                           3                                         \n",
      "Covariance Type:            nonrobust                                         \n",
      "==============================================================================\n",
      "                 coef    std err          t      P>|t|      [0.025      0.975]\n",
      "------------------------------------------------------------------------------\n",
      "Intercept      4.2531      0.174     24.472      0.000       3.771       4.736\n",
      "EGGS           0.8844      0.174      5.089      0.007       0.402       1.367\n",
      "FLOUR          0.2094      0.174      1.205      0.295      -0.273       0.692\n",
      "EGGS:FLOUR    -0.0469      0.174     -0.270      0.801      -0.529       0.436\n",
      "==============================================================================\n",
      "Omnibus:                        1.701   Durbin-Watson:                   3.087\n",
      "Prob(Omnibus):                  0.427   Jarque-Bera (JB):                0.706\n",
      "Skew:                           0.000   Prob(JB):                        0.703\n",
      "Kurtosis:                       1.545   Cond. No.                         1.00\n",
      "==============================================================================\n",
      "\n",
      "Notes:\n",
      "[1] Standard Errors assume that the covariance matrix of the errors is correctly specified.\n"
     ]
    }
   ]
  },
  {
   "cell_type": "markdown",
   "source": [
    "Atividade 4.2 - Faça a Análise Estatística do Modelo Utilizando ANOVA"
   ],
   "metadata": {
    "id": "MdgbRDEylrQH"
   }
  },
  {
   "cell_type": "code",
   "execution_count": 78,
   "outputs": [
    {
     "name": "stdout",
     "output_type": "stream",
     "text": [
      "             df    sum_sq   mean_sq          F    PR(>F)\n",
      "EGGS        1.0  6.256953  6.256953  25.893631  0.007038\n",
      "FLOUR       1.0  0.350703  0.350703   1.451342  0.294716\n",
      "EGGS:FLOUR  1.0  0.017578  0.017578   0.072745  0.800724\n",
      "Residual    4.0  0.966562  0.241641        NaN       NaN\n"
     ]
    }
   ],
   "source": [
    "# ANOVA\n",
    "anova = sm.stats.anova_lm(model)\n",
    "print(anova)"
   ],
   "metadata": {
    "collapsed": false,
    "ExecuteTime": {
     "end_time": "2023-10-06T13:27:50.304144Z",
     "start_time": "2023-10-06T13:27:50.293565Z"
    }
   }
  },
  {
   "cell_type": "markdown",
   "source": [
    "Atividade 4.3 - Faça o Teste T de Student e verifique quais Fatores tiveram efeitos estatisticamente relevantes\n",
    "\n",
    "Instrução: considere um nível de confiança esperado como 95%\n"
   ],
   "metadata": {
    "id": "KzRpvAG2lysd"
   }
  },
  {
   "cell_type": "markdown",
   "source": [
    "Sugestão: utilize a função `ppf` do `scipy`.\n",
    "\n",
    "A função `ppf` calcula a **função de distribuição cumulativa inversa** e leva no mínimo 2 argumentos: ppf(q,df).\n",
    "> Obs: Os outros argumentos são: loc (média) e escala (desvio padrão) - ambos opcionais (quando não declarados, o padrão é 0 e 1, respectivamente).\n",
    "\n",
    "Por definição, um resultado de x para um determinado valor `q` e `df` significa `P{T <= x} = q`, ou seja, há probabilidade `q` de obter resultados menores ou iguais a `x` de uma distribuição `T` com o local e a escala fornecidos.\n",
    "\n",
    "\n",
    "Considerando um nível de confiança de 95%, você deseja que 5% da probabilidade esteja nas extremidades da distribuição. Isso geralmente é feito simetricamente para que 2,5% esteja em cada cauda, portanto, você usaria valores q de 0,025 e 0,975 para os pontos de corte inferior e superior, respectivamente."
   ],
   "metadata": {
    "id": "Rs5x6AAHmqRg"
   }
  },
  {
   "cell_type": "code",
   "source": [
    "# Student's t-test\n",
    "from scipy.stats import t\n",
    "\n",
    "t_test = t.ppf(0.975, 4)\n",
    "print('T-Test: ', t_test)"
   ],
   "metadata": {
    "id": "gEaFfv-GQUSb",
    "ExecuteTime": {
     "end_time": "2023-10-06T13:36:14.907893Z",
     "start_time": "2023-10-06T13:36:14.881699Z"
    }
   },
   "execution_count": 79,
   "outputs": [
    {
     "name": "stdout",
     "output_type": "stream",
     "text": [
      "T-Test:  2.7764451051977987\n"
     ]
    }
   ]
  },
  {
   "cell_type": "markdown",
   "source": [
    "## CONCLUSÃO\n",
    "\n",
    "De acordo com a análise estatística, somente o fator 'EGGS' é estatisticamente relevante, pois seu valor absoluto é maior que o valor do teste t de Student."
   ],
   "metadata": {
    "collapsed": false
   }
  },
  {
   "cell_type": "code",
   "execution_count": null,
   "outputs": [],
   "source": [],
   "metadata": {
    "collapsed": false
   }
  }
 ]
}
