{
  "nbformat": 4,
  "nbformat_minor": 0,
  "metadata": {
    "colab": {
      "provenance": []
    },
    "kernelspec": {
      "name": "python3",
      "display_name": "Python 3"
    },
    "language_info": {
      "name": "python"
    }
  },
  "cells": [
    {
      "cell_type": "markdown",
      "source": [
        "# DoE | Planejando Experimentos com Python\n",
        "\n",
        "Nesta atividade, vamos gerar diferentes planos experimentais.\n",
        "\n",
        "Para tal, utilizaremos a biblioteca `pyDOE2` ([informações](https://pypi.org/project/pyDOE2/) e [documentação](https://pythonhosted.org/pyDOE/)).\n",
        "\n",
        "O Colab não vem com essa biblioteca pré-instalada, então Vamos começar instalando essa biblioteca usando o `pip`."
      ],
      "metadata": {
        "id": "ZQfSLpNfsvMt"
      }
    },
    {
      "cell_type": "markdown",
      "source": [
        "### Antes de começar: Instale o `pyDOE2` usando o pip.\n",
        "Dica: No Colab, temos que colocar um sinal de `!` antes do `pip`, assim: `!pip`"
      ],
      "metadata": {
        "id": "KlA1vqE75pVI"
      }
    },
    {
      "cell_type": "code",
      "source": [
        "# Instalando o pacote pyDOE2\n",
        "!pip install pyDOE2"
      ],
      "metadata": {
        "id": "h95PzFTwp4g0",
        "outputId": "8e5a23c5-7a4a-461e-85bd-cd4fbab851b7",
        "colab": {
          "base_uri": "https://localhost:8080/"
        }
      },
      "execution_count": 52,
      "outputs": [
        {
          "output_type": "stream",
          "name": "stdout",
          "text": [
            "Requirement already satisfied: pyDOE2 in /usr/local/lib/python3.10/dist-packages (1.3.0)\n",
            "Requirement already satisfied: numpy in /usr/local/lib/python3.10/dist-packages (from pyDOE2) (1.23.5)\n",
            "Requirement already satisfied: scipy in /usr/local/lib/python3.10/dist-packages (from pyDOE2) (1.11.2)\n"
          ]
        }
      ]
    },
    {
      "cell_type": "markdown",
      "source": [
        "Após instalar a biblioteca, importe-a e importe também as suas dependências `numpy`e `scipy`:"
      ],
      "metadata": {
        "id": "k7FX3LxOrM5S"
      }
    },
    {
      "cell_type": "code",
      "source": [
        "# Importando bibliotecas\n",
        "import numpy as np\n",
        "import scipy\n",
        "import pyDOE2\n",
        "import pandas as pd"
      ],
      "metadata": {
        "id": "VYgs-6x096Kh"
      },
      "execution_count": 53,
      "outputs": []
    },
    {
      "cell_type": "markdown",
      "source": [
        "# Geração de Matrizes de Projeto\n",
        "\n",
        "O pyDOE2 permite criar matrizes de projeto que definem as configurações dos fatores experimentais a serem testados. A  biblioteca suporta vários tipos de matrizes, incluindo:\n",
        "\n",
        "* **Fatoriais completos**: gera uma matriz de todos os possíveis níveis de todos os fatores.\n",
        "* **Fatoriais fracionados**: gera uma matriz de uma fração dos níveis possíveis para todos os fatores, reduzindo o número total de configurações a serem testadas."
      ],
      "metadata": {
        "id": "oUMdaxSv8N-g"
      }
    },
    {
      "cell_type": "markdown",
      "source": [
        "Vamos praticar ao longo das atividades a seguir:"
      ],
      "metadata": {
        "id": "-lsewnn3rqRj"
      }
    },
    {
      "cell_type": "markdown",
      "source": [
        "### Atividade 1: Fatorial Completo de 3 Fatores e 2 Níveis\n",
        "\n",
        "Nesta abordagem pode haver **apenas dois níveis** por fator.\n",
        "Esses valores serão representados pelos valores `1` e `-1`.\n",
        "\n",
        "Dica: Para Fatorial Completo de 2 Níveis, utilizaremos a função `ff2n`."
      ],
      "metadata": {
        "id": "ZWURWsEKpM4K"
      }
    },
    {
      "cell_type": "code",
      "source": [
        "# Aplicando a função \"2-Level Full-Factorial\"\n",
        "design1 = pyDOE2.ff2n(3)\n",
        "design1"
      ],
      "metadata": {
        "id": "WeQxw2KopSvD",
        "outputId": "df391ee1-0e90-4e9a-a9db-c0372c497993",
        "colab": {
          "base_uri": "https://localhost:8080/"
        }
      },
      "execution_count": 54,
      "outputs": [
        {
          "output_type": "execute_result",
          "data": {
            "text/plain": [
              "array([[-1., -1., -1.],\n",
              "       [ 1., -1., -1.],\n",
              "       [-1.,  1., -1.],\n",
              "       [ 1.,  1., -1.],\n",
              "       [-1., -1.,  1.],\n",
              "       [ 1., -1.,  1.],\n",
              "       [-1.,  1.,  1.],\n",
              "       [ 1.,  1.,  1.]])"
            ]
          },
          "metadata": {},
          "execution_count": 54
        }
      ]
    },
    {
      "cell_type": "markdown",
      "source": [
        "**PERGUNTA:** Quantas configurações serão testadas no experimento?"
      ],
      "metadata": {
        "id": "JEGIMS1oCRV0"
      }
    },
    {
      "cell_type": "markdown",
      "source": [
        ">   **RESPOSTA:** 8"
      ],
      "metadata": {
        "id": "5YXvLaIosoPv"
      }
    },
    {
      "cell_type": "markdown",
      "source": [
        "## Atividade 2: Fatorial Completo (mais de 2 níveis)\n",
        "Nesta abordagem, pode haver **mais que apenas 2 níveis por fator**, permitindo maior flexibilidade. No entanto, isso irá aumentar a complexidade do experimento.\n",
        "\n",
        "Crie um Design Fatorial Completo com 3 fatores, com a seguinte configuração:\n",
        "* O primeiro fator tem 3 níveis;\n",
        "* O segundo fator tem 2 níveis;\n",
        "* O terceiro fator tem 4 níveis;\n",
        "\n",
        "Dica: para Fatorial Completo Geral, utilizaremos a função `fullfact`.\n",
        "\n"
      ],
      "metadata": {
        "id": "ehN1Tr-76MB-"
      }
    },
    {
      "cell_type": "code",
      "source": [
        "# Aplicando a função \"General Full-Factorial\"\n",
        "design2 = pyDOE2.fullfact([3,2,4])\n",
        "design2"
      ],
      "metadata": {
        "id": "iCYR5x8t7059",
        "outputId": "c4ccf3ad-73a7-4fac-f1f1-8bb31db702c4",
        "colab": {
          "base_uri": "https://localhost:8080/"
        }
      },
      "execution_count": 55,
      "outputs": [
        {
          "output_type": "execute_result",
          "data": {
            "text/plain": [
              "array([[0., 0., 0.],\n",
              "       [1., 0., 0.],\n",
              "       [2., 0., 0.],\n",
              "       [0., 1., 0.],\n",
              "       [1., 1., 0.],\n",
              "       [2., 1., 0.],\n",
              "       [0., 0., 1.],\n",
              "       [1., 0., 1.],\n",
              "       [2., 0., 1.],\n",
              "       [0., 1., 1.],\n",
              "       [1., 1., 1.],\n",
              "       [2., 1., 1.],\n",
              "       [0., 0., 2.],\n",
              "       [1., 0., 2.],\n",
              "       [2., 0., 2.],\n",
              "       [0., 1., 2.],\n",
              "       [1., 1., 2.],\n",
              "       [2., 1., 2.],\n",
              "       [0., 0., 3.],\n",
              "       [1., 0., 3.],\n",
              "       [2., 0., 3.],\n",
              "       [0., 1., 3.],\n",
              "       [1., 1., 3.],\n",
              "       [2., 1., 3.]])"
            ]
          },
          "metadata": {},
          "execution_count": 55
        }
      ]
    },
    {
      "cell_type": "markdown",
      "source": [
        "**PERGUNTA:** Quantas configurações serão testadas no experimento?"
      ],
      "metadata": {
        "id": "Q5_9vZW7CNXj"
      }
    },
    {
      "cell_type": "code",
      "source": [
        "len(design1)"
      ],
      "metadata": {
        "id": "HqAYUFfpzKK5",
        "colab": {
          "base_uri": "https://localhost:8080/"
        },
        "outputId": "935f69e1-eb68-4e1b-bb10-0c258b2d8ce9"
      },
      "execution_count": 56,
      "outputs": [
        {
          "output_type": "execute_result",
          "data": {
            "text/plain": [
              "8"
            ]
          },
          "metadata": {},
          "execution_count": 56
        }
      ]
    },
    {
      "cell_type": "markdown",
      "source": [
        "  > **RESPOSTA:** 24"
      ],
      "metadata": {
        "id": "G6Wval4MCkQe"
      }
    },
    {
      "cell_type": "markdown",
      "source": [
        "## Atividade 3: Fatorial Completo de 3 Fatores e 2 Níveis (parte 2)\n",
        "\n",
        "Suponha que para a produção de um bolo pronto, desejemos testar os seguintes fatores e níveis:\n",
        "\n",
        "**Fator 1 | Farinha:**\n",
        "Tipo 1 ou Tipo 2\n",
        "\n",
        "**Fator 2 | Quantidade de Fermento:**\n",
        "24mg ou 36mg\n",
        "\n",
        "**Fator 3 | Temperatura:**\n",
        "140ºC ou 180ºC"
      ],
      "metadata": {
        "id": "qJV4dhy8uzsf"
      }
    },
    {
      "cell_type": "markdown",
      "source": [
        "**INSTRUÇÕES:**\n",
        "\n",
        "**A.** Gere o plano experimental de fatorial completo utilizando o pyDOE2\n",
        "\n",
        "**B.** A partir do resultado, crie um DataFrame com o plano expermental, substituindo os valores *1* e *-1* pelos valores reais a serem testados."
      ],
      "metadata": {
        "id": "dqxCzetLvDPG"
      }
    },
    {
      "cell_type": "code",
      "source": [
        "# Atribuindo o resultado da função \"2-Level Full-Factorial\" à variável \"design3\"\n",
        "design3 = pyDOE2.ff2n(3)"
      ],
      "metadata": {
        "id": "KGQ1PeQewCl6"
      },
      "execution_count": 57,
      "outputs": []
    },
    {
      "cell_type": "code",
      "source": [
        "design3"
      ],
      "metadata": {
        "id": "melYxUpXL-pM",
        "outputId": "045237c0-32d6-458b-d05b-25b6dba6b6eb",
        "colab": {
          "base_uri": "https://localhost:8080/"
        }
      },
      "execution_count": 58,
      "outputs": [
        {
          "output_type": "execute_result",
          "data": {
            "text/plain": [
              "array([[-1., -1., -1.],\n",
              "       [ 1., -1., -1.],\n",
              "       [-1.,  1., -1.],\n",
              "       [ 1.,  1., -1.],\n",
              "       [-1., -1.,  1.],\n",
              "       [ 1., -1.,  1.],\n",
              "       [-1.,  1.,  1.],\n",
              "       [ 1.,  1.,  1.]])"
            ]
          },
          "metadata": {},
          "execution_count": 58
        }
      ]
    },
    {
      "cell_type": "code",
      "source": [
        "# Converter para DataFrame\n",
        "colunas3 = ['Farinha', 'Quantidade de Fermento', 'Temperatura']\n",
        "df3 = pd.DataFrame(design3, columns=colunas3)\n",
        "\n",
        "# Definir os níveis reais para cada fator\n",
        "niveis = {\n",
        "    'Farinha': ['Tipo 1', 'Tipo 2'],\n",
        "    'Quantidade de Fermento': [24, 36],\n",
        "    'Temperatura': [140, 180]\n",
        "}\n",
        "\n",
        "# Substituir os níveis codificados pelos níveis reais\n",
        "for fator, nivel in niveis.items():\n",
        "    df3[fator] = df3[fator].apply(lambda x: nivel[0] if x == -1 else nivel[1])\n",
        "\n",
        "# Exibir o DataFrame\n",
        "print(df3)"
      ],
      "metadata": {
        "id": "mXpti6smwJf9",
        "outputId": "5c6202e3-6251-4a31-fbb0-b064c83b3aeb",
        "colab": {
          "base_uri": "https://localhost:8080/"
        }
      },
      "execution_count": 59,
      "outputs": [
        {
          "output_type": "stream",
          "name": "stdout",
          "text": [
            "  Farinha  Quantidade de Fermento  Temperatura\n",
            "0  Tipo 1                      24          140\n",
            "1  Tipo 2                      24          140\n",
            "2  Tipo 1                      36          140\n",
            "3  Tipo 2                      36          140\n",
            "4  Tipo 1                      24          180\n",
            "5  Tipo 2                      24          180\n",
            "6  Tipo 1                      36          180\n",
            "7  Tipo 2                      36          180\n"
          ]
        }
      ]
    },
    {
      "cell_type": "markdown",
      "source": [
        "## Atividade 4: Fatorial Fracionado de 3 Fatores e 2 Níveis\n",
        "\n",
        "Suponha que antes de rodar um experimento mais complexo como o proposto anteriormente, você decida fazer uma rodada preliminar e mais simples. Assim, você decidirá se os Fatores escolhidos (Tipo da Farinha, Quantidade de Fermento e Temperatura do Forno) aparentam ter de fato algum efeito significativo sobre o sabor do bolo.\n",
        "\n",
        "Para tal, você decidiu optar por um desenho experimental com apenas 4 experimentos, em vez dos 8 experimentos anteriores."
      ],
      "metadata": {
        "id": "S5JKwdBOC1qs"
      }
    },
    {
      "cell_type": "markdown",
      "source": [
        "### Atividade 4.1: Gere um desenho Fatorial Fracionado de 3 Fatores e 2 Níveis"
      ],
      "metadata": {
        "id": "oBOswvrJxsTP"
      }
    },
    {
      "cell_type": "code",
      "source": [
        "# Aplicando a função \"2-Level Fractional-Factorial\"\n",
        "design4_1 = pyDOE2.fracfact('a b ab')\n",
        "print(design4_1)"
      ],
      "metadata": {
        "id": "UlV2jKT6SAvR",
        "outputId": "cfab8ccd-6e43-4d76-ef0a-dba1052d96b7",
        "colab": {
          "base_uri": "https://localhost:8080/"
        }
      },
      "execution_count": 60,
      "outputs": [
        {
          "output_type": "stream",
          "name": "stdout",
          "text": [
            "[[-1. -1.  1.]\n",
            " [ 1. -1. -1.]\n",
            " [-1.  1. -1.]\n",
            " [ 1.  1.  1.]]\n"
          ]
        }
      ]
    },
    {
      "cell_type": "markdown",
      "source": [
        "### Atividade 4.2: Crie um DataFrame com os valores das variáveis a serem testadas no experimento anterior"
      ],
      "metadata": {
        "id": "_EdOQQkqtpAu"
      }
    },
    {
      "cell_type": "code",
      "source": [
        "colunas4_2 = ['Farinha', 'Quantidade de Fermento', 'Temperatura']\n",
        "\n",
        "# Converter para DataFrame\n",
        "df4_2 = pd.DataFrame(design4_1, columns=colunas4_2)\n",
        "\n",
        "# Substituir os níveis codificados pelos níveis reais\n",
        "for fator, nivel in niveis.items():\n",
        "    df4_2[fator] = df4_2[fator].apply(lambda x: nivel[0] if x == -1 else nivel[1])\n",
        "\n",
        "print(df4_2)"
      ],
      "metadata": {
        "id": "K_dB9ze_tooS",
        "outputId": "6cbeb8b9-0f93-44a7-e8e7-62f4c5435a90",
        "colab": {
          "base_uri": "https://localhost:8080/"
        }
      },
      "execution_count": 61,
      "outputs": [
        {
          "output_type": "stream",
          "name": "stdout",
          "text": [
            "  Farinha  Quantidade de Fermento  Temperatura\n",
            "0  Tipo 1                      24          180\n",
            "1  Tipo 2                      24          140\n",
            "2  Tipo 1                      36          140\n",
            "3  Tipo 2                      36          180\n"
          ]
        }
      ]
    },
    {
      "cell_type": "markdown",
      "source": [
        "### Atividade 4.3: Invertendo as combinações do Fatorial Fracionado\n",
        "\n",
        "Suponha que uma colega de equipe com mais experiência em produtos dessa categoria pede que no plano experimental seja contemplada uma combinação específica, não prevista inicialmente. A combinação é a seguinte:\n",
        "\n",
        "**Farinha:** Tipo 2\n",
        "\n",
        "**Quantidade de Fermento:** 24mg\n",
        "\n",
        "**Temperatura:** 180ºC"
      ],
      "metadata": {
        "id": "1JCz6-1xz1Qt"
      }
    },
    {
      "cell_type": "markdown",
      "source": [
        "Adapte o plano experimental de forma que o número de combinações (unidades experimentais) se mantenha o mesmo (4), mas que seja possível testar a combinação proposta.\n",
        "\n",
        "Dica: Consulte a documentação do pyDOE2 neste [link](https://pythonhosted.org/pyDOE/factorial.html)"
      ],
      "metadata": {
        "id": "xwQj_lca1zi7"
      }
    },
    {
      "cell_type": "code",
      "source": [
        "# Invertendo as combinações\n",
        "design4_3 = pyDOE2.fracfact('a b -ab')\n",
        "\n",
        "print(design4_3)"
      ],
      "metadata": {
        "id": "sHZp7MQ8zzk0",
        "colab": {
          "base_uri": "https://localhost:8080/"
        },
        "outputId": "73e722b3-0e27-4bc1-8311-f9b9ee3a5228"
      },
      "execution_count": 62,
      "outputs": [
        {
          "output_type": "stream",
          "name": "stdout",
          "text": [
            "[[-1. -1. -1.]\n",
            " [ 1. -1.  1.]\n",
            " [-1.  1.  1.]\n",
            " [ 1.  1. -1.]]\n"
          ]
        }
      ]
    },
    {
      "cell_type": "markdown",
      "source": [
        "## Atividade 5\n",
        "\n",
        "Suponha que a rodada experimental inicial teve resultados bastante proveitosos e foi possível concluir que as Farinhas dos tipos 1 e 2 (ambas super premium) são praticamente iguais. Assim, optar-se-á pela Farinha do tipo 1, que tem um valor mais baixo.\n",
        "\n",
        "Também percebeu-se que a temperatura de 140ºC foi insuficiente em todos os casos. Assim, decidiu-se testar as temperaturas de 160ºC e de 180ºC.\n",
        "\n",
        "De modo geral, a rodada inicial correu bem e rapidamente. Por isso, a equipe resolveu incluir outros fatores que não haviam sido testados anteriormente."
      ],
      "metadata": {
        "id": "B3F0sknim000"
      }
    },
    {
      "cell_type": "markdown",
      "source": [
        "Na segunda rodada, serão testados os seguintes fatores:\n",
        "\n",
        "**A) Quantidade de Fermento:**\n",
        "24mg ou 36mg\n",
        "\n",
        "**B) Temperatura:**\n",
        "160ºC ou 180ºC\n",
        "\n",
        "**C) Tempo:**\n",
        "35min ou 40min\n",
        "\n",
        "**D) Ovos:**\n",
        "3 ou 4"
      ],
      "metadata": {
        "id": "8SY_dSimm_rN"
      }
    },
    {
      "cell_type": "markdown",
      "source": [
        "### Atividade 5.1: Faça uma estimativa de quantos testes seriam necessários para testar todas as possibilidades"
      ],
      "metadata": {
        "id": "S9oVJbXi7Gq5"
      }
    },
    {
      "cell_type": "code",
      "source": [
        "# Calcuando o comprimento do array gerado pela função \"ff2n\"\n",
        "len(pyDOE2.ff2n(4))"
      ],
      "metadata": {
        "id": "xQ5HnW1w7VVH",
        "colab": {
          "base_uri": "https://localhost:8080/"
        },
        "outputId": "d9bfaa83-da22-499e-d6ea-89332c6b2f18"
      },
      "execution_count": 63,
      "outputs": [
        {
          "output_type": "execute_result",
          "data": {
            "text/plain": [
              "16"
            ]
          },
          "metadata": {},
          "execution_count": 63
        }
      ]
    },
    {
      "cell_type": "markdown",
      "source": [
        "> **RESPOSTA:** 16"
      ],
      "metadata": {
        "id": "bgE5BdNG7o4I"
      }
    },
    {
      "cell_type": "markdown",
      "source": [
        "### Atividade 5.2: Crie um desenho fatorial fracionado\n",
        "Crie um plano experimental para os fatores listados acima de forma que sejam testadas apenas 8 receitas:"
      ],
      "metadata": {
        "id": "NStusAlu6pIH"
      }
    },
    {
      "cell_type": "markdown",
      "source": [
        "**A) Quantidade de Fermento:**\n",
        "24mg ou 36mg\n",
        "\n",
        "**B) Temperatura:**\n",
        "160ºC ou 180ºC\n",
        "\n",
        "**C) Tempo:**\n",
        "35min ou 40min\n",
        "\n",
        "**D) Ovos:**\n",
        "3 ou 4"
      ],
      "metadata": {
        "id": "yJjkC3eG-Ga3"
      }
    },
    {
      "cell_type": "code",
      "source": [
        "# Gerando as combinações para um experimento fatorial fracionado contendo 4 fatores, cada um com 2 níveis\n",
        "design5_2 = pyDOE2.fracfact('a b c abc')\n",
        "print('Número de experimentos: ',len(design5_2))\n",
        "print('combinações dos experimentos: ')\n",
        "print(design5_2)"
      ],
      "metadata": {
        "id": "mkNkcCce6oL1",
        "colab": {
          "base_uri": "https://localhost:8080/"
        },
        "outputId": "ef4cd09f-5783-4a1d-eb97-bc8626dbd5b3"
      },
      "execution_count": 67,
      "outputs": [
        {
          "output_type": "stream",
          "name": "stdout",
          "text": [
            "Número de experimentos:  8\n",
            "combinações dos experimentos: \n",
            "[[-1. -1. -1. -1.]\n",
            " [ 1. -1. -1.  1.]\n",
            " [-1.  1. -1.  1.]\n",
            " [ 1.  1. -1. -1.]\n",
            " [-1. -1.  1.  1.]\n",
            " [ 1. -1.  1. -1.]\n",
            " [-1.  1.  1. -1.]\n",
            " [ 1.  1.  1.  1.]]\n"
          ]
        }
      ]
    },
    {
      "cell_type": "code",
      "source": [
        "# Atribuindo os valores reais dos níveis\n",
        "\n",
        "\n",
        "## Criando cópia do array design5_2\n",
        "D5_2 = design5_2.copy()\n",
        "\n",
        "# Fermento\n",
        "D5_2[:,0][D5_2[:,0] == -1 ] = 24\n",
        "D5_2[:,0][D5_2[:,0] == 1 ] = 36\n",
        "\n",
        "# Temperatura\n",
        "D5_2[:,1][D5_2[:,1] == -1 ] = 160\n",
        "D5_2[:,1][D5_2[:,1] == 1 ] = 180\n",
        "\n",
        "# Tempo\n",
        "D5_2[:,2][D5_2[:,2] == -1 ] = 35\n",
        "D5_2[:,2][D5_2[:,2] == 1 ] = 40\n",
        "\n",
        "# Ovos\n",
        "D5_2[:,3][D5_2[:,3] == -1 ] = 3\n",
        "D5_2[:,3][D5_2[:,3] == 1 ] = 4\n",
        "\n",
        "## Criando lista com nomes das colunas\n",
        "colunas5_2 = ['Fermento (mg)', 'Temperatura (°C)', 'Tempo (min)', 'Ovos (qtd)']\n",
        "\n",
        "\n",
        "## Convertendo o array em dataframe do pandas\n",
        "df5_2 = pd.DataFrame(D5_2, columns=colunas5_2)\n",
        "\n",
        "print(df5_2)"
      ],
      "metadata": {
        "colab": {
          "base_uri": "https://localhost:8080/"
        },
        "id": "ENnSnN6Sjlq-",
        "outputId": "008faef4-e9bc-4106-942d-3791cb7cd4fe"
      },
      "execution_count": 71,
      "outputs": [
        {
          "output_type": "stream",
          "name": "stdout",
          "text": [
            "   Fermento (mg)  Temperatura (°C)  Tempo (min)  Ovos (qtd)\n",
            "0           24.0             160.0         35.0         3.0\n",
            "1           36.0             160.0         35.0         4.0\n",
            "2           24.0             180.0         35.0         4.0\n",
            "3           36.0             180.0         35.0         3.0\n",
            "4           24.0             160.0         40.0         4.0\n",
            "5           36.0             160.0         40.0         3.0\n",
            "6           24.0             180.0         40.0         3.0\n",
            "7           36.0             180.0         40.0         4.0\n"
          ]
        }
      ]
    },
    {
      "cell_type": "markdown",
      "source": [
        "### 6. Extra: Teste outras configurações, compare os dataframes gerados\n",
        "\n",
        "Há várias maneiras de gerar os desenhos experimentais.\n",
        "Sugestão: compare os dataframes utilizando a função `concat` do pandas."
      ],
      "metadata": {
        "id": "m5K1e4j-E_eA"
      }
    },
    {
      "cell_type": "code",
      "source": [
        "# Gerando as combinações inversas\n",
        "design6 = pyDOE2.fracfact('a b c -abc')\n",
        "print('Número de experimentos: ',len(design6))\n",
        "print('combinações dos experimentos: ')\n",
        "print(design6)"
      ],
      "metadata": {
        "id": "rqi08s_x_pI1",
        "colab": {
          "base_uri": "https://localhost:8080/"
        },
        "outputId": "4541cad1-50d0-4aaa-961b-3b5b7deceabc"
      },
      "execution_count": 68,
      "outputs": [
        {
          "output_type": "stream",
          "name": "stdout",
          "text": [
            "Número de experimentos:  8\n",
            "combinações dos experimentos: \n",
            "[[-1. -1. -1.  1.]\n",
            " [ 1. -1. -1. -1.]\n",
            " [-1.  1. -1. -1.]\n",
            " [ 1.  1. -1.  1.]\n",
            " [-1. -1.  1. -1.]\n",
            " [ 1. -1.  1.  1.]\n",
            " [-1.  1.  1.  1.]\n",
            " [ 1.  1.  1. -1.]]\n"
          ]
        }
      ]
    },
    {
      "cell_type": "code",
      "source": [
        "## Criando cópia do array design6\n",
        "D6 = design6.copy()\n",
        "\n",
        "# Fermento\n",
        "D6[:,0][D6[:,0] == -1 ] = 24\n",
        "D6[:,0][D6[:,0] == 1 ] = 36\n",
        "\n",
        "# Temperatura\n",
        "D6[:,1][D6[:,1] == -1 ] = 160\n",
        "D6[:,1][D6[:,1] == 1 ] = 180\n",
        "\n",
        "# Tempo\n",
        "D6[:,2][D6[:,2] == -1 ] = 35\n",
        "D6[:,2][D6[:,2] == 1 ] = 40\n",
        "\n",
        "# Ovos\n",
        "D6[:,3][D6[:,3] == -1 ] = 3\n",
        "D6[:,3][D6[:,3] == 1 ] = 4"
      ],
      "metadata": {
        "id": "NixllpqNu9oz"
      },
      "execution_count": 72,
      "outputs": []
    },
    {
      "cell_type": "code",
      "source": [
        "# Armazenando nomes das colunas em nova lista para manter padrão de nomenclatura\n",
        "colunas6 = colunas5_2\n",
        "\n",
        "# Convertendo o array em dataframe\n",
        "df6 = pd.DataFrame(D6, columns=colunas6)\n",
        "print(df6)"
      ],
      "metadata": {
        "id": "ssIoGQLn_489",
        "colab": {
          "base_uri": "https://localhost:8080/"
        },
        "outputId": "e70a1b57-2dc4-4dbf-eb80-830be13a96ba"
      },
      "execution_count": 74,
      "outputs": [
        {
          "output_type": "stream",
          "name": "stdout",
          "text": [
            "   Fermento (mg)  Temperatura (°C)  Tempo (min)  Ovos (qtd)\n",
            "0           24.0             160.0         35.0         4.0\n",
            "1           36.0             160.0         35.0         3.0\n",
            "2           24.0             180.0         35.0         3.0\n",
            "3           36.0             180.0         35.0         4.0\n",
            "4           24.0             160.0         40.0         3.0\n",
            "5           36.0             160.0         40.0         4.0\n",
            "6           24.0             180.0         40.0         4.0\n",
            "7           36.0             180.0         40.0         3.0\n"
          ]
        }
      ]
    },
    {
      "cell_type": "code",
      "source": [
        "# Concatenando os dataframes\n",
        "df_concat = pd.concat([df5_2, df6], ignore_index=True)\n",
        "\n",
        "print(df_concat)"
      ],
      "metadata": {
        "id": "aVKXA1WLDTaa",
        "colab": {
          "base_uri": "https://localhost:8080/"
        },
        "outputId": "a21cd368-39be-490c-b2d8-7ece9116be7f"
      },
      "execution_count": 75,
      "outputs": [
        {
          "output_type": "stream",
          "name": "stdout",
          "text": [
            "    Fermento (mg)  Temperatura (°C)  Tempo (min)  Ovos (qtd)\n",
            "0            24.0             160.0         35.0         3.0\n",
            "1            36.0             160.0         35.0         4.0\n",
            "2            24.0             180.0         35.0         4.0\n",
            "3            36.0             180.0         35.0         3.0\n",
            "4            24.0             160.0         40.0         4.0\n",
            "5            36.0             160.0         40.0         3.0\n",
            "6            24.0             180.0         40.0         3.0\n",
            "7            36.0             180.0         40.0         4.0\n",
            "8            24.0             160.0         35.0         4.0\n",
            "9            36.0             160.0         35.0         3.0\n",
            "10           24.0             180.0         35.0         3.0\n",
            "11           36.0             180.0         35.0         4.0\n",
            "12           24.0             160.0         40.0         3.0\n",
            "13           36.0             160.0         40.0         4.0\n",
            "14           24.0             180.0         40.0         4.0\n",
            "15           36.0             180.0         40.0         3.0\n"
          ]
        }
      ]
    },
    {
      "cell_type": "code",
      "source": [
        "# Verificar linhas duplicadas em todo o DataFrame\n",
        "if df_concat.duplicated().any():\n",
        "    print(\"Há linhas duplicadas no DataFrame.\")\n",
        "else:\n",
        "    print(\"Não há linhas duplicadas no DataFrame.\")"
      ],
      "metadata": {
        "id": "3S3skaLVDVT-",
        "colab": {
          "base_uri": "https://localhost:8080/"
        },
        "outputId": "ef989e3d-bdf1-4459-8d14-1359b4b3d4d0"
      },
      "execution_count": 77,
      "outputs": [
        {
          "output_type": "stream",
          "name": "stdout",
          "text": [
            "Não há linhas duplicadas no DataFrame.\n"
          ]
        }
      ]
    },
    {
      "cell_type": "markdown",
      "source": [
        "### 7. Desafio: Gere 2 dataframes complementares, de forma que não haja nenhuma repetição de linhas"
      ],
      "metadata": {
        "id": "wgZByZkNIRy_"
      }
    },
    {
      "cell_type": "code",
      "source": [
        "### Acho que não entendi direito o desafio, mas vou tentar resolver conforme eu interpretei ###\n",
        "\n",
        "# Obtém o número total de linhas no DataFrame original\n",
        "total_linhas = len(df_concat)\n",
        "\n",
        "# Calcula o ponto de divisão (metade das linhas)\n",
        "ponto_divisao = total_linhas // 2\n",
        "\n",
        "# Divide o índice do DataFrame original em duas partes\n",
        "indices_divisao = np.split(df_concat.index, [ponto_divisao])\n",
        "\n",
        "# Divide o DataFrame original em dois DataFrames\n",
        "df7_1 = df_concat.loc[indices_divisao[0]]\n",
        "df7_2 = df_concat.loc[indices_divisao[1]]"
      ],
      "metadata": {
        "id": "lL5mAw6tIdhm"
      },
      "execution_count": 79,
      "outputs": []
    },
    {
      "cell_type": "code",
      "source": [
        "print(df7_1)\n",
        "print(df7_2)"
      ],
      "metadata": {
        "id": "qouYqoCQIabO",
        "colab": {
          "base_uri": "https://localhost:8080/"
        },
        "outputId": "fedaf1c3-0458-4638-9a93-94b070c1fb68"
      },
      "execution_count": 80,
      "outputs": [
        {
          "output_type": "stream",
          "name": "stdout",
          "text": [
            "   Fermento (mg)  Temperatura (°C)  Tempo (min)  Ovos (qtd)\n",
            "0           24.0             160.0         35.0         3.0\n",
            "1           36.0             160.0         35.0         4.0\n",
            "2           24.0             180.0         35.0         4.0\n",
            "3           36.0             180.0         35.0         3.0\n",
            "4           24.0             160.0         40.0         4.0\n",
            "5           36.0             160.0         40.0         3.0\n",
            "6           24.0             180.0         40.0         3.0\n",
            "7           36.0             180.0         40.0         4.0\n",
            "    Fermento (mg)  Temperatura (°C)  Tempo (min)  Ovos (qtd)\n",
            "8            24.0             160.0         35.0         4.0\n",
            "9            36.0             160.0         35.0         3.0\n",
            "10           24.0             180.0         35.0         3.0\n",
            "11           36.0             180.0         35.0         4.0\n",
            "12           24.0             160.0         40.0         3.0\n",
            "13           36.0             160.0         40.0         4.0\n",
            "14           24.0             180.0         40.0         4.0\n",
            "15           36.0             180.0         40.0         3.0\n"
          ]
        }
      ]
    },
    {
      "cell_type": "code",
      "source": [
        "# seu código"
      ],
      "metadata": {
        "id": "-bSIPsXPImvF"
      },
      "execution_count": null,
      "outputs": []
    }
  ]
}