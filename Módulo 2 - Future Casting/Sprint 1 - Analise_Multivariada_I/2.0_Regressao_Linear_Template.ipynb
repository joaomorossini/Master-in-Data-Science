{
 "nbformat": 4,
 "nbformat_minor": 0,
 "metadata": {
  "colab": {
   "provenance": []
  },
  "kernelspec": {
   "name": "python3",
   "language": "python",
   "display_name": "Python 3 (ipykernel)"
  },
  "language_info": {
   "name": "python"
  }
 },
 "cells": [
  {
   "cell_type": "markdown",
   "source": [
    "Para esta atividade iremos usar um conjunto de dados sobre preços de imóveis. O conjunto original pode ser encontrado no [kaggle](https://www.kaggle.com/datasets/gunhee/koreahousedata). Os dados que usaremos foram alterados para facilitar as análises."
   ],
   "metadata": {
    "id": "mCtQu82oNqOK"
   }
  },
  {
   "cell_type": "markdown",
   "source": [
    "# Regressão Linear Simples\n",
    "\n",
    "## Atividade 1: Importe os dados e verifique se há dados faltantes."
   ],
   "metadata": {
    "id": "XLXxmGAJtwG-"
   }
  },
  {
   "cell_type": "code",
   "source": [
    "# Importando dependências externas\n",
    "import pandas as pd\n",
    "import numpy as np\n",
    "import statsmodels.api as sm\n",
    "import seaborn as sns\n",
    "from statsmodels.stats.api import het_goldfeldquandt\n",
    "from scipy.stats import shapiro\n",
    "from statsmodels.stats.stattools import durbin_watson\n",
    "from sklearn.preprocessing import StandardScaler\n",
    "from statsmodels.tools.eval_measures import mse, rmse, meanabs\n",
    "from statsmodels.stats.outliers_influence import variance_inflation_factor"
   ],
   "metadata": {
    "id": "_FZHpdVhoCeH"
   },
   "execution_count": null,
   "outputs": []
  },
  {
   "cell_type": "code",
   "source": [
    "# Carregando os dados\n",
    "df = pd.read_csv('')\n",
    "df.head(2)"
   ],
   "metadata": {
    "id": "DJ2q7L1kqtYF"
   },
   "execution_count": null,
   "outputs": []
  },
  {
   "cell_type": "code",
   "source": [
    "# Avaliando os dados\n",
    "df.describe().T"
   ],
   "metadata": {
    "id": "boeW8HaCUvyt"
   },
   "execution_count": null,
   "outputs": []
  },
  {
   "cell_type": "code",
   "execution_count": null,
   "outputs": [],
   "source": [
    "# Verificando se há dados faltantes\n",
    "print(f'Qtd de dados do tipo NA: \\n {df.isna().sum()} \\n | Qtd de dados do tipo Null: \\n {df.isnull().sum()}')"
   ],
   "metadata": {
    "collapsed": false
   }
  },
  {
   "cell_type": "markdown",
   "source": [
    "## Atividade 2: Selecione apenas as variáveis `preco` e `m2`\n",
    "`OPCIONAL` se necessário, aplique o logaritmo natural para adequar os dados aos pressupostos da regressão linear."
   ],
   "metadata": {
    "id": "0w7txBL-wAmA"
   }
  },
  {
   "cell_type": "code",
   "source": [
    "# seu código"
   ],
   "metadata": {
    "id": "0-S8z6nQwRnp"
   },
   "execution_count": null,
   "outputs": []
  },
  {
   "cell_type": "code",
   "source": [
    "# seu código"
   ],
   "metadata": {
    "id": "MA6b2JMXNWsg"
   },
   "execution_count": null,
   "outputs": []
  },
  {
   "cell_type": "code",
   "source": [
    "# seu código"
   ],
   "metadata": {
    "id": "Il-OushrNEQM"
   },
   "execution_count": null,
   "outputs": []
  },
  {
   "cell_type": "code",
   "source": [
    "# seu código"
   ],
   "metadata": {
    "id": "VAE8ZG0TqtB9"
   },
   "execution_count": null,
   "outputs": []
  },
  {
   "cell_type": "markdown",
   "source": [
    "## Atividade 3: Crie um modelo de regressão linear simples e encontre os coeficientes do modelo."
   ],
   "metadata": {
    "id": "_H6juqPrLTTq"
   }
  },
  {
   "cell_type": "code",
   "source": [
    "# seu código"
   ],
   "metadata": {
    "id": "hO6cQFNioCcl"
   },
   "execution_count": null,
   "outputs": []
  },
  {
   "cell_type": "code",
   "execution_count": null,
   "metadata": {
    "id": "Eo2w7S54r-Ai"
   },
   "outputs": [],
   "source": [
    "# seu código"
   ]
  },
  {
   "cell_type": "markdown",
   "source": [
    "## Atividade 4: Verifique os pressupostos da regressão linear."
   ],
   "metadata": {
    "id": "n9are8ehMDJl"
   }
  },
  {
   "cell_type": "code",
   "source": [
    "# seu código"
   ],
   "metadata": {
    "id": "ijqQoXL041-F"
   },
   "execution_count": null,
   "outputs": []
  },
  {
   "cell_type": "markdown",
   "source": [
    "Linearidade"
   ],
   "metadata": {
    "id": "98VVXB_-vy_7"
   }
  },
  {
   "cell_type": "code",
   "source": [
    "# seu código"
   ],
   "metadata": {
    "id": "NDAe-65gv0_r"
   },
   "execution_count": null,
   "outputs": []
  },
  {
   "cell_type": "markdown",
   "source": [
    "Homocedasticidade\n",
    "\n",
    "Vamos checar a homocedasticidade com um teste de hipótese: Goldfeld Quandt. Este teste pode ser realizado importando-se a função `statsmodels.stats.api.het_goldfeldquandt()`.\n",
    "\n",
    "Neste teste, a hipótese nula é de que há homocedasticidade."
   ],
   "metadata": {
    "id": "WtkZeNJ68CAY"
   }
  },
  {
   "cell_type": "code",
   "source": [
    "# seu código"
   ],
   "metadata": {
    "id": "WM8AkHaOy2rQ"
   },
   "execution_count": null,
   "outputs": []
  },
  {
   "cell_type": "markdown",
   "source": [
    "Normalidade dos Resíduos\n",
    "\n",
    "Vamos checar a normalidadde dos resíduos usando o teste de hipóteses de Shapiro-Wilk. Neste caso, a hipótese nula é que a amostra segue distribuição normal. Podemos realizar este teste importando a função `scipy.stats.shapiro()`."
   ],
   "metadata": {
    "id": "iRQGANwz8FMw"
   }
  },
  {
   "cell_type": "code",
   "source": [
    "# seu código"
   ],
   "metadata": {
    "id": "0tzcAmvw4DWg"
   },
   "execution_count": null,
   "outputs": []
  },
  {
   "cell_type": "markdown",
   "source": [
    "Autocorrelação dos Resíduos\n",
    "\n",
    "Para checar se há autocorrelação entre os resíduos vamos usar o teste de hipótese de Durbin Watson. Ele pode ser importado do `statsmodels` com a sintaxe `statsmodels.stats.stattolls.durbin_watons()`."
   ],
   "metadata": {
    "id": "v1OgQlgz8Ix9"
   }
  },
  {
   "cell_type": "code",
   "source": [
    "# seu código"
   ],
   "metadata": {
    "id": "Ew5rKJ9y64-0"
   },
   "execution_count": null,
   "outputs": []
  },
  {
   "cell_type": "markdown",
   "source": [
    "Para decidirmor se há ou não autocorrelação dos resíduos, devemos observar o valor do teste. Valores entre 1.5 e 2.5 indicam que não há autocorrelação, valores fora dessa faixa indicam que há autocorrelação."
   ],
   "metadata": {
    "id": "9IcMU2g32eke"
   }
  },
  {
   "cell_type": "markdown",
   "source": [
    "Multicolinearidade\n",
    "\n"
   ],
   "metadata": {
    "id": "vueVPgKiyj9O"
   }
  },
  {
   "cell_type": "code",
   "source": [
    "# seu código"
   ],
   "metadata": {
    "id": "k98pU7-QeBQW"
   },
   "execution_count": null,
   "outputs": []
  },
  {
   "cell_type": "markdown",
   "source": [
    "# Regressão Linear Múltipla\n",
    "\n",
    "## Atividade 5: Crie um modelo de regressão linear múltipla.\n",
    "\n",
    "Para facilitar o trabalho, vamos deixar um pré processamento pronto."
   ],
   "metadata": {
    "id": "lBkwAWg-omOk"
   }
  },
  {
   "cell_type": "code",
   "source": [
    "# importando os dados\n",
    "df = pd.read_csv('')\n",
    "df.head(2)"
   ],
   "metadata": {
    "id": "wpKZbiPT8iBm",
    "colab": {
     "base_uri": "https://localhost:8080/",
     "height": 270
    },
    "outputId": "cfe6a522-b13b-4a5a-9437-bc3d10305a48"
   },
   "execution_count": null,
   "outputs": []
  },
  {
   "cell_type": "code",
   "execution_count": null,
   "outputs": [],
   "source": [
    "# criando nova variável\n",
    "df['qtde_conveniencia'] = df['qtde_shoppings_perto'] + df['qtde_estacionamentos_perto']\n",
    "\n",
    "# excluindo variáveis do DataFrame\n",
    "df.drop(['qtde_shoppings_perto','qtde_estacionamentos_perto'],\n",
    "        axis=1, inplace=True)\n",
    "\n",
    "df.head()"
   ],
   "metadata": {
    "collapsed": false
   }
  },
  {
   "cell_type": "code",
   "source": [
    "# aplicando One Hot Encoding à variável tipo_Aquecimento\n",
    "df_aux = pd.get_dummies(df['tipo_Aquecimento'], prefix='tipo_Aquecimento')\n",
    "df = pd.concat([df, df_aux], axis=1)\n",
    "df.drop(['tipo_Aquecimento', 'tipo_Aquecimento_central'], axis=1, inplace=True)"
   ],
   "metadata": {
    "id": "AmA0pXNAFGVk"
   },
   "execution_count": null,
   "outputs": []
  },
  {
   "cell_type": "code",
   "source": [
    "# aplicando One Hot Encoding à variável tempo_ate_onibus\n",
    "df_aux = pd.get_dummies(df['tempo_ate_onibus'], prefix='tempo_ate_onibus')\n",
    "df = pd.concat([df, df_aux], axis=1)\n",
    "df.drop(['tempo_ate_onibus', 'tempo_ate_onibus_10min~15min'], axis=1, inplace=True)"
   ],
   "metadata": {
    "id": "Ta7KXcf2RFXL"
   },
   "execution_count": null,
   "outputs": []
  },
  {
   "cell_type": "code",
   "source": [
    "# aplicando One Hot Encoding à variável tempo_ate_metro\n",
    "df_aux = pd.get_dummies(df['tempo_ate_metro'], prefix='tempo_ate_metro')\n",
    "df = pd.concat([df, df_aux], axis=1)\n",
    "df.drop(['tempo_ate_metro', 'tempo_ate_metro_no_bus_stop_nearby'], axis=1, inplace=True)\n",
    "df.head()"
   ],
   "metadata": {
    "colab": {
     "base_uri": "https://localhost:8080/",
     "height": 287
    },
    "id": "EZjExHtUK0qZ",
    "outputId": "b47be83d-8175-4155-914f-7f4af292edd1"
   },
   "execution_count": null,
   "outputs": []
  },
  {
   "cell_type": "code",
   "source": [
    "# separando os dados em X e y\n",
    "X = df.drop('preco', axis=1)\n",
    "y = df['preco']"
   ],
   "metadata": {
    "id": "zXAy7GhbLxSw"
   },
   "execution_count": null,
   "outputs": []
  },
  {
   "cell_type": "code",
   "source": [
    "# importando StandardScaler\n",
    "from sklearn.preprocessing import StandardScaler\n",
    "\n",
    "# instanciando a função\n",
    "scaler = StandardScaler()\n",
    "\n",
    "# criando uma cópia dos valores\n",
    "X_scaled = X.copy()\n",
    "\n",
    "# aplicando a padronização\n",
    "X_scaled[X_scaled.columns] = scaler.fit_transform(X_scaled)\n",
    "\n",
    "X_scaled.head()"
   ],
   "metadata": {
    "colab": {
     "base_uri": "https://localhost:8080/",
     "height": 287
    },
    "id": "egeeZp_wv_sY",
    "outputId": "7f564d69-d471-416e-804b-e90ec0d9ef08"
   },
   "execution_count": null,
   "outputs": []
  },
  {
   "cell_type": "code",
   "source": [
    "# seu código"
   ],
   "metadata": {
    "id": "ohnhmbLJ80fj"
   },
   "execution_count": null,
   "outputs": []
  },
  {
   "cell_type": "code",
   "source": [
    "# seu código"
   ],
   "metadata": {
    "id": "qf5dc9fpnhf9"
   },
   "execution_count": null,
   "outputs": []
  },
  {
   "cell_type": "markdown",
   "source": [
    "## Atividade 6: Faça a previsão do preço de um apartamento com as seguinte características:\n"
   ],
   "metadata": {
    "id": "T9HfBnG6Phj_"
   }
  },
  {
   "cell_type": "code",
   "source": [
    "# seu código"
   ],
   "metadata": {
    "id": "BncdpN8VPwsa"
   },
   "execution_count": null,
   "outputs": []
  },
  {
   "cell_type": "markdown",
   "source": [
    "## Atividade 7: Verifique os pressupostos do modelo."
   ],
   "metadata": {
    "id": "mkNyzH3fUBhd"
   }
  },
  {
   "cell_type": "code",
   "source": [
    "# seu código"
   ],
   "metadata": {
    "id": "Fa82XrU4nhe4"
   },
   "execution_count": null,
   "outputs": []
  },
  {
   "cell_type": "markdown",
   "source": [
    "Homocedasticidade dos Resíduos"
   ],
   "metadata": {
    "id": "sdfaRE2zPEWA"
   }
  },
  {
   "cell_type": "code",
   "source": [
    "# seu código"
   ],
   "metadata": {
    "id": "6qt7gRBJpG8G"
   },
   "execution_count": null,
   "outputs": []
  },
  {
   "cell_type": "markdown",
   "source": [
    "Normalidade dos Reíduos"
   ],
   "metadata": {
    "id": "V_ekgudIPJen"
   }
  },
  {
   "cell_type": "code",
   "source": [
    "# seu código"
   ],
   "metadata": {
    "id": "BV24IzV9pG6v"
   },
   "execution_count": null,
   "outputs": []
  },
  {
   "cell_type": "markdown",
   "source": [
    "Autocorrelação dos Resíduos"
   ],
   "metadata": {
    "id": "gTCwlrXaPQOQ"
   }
  },
  {
   "cell_type": "code",
   "source": [
    "# seu código"
   ],
   "metadata": {
    "id": "U1Ie1QclpG2i"
   },
   "execution_count": null,
   "outputs": []
  },
  {
   "cell_type": "markdown",
   "source": [
    "Multicolinearidade"
   ],
   "metadata": {
    "id": "KdrxXcmDNS-I"
   }
  },
  {
   "cell_type": "code",
   "source": [
    "# seu código"
   ],
   "metadata": {
    "id": "B-_WmbsMKMuK"
   },
   "execution_count": null,
   "outputs": []
  },
  {
   "cell_type": "markdown",
   "source": [
    "## Atividade 7: Avalie e compare ambos os modelos e decida qual é melhor."
   ],
   "metadata": {
    "id": "kAI6EAqwWM81"
   }
  },
  {
   "cell_type": "code",
   "source": [
    "# seu código"
   ],
   "metadata": {
    "id": "Qm3dZZ7QXsua"
   },
   "execution_count": null,
   "outputs": []
  },
  {
   "cell_type": "code",
   "source": [
    "# seu código"
   ],
   "metadata": {
    "id": "Dcfg5SehnhyB"
   },
   "execution_count": null,
   "outputs": []
  },
  {
   "cell_type": "code",
   "source": [
    "# seu código"
   ],
   "metadata": {
    "id": "nmvVYetfpuzw"
   },
   "execution_count": null,
   "outputs": []
  },
  {
   "cell_type": "code",
   "source": [
    "# seu código"
   ],
   "metadata": {
    "id": "fWQs5RRyputg"
   },
   "execution_count": null,
   "outputs": []
  },
  {
   "cell_type": "code",
   "source": [],
   "metadata": {
    "id": "spf1LvXrqEl8"
   },
   "execution_count": null,
   "outputs": []
  }
 ]
}
