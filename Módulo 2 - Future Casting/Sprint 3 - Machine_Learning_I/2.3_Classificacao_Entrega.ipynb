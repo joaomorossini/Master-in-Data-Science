{
 "cells": [
  {
   "cell_type": "markdown",
   "source": [
    "## Um problema maior, do tamanho de um Návio!\n",
    "\n",
    "Que tal pegarmos uma base de dados da vida real e trabalhar um pouco mais com algoritmos de classificação?\n",
    "\n",
    "Dessa vez, vamos usar um base classicamente usada para aprender aprendizado de maquina: A `Titanic`. Essa base descreve, para cada passageiro no histórico návio, se ele sobreviveu ou não aquela tragédia. Dentro das nossas `features` temos informações numéricas como idade e número de parentes a bordo, catégoricas como sexo e portão de embarque e até colunas que descrevem em qual cabine aquele passageiro estava dormindo!\n",
    "\n",
    "### Questão 1\n",
    "\n",
    "Nossa missão aqui é predizer quando um determinado passageiro sobreviveu ou não, sendo `1` sobreviveu e `0` não sobreviveu. Mas antes vamos tomar um tempo para estudar a base! Vamos usa-la bastante nesse exercício então precisamos nos familiarizar.\n",
    "\n",
    "Carregue a base `dataset/titanic_test.csv` e `dataset/titanic_train.csv`. Repare que como nossos dados estão separados em arquivos não iremos precisar usar o train_test_split!\n",
    "\n",
    "Através do arquivo de treino (`dataset/titanic_train.csv`) Visualize graficamente cada coluna, suas distribuições, sua cardinalidade, etc...\n",
    "\n",
    "Talvez você irá precisar de um catálogo explicando o que cada coluna que pode ser [encontrado aqui](https://www.kaggle.com/c/titanic/data)."
   ],
   "metadata": {
    "tags": [],
    "cell_id": "00008-f574aa0d-ee2b-4876-822e-057ae103de00",
    "deepnote_cell_type": "markdown",
    "deepnote_cell_height": 472.78125,
    "id": "vDiZ0YyTVjYC"
   }
  },
  {
   "cell_type": "code",
   "source": [
    "import numpy as np\n",
    "import pandas as pd\n",
    "import matplotlib.pyplot as plt\n",
    "import seaborn as sns\n",
    "import warnings\n",
    "warnings.filterwarnings('ignore')\n",
    "pd.set_option('display.max_columns', None)"
   ],
   "metadata": {
    "tags": [],
    "cell_id": "00001-5923ce1f-5d34-4ce9-98c1-ebdc3ee7cba9",
    "deepnote_to_be_reexecuted": false,
    "source_hash": "cd1615fd",
    "execution_start": 1660611154722,
    "execution_millis": 1,
    "deepnote_cell_type": "code",
    "deepnote_cell_height": 166,
    "id": "H15_GaxQVjYE",
    "ExecuteTime": {
     "end_time": "2023-09-03T16:39:35.312591Z",
     "start_time": "2023-09-03T16:39:35.307033Z"
    }
   },
   "execution_count": 25,
   "outputs": []
  },
  {
   "cell_type": "code",
   "source": [
    "#Questão 1\n",
    "#Escreva aqui o comando para importar os dados do arquivo titanic_train.csv para o seu dataframe usando pandas\n",
    "#lembra como ler(read em inglês) o arquivo?\n"
   ],
   "metadata": {
    "cell_id": "e20c77be71174b82803c8507a244100d",
    "tags": [],
    "deepnote_cell_type": "code",
    "deepnote_cell_height": 120,
    "id": "iJXKjrJZVjYF",
    "ExecuteTime": {
     "end_time": "2023-09-01T19:03:56.901090Z",
     "start_time": "2023-09-01T19:03:56.849807Z"
    }
   },
   "outputs": [],
   "execution_count": 26
  },
  {
   "cell_type": "code",
   "execution_count": 2,
   "outputs": [
    {
     "data": {
      "text/plain": "   PassengerId  Survived  Pclass  \\\n0            1         0       3   \n1            2         1       1   \n\n                                                Name     Sex   Age  SibSp  \\\n0                            Braund, Mr. Owen Harris    male  22.0      1   \n1  Cumings, Mrs. John Bradley (Florence Briggs Th...  female  38.0      1   \n\n   Parch     Ticket     Fare Cabin Embarked  \n0      0  A/5 21171   7.2500   NaN        S  \n1      0   PC 17599  71.2833   C85        C  ",
      "text/html": "<div>\n<style scoped>\n    .dataframe tbody tr th:only-of-type {\n        vertical-align: middle;\n    }\n\n    .dataframe tbody tr th {\n        vertical-align: top;\n    }\n\n    .dataframe thead th {\n        text-align: right;\n    }\n</style>\n<table border=\"1\" class=\"dataframe\">\n  <thead>\n    <tr style=\"text-align: right;\">\n      <th></th>\n      <th>PassengerId</th>\n      <th>Survived</th>\n      <th>Pclass</th>\n      <th>Name</th>\n      <th>Sex</th>\n      <th>Age</th>\n      <th>SibSp</th>\n      <th>Parch</th>\n      <th>Ticket</th>\n      <th>Fare</th>\n      <th>Cabin</th>\n      <th>Embarked</th>\n    </tr>\n  </thead>\n  <tbody>\n    <tr>\n      <th>0</th>\n      <td>1</td>\n      <td>0</td>\n      <td>3</td>\n      <td>Braund, Mr. Owen Harris</td>\n      <td>male</td>\n      <td>22.0</td>\n      <td>1</td>\n      <td>0</td>\n      <td>A/5 21171</td>\n      <td>7.2500</td>\n      <td>NaN</td>\n      <td>S</td>\n    </tr>\n    <tr>\n      <th>1</th>\n      <td>2</td>\n      <td>1</td>\n      <td>1</td>\n      <td>Cumings, Mrs. John Bradley (Florence Briggs Th...</td>\n      <td>female</td>\n      <td>38.0</td>\n      <td>1</td>\n      <td>0</td>\n      <td>PC 17599</td>\n      <td>71.2833</td>\n      <td>C85</td>\n      <td>C</td>\n    </tr>\n  </tbody>\n</table>\n</div>"
     },
     "execution_count": 2,
     "metadata": {},
     "output_type": "execute_result"
    }
   ],
   "source": [
    "df = pd.read_csv('titanic_train.csv')\n",
    "df.head(2)"
   ],
   "metadata": {
    "collapsed": false,
    "ExecuteTime": {
     "end_time": "2023-09-03T16:31:19.050389Z",
     "start_time": "2023-09-03T16:31:18.904463Z"
    }
   }
  },
  {
   "cell_type": "code",
   "source": [
    "# Questão 2\n",
    "# Agora de uma olhada nos dados para se familizarizar com as colunas númericas. Dica: descreva os dados? (describe)\n"
   ],
   "metadata": {
    "tags": [],
    "cell_id": "00002-e11e2635-8e4f-41b9-8d02-5e295359db62",
    "deepnote_to_be_reexecuted": false,
    "source_hash": "b9583d9b",
    "execution_start": 1660611206069,
    "execution_millis": 1,
    "deepnote_cell_type": "code",
    "deepnote_cell_height": 117,
    "id": "sq4nqp-VVjYF",
    "ExecuteTime": {
     "end_time": "2023-09-03T16:31:20.683617Z",
     "start_time": "2023-09-03T16:31:20.664801Z"
    }
   },
   "execution_count": 3,
   "outputs": []
  },
  {
   "cell_type": "code",
   "execution_count": 4,
   "outputs": [
    {
     "data": {
      "text/plain": "<bound method NDFrame.describe of      PassengerId  Survived  Pclass  \\\n0              1         0       3   \n1              2         1       1   \n2              3         1       3   \n3              4         1       1   \n4              5         0       3   \n..           ...       ...     ...   \n886          887         0       2   \n887          888         1       1   \n888          889         0       3   \n889          890         1       1   \n890          891         0       3   \n\n                                                  Name     Sex   Age  SibSp  \\\n0                              Braund, Mr. Owen Harris    male  22.0      1   \n1    Cumings, Mrs. John Bradley (Florence Briggs Th...  female  38.0      1   \n2                               Heikkinen, Miss. Laina  female  26.0      0   \n3         Futrelle, Mrs. Jacques Heath (Lily May Peel)  female  35.0      1   \n4                             Allen, Mr. William Henry    male  35.0      0   \n..                                                 ...     ...   ...    ...   \n886                              Montvila, Rev. Juozas    male  27.0      0   \n887                       Graham, Miss. Margaret Edith  female  19.0      0   \n888           Johnston, Miss. Catherine Helen \"Carrie\"  female   NaN      1   \n889                              Behr, Mr. Karl Howell    male  26.0      0   \n890                                Dooley, Mr. Patrick    male  32.0      0   \n\n     Parch            Ticket     Fare Cabin Embarked  \n0        0         A/5 21171   7.2500   NaN        S  \n1        0          PC 17599  71.2833   C85        C  \n2        0  STON/O2. 3101282   7.9250   NaN        S  \n3        0            113803  53.1000  C123        S  \n4        0            373450   8.0500   NaN        S  \n..     ...               ...      ...   ...      ...  \n886      0            211536  13.0000   NaN        S  \n887      0            112053  30.0000   B42        S  \n888      2        W./C. 6607  23.4500   NaN        S  \n889      0            111369  30.0000  C148        C  \n890      0            370376   7.7500   NaN        Q  \n\n[891 rows x 12 columns]>"
     },
     "execution_count": 4,
     "metadata": {},
     "output_type": "execute_result"
    }
   ],
   "source": [
    "df.describe"
   ],
   "metadata": {
    "collapsed": false,
    "ExecuteTime": {
     "end_time": "2023-09-03T16:31:22.177760Z",
     "start_time": "2023-09-03T16:31:22.168956Z"
    }
   }
  },
  {
   "cell_type": "code",
   "execution_count": 5,
   "outputs": [
    {
     "data": {
      "text/plain": "<bound method DataFrame.info of      PassengerId  Survived  Pclass  \\\n0              1         0       3   \n1              2         1       1   \n2              3         1       3   \n3              4         1       1   \n4              5         0       3   \n..           ...       ...     ...   \n886          887         0       2   \n887          888         1       1   \n888          889         0       3   \n889          890         1       1   \n890          891         0       3   \n\n                                                  Name     Sex   Age  SibSp  \\\n0                              Braund, Mr. Owen Harris    male  22.0      1   \n1    Cumings, Mrs. John Bradley (Florence Briggs Th...  female  38.0      1   \n2                               Heikkinen, Miss. Laina  female  26.0      0   \n3         Futrelle, Mrs. Jacques Heath (Lily May Peel)  female  35.0      1   \n4                             Allen, Mr. William Henry    male  35.0      0   \n..                                                 ...     ...   ...    ...   \n886                              Montvila, Rev. Juozas    male  27.0      0   \n887                       Graham, Miss. Margaret Edith  female  19.0      0   \n888           Johnston, Miss. Catherine Helen \"Carrie\"  female   NaN      1   \n889                              Behr, Mr. Karl Howell    male  26.0      0   \n890                                Dooley, Mr. Patrick    male  32.0      0   \n\n     Parch            Ticket     Fare Cabin Embarked  \n0        0         A/5 21171   7.2500   NaN        S  \n1        0          PC 17599  71.2833   C85        C  \n2        0  STON/O2. 3101282   7.9250   NaN        S  \n3        0            113803  53.1000  C123        S  \n4        0            373450   8.0500   NaN        S  \n..     ...               ...      ...   ...      ...  \n886      0            211536  13.0000   NaN        S  \n887      0            112053  30.0000   B42        S  \n888      2        W./C. 6607  23.4500   NaN        S  \n889      0            111369  30.0000  C148        C  \n890      0            370376   7.7500   NaN        Q  \n\n[891 rows x 12 columns]>"
     },
     "execution_count": 5,
     "metadata": {},
     "output_type": "execute_result"
    }
   ],
   "source": [
    "df.info"
   ],
   "metadata": {
    "collapsed": false,
    "ExecuteTime": {
     "end_time": "2023-09-03T16:31:23.793973Z",
     "start_time": "2023-09-03T16:31:23.785062Z"
    }
   }
  },
  {
   "cell_type": "code",
   "source": [
    "## Questão 3\n",
    "#sera que temos dados nulos? se sim, quantos? (isnull com um sum)\n"
   ],
   "metadata": {
    "tags": [],
    "cell_id": "00003-a454844b-a9ec-49e0-bcca-6c4c93cb8479",
    "deepnote_to_be_reexecuted": false,
    "source_hash": "f4f9f7ac",
    "execution_start": 1660611292617,
    "execution_millis": 2,
    "deepnote_cell_type": "code",
    "deepnote_cell_height": 112,
    "id": "EUdCWCGvVjYG",
    "ExecuteTime": {
     "end_time": "2023-09-03T16:31:38.996210Z",
     "start_time": "2023-09-03T16:31:38.988890Z"
    }
   },
   "execution_count": 6,
   "outputs": []
  },
  {
   "cell_type": "code",
   "execution_count": 7,
   "outputs": [
    {
     "data": {
      "text/plain": "PassengerId      0\nSurvived         0\nPclass           0\nName             0\nSex              0\nAge            177\nSibSp            0\nParch            0\nTicket           0\nFare             0\nCabin          687\nEmbarked         2\ndtype: int64"
     },
     "execution_count": 7,
     "metadata": {},
     "output_type": "execute_result"
    }
   ],
   "source": [
    "df.isnull().sum()"
   ],
   "metadata": {
    "collapsed": false,
    "ExecuteTime": {
     "end_time": "2023-09-03T16:31:39.834704Z",
     "start_time": "2023-09-03T16:31:39.777981Z"
    }
   }
  },
  {
   "cell_type": "code",
   "source": [
    "#Questão 4\n",
    "#plot um gráfico contando (count) a quantidade de pessoas que sobreviveram. Essa informação está na coluna `Survived`\n",
    "#dica1 plt.figure(figsize=(8,6))\n"
   ],
   "metadata": {
    "tags": [],
    "cell_id": "00004-0ffcb16c-8ff7-4753-944a-4737d230549a",
    "deepnote_to_be_reexecuted": false,
    "source_hash": "be2a2917",
    "execution_start": 1660611471895,
    "execution_millis": 1,
    "deepnote_cell_type": "code",
    "deepnote_cell_height": 135,
    "deepnote_output_heights": [
     21.1875,
     373
    ],
    "id": "dHfcnOPLVjYH",
    "ExecuteTime": {
     "end_time": "2023-09-03T16:31:54.154060Z",
     "start_time": "2023-09-03T16:31:54.147126Z"
    }
   },
   "execution_count": 8,
   "outputs": []
  },
  {
   "cell_type": "code",
   "execution_count": 9,
   "outputs": [
    {
     "name": "stdout",
     "output_type": "stream",
     "text": [
      "Sobreviventes:  342\n",
      "Mortos:  549\n"
     ]
    },
    {
     "data": {
      "text/plain": "<Figure size 800x600 with 1 Axes>",
      "image/png": "[encoded data removed]"
     },
     "metadata": {},
     "output_type": "display_data"
    }
   ],
   "source": [
    "print('Sobreviventes: ', df['Survived'].sum())\n",
    "print('Mortos: ', df['Survived'].count() - df['Survived'].sum())\n",
    "\n",
    "plt.figure(figsize=(8,6))\n",
    "sns.countplot(x='Survived', data=df);"
   ],
   "metadata": {
    "collapsed": false,
    "ExecuteTime": {
     "end_time": "2023-09-03T16:31:54.846492Z",
     "start_time": "2023-09-03T16:31:54.658746Z"
    }
   }
  },
  {
   "cell_type": "code",
   "source": [
    "#Questão 4\n",
    "#plot um gráfico contando (count) a quantidade de pessoas por gênero. Essa informação está na coluna `Sex`\n",
    "#dica1 plt.figure(figsize=(8,6))"
   ],
   "metadata": {
    "tags": [],
    "cell_id": "00005-994c7ee6-7475-4f9a-ab5b-0b1afa240c8b",
    "deepnote_to_be_reexecuted": false,
    "source_hash": "ef09f368",
    "execution_start": 1660611528149,
    "execution_millis": 209,
    "deepnote_cell_type": "code",
    "deepnote_cell_height": 487.1875,
    "deepnote_output_heights": [
     21.1875,
     266
    ],
    "id": "-DNJ2_INVjYH",
    "ExecuteTime": {
     "end_time": "2023-09-03T16:32:02.048685Z",
     "start_time": "2023-09-03T16:32:02.035720Z"
    }
   },
   "execution_count": 10,
   "outputs": []
  },
  {
   "cell_type": "code",
   "execution_count": 11,
   "outputs": [
    {
     "name": "stdout",
     "output_type": "stream",
     "text": [
      "Homens:  577\n",
      "Mulheres:  314\n"
     ]
    },
    {
     "data": {
      "text/plain": "<Figure size 800x600 with 1 Axes>",
      "image/png": "[encoded data removed]"
     },
     "metadata": {},
     "output_type": "display_data"
    }
   ],
   "source": [
    "# Imprimindo a quantidade de homens e mulheres\n",
    "print('Homens: ', (df['Sex'] == 'male').sum())\n",
    "print('Mulheres: ', (df['Sex'] == 'female').sum())\n",
    "plt.figure(figsize=(8,6))\n",
    "sns.countplot(x='Sex', data=df);"
   ],
   "metadata": {
    "collapsed": false,
    "ExecuteTime": {
     "end_time": "2023-09-03T16:32:11.451980Z",
     "start_time": "2023-09-03T16:32:11.290252Z"
    }
   }
  },
  {
   "cell_type": "code",
   "source": [
    "#Questão 6\n",
    "#plot um gráfico contando (count) a quantidade de pessoas que sobreviveram por sexo. Essas informações estão nas colunas `Survived` e `Sex`\n",
    "#dica1 plt.figure(figsize=(8,6))\n",
    "#dica 2 x='Survived', hue='Sex'\n"
   ],
   "metadata": {
    "tags": [],
    "cell_id": "00006-9f32ec2a-0b88-439a-af6b-044ca2293be3",
    "deepnote_to_be_reexecuted": false,
    "source_hash": "9b283d9a",
    "execution_start": 1660611657642,
    "execution_millis": 0,
    "deepnote_cell_type": "code",
    "deepnote_cell_height": 153,
    "deepnote_output_heights": [
     21.1875,
     373
    ],
    "id": "qlprHGzLVjYI",
    "ExecuteTime": {
     "end_time": "2023-09-03T16:32:17.160372Z",
     "start_time": "2023-09-03T16:32:17.141446Z"
    }
   },
   "execution_count": 12,
   "outputs": []
  },
  {
   "cell_type": "code",
   "execution_count": 13,
   "outputs": [
    {
     "data": {
      "text/plain": "<Figure size 800x600 with 1 Axes>",
      "image/png": "[encoded data removed]"
     },
     "metadata": {},
     "output_type": "display_data"
    }
   ],
   "source": [
    "# Configure the size of the plot\n",
    "plt.figure(figsize=(8, 6))\n",
    "\n",
    "# Create the count plot using seaborn\n",
    "sns.countplot(data=df, x='Survived', hue='Sex')\n",
    "\n",
    "# Add labels and title\n",
    "plt.xlabel('Survived')\n",
    "plt.ylabel('Count')\n",
    "plt.title('Survival Count by Sex')\n",
    "\n",
    "# Show the legend\n",
    "plt.legend(title='Sex')\n",
    "\n",
    "# Show the plot\n",
    "plt.show()"
   ],
   "metadata": {
    "collapsed": false,
    "ExecuteTime": {
     "end_time": "2023-09-03T16:32:21.081891Z",
     "start_time": "2023-09-03T16:32:20.886724Z"
    }
   }
  },
  {
   "cell_type": "code",
   "source": [
    "#Questão 7\n",
    "#agora veja como são os sobreviventes de acordo com as suas classes. Essa informação está na coluna `Pclass`\n",
    "#dica1 plt.figure(figsize=(8,6))"
   ],
   "metadata": {
    "tags": [],
    "cell_id": "00007-204fa783-7889-40f2-b160-8b8815d11f7b",
    "deepnote_to_be_reexecuted": false,
    "source_hash": "43d01109",
    "execution_start": 1660611772846,
    "execution_millis": 0,
    "deepnote_cell_type": "code",
    "deepnote_cell_height": 117,
    "deepnote_output_heights": [
     21.1875,
     373
    ],
    "id": "eFqKtA_qVjYI",
    "ExecuteTime": {
     "end_time": "2023-09-03T16:32:24.836129Z",
     "start_time": "2023-09-03T16:32:24.818619Z"
    }
   },
   "execution_count": 14,
   "outputs": []
  },
  {
   "cell_type": "code",
   "execution_count": 15,
   "outputs": [
    {
     "data": {
      "text/plain": "<Figure size 800x600 with 1 Axes>",
      "image/png": "[encoded data removed]"
     },
     "metadata": {},
     "output_type": "display_data"
    }
   ],
   "source": [
    "# Configure the size of the plot\n",
    "plt.figure(figsize=(8, 6))\n",
    "\n",
    "# Create the count plot using seaborn\n",
    "sns.countplot(data=df, x='Survived', hue='Pclass')\n",
    "\n",
    "# Add labels and title\n",
    "plt.xlabel('Survived')\n",
    "plt.ylabel('Count')\n",
    "plt.title('Survival Count by Passenger Class')\n",
    "\n",
    "# Show the legend\n",
    "plt.legend(title='Passenger Class')\n",
    "\n",
    "# Show the plot\n",
    "plt.show()"
   ],
   "metadata": {
    "collapsed": false,
    "ExecuteTime": {
     "end_time": "2023-09-03T16:32:26.481989Z",
     "start_time": "2023-09-03T16:32:26.273210Z"
    }
   }
  },
  {
   "cell_type": "code",
   "source": [
    "#Questão 8\n",
    "#Que tal agora fazemos um boxplot para juntarmos em um mesmo gráfico quem sobreviveu, seu gênero e sua idade?\n",
    "#dica1 plt.figure(figsize=(8,6))\n",
    "#dica 2 x='Survived', y= 'Age', hue='Sex'"
   ],
   "metadata": {
    "tags": [],
    "cell_id": "00008-2803dae2-2caa-4439-afab-03208f7fe2e9",
    "deepnote_to_be_reexecuted": false,
    "source_hash": "ddb04df3",
    "execution_start": 1660611845122,
    "execution_millis": 1,
    "deepnote_cell_type": "code",
    "deepnote_cell_height": 135,
    "deepnote_output_heights": [
     21.1875,
     373
    ],
    "id": "pFZYtLE6VjYJ",
    "ExecuteTime": {
     "end_time": "2023-09-03T16:32:40.926356Z",
     "start_time": "2023-09-03T16:32:40.913680Z"
    }
   },
   "execution_count": 16,
   "outputs": []
  },
  {
   "cell_type": "code",
   "execution_count": 17,
   "outputs": [
    {
     "data": {
      "text/plain": "<Axes: xlabel='Survived', ylabel='Age'>"
     },
     "execution_count": 17,
     "metadata": {},
     "output_type": "execute_result"
    },
    {
     "data": {
      "text/plain": "<Figure size 800x600 with 1 Axes>",
      "image/png": "[encoded data removed]"
     },
     "metadata": {},
     "output_type": "display_data"
    }
   ],
   "source": [
    "# Generate boxplot for Survived and Age\n",
    "plt.figure(figsize=(8, 6))\n",
    "sns.boxplot(data=df, x='Survived', y='Age')"
   ],
   "metadata": {
    "collapsed": false,
    "ExecuteTime": {
     "end_time": "2023-09-03T16:32:45.571923Z",
     "start_time": "2023-09-03T16:32:45.384735Z"
    }
   }
  },
  {
   "cell_type": "code",
   "source": [
    "#Questão 9\n",
    "#Como seria um boxplot da classe `Pclass` pela tarifa `Fare`?\n",
    "#dica1 plt.figure(figsize=(8,6))"
   ],
   "metadata": {
    "tags": [],
    "cell_id": "00009-a2ce1240-2070-4567-bbb2-900a510dcd18",
    "deepnote_to_be_reexecuted": false,
    "source_hash": "d7178b61",
    "execution_start": 1660611921338,
    "execution_millis": 1,
    "deepnote_cell_type": "code",
    "deepnote_cell_height": 112,
    "deepnote_output_heights": [
     21.1875,
     373
    ],
    "id": "9gkCRDj-VjYJ",
    "ExecuteTime": {
     "end_time": "2023-09-03T16:32:50.605630Z",
     "start_time": "2023-09-03T16:32:50.591758Z"
    }
   },
   "execution_count": 18,
   "outputs": []
  },
  {
   "cell_type": "code",
   "execution_count": 19,
   "outputs": [
    {
     "data": {
      "text/plain": "<Axes: xlabel='Pclass', ylabel='Fare'>"
     },
     "execution_count": 19,
     "metadata": {},
     "output_type": "execute_result"
    },
    {
     "data": {
      "text/plain": "<Figure size 800x600 with 1 Axes>",
      "image/png": "[encoded data removed]"
     },
     "metadata": {},
     "output_type": "display_data"
    }
   ],
   "source": [
    "plt.figure(figsize=(8, 6))\n",
    "sns.boxplot(data=df, x='Pclass', y='Fare')"
   ],
   "metadata": {
    "collapsed": false,
    "ExecuteTime": {
     "end_time": "2023-09-03T16:32:56.150555Z",
     "start_time": "2023-09-03T16:32:55.885346Z"
    }
   }
  },
  {
   "cell_type": "markdown",
   "source": [
    "## Usando Regressão Logística em problemas reais\n",
    "\n",
    "A regressão logística é um algoritmo de classificação binária, porém ele usa os mesmos princípios da regressão linear para resolver seus problemas.\n",
    "\n",
    "Logo, nossa entrada `X` precisa ser uma sequência de colunas numéricas e `y` uma coluna única binária.\n",
    "\n",
    "Olhando para a base do Titanic, é notavel que nosso `y` esta num formato adequado, porém, muitas colunas promissoras para nosso modelo não estão, como `gender`, `Pclass` e `Embarked`.\n",
    "\n",
    "Para torna-las númericas, precisamos **transforma-las em mais colunas e torna-las boolenas**. Isso porque não sabemos se elas tem alguma correlação, logo seria errado colocar por exemplo `Male = 1` e `Female = 0`. Para esse processo usamos um método de pré-processamento chamada **one-hot enconding**. Ainda vamos aprofundar nesse conceito na próxima aula. Por enquanto será suficiente apenas executar os comandos abaixo.\n",
    "\n",
    "### OneHotEnconding\n",
    "\n",
    "Rode o comando do scikit learn de OneHotEnconding nas colunas `gender`, `Pclass` e `Embarked`. Se quiser entender melhor o que está acontecendo, você acha a [documentação oficial](https://scikit-learn.org/stable/modules/generated/sklearn.preprocessing.OneHotEncoder.html) mas sinta-se livre para encontrar suas próprias fontes."
   ],
   "metadata": {
    "tags": [],
    "cell_id": "00010-06952b29-b7e8-410c-ab33-51c05c5f528f",
    "deepnote_cell_type": "markdown",
    "deepnote_cell_height": 436.375,
    "id": "5WiiSU0lVjYK"
   }
  },
  {
   "cell_type": "code",
   "source": [
    "from sklearn.preprocessing import OneHotEncoder\n",
    "\n",
    "train_df = pd.read_csv('titanic_train.csv') #aqui estamos carregando os dados de train para o dataframe\n",
    "\n",
    "encoder = OneHotEncoder(sparse=False)\n",
    "\n",
    "train_X_encoded = pd.DataFrame(encoder.fit_transform(train_df[['Sex', 'Pclass', 'Embarked']]))\n",
    "train_X_encoded.columns = encoder.get_feature_names_out(['Sex', 'Pclass', 'Embarked'])\n",
    "train_df.drop(['Sex', 'Pclass', 'Embarked'] ,axis=1, inplace=True)\n",
    "train_df = pd.concat([train_df, train_X_encoded ], axis=1)\n",
    "\n",
    "train_df #novo dataframe após rodarmos o OneHotEncoder. Você consegue ver o que mudou?"
   ],
   "metadata": {
    "tags": [],
    "cell_id": "00011-ccc397bc-1512-4e6a-884b-33c1daa2ff4f",
    "deepnote_to_be_reexecuted": false,
    "source_hash": "624c923d",
    "execution_start": 1660612053384,
    "execution_millis": 238,
    "deepnote_cell_type": "code",
    "deepnote_cell_height": 867.890625,
    "id": "eP7Ug6zfVjYK",
    "ExecuteTime": {
     "end_time": "2023-09-03T16:40:39.401393Z",
     "start_time": "2023-09-03T16:40:39.364943Z"
    }
   },
   "execution_count": 27,
   "outputs": [
    {
     "data": {
      "text/plain": "     PassengerId  Survived                                               Name  \\\n0              1         0                            Braund, Mr. Owen Harris   \n1              2         1  Cumings, Mrs. John Bradley (Florence Briggs Th...   \n2              3         1                             Heikkinen, Miss. Laina   \n3              4         1       Futrelle, Mrs. Jacques Heath (Lily May Peel)   \n4              5         0                           Allen, Mr. William Henry   \n..           ...       ...                                                ...   \n886          887         0                              Montvila, Rev. Juozas   \n887          888         1                       Graham, Miss. Margaret Edith   \n888          889         0           Johnston, Miss. Catherine Helen \"Carrie\"   \n889          890         1                              Behr, Mr. Karl Howell   \n890          891         0                                Dooley, Mr. Patrick   \n\n      Age  SibSp  Parch            Ticket     Fare Cabin  Sex_female  \\\n0    22.0      1      0         A/5 21171   7.2500   NaN         0.0   \n1    38.0      1      0          PC 17599  71.2833   C85         1.0   \n2    26.0      0      0  STON/O2. 3101282   7.9250   NaN         1.0   \n3    35.0      1      0            113803  53.1000  C123         1.0   \n4    35.0      0      0            373450   8.0500   NaN         0.0   \n..    ...    ...    ...               ...      ...   ...         ...   \n886  27.0      0      0            211536  13.0000   NaN         0.0   \n887  19.0      0      0            112053  30.0000   B42         1.0   \n888   NaN      1      2        W./C. 6607  23.4500   NaN         1.0   \n889  26.0      0      0            111369  30.0000  C148         0.0   \n890  32.0      0      0            370376   7.7500   NaN         0.0   \n\n     Sex_male  Pclass_1  Pclass_2  Pclass_3  Embarked_C  Embarked_Q  \\\n0         1.0       0.0       0.0       1.0         0.0         0.0   \n1         0.0       1.0       0.0       0.0         1.0         0.0   \n2         0.0       0.0       0.0       1.0         0.0         0.0   \n3         0.0       1.0       0.0       0.0         0.0         0.0   \n4         1.0       0.0       0.0       1.0         0.0         0.0   \n..        ...       ...       ...       ...         ...         ...   \n886       1.0       0.0       1.0       0.0         0.0         0.0   \n887       0.0       1.0       0.0       0.0         0.0         0.0   \n888       0.0       0.0       0.0       1.0         0.0         0.0   \n889       1.0       1.0       0.0       0.0         1.0         0.0   \n890       1.0       0.0       0.0       1.0         0.0         1.0   \n\n     Embarked_S  Embarked_nan  \n0           1.0           0.0  \n1           0.0           0.0  \n2           1.0           0.0  \n3           1.0           0.0  \n4           1.0           0.0  \n..          ...           ...  \n886         1.0           0.0  \n887         1.0           0.0  \n888         1.0           0.0  \n889         0.0           0.0  \n890         0.0           0.0  \n\n[891 rows x 18 columns]",
      "text/html": "<div>\n<style scoped>\n    .dataframe tbody tr th:only-of-type {\n        vertical-align: middle;\n    }\n\n    .dataframe tbody tr th {\n        vertical-align: top;\n    }\n\n    .dataframe thead th {\n        text-align: right;\n    }\n</style>\n<table border=\"1\" class=\"dataframe\">\n  <thead>\n    <tr style=\"text-align: right;\">\n      <th></th>\n      <th>PassengerId</th>\n      <th>Survived</th>\n      <th>Name</th>\n      <th>Age</th>\n      <th>SibSp</th>\n      <th>Parch</th>\n      <th>Ticket</th>\n      <th>Fare</th>\n      <th>Cabin</th>\n      <th>Sex_female</th>\n      <th>Sex_male</th>\n      <th>Pclass_1</th>\n      <th>Pclass_2</th>\n      <th>Pclass_3</th>\n      <th>Embarked_C</th>\n      <th>Embarked_Q</th>\n      <th>Embarked_S</th>\n      <th>Embarked_nan</th>\n    </tr>\n  </thead>\n  <tbody>\n    <tr>\n      <th>0</th>\n      <td>1</td>\n      <td>0</td>\n      <td>Braund, Mr. Owen Harris</td>\n      <td>22.0</td>\n      <td>1</td>\n      <td>0</td>\n      <td>A/5 21171</td>\n      <td>7.2500</td>\n      <td>NaN</td>\n      <td>0.0</td>\n      <td>1.0</td>\n      <td>0.0</td>\n      <td>0.0</td>\n      <td>1.0</td>\n      <td>0.0</td>\n      <td>0.0</td>\n      <td>1.0</td>\n      <td>0.0</td>\n    </tr>\n    <tr>\n      <th>1</th>\n      <td>2</td>\n      <td>1</td>\n      <td>Cumings, Mrs. John Bradley (Florence Briggs Th...</td>\n      <td>38.0</td>\n      <td>1</td>\n      <td>0</td>\n      <td>PC 17599</td>\n      <td>71.2833</td>\n      <td>C85</td>\n      <td>1.0</td>\n      <td>0.0</td>\n      <td>1.0</td>\n      <td>0.0</td>\n      <td>0.0</td>\n      <td>1.0</td>\n      <td>0.0</td>\n      <td>0.0</td>\n      <td>0.0</td>\n    </tr>\n    <tr>\n      <th>2</th>\n      <td>3</td>\n      <td>1</td>\n      <td>Heikkinen, Miss. Laina</td>\n      <td>26.0</td>\n      <td>0</td>\n      <td>0</td>\n      <td>STON/O2. 3101282</td>\n      <td>7.9250</td>\n      <td>NaN</td>\n      <td>1.0</td>\n      <td>0.0</td>\n      <td>0.0</td>\n      <td>0.0</td>\n      <td>1.0</td>\n      <td>0.0</td>\n      <td>0.0</td>\n      <td>1.0</td>\n      <td>0.0</td>\n    </tr>\n    <tr>\n      <th>3</th>\n      <td>4</td>\n      <td>1</td>\n      <td>Futrelle, Mrs. Jacques Heath (Lily May Peel)</td>\n      <td>35.0</td>\n      <td>1</td>\n      <td>0</td>\n      <td>113803</td>\n      <td>53.1000</td>\n      <td>C123</td>\n      <td>1.0</td>\n      <td>0.0</td>\n      <td>1.0</td>\n      <td>0.0</td>\n      <td>0.0</td>\n      <td>0.0</td>\n      <td>0.0</td>\n      <td>1.0</td>\n      <td>0.0</td>\n    </tr>\n    <tr>\n      <th>4</th>\n      <td>5</td>\n      <td>0</td>\n      <td>Allen, Mr. William Henry</td>\n      <td>35.0</td>\n      <td>0</td>\n      <td>0</td>\n      <td>373450</td>\n      <td>8.0500</td>\n      <td>NaN</td>\n      <td>0.0</td>\n      <td>1.0</td>\n      <td>0.0</td>\n      <td>0.0</td>\n      <td>1.0</td>\n      <td>0.0</td>\n      <td>0.0</td>\n      <td>1.0</td>\n      <td>0.0</td>\n    </tr>\n    <tr>\n      <th>...</th>\n      <td>...</td>\n      <td>...</td>\n      <td>...</td>\n      <td>...</td>\n      <td>...</td>\n      <td>...</td>\n      <td>...</td>\n      <td>...</td>\n      <td>...</td>\n      <td>...</td>\n      <td>...</td>\n      <td>...</td>\n      <td>...</td>\n      <td>...</td>\n      <td>...</td>\n      <td>...</td>\n      <td>...</td>\n      <td>...</td>\n    </tr>\n    <tr>\n      <th>886</th>\n      <td>887</td>\n      <td>0</td>\n      <td>Montvila, Rev. Juozas</td>\n      <td>27.0</td>\n      <td>0</td>\n      <td>0</td>\n      <td>211536</td>\n      <td>13.0000</td>\n      <td>NaN</td>\n      <td>0.0</td>\n      <td>1.0</td>\n      <td>0.0</td>\n      <td>1.0</td>\n      <td>0.0</td>\n      <td>0.0</td>\n      <td>0.0</td>\n      <td>1.0</td>\n      <td>0.0</td>\n    </tr>\n    <tr>\n      <th>887</th>\n      <td>888</td>\n      <td>1</td>\n      <td>Graham, Miss. Margaret Edith</td>\n      <td>19.0</td>\n      <td>0</td>\n      <td>0</td>\n      <td>112053</td>\n      <td>30.0000</td>\n      <td>B42</td>\n      <td>1.0</td>\n      <td>0.0</td>\n      <td>1.0</td>\n      <td>0.0</td>\n      <td>0.0</td>\n      <td>0.0</td>\n      <td>0.0</td>\n      <td>1.0</td>\n      <td>0.0</td>\n    </tr>\n    <tr>\n      <th>888</th>\n      <td>889</td>\n      <td>0</td>\n      <td>Johnston, Miss. Catherine Helen \"Carrie\"</td>\n      <td>NaN</td>\n      <td>1</td>\n      <td>2</td>\n      <td>W./C. 6607</td>\n      <td>23.4500</td>\n      <td>NaN</td>\n      <td>1.0</td>\n      <td>0.0</td>\n      <td>0.0</td>\n      <td>0.0</td>\n      <td>1.0</td>\n      <td>0.0</td>\n      <td>0.0</td>\n      <td>1.0</td>\n      <td>0.0</td>\n    </tr>\n    <tr>\n      <th>889</th>\n      <td>890</td>\n      <td>1</td>\n      <td>Behr, Mr. Karl Howell</td>\n      <td>26.0</td>\n      <td>0</td>\n      <td>0</td>\n      <td>111369</td>\n      <td>30.0000</td>\n      <td>C148</td>\n      <td>0.0</td>\n      <td>1.0</td>\n      <td>1.0</td>\n      <td>0.0</td>\n      <td>0.0</td>\n      <td>1.0</td>\n      <td>0.0</td>\n      <td>0.0</td>\n      <td>0.0</td>\n    </tr>\n    <tr>\n      <th>890</th>\n      <td>891</td>\n      <td>0</td>\n      <td>Dooley, Mr. Patrick</td>\n      <td>32.0</td>\n      <td>0</td>\n      <td>0</td>\n      <td>370376</td>\n      <td>7.7500</td>\n      <td>NaN</td>\n      <td>0.0</td>\n      <td>1.0</td>\n      <td>0.0</td>\n      <td>0.0</td>\n      <td>1.0</td>\n      <td>0.0</td>\n      <td>1.0</td>\n      <td>0.0</td>\n      <td>0.0</td>\n    </tr>\n  </tbody>\n</table>\n<p>891 rows × 18 columns</p>\n</div>"
     },
     "execution_count": 27,
     "metadata": {},
     "output_type": "execute_result"
    }
   ]
  },
  {
   "cell_type": "markdown",
   "source": [
    "### Normalizando\n",
    "\n",
    "Note que agora, todas as nossas colunas categóricas relevantes tem suas contrapartes numéricas (inclusive mais de uma).\n",
    "\n",
    "Esse processo que estamos fazendo se chama _pré-processamento_ e está centrado em tornar nossas bases adequadas para o algoritmo que pretendemos usar.\n",
    "\n",
    "Vamos então entender um novo processo de pré-processamento, agora para variáveis númericas. Uma boa prática que facilita o trabalho do nosso modelo é **normalizarmos variáveis numéricas**. Isto é, deixa-las todas com um `range` semelhante.\n",
    "\n",
    "Para isso podemos usar o `StandardScaler`, da biblioteca sklearn, para aplicarmos essas operações em nossa base, vamos aplica-las nas colunas `Age`, `SibSp` e `Fare`.\n",
    "\n",
    "Lembrando que para entender como usa você deve pesquisar por referência e exemplos na internet, e nunca se esqueça de olhar a [documentação oficial](https://scikit-learn.org/stable/modules/generated/sklearn.preprocessing.StandardScaler.html).\n",
    "\n",
    "Novamente, não se preocupe tanto com esse passo. Os comandos a serem executados estão logo abaixo. Substitua as colunas originais pelo resultado alcançado. Mas tente entender o que está acontecendo"
   ],
   "metadata": {
    "tags": [],
    "cell_id": "00012-1369d091-6d52-4c71-9412-a6637b45e72e",
    "deepnote_cell_type": "markdown",
    "deepnote_cell_height": 394.375,
    "id": "tnTMaeNyVjYL"
   }
  },
  {
   "cell_type": "code",
   "metadata": {
    "tags": [],
    "cell_id": "00013-afd44c09-268c-4e87-b5c4-a36848e7a35c",
    "deepnote_to_be_reexecuted": false,
    "source_hash": "54b69399",
    "execution_start": 1660612106419,
    "execution_millis": 130,
    "deepnote_cell_type": "code",
    "deepnote_cell_height": 775,
    "id": "atB8DD_iVjYL",
    "ExecuteTime": {
     "end_time": "2023-09-03T16:45:12.258346Z",
     "start_time": "2023-09-03T16:45:12.225655Z"
    }
   },
   "source": [
    "from sklearn.preprocessing import StandardScaler\n",
    "\n",
    "features = ['Age', 'SibSp', 'Fare']\n",
    "\n",
    "ss = StandardScaler()\n",
    "\n",
    "ss.fit(train_df[features])\n",
    "\n",
    "train_df[features] = ss.transform(train_df[features])\n",
    "\n",
    "train_df"
   ],
   "execution_count": 28,
   "outputs": [
    {
     "data": {
      "text/plain": "     PassengerId  Survived                                               Name  \\\n0              1         0                            Braund, Mr. Owen Harris   \n1              2         1  Cumings, Mrs. John Bradley (Florence Briggs Th...   \n2              3         1                             Heikkinen, Miss. Laina   \n3              4         1       Futrelle, Mrs. Jacques Heath (Lily May Peel)   \n4              5         0                           Allen, Mr. William Henry   \n..           ...       ...                                                ...   \n886          887         0                              Montvila, Rev. Juozas   \n887          888         1                       Graham, Miss. Margaret Edith   \n888          889         0           Johnston, Miss. Catherine Helen \"Carrie\"   \n889          890         1                              Behr, Mr. Karl Howell   \n890          891         0                                Dooley, Mr. Patrick   \n\n          Age     SibSp  Parch            Ticket      Fare Cabin  Sex_female  \\\n0   -0.530377  0.432793      0         A/5 21171 -0.502445   NaN         0.0   \n1    0.571831  0.432793      0          PC 17599  0.786845   C85         1.0   \n2   -0.254825 -0.474545      0  STON/O2. 3101282 -0.488854   NaN         1.0   \n3    0.365167  0.432793      0            113803  0.420730  C123         1.0   \n4    0.365167 -0.474545      0            373450 -0.486337   NaN         0.0   \n..        ...       ...    ...               ...       ...   ...         ...   \n886 -0.185937 -0.474545      0            211536 -0.386671   NaN         0.0   \n887 -0.737041 -0.474545      0            112053 -0.044381   B42         1.0   \n888       NaN  0.432793      2        W./C. 6607 -0.176263   NaN         1.0   \n889 -0.254825 -0.474545      0            111369 -0.044381  C148         0.0   \n890  0.158503 -0.474545      0            370376 -0.492378   NaN         0.0   \n\n     Sex_male  Pclass_1  Pclass_2  Pclass_3  Embarked_C  Embarked_Q  \\\n0         1.0       0.0       0.0       1.0         0.0         0.0   \n1         0.0       1.0       0.0       0.0         1.0         0.0   \n2         0.0       0.0       0.0       1.0         0.0         0.0   \n3         0.0       1.0       0.0       0.0         0.0         0.0   \n4         1.0       0.0       0.0       1.0         0.0         0.0   \n..        ...       ...       ...       ...         ...         ...   \n886       1.0       0.0       1.0       0.0         0.0         0.0   \n887       0.0       1.0       0.0       0.0         0.0         0.0   \n888       0.0       0.0       0.0       1.0         0.0         0.0   \n889       1.0       1.0       0.0       0.0         1.0         0.0   \n890       1.0       0.0       0.0       1.0         0.0         1.0   \n\n     Embarked_S  Embarked_nan  \n0           1.0           0.0  \n1           0.0           0.0  \n2           1.0           0.0  \n3           1.0           0.0  \n4           1.0           0.0  \n..          ...           ...  \n886         1.0           0.0  \n887         1.0           0.0  \n888         1.0           0.0  \n889         0.0           0.0  \n890         0.0           0.0  \n\n[891 rows x 18 columns]",
      "text/html": "<div>\n<style scoped>\n    .dataframe tbody tr th:only-of-type {\n        vertical-align: middle;\n    }\n\n    .dataframe tbody tr th {\n        vertical-align: top;\n    }\n\n    .dataframe thead th {\n        text-align: right;\n    }\n</style>\n<table border=\"1\" class=\"dataframe\">\n  <thead>\n    <tr style=\"text-align: right;\">\n      <th></th>\n      <th>PassengerId</th>\n      <th>Survived</th>\n      <th>Name</th>\n      <th>Age</th>\n      <th>SibSp</th>\n      <th>Parch</th>\n      <th>Ticket</th>\n      <th>Fare</th>\n      <th>Cabin</th>\n      <th>Sex_female</th>\n      <th>Sex_male</th>\n      <th>Pclass_1</th>\n      <th>Pclass_2</th>\n      <th>Pclass_3</th>\n      <th>Embarked_C</th>\n      <th>Embarked_Q</th>\n      <th>Embarked_S</th>\n      <th>Embarked_nan</th>\n    </tr>\n  </thead>\n  <tbody>\n    <tr>\n      <th>0</th>\n      <td>1</td>\n      <td>0</td>\n      <td>Braund, Mr. Owen Harris</td>\n      <td>-0.530377</td>\n      <td>0.432793</td>\n      <td>0</td>\n      <td>A/5 21171</td>\n      <td>-0.502445</td>\n      <td>NaN</td>\n      <td>0.0</td>\n      <td>1.0</td>\n      <td>0.0</td>\n      <td>0.0</td>\n      <td>1.0</td>\n      <td>0.0</td>\n      <td>0.0</td>\n      <td>1.0</td>\n      <td>0.0</td>\n    </tr>\n    <tr>\n      <th>1</th>\n      <td>2</td>\n      <td>1</td>\n      <td>Cumings, Mrs. John Bradley (Florence Briggs Th...</td>\n      <td>0.571831</td>\n      <td>0.432793</td>\n      <td>0</td>\n      <td>PC 17599</td>\n      <td>0.786845</td>\n      <td>C85</td>\n      <td>1.0</td>\n      <td>0.0</td>\n      <td>1.0</td>\n      <td>0.0</td>\n      <td>0.0</td>\n      <td>1.0</td>\n      <td>0.0</td>\n      <td>0.0</td>\n      <td>0.0</td>\n    </tr>\n    <tr>\n      <th>2</th>\n      <td>3</td>\n      <td>1</td>\n      <td>Heikkinen, Miss. Laina</td>\n      <td>-0.254825</td>\n      <td>-0.474545</td>\n      <td>0</td>\n      <td>STON/O2. 3101282</td>\n      <td>-0.488854</td>\n      <td>NaN</td>\n      <td>1.0</td>\n      <td>0.0</td>\n      <td>0.0</td>\n      <td>0.0</td>\n      <td>1.0</td>\n      <td>0.0</td>\n      <td>0.0</td>\n      <td>1.0</td>\n      <td>0.0</td>\n    </tr>\n    <tr>\n      <th>3</th>\n      <td>4</td>\n      <td>1</td>\n      <td>Futrelle, Mrs. Jacques Heath (Lily May Peel)</td>\n      <td>0.365167</td>\n      <td>0.432793</td>\n      <td>0</td>\n      <td>113803</td>\n      <td>0.420730</td>\n      <td>C123</td>\n      <td>1.0</td>\n      <td>0.0</td>\n      <td>1.0</td>\n      <td>0.0</td>\n      <td>0.0</td>\n      <td>0.0</td>\n      <td>0.0</td>\n      <td>1.0</td>\n      <td>0.0</td>\n    </tr>\n    <tr>\n      <th>4</th>\n      <td>5</td>\n      <td>0</td>\n      <td>Allen, Mr. William Henry</td>\n      <td>0.365167</td>\n      <td>-0.474545</td>\n      <td>0</td>\n      <td>373450</td>\n      <td>-0.486337</td>\n      <td>NaN</td>\n      <td>0.0</td>\n      <td>1.0</td>\n      <td>0.0</td>\n      <td>0.0</td>\n      <td>1.0</td>\n      <td>0.0</td>\n      <td>0.0</td>\n      <td>1.0</td>\n      <td>0.0</td>\n    </tr>\n    <tr>\n      <th>...</th>\n      <td>...</td>\n      <td>...</td>\n      <td>...</td>\n      <td>...</td>\n      <td>...</td>\n      <td>...</td>\n      <td>...</td>\n      <td>...</td>\n      <td>...</td>\n      <td>...</td>\n      <td>...</td>\n      <td>...</td>\n      <td>...</td>\n      <td>...</td>\n      <td>...</td>\n      <td>...</td>\n      <td>...</td>\n      <td>...</td>\n    </tr>\n    <tr>\n      <th>886</th>\n      <td>887</td>\n      <td>0</td>\n      <td>Montvila, Rev. Juozas</td>\n      <td>-0.185937</td>\n      <td>-0.474545</td>\n      <td>0</td>\n      <td>211536</td>\n      <td>-0.386671</td>\n      <td>NaN</td>\n      <td>0.0</td>\n      <td>1.0</td>\n      <td>0.0</td>\n      <td>1.0</td>\n      <td>0.0</td>\n      <td>0.0</td>\n      <td>0.0</td>\n      <td>1.0</td>\n      <td>0.0</td>\n    </tr>\n    <tr>\n      <th>887</th>\n      <td>888</td>\n      <td>1</td>\n      <td>Graham, Miss. Margaret Edith</td>\n      <td>-0.737041</td>\n      <td>-0.474545</td>\n      <td>0</td>\n      <td>112053</td>\n      <td>-0.044381</td>\n      <td>B42</td>\n      <td>1.0</td>\n      <td>0.0</td>\n      <td>1.0</td>\n      <td>0.0</td>\n      <td>0.0</td>\n      <td>0.0</td>\n      <td>0.0</td>\n      <td>1.0</td>\n      <td>0.0</td>\n    </tr>\n    <tr>\n      <th>888</th>\n      <td>889</td>\n      <td>0</td>\n      <td>Johnston, Miss. Catherine Helen \"Carrie\"</td>\n      <td>NaN</td>\n      <td>0.432793</td>\n      <td>2</td>\n      <td>W./C. 6607</td>\n      <td>-0.176263</td>\n      <td>NaN</td>\n      <td>1.0</td>\n      <td>0.0</td>\n      <td>0.0</td>\n      <td>0.0</td>\n      <td>1.0</td>\n      <td>0.0</td>\n      <td>0.0</td>\n      <td>1.0</td>\n      <td>0.0</td>\n    </tr>\n    <tr>\n      <th>889</th>\n      <td>890</td>\n      <td>1</td>\n      <td>Behr, Mr. Karl Howell</td>\n      <td>-0.254825</td>\n      <td>-0.474545</td>\n      <td>0</td>\n      <td>111369</td>\n      <td>-0.044381</td>\n      <td>C148</td>\n      <td>0.0</td>\n      <td>1.0</td>\n      <td>1.0</td>\n      <td>0.0</td>\n      <td>0.0</td>\n      <td>1.0</td>\n      <td>0.0</td>\n      <td>0.0</td>\n      <td>0.0</td>\n    </tr>\n    <tr>\n      <th>890</th>\n      <td>891</td>\n      <td>0</td>\n      <td>Dooley, Mr. Patrick</td>\n      <td>0.158503</td>\n      <td>-0.474545</td>\n      <td>0</td>\n      <td>370376</td>\n      <td>-0.492378</td>\n      <td>NaN</td>\n      <td>0.0</td>\n      <td>1.0</td>\n      <td>0.0</td>\n      <td>0.0</td>\n      <td>1.0</td>\n      <td>0.0</td>\n      <td>1.0</td>\n      <td>0.0</td>\n      <td>0.0</td>\n    </tr>\n  </tbody>\n</table>\n<p>891 rows × 18 columns</p>\n</div>"
     },
     "execution_count": 28,
     "metadata": {},
     "output_type": "execute_result"
    }
   ]
  },
  {
   "cell_type": "markdown",
   "source": [
    "### Eliminando valores nulos\n",
    "\n",
    "Agora antes de irmos adiante existe uma coisa sobre regressão logística e valores numéricos que precisamos saber: _Regressões odeiam valores nulos!_ (você consegue entender o porque disso?)\n",
    "\n",
    "Analise as três colunas geradas e verifique se temos valores nulos nelas\n",
    "\n",
    "Substitua esses valores nulos pela mediana, essa é uma tecnica comum para evitar problemas de valores nulos.\n",
    "\n",
    "Uso métodos do pandas para isso. Essa aqui eu deixo com vocês escrever o código para fazer isso."
   ],
   "metadata": {
    "tags": [],
    "cell_id": "00014-dc833474-ab12-4b73-8c92-ebaad54ceb6f",
    "deepnote_cell_type": "markdown",
    "deepnote_cell_height": 231.984375,
    "id": "DbMW31-bVjYL"
   }
  },
  {
   "cell_type": "code",
   "source": [
    "#Questão 10\n",
    "#preencha os valores vazios da cooluna `Age` com a mediana da idade dos passageiros\n",
    "age_median = train_df['Age'].median()\n",
    "train_df['Age'].fillna(age_median, inplace=True)\n",
    "train_df.isna().sum()"
   ],
   "metadata": {
    "tags": [],
    "cell_id": "00015-9216a8b7-6021-428f-a990-64725678a169",
    "deepnote_to_be_reexecuted": false,
    "source_hash": "3c12190d",
    "execution_start": 1660608501639,
    "execution_millis": 3,
    "deepnote_cell_type": "code",
    "deepnote_cell_height": 94,
    "id": "xDCImwN0VjYL",
    "ExecuteTime": {
     "end_time": "2023-09-03T16:58:23.702966Z",
     "start_time": "2023-09-03T16:58:23.699979Z"
    }
   },
   "execution_count": 31,
   "outputs": [
    {
     "data": {
      "text/plain": "PassengerId       0\nSurvived          0\nName              0\nAge               0\nSibSp             0\nParch             0\nTicket            0\nFare              0\nCabin           687\nSex_female        0\nSex_male          0\nPclass_1          0\nPclass_2          0\nPclass_3          0\nEmbarked_C        0\nEmbarked_Q        0\nEmbarked_S        0\nEmbarked_nan      0\ndtype: int64"
     },
     "execution_count": 31,
     "metadata": {},
     "output_type": "execute_result"
    }
   ]
  },
  {
   "cell_type": "markdown",
   "source": [
    "### Ajustando o arquivo de teste\n",
    "\n",
    "Como voce percebeu, fizemos diversas alterações nos dados que carregamos do arquivo 'titanic_train.csv'\n",
    "Precisamos repetir os mesmos passos para os dados de teste! Os comandos são os mesmos.\n",
    "\n",
    "Carregue a base de teste e faça as mesmas transformações (`OneHotEnconding` e `StandardScaler`)."
   ],
   "metadata": {
    "cell_id": "8094c522ab544fde9a06d38465495549",
    "tags": [],
    "deepnote_cell_type": "markdown",
    "deepnote_cell_height": 159.1875,
    "id": "7mKmY4MlVjYM"
   }
  },
  {
   "cell_type": "code",
   "source": [
    "test_df = pd.read_csv('titanic_test.csv')\n",
    "\n",
    "test_df['Age'].fillna(test_df['Age'].median(), inplace=True)\n",
    "test_df['Fare'].fillna(test_df['Fare'].median(), inplace=True)\n",
    "\n",
    "features = ['Age', 'SibSp', 'Fare']\n",
    "test_df[features] = ss.transform(test_df[features])\n",
    "\n",
    "encoder = OneHotEncoder(sparse=False)\n",
    "\n",
    "test_X_encoded = pd.DataFrame(encoder.fit_transform(test_df[['Sex', 'Pclass', 'Embarked']]))\n",
    "test_X_encoded.columns = encoder.get_feature_names_out(['Sex', 'Pclass', 'Embarked'])\n",
    "test_df.drop(['Sex', 'Pclass', 'Embarked'] ,axis=1, inplace=True)\n",
    "test_df = pd.concat([test_df, test_X_encoded ], axis=1)"
   ],
   "metadata": {
    "cell_id": "7b5e6f297aae42d9898d030fc0d59448",
    "tags": [],
    "deepnote_to_be_reexecuted": false,
    "source_hash": "56ff99e",
    "execution_start": 1660612247028,
    "execution_millis": 34,
    "deepnote_cell_type": "code",
    "deepnote_cell_height": 364.890625,
    "id": "IjonlC_wVjYM",
    "ExecuteTime": {
     "end_time": "2023-09-03T17:03:59.473221Z",
     "start_time": "2023-09-03T17:03:59.457834Z"
    }
   },
   "outputs": [],
   "execution_count": 33
  },
  {
   "cell_type": "markdown",
   "source": [
    "Perceba que a coluna `Survived` não esta no arquivo `titanic_test.csv`,ao invés disso está no arquivo `titanic_test_results.csv`.\n",
    "Vamos aproveitar e já deixar tudo preparado. Apenas execute os comandos abaixo mas sempre entendendo o que está acontecendo!"
   ],
   "metadata": {
    "cell_id": "ef5d53d0ac9a4ffab51f36d4c90bfc2b",
    "tags": [],
    "deepnote_cell_type": "markdown",
    "deepnote_cell_height": 119.59375,
    "id": "QN1RnTdfVjYM"
   }
  },
  {
   "cell_type": "code",
   "source": [
    "features = ['Age', 'SibSp', 'Fare', 'Embarked_C', 'Embarked_Q', 'Embarked_S', 'Embarked_nan', 'Sex_female', 'Sex_male', 'Pclass_1', 'Pclass_2',\n",
    "       'Pclass_3'] #estamos escolhendo as colunas/features/variáveis que usaremos no nosso modelo\n",
    "\n",
    "train_df_X = train_df[features] #carregamos apenas elas para o nosso X\n",
    "\n",
    "train_df_y = train_df[['Survived']] #aqui carregamos o nosso Y"
   ],
   "metadata": {
    "cell_id": "714ae435763a4d6383be7ccd16b99a92",
    "tags": [],
    "deepnote_to_be_reexecuted": false,
    "source_hash": "f403b330",
    "execution_start": 1660612375470,
    "execution_millis": 1,
    "deepnote_cell_type": "code",
    "deepnote_cell_height": 171,
    "id": "HKoFevaEVjYM",
    "ExecuteTime": {
     "end_time": "2023-09-03T17:22:50.361107Z",
     "start_time": "2023-09-03T17:22:50.348748Z"
    }
   },
   "outputs": [],
   "execution_count": 35
  },
  {
   "cell_type": "markdown",
   "source": [
    "### Fazendo a previsão\n",
    "\n",
    "Agora vamos aplicar a regressão logística!\n",
    "\n",
    "Lembre-se de usar apenas as colunas numéricas que geramos nos últimos dois exercícios. Para o arquivo de testes nos já retiramos mas garanta passando apenas as colunas que quer usar\n",
    "\n",
    "\n",
    "\n",
    "Apresente na tela a `accuracy_score`. Para fins do exercício usaremos a acurácia para ver quão bom são nossos modelos. Lembre-se que quanto maior a nossa acurácia, melhor o modelo! (será que isso é sempre verdade?)"
   ],
   "metadata": {
    "tags": [],
    "cell_id": "00014-aaa19fa7-a6c4-49a0-801f-cfc7d58c7379",
    "deepnote_cell_type": "markdown",
    "deepnote_cell_height": 217.984375,
    "id": "xHUl1oBhVjYM"
   }
  },
  {
   "cell_type": "code",
   "source": [
    "#Questão 11\n",
    "#rode um modelo (modeloLR) de regressão logística (LogisticRegression no scikit learn)\n",
    "#importe o modelo, inicie o modelo e depois treine o modelo (fit)"
   ],
   "metadata": {
    "tags": [],
    "cell_id": "00015-8534ff5a-0d2c-4a50-8f1f-9584025a7ed1",
    "deepnote_to_be_reexecuted": false,
    "source_hash": "d222805",
    "execution_start": 1660612529855,
    "execution_millis": 0,
    "deepnote_cell_type": "code",
    "deepnote_cell_height": 130,
    "deepnote_output_heights": [
     null,
     21.1875
    ],
    "id": "66d9WAVxVjYN"
   },
   "execution_count": null,
   "outputs": []
  },
  {
   "cell_type": "code",
   "execution_count": 39,
   "outputs": [],
   "source": [
    "# Importando o algoritmo de Regressão Logística\n",
    "from sklearn.linear_model import LogisticRegression"
   ],
   "metadata": {
    "collapsed": false,
    "ExecuteTime": {
     "end_time": "2023-09-03T17:29:28.914182Z",
     "start_time": "2023-09-03T17:29:28.906990Z"
    }
   }
  },
  {
   "cell_type": "code",
   "execution_count": 40,
   "outputs": [],
   "source": [
    "# Instanciando um objeto do tipo LogisticRegression\n",
    "modeloLR = LogisticRegression()"
   ],
   "metadata": {
    "collapsed": false,
    "ExecuteTime": {
     "end_time": "2023-09-03T17:29:44.018124Z",
     "start_time": "2023-09-03T17:29:44.010468Z"
    }
   }
  },
  {
   "cell_type": "code",
   "execution_count": 41,
   "outputs": [
    {
     "data": {
      "text/plain": "LogisticRegression()",
      "text/html": "<style>#sk-container-id-2 {color: black;}#sk-container-id-2 pre{padding: 0;}#sk-container-id-2 div.sk-toggleable {background-color: white;}#sk-container-id-2 label.sk-toggleable__label {cursor: pointer;display: block;width: 100%;margin-bottom: 0;padding: 0.3em;box-sizing: border-box;text-align: center;}#sk-container-id-2 label.sk-toggleable__label-arrow:before {content: \"▸\";float: left;margin-right: 0.25em;color: #696969;}#sk-container-id-2 label.sk-toggleable__label-arrow:hover:before {color: black;}#sk-container-id-2 div.sk-estimator:hover label.sk-toggleable__label-arrow:before {color: black;}#sk-container-id-2 div.sk-toggleable__content {max-height: 0;max-width: 0;overflow: hidden;text-align: left;background-color: #f0f8ff;}#sk-container-id-2 div.sk-toggleable__content pre {margin: 0.2em;color: black;border-radius: 0.25em;background-color: #f0f8ff;}#sk-container-id-2 input.sk-toggleable__control:checked~div.sk-toggleable__content {max-height: 200px;max-width: 100%;overflow: auto;}#sk-container-id-2 input.sk-toggleable__control:checked~label.sk-toggleable__label-arrow:before {content: \"▾\";}#sk-container-id-2 div.sk-estimator input.sk-toggleable__control:checked~label.sk-toggleable__label {background-color: #d4ebff;}#sk-container-id-2 div.sk-label input.sk-toggleable__control:checked~label.sk-toggleable__label {background-color: #d4ebff;}#sk-container-id-2 input.sk-hidden--visually {border: 0;clip: rect(1px 1px 1px 1px);clip: rect(1px, 1px, 1px, 1px);height: 1px;margin: -1px;overflow: hidden;padding: 0;position: absolute;width: 1px;}#sk-container-id-2 div.sk-estimator {font-family: monospace;background-color: #f0f8ff;border: 1px dotted black;border-radius: 0.25em;box-sizing: border-box;margin-bottom: 0.5em;}#sk-container-id-2 div.sk-estimator:hover {background-color: #d4ebff;}#sk-container-id-2 div.sk-parallel-item::after {content: \"\";width: 100%;border-bottom: 1px solid gray;flex-grow: 1;}#sk-container-id-2 div.sk-label:hover label.sk-toggleable__label {background-color: #d4ebff;}#sk-container-id-2 div.sk-serial::before {content: \"\";position: absolute;border-left: 1px solid gray;box-sizing: border-box;top: 0;bottom: 0;left: 50%;z-index: 0;}#sk-container-id-2 div.sk-serial {display: flex;flex-direction: column;align-items: center;background-color: white;padding-right: 0.2em;padding-left: 0.2em;position: relative;}#sk-container-id-2 div.sk-item {position: relative;z-index: 1;}#sk-container-id-2 div.sk-parallel {display: flex;align-items: stretch;justify-content: center;background-color: white;position: relative;}#sk-container-id-2 div.sk-item::before, #sk-container-id-2 div.sk-parallel-item::before {content: \"\";position: absolute;border-left: 1px solid gray;box-sizing: border-box;top: 0;bottom: 0;left: 50%;z-index: -1;}#sk-container-id-2 div.sk-parallel-item {display: flex;flex-direction: column;z-index: 1;position: relative;background-color: white;}#sk-container-id-2 div.sk-parallel-item:first-child::after {align-self: flex-end;width: 50%;}#sk-container-id-2 div.sk-parallel-item:last-child::after {align-self: flex-start;width: 50%;}#sk-container-id-2 div.sk-parallel-item:only-child::after {width: 0;}#sk-container-id-2 div.sk-dashed-wrapped {border: 1px dashed gray;margin: 0 0.4em 0.5em 0.4em;box-sizing: border-box;padding-bottom: 0.4em;background-color: white;}#sk-container-id-2 div.sk-label label {font-family: monospace;font-weight: bold;display: inline-block;line-height: 1.2em;}#sk-container-id-2 div.sk-label-container {text-align: center;}#sk-container-id-2 div.sk-container {/* jupyter's `normalize.less` sets `[hidden] { display: none; }` but bootstrap.min.css set `[hidden] { display: none !important; }` so we also need the `!important` here to be able to override the default hidden behavior on the sphinx rendered scikit-learn.org. See: https://github.com/scikit-learn/scikit-learn/issues/21755 */display: inline-block !important;position: relative;}#sk-container-id-2 div.sk-text-repr-fallback {display: none;}</style><div id=\"sk-container-id-2\" class=\"sk-top-container\"><div class=\"sk-text-repr-fallback\"><pre>LogisticRegression()</pre><b>In a Jupyter environment, please rerun this cell to show the HTML representation or trust the notebook. <br />On GitHub, the HTML representation is unable to render, please try loading this page with nbviewer.org.</b></div><div class=\"sk-container\" hidden><div class=\"sk-item\"><div class=\"sk-estimator sk-toggleable\"><input class=\"sk-toggleable__control sk-hidden--visually\" id=\"sk-estimator-id-2\" type=\"checkbox\" checked><label for=\"sk-estimator-id-2\" class=\"sk-toggleable__label sk-toggleable__label-arrow\">LogisticRegression</label><div class=\"sk-toggleable__content\"><pre>LogisticRegression()</pre></div></div></div></div></div>"
     },
     "execution_count": 41,
     "metadata": {},
     "output_type": "execute_result"
    }
   ],
   "source": [
    "# Treinando o modelo com os dados de treino\n",
    "modeloLR.fit(train_df_X, train_df_y)"
   ],
   "metadata": {
    "collapsed": false,
    "ExecuteTime": {
     "end_time": "2023-09-03T17:29:59.040776Z",
     "start_time": "2023-09-03T17:29:58.995111Z"
    }
   }
  },
  {
   "cell_type": "markdown",
   "source": [
    "### Verificando a performance nos dados de testes\n",
    "Como nossos dados estão em 2 arquivos diferentes, agora que temos o modelo treinado (.fit()) precisamos ver como ele se sai com dados q nunca viu. Os dados do arquivo \"titanic_test.csv\" nunca foram vistos pelo modelo. Vamos carrega-lo e colocar as colunas preditoras ou variáveis independentes para ser o nosso X.\n",
    "O valor correto, variável dependente (a resposta final) está também em um terceiro arquivo \"titanic_test_results.csv\". Dessa forma esses são os dados que vamos levar para o nosso Y\n",
    "\n",
    "Após carregar esses dois arquivos em dataframes, precisamos pegar o modelo treinado e ver como ele de fato se sai com esses dados. Apenas execute os comandos abaixo mas procure entender o que está acontecendo!"
   ],
   "metadata": {
    "cell_id": "eb991b09187d4c5f92cc834dabe4aee3",
    "tags": [],
    "deepnote_cell_type": "markdown",
    "deepnote_cell_height": 248.78125,
    "id": "LdKbB_GrVjYN"
   }
  },
  {
   "cell_type": "code",
   "source": [
    "features = ['Age', 'SibSp', 'Fare', 'Embarked_C', 'Embarked_Q', 'Embarked_S', 'Embarked_nan', 'Sex_female', 'Sex_male', 'Pclass_1', 'Pclass_2',\n",
    "       'Pclass_3'] #escolhendo quais features iremos usar\n",
    "\n",
    "test_df['Embarked_nan'] = 0\n",
    "\n",
    "test_df_X = test_df[features] #carregando as variáveis independentes\n",
    "\n",
    "test_df_y = pd.read_csv('titanic_test_results.csv')[['Survived']] #carregando a variável dependente\n"
   ],
   "metadata": {
    "cell_id": "33a08d3a9edf4b3294754c2d46b1bae2",
    "tags": [],
    "deepnote_to_be_reexecuted": false,
    "source_hash": "51d4051f",
    "execution_start": 1660612653362,
    "execution_millis": 1,
    "deepnote_cell_type": "code",
    "deepnote_cell_height": 225,
    "id": "dvkz4A4AVjYN",
    "ExecuteTime": {
     "end_time": "2023-09-03T17:41:32.007352Z",
     "start_time": "2023-09-03T17:41:32.001524Z"
    }
   },
   "outputs": [],
   "execution_count": 45
  },
  {
   "cell_type": "markdown",
   "source": [
    "### Calculando como o modelo se saiu com os dados de teste\n",
    "Agora que todos os dados já foram é a hora de pedir para o modelo prever o resultado com base nos dados do arquivo teste e após isso, vamos calcular a acurácia do modelo usado \"accuracy_score\". Não se preocupe, essa última parte do código já está escrita para você."
   ],
   "metadata": {
    "cell_id": "23670298814847c7a360a0d8263252b7",
    "tags": [],
    "deepnote_cell_type": "markdown",
    "deepnote_cell_height": 145.1875,
    "id": "io_h4FWqVjYN"
   }
  },
  {
   "cell_type": "code",
   "source": [
    "#Questão 12\n",
    "#Agora é a hora da verdade!\n",
    "#Rode um predict no seu modelo salvando o resultado em y_predRL"
   ],
   "metadata": {
    "cell_id": "1fb90cc19d0d46378bf9e0d08e50e15b",
    "tags": [],
    "deepnote_to_be_reexecuted": false,
    "source_hash": "22150255",
    "execution_start": 1660612723466,
    "execution_millis": 0,
    "deepnote_cell_type": "code",
    "deepnote_cell_height": 112,
    "id": "cmWkC1__VjYO"
   },
   "outputs": [],
   "execution_count": null
  },
  {
   "cell_type": "code",
   "execution_count": 46,
   "outputs": [],
   "source": [
    "y_predRL = modeloLR.predict(test_df_X)"
   ],
   "metadata": {
    "collapsed": false,
    "ExecuteTime": {
     "end_time": "2023-09-03T17:42:21.536119Z",
     "start_time": "2023-09-03T17:42:21.521503Z"
    }
   }
  },
  {
   "cell_type": "markdown",
   "source": [
    "### Verificando o resultado Final\n",
    "Execute os comandos abaixo para sabermos a acurácia do nosso modelo! E ae, o que achou do resultado final? Bom? Ruim? Suficiente?"
   ],
   "metadata": {
    "cell_id": "43d976c95ccb4e02989eaeaea2439779",
    "tags": [],
    "deepnote_cell_type": "markdown",
    "deepnote_cell_height": 122.796875,
    "id": "559V80W1VjYO"
   }
  },
  {
   "cell_type": "code",
   "source": [
    "from sklearn import metrics\n",
    "#por fim, comparamos o valor que o modelo previu (y_predRL) com o valor que ele deveria ter previsto (test_df_y)\n",
    "print(\"Acurácia do modelo de Regressão Logística: {}\".format(metrics.accuracy_score(test_df_y, y_predRL).round(8)))"
   ],
   "metadata": {
    "cell_id": "9eed3d9b88824dfeae0c592bf563b4d3",
    "tags": [],
    "deepnote_to_be_reexecuted": false,
    "source_hash": "4ad4f75f",
    "execution_start": 1660612830034,
    "execution_millis": 9,
    "deepnote_cell_type": "code",
    "deepnote_cell_height": 147.6875,
    "id": "x9IDEB6NVjYO",
    "ExecuteTime": {
     "end_time": "2023-09-03T17:42:47.740588Z",
     "start_time": "2023-09-03T17:42:47.727628Z"
    }
   },
   "outputs": [
    {
     "name": "stdout",
     "output_type": "stream",
     "text": [
      "Acurácia do modelo de Regressão Logística: 0.95215311\n"
     ]
    }
   ],
   "execution_count": 47
  },
  {
   "cell_type": "markdown",
   "source": [
    "## Ampliando a Caixa de Ferramentas\n",
    "\n",
    "Muito bem, nos últimos preparamos dados reais para aplicar em um algoritmo de regressão logistica e obter um resultado satisfatório, mas e agora?\n",
    "\n",
    "Se você acessar a [documentação do Sklearn](https://scikit-learn.org/stable/auto_examples/classification/plot_classifier_comparison.html) verá que existem diversos algoritmos de classificação, como vamos saber se, dentre todas as alternativas a nossa regressão logistica é a melhor?\n",
    "\n",
    "Uma atividade comum entre ciêntistas de dados é treinar inúmeros modelos para um mesmo problema e compará-los através de alguma ferramenta estatística. Muitas vezes um modelo especifico pode performar melhor diante de um problema por algum detalhe que muitas vezes o ciêntista de dados desconhece no momento.\n",
    "\n",
    "Então, para essa última etapa, vamos apresentar para vocês outros algoritmos de classificação. Repita os últimos passos de treino, predição e acurácia para vermos como eles se saem."
   ],
   "metadata": {
    "cell_id": "cea38dc34b34414a8447ec7bf598fb63",
    "tags": [],
    "deepnote_cell_type": "markdown",
    "deepnote_cell_height": 329.578125,
    "id": "6R_su9d8VjYO"
   }
  },
  {
   "cell_type": "markdown",
   "source": [
    "### DecisionTree\n",
    "\n",
    "A arvore de decisão é uma das estruturas mais intuitivas de classificação, ela basicamente pega as colunas que temos e cria regras de separação até que tenhamos uma sequencia de regras que atribui com alguma acurácia entre nossas classes.\n",
    "\n",
    "A melhor forma de entender esse modelo é usá-lo e visualizar sua árvore, por isso vamos trabalhar com a base do Titanic novamente."
   ],
   "metadata": {
    "cell_id": "bdbdcf8b510e4e358682696f248f2fba",
    "tags": [],
    "deepnote_cell_type": "markdown",
    "deepnote_cell_height": 181.59375,
    "id": "WHona35SVjYO"
   }
  },
  {
   "cell_type": "code",
   "source": [
    "#Questão 13\n",
    "#Use uma árvore de decisão para criar um novo modelo (modeloDT). Passe como parâmetro para a árvore a profundidade máxima de 3 (max_depth=3)\n",
    "\n",
    "from sklearn.tree import DecisionTreeClassifier"
   ],
   "metadata": {
    "cell_id": "1ee42fdb9abd4e8ab622b0e8a371a59a",
    "tags": [],
    "deepnote_to_be_reexecuted": false,
    "source_hash": "2ed3e98f",
    "execution_start": 1660613020839,
    "execution_millis": 0,
    "deepnote_cell_type": "code",
    "deepnote_cell_height": 117,
    "id": "NkoUPmwtVjYO",
    "ExecuteTime": {
     "end_time": "2023-09-03T17:45:53.937746Z",
     "start_time": "2023-09-03T17:45:53.803554Z"
    }
   },
   "outputs": [],
   "execution_count": 49
  },
  {
   "cell_type": "code",
   "execution_count": 52,
   "outputs": [],
   "source": [
    "# Instanciando\n",
    "modeloDT = DecisionTreeClassifier(max_depth=3)"
   ],
   "metadata": {
    "collapsed": false,
    "ExecuteTime": {
     "end_time": "2023-09-03T17:47:26.214454Z",
     "start_time": "2023-09-03T17:47:26.205720Z"
    }
   }
  },
  {
   "cell_type": "code",
   "execution_count": 53,
   "outputs": [
    {
     "data": {
      "text/plain": "DecisionTreeClassifier(max_depth=3)",
      "text/html": "<style>#sk-container-id-4 {color: black;}#sk-container-id-4 pre{padding: 0;}#sk-container-id-4 div.sk-toggleable {background-color: white;}#sk-container-id-4 label.sk-toggleable__label {cursor: pointer;display: block;width: 100%;margin-bottom: 0;padding: 0.3em;box-sizing: border-box;text-align: center;}#sk-container-id-4 label.sk-toggleable__label-arrow:before {content: \"▸\";float: left;margin-right: 0.25em;color: #696969;}#sk-container-id-4 label.sk-toggleable__label-arrow:hover:before {color: black;}#sk-container-id-4 div.sk-estimator:hover label.sk-toggleable__label-arrow:before {color: black;}#sk-container-id-4 div.sk-toggleable__content {max-height: 0;max-width: 0;overflow: hidden;text-align: left;background-color: #f0f8ff;}#sk-container-id-4 div.sk-toggleable__content pre {margin: 0.2em;color: black;border-radius: 0.25em;background-color: #f0f8ff;}#sk-container-id-4 input.sk-toggleable__control:checked~div.sk-toggleable__content {max-height: 200px;max-width: 100%;overflow: auto;}#sk-container-id-4 input.sk-toggleable__control:checked~label.sk-toggleable__label-arrow:before {content: \"▾\";}#sk-container-id-4 div.sk-estimator input.sk-toggleable__control:checked~label.sk-toggleable__label {background-color: #d4ebff;}#sk-container-id-4 div.sk-label input.sk-toggleable__control:checked~label.sk-toggleable__label {background-color: #d4ebff;}#sk-container-id-4 input.sk-hidden--visually {border: 0;clip: rect(1px 1px 1px 1px);clip: rect(1px, 1px, 1px, 1px);height: 1px;margin: -1px;overflow: hidden;padding: 0;position: absolute;width: 1px;}#sk-container-id-4 div.sk-estimator {font-family: monospace;background-color: #f0f8ff;border: 1px dotted black;border-radius: 0.25em;box-sizing: border-box;margin-bottom: 0.5em;}#sk-container-id-4 div.sk-estimator:hover {background-color: #d4ebff;}#sk-container-id-4 div.sk-parallel-item::after {content: \"\";width: 100%;border-bottom: 1px solid gray;flex-grow: 1;}#sk-container-id-4 div.sk-label:hover label.sk-toggleable__label {background-color: #d4ebff;}#sk-container-id-4 div.sk-serial::before {content: \"\";position: absolute;border-left: 1px solid gray;box-sizing: border-box;top: 0;bottom: 0;left: 50%;z-index: 0;}#sk-container-id-4 div.sk-serial {display: flex;flex-direction: column;align-items: center;background-color: white;padding-right: 0.2em;padding-left: 0.2em;position: relative;}#sk-container-id-4 div.sk-item {position: relative;z-index: 1;}#sk-container-id-4 div.sk-parallel {display: flex;align-items: stretch;justify-content: center;background-color: white;position: relative;}#sk-container-id-4 div.sk-item::before, #sk-container-id-4 div.sk-parallel-item::before {content: \"\";position: absolute;border-left: 1px solid gray;box-sizing: border-box;top: 0;bottom: 0;left: 50%;z-index: -1;}#sk-container-id-4 div.sk-parallel-item {display: flex;flex-direction: column;z-index: 1;position: relative;background-color: white;}#sk-container-id-4 div.sk-parallel-item:first-child::after {align-self: flex-end;width: 50%;}#sk-container-id-4 div.sk-parallel-item:last-child::after {align-self: flex-start;width: 50%;}#sk-container-id-4 div.sk-parallel-item:only-child::after {width: 0;}#sk-container-id-4 div.sk-dashed-wrapped {border: 1px dashed gray;margin: 0 0.4em 0.5em 0.4em;box-sizing: border-box;padding-bottom: 0.4em;background-color: white;}#sk-container-id-4 div.sk-label label {font-family: monospace;font-weight: bold;display: inline-block;line-height: 1.2em;}#sk-container-id-4 div.sk-label-container {text-align: center;}#sk-container-id-4 div.sk-container {/* jupyter's `normalize.less` sets `[hidden] { display: none; }` but bootstrap.min.css set `[hidden] { display: none !important; }` so we also need the `!important` here to be able to override the default hidden behavior on the sphinx rendered scikit-learn.org. See: https://github.com/scikit-learn/scikit-learn/issues/21755 */display: inline-block !important;position: relative;}#sk-container-id-4 div.sk-text-repr-fallback {display: none;}</style><div id=\"sk-container-id-4\" class=\"sk-top-container\"><div class=\"sk-text-repr-fallback\"><pre>DecisionTreeClassifier(max_depth=3)</pre><b>In a Jupyter environment, please rerun this cell to show the HTML representation or trust the notebook. <br />On GitHub, the HTML representation is unable to render, please try loading this page with nbviewer.org.</b></div><div class=\"sk-container\" hidden><div class=\"sk-item\"><div class=\"sk-estimator sk-toggleable\"><input class=\"sk-toggleable__control sk-hidden--visually\" id=\"sk-estimator-id-4\" type=\"checkbox\" checked><label for=\"sk-estimator-id-4\" class=\"sk-toggleable__label sk-toggleable__label-arrow\">DecisionTreeClassifier</label><div class=\"sk-toggleable__content\"><pre>DecisionTreeClassifier(max_depth=3)</pre></div></div></div></div></div>"
     },
     "execution_count": 53,
     "metadata": {},
     "output_type": "execute_result"
    }
   ],
   "source": [
    "# Treinando o modelo\n",
    "modeloDT.fit(train_df_X, train_df_y)"
   ],
   "metadata": {
    "collapsed": false,
    "ExecuteTime": {
     "end_time": "2023-09-03T17:47:27.111583Z",
     "start_time": "2023-09-03T17:47:27.106386Z"
    }
   }
  },
  {
   "cell_type": "code",
   "execution_count": 54,
   "outputs": [],
   "source": [
    "y_predDT = modeloDT.predict(test_df_X)"
   ],
   "metadata": {
    "collapsed": false,
    "ExecuteTime": {
     "end_time": "2023-09-03T17:48:05.154765Z",
     "start_time": "2023-09-03T17:48:05.148328Z"
    }
   }
  },
  {
   "cell_type": "code",
   "execution_count": 56,
   "outputs": [
    {
     "name": "stdout",
     "output_type": "stream",
     "text": [
      "Acurácia do modelo de Árvore de Decisão: 0.96650718\n"
     ]
    }
   ],
   "source": [
    "print(\"Acurácia do modelo de Árvore de Decisão: {}\".format(metrics.accuracy_score(test_df_y, y_predDT).round(8)))"
   ],
   "metadata": {
    "collapsed": false,
    "ExecuteTime": {
     "end_time": "2023-09-03T17:48:30.081209Z",
     "start_time": "2023-09-03T17:48:30.076704Z"
    }
   }
  },
  {
   "cell_type": "markdown",
   "source": [
    "### Visualizando a árvore de decisão\n",
    "\n",
    "Uma das vantagens das árvores de decisão é que podemos visualizar o seu resultado. Execute o código abaixo para plotarmos o resultado final e tente entender passo a passo o que está acontecendo.\n",
    "\n",
    "O método `plot_tree` presente na biblioteca do sklearn apresenta na tela o modelo que acabamos de construir. Execute os comandos abaixo e interprete o resultado"
   ],
   "metadata": {
    "cell_id": "02757b465f2a4a728b9df27c3bcd1754",
    "tags": [],
    "deepnote_cell_type": "markdown",
    "deepnote_cell_height": 181.59375,
    "id": "wsBHuFFcVjYP"
   }
  },
  {
   "cell_type": "code",
   "source": [
    "test_df_X.columns #visualizando as colunas usadas no teste"
   ],
   "metadata": {
    "cell_id": "7546c7bcb6464c1d81467fe0791da1a9",
    "tags": [],
    "deepnote_to_be_reexecuted": false,
    "source_hash": "dcf2aa03",
    "execution_start": 1660613184746,
    "execution_millis": 2,
    "deepnote_cell_type": "code",
    "deepnote_cell_height": 170.78125,
    "deepnote_output_heights": [
     78.78125
    ],
    "id": "xBgMdxKBVjYP",
    "ExecuteTime": {
     "end_time": "2023-09-03T17:48:54.957982Z",
     "start_time": "2023-09-03T17:48:54.949438Z"
    }
   },
   "outputs": [
    {
     "data": {
      "text/plain": "Index(['Age', 'SibSp', 'Fare', 'Embarked_C', 'Embarked_Q', 'Embarked_S',\n       'Embarked_nan', 'Sex_female', 'Sex_male', 'Pclass_1', 'Pclass_2',\n       'Pclass_3'],\n      dtype='object')"
     },
     "execution_count": 57,
     "metadata": {},
     "output_type": "execute_result"
    }
   ],
   "execution_count": 57
  },
  {
   "cell_type": "code",
   "execution_count": 58,
   "outputs": [
    {
     "data": {
      "text/plain": "<Figure size 1200x1200 with 1 Axes>",
      "image/png": "[encoded data removed]"
     },
     "metadata": {},
     "output_type": "display_data"
    }
   ],
   "source": [
    "from sklearn import tree\n",
    "import matplotlib.pyplot as plt\n",
    "\n",
    "plt.figure(figsize=(12,12))  # set plot size (denoted in inches)\n",
    "tree.plot_tree(modeloDT, fontsize=10)\n",
    "plt.show()"
   ],
   "metadata": {
    "collapsed": false
   }
  },
  {
   "cell_type": "markdown",
   "source": [
    "### Interpretação\n",
    "\n",
    "A árvore de decisão acima apresenta as condições e valores que estão sendo utilizados em cada nó para dividir ramificar a árvore.\n",
    "\n",
    "Por exemplo, no primeiro nó, a condição é se o passageiro é do sexo masculino ou feminino. Se for masculino, ele vai para a esquerda, se for feminino, para a direita. O valor 'gini' é uma medida de impureza, que indica o quão misturados estão os dados. Quanto mais próximo de 0, mais puro está o nó. O valor 'samples' indica quantos registros estão sendo considerados naquele nó. E 'value' mostra a distribuição da variável alvo (Survived) naquele nó."
   ],
   "metadata": {
    "collapsed": false
   }
  },
  {
   "cell_type": "markdown",
   "source": [
    "## Support Vector Machine\n",
    "\n",
    "Support Vector Machine, Máquina de vetores de suporte ou simplesmente SVM é a abordagem popular de classificação baseado em um conjunto de separadores lineares, a matemática por trás é bem interessante e você pode [conhecer mais por aqui](https://towardsdatascience.com/https-medium-com-pupalerushikesh-svm-f4b42800e989). Porém, hoje, focaremos apenas na implementação.\n",
    "\n",
    "Procure pela implementação `SVC` do sklearn, que é a implementação de SVM aplicada a problemas de classificação e aplique a nossa base `Titanic`. Procure também entender os parametros `C` e `kernel` do modelo, brinque um pouco com eles e teste diferentes valores, o que você percebe no resultado?\n"
   ],
   "metadata": {
    "cell_id": "eb94d03449e140599253c6d36c7f31f8",
    "tags": [],
    "deepnote_cell_type": "markdown",
    "deepnote_cell_height": 234.390625,
    "id": "Q_UHMGdxVjYP"
   }
  },
  {
   "cell_type": "code",
   "source": [
    "#Questão 14\n",
    "#Use o SVM (SVC - modeloSVC). Para prever os valores. Troque o `Kernel` do modelo e o hiperparâmetro C.\n",
    "#Será que você consegue obter valores melhores do que os já alcançados até agora?"
   ],
   "metadata": {
    "cell_id": "ec7aefff78484c408f1ab3bd1ee9562e",
    "tags": [],
    "deepnote_to_be_reexecuted": false,
    "source_hash": "1f6bb0e8",
    "execution_start": 1660613364470,
    "execution_millis": 3,
    "deepnote_cell_type": "code",
    "deepnote_cell_height": 112,
    "id": "jgtvAO5IVjYP"
   },
   "outputs": [],
   "execution_count": null
  },
  {
   "cell_type": "code",
   "execution_count": 59,
   "outputs": [],
   "source": [
    "from sklearn.svm import SVC"
   ],
   "metadata": {
    "collapsed": false,
    "ExecuteTime": {
     "end_time": "2023-09-03T18:01:58.163960Z",
     "start_time": "2023-09-03T18:01:58.150126Z"
    }
   }
  },
  {
   "cell_type": "code",
   "execution_count": 60,
   "outputs": [],
   "source": [
    "modeloSVC = SVC(kernel='rbf', C=1.0)"
   ],
   "metadata": {
    "collapsed": false,
    "ExecuteTime": {
     "end_time": "2023-09-03T18:03:45.157599Z",
     "start_time": "2023-09-03T18:03:45.146405Z"
    }
   }
  },
  {
   "cell_type": "code",
   "execution_count": 61,
   "outputs": [
    {
     "data": {
      "text/plain": "SVC()",
      "text/html": "<style>#sk-container-id-5 {color: black;}#sk-container-id-5 pre{padding: 0;}#sk-container-id-5 div.sk-toggleable {background-color: white;}#sk-container-id-5 label.sk-toggleable__label {cursor: pointer;display: block;width: 100%;margin-bottom: 0;padding: 0.3em;box-sizing: border-box;text-align: center;}#sk-container-id-5 label.sk-toggleable__label-arrow:before {content: \"▸\";float: left;margin-right: 0.25em;color: #696969;}#sk-container-id-5 label.sk-toggleable__label-arrow:hover:before {color: black;}#sk-container-id-5 div.sk-estimator:hover label.sk-toggleable__label-arrow:before {color: black;}#sk-container-id-5 div.sk-toggleable__content {max-height: 0;max-width: 0;overflow: hidden;text-align: left;background-color: #f0f8ff;}#sk-container-id-5 div.sk-toggleable__content pre {margin: 0.2em;color: black;border-radius: 0.25em;background-color: #f0f8ff;}#sk-container-id-5 input.sk-toggleable__control:checked~div.sk-toggleable__content {max-height: 200px;max-width: 100%;overflow: auto;}#sk-container-id-5 input.sk-toggleable__control:checked~label.sk-toggleable__label-arrow:before {content: \"▾\";}#sk-container-id-5 div.sk-estimator input.sk-toggleable__control:checked~label.sk-toggleable__label {background-color: #d4ebff;}#sk-container-id-5 div.sk-label input.sk-toggleable__control:checked~label.sk-toggleable__label {background-color: #d4ebff;}#sk-container-id-5 input.sk-hidden--visually {border: 0;clip: rect(1px 1px 1px 1px);clip: rect(1px, 1px, 1px, 1px);height: 1px;margin: -1px;overflow: hidden;padding: 0;position: absolute;width: 1px;}#sk-container-id-5 div.sk-estimator {font-family: monospace;background-color: #f0f8ff;border: 1px dotted black;border-radius: 0.25em;box-sizing: border-box;margin-bottom: 0.5em;}#sk-container-id-5 div.sk-estimator:hover {background-color: #d4ebff;}#sk-container-id-5 div.sk-parallel-item::after {content: \"\";width: 100%;border-bottom: 1px solid gray;flex-grow: 1;}#sk-container-id-5 div.sk-label:hover label.sk-toggleable__label {background-color: #d4ebff;}#sk-container-id-5 div.sk-serial::before {content: \"\";position: absolute;border-left: 1px solid gray;box-sizing: border-box;top: 0;bottom: 0;left: 50%;z-index: 0;}#sk-container-id-5 div.sk-serial {display: flex;flex-direction: column;align-items: center;background-color: white;padding-right: 0.2em;padding-left: 0.2em;position: relative;}#sk-container-id-5 div.sk-item {position: relative;z-index: 1;}#sk-container-id-5 div.sk-parallel {display: flex;align-items: stretch;justify-content: center;background-color: white;position: relative;}#sk-container-id-5 div.sk-item::before, #sk-container-id-5 div.sk-parallel-item::before {content: \"\";position: absolute;border-left: 1px solid gray;box-sizing: border-box;top: 0;bottom: 0;left: 50%;z-index: -1;}#sk-container-id-5 div.sk-parallel-item {display: flex;flex-direction: column;z-index: 1;position: relative;background-color: white;}#sk-container-id-5 div.sk-parallel-item:first-child::after {align-self: flex-end;width: 50%;}#sk-container-id-5 div.sk-parallel-item:last-child::after {align-self: flex-start;width: 50%;}#sk-container-id-5 div.sk-parallel-item:only-child::after {width: 0;}#sk-container-id-5 div.sk-dashed-wrapped {border: 1px dashed gray;margin: 0 0.4em 0.5em 0.4em;box-sizing: border-box;padding-bottom: 0.4em;background-color: white;}#sk-container-id-5 div.sk-label label {font-family: monospace;font-weight: bold;display: inline-block;line-height: 1.2em;}#sk-container-id-5 div.sk-label-container {text-align: center;}#sk-container-id-5 div.sk-container {/* jupyter's `normalize.less` sets `[hidden] { display: none; }` but bootstrap.min.css set `[hidden] { display: none !important; }` so we also need the `!important` here to be able to override the default hidden behavior on the sphinx rendered scikit-learn.org. See: https://github.com/scikit-learn/scikit-learn/issues/21755 */display: inline-block !important;position: relative;}#sk-container-id-5 div.sk-text-repr-fallback {display: none;}</style><div id=\"sk-container-id-5\" class=\"sk-top-container\"><div class=\"sk-text-repr-fallback\"><pre>SVC()</pre><b>In a Jupyter environment, please rerun this cell to show the HTML representation or trust the notebook. <br />On GitHub, the HTML representation is unable to render, please try loading this page with nbviewer.org.</b></div><div class=\"sk-container\" hidden><div class=\"sk-item\"><div class=\"sk-estimator sk-toggleable\"><input class=\"sk-toggleable__control sk-hidden--visually\" id=\"sk-estimator-id-5\" type=\"checkbox\" checked><label for=\"sk-estimator-id-5\" class=\"sk-toggleable__label sk-toggleable__label-arrow\">SVC</label><div class=\"sk-toggleable__content\"><pre>SVC()</pre></div></div></div></div></div>"
     },
     "execution_count": 61,
     "metadata": {},
     "output_type": "execute_result"
    }
   ],
   "source": [
    "modeloSVC.fit(train_df_X, train_df_y)"
   ],
   "metadata": {
    "collapsed": false,
    "ExecuteTime": {
     "end_time": "2023-09-03T18:03:57.739786Z",
     "start_time": "2023-09-03T18:03:57.692448Z"
    }
   }
  },
  {
   "cell_type": "code",
   "execution_count": 62,
   "outputs": [],
   "source": [
    "y_predSVC = modeloSVC.predict(test_df_X)"
   ],
   "metadata": {
    "collapsed": false,
    "ExecuteTime": {
     "end_time": "2023-09-03T18:04:11.818725Z",
     "start_time": "2023-09-03T18:04:11.785456Z"
    }
   }
  },
  {
   "cell_type": "code",
   "execution_count": 63,
   "outputs": [
    {
     "name": "stdout",
     "output_type": "stream",
     "text": [
      "Acurácia do modelo de SVM: 0.90909091\n"
     ]
    }
   ],
   "source": [
    "print(\"Acurácia do modelo de SVM: {}\".format(metrics.accuracy_score(test_df_y, y_predSVC).round(8)))"
   ],
   "metadata": {
    "collapsed": false,
    "ExecuteTime": {
     "end_time": "2023-09-03T18:04:21.004788Z",
     "start_time": "2023-09-03T18:04:20.987828Z"
    }
   }
  },
  {
   "cell_type": "code",
   "execution_count": 64,
   "outputs": [
    {
     "name": "stdout",
     "output_type": "stream",
     "text": [
      "Acurácia do modelo de SVM: 1.0\n"
     ]
    }
   ],
   "source": [
    "# Testando o modelo com diferentes hiperparâmetros\n",
    "modeloSVC = SVC(kernel='linear', C=1.0)\n",
    "modeloSVC.fit(train_df_X, train_df_y)\n",
    "y_predSVC = modeloSVC.predict(test_df_X)\n",
    "print(\"Acurácia do modelo de SVM: {}\".format(metrics.accuracy_score(test_df_y, y_predSVC).round(8)))"
   ],
   "metadata": {
    "collapsed": false,
    "ExecuteTime": {
     "end_time": "2023-09-03T18:04:54.586182Z",
     "start_time": "2023-09-03T18:04:54.515217Z"
    }
   }
  },
  {
   "cell_type": "markdown",
   "source": [
    "#### Nota:\n",
    "O resultado acima provavelmente tem relação com o fato de que o dataset do Kaggle que contém os valores da variável 'Survived' para o dataset de treino na verdade são um exemplo de previsão e não são os dados reais. Em uma situação real, eu avaliaria se a separação dos dados de treino e teste foi feita corretamente, afinal uma acurácia de 100% é pouco provável e possivelmente indica overfitting"
   ],
   "metadata": {
    "collapsed": false
   }
  },
  {
   "cell_type": "code",
   "execution_count": 65,
   "outputs": [
    {
     "name": "stdout",
     "output_type": "stream",
     "text": [
      "Acurácia do modelo de SVM: 0.90191388\n"
     ]
    }
   ],
   "source": [
    "modeloSVC = SVC(kernel='poly', C=1.0)\n",
    "modeloSVC.fit(train_df_X, train_df_y)\n",
    "y_predSVC = modeloSVC.predict(test_df_X)\n",
    "print(\"Acurácia do modelo de SVM: {}\".format(metrics.accuracy_score(test_df_y, y_predSVC).round(8)))"
   ],
   "metadata": {
    "collapsed": false,
    "ExecuteTime": {
     "end_time": "2023-09-03T18:05:26.087096Z",
     "start_time": "2023-09-03T18:05:26.031898Z"
    }
   }
  },
  {
   "cell_type": "code",
   "execution_count": 66,
   "outputs": [
    {
     "name": "stdout",
     "output_type": "stream",
     "text": [
      "Acurácia do modelo de SVM: 0.94258373\n"
     ]
    }
   ],
   "source": [
    "modeloSVC = SVC(kernel='poly', C=0.1)\n",
    "modeloSVC.fit(train_df_X, train_df_y)\n",
    "y_predSVC = modeloSVC.predict(test_df_X)\n",
    "print(\"Acurácia do modelo de SVM: {}\".format(metrics.accuracy_score(test_df_y, y_predSVC).round(8)))"
   ],
   "metadata": {
    "collapsed": false,
    "ExecuteTime": {
     "end_time": "2023-09-03T18:09:30.727893Z",
     "start_time": "2023-09-03T18:09:30.687136Z"
    }
   }
  },
  {
   "cell_type": "code",
   "source": [
    "#Questão 15\n",
    "#Use o Naive Bayes (modeloNB).\n",
    "#Será que você consegue obter valores melhores do que os já alcançados até agora?"
   ],
   "metadata": {
    "cell_id": "9313254961e649b4b36ad80add0d254e",
    "tags": [],
    "deepnote_cell_type": "code",
    "deepnote_cell_height": 97,
    "id": "zFHVf0qRVjYQ"
   },
   "outputs": [],
   "execution_count": null
  },
  {
   "cell_type": "code",
   "execution_count": 67,
   "outputs": [
    {
     "name": "stdout",
     "output_type": "stream",
     "text": [
      "Acurácia do modelo de Naive Bayes: 0.71052632\n"
     ]
    }
   ],
   "source": [
    "from sklearn.naive_bayes import GaussianNB\n",
    "modeloNB = GaussianNB()\n",
    "modeloNB.fit(train_df_X, train_df_y)\n",
    "y_predNB = modeloNB.predict(test_df_X)\n",
    "print(\"Acurácia do modelo de Naive Bayes: {}\".format(metrics.accuracy_score(test_df_y, y_predNB).round(8)))"
   ],
   "metadata": {
    "collapsed": false,
    "ExecuteTime": {
     "end_time": "2023-09-03T18:15:15.117924Z",
     "start_time": "2023-09-03T18:15:15.097397Z"
    }
   }
  },
  {
   "cell_type": "code",
   "source": [
    "#Questão 16\n",
    "#O bom e conhecido KNN! Use o KNN (modeloKNN). Para prever os valores.\n",
    "#Será que você consegue obter valores melhores do que os já alcançados até agora?\n",
    "#se você usar n_neighbors=2, o resultado melhora ou piora? E se for n_neighbors=10?"
   ],
   "metadata": {
    "cell_id": "e1e8d845426744448957095b29e1142b",
    "tags": [],
    "deepnote_cell_type": "code",
    "deepnote_cell_height": 115,
    "id": "h5jaVkGPVjYQ"
   },
   "outputs": [],
   "execution_count": null
  },
  {
   "cell_type": "code",
   "execution_count": 68,
   "outputs": [
    {
     "name": "stdout",
     "output_type": "stream",
     "text": [
      "Acurácia do modelo de KNN: 0.83014354\n"
     ]
    }
   ],
   "source": [
    "from sklearn.neighbors import KNeighborsClassifier\n",
    "modeloKNN = KNeighborsClassifier(n_neighbors=2)\n",
    "modeloKNN.fit(train_df_X, train_df_y)\n",
    "y_predKNN = modeloKNN.predict(test_df_X)\n",
    "print(\"Acurácia do modelo de KNN: {}\".format(metrics.accuracy_score(test_df_y, y_predKNN).round(8)))"
   ],
   "metadata": {
    "collapsed": false,
    "ExecuteTime": {
     "end_time": "2023-09-03T18:16:56.762817Z",
     "start_time": "2023-09-03T18:16:56.720270Z"
    }
   }
  },
  {
   "cell_type": "code",
   "execution_count": 69,
   "outputs": [
    {
     "name": "stdout",
     "output_type": "stream",
     "text": [
      "Acurácia do modelo de KNN: 0.88995215\n"
     ]
    }
   ],
   "source": [
    "modeloKNN = KNeighborsClassifier(n_neighbors=10)\n",
    "modeloKNN.fit(train_df_X, train_df_y)\n",
    "y_predKNN = modeloKNN.predict(test_df_X)\n",
    "print(\"Acurácia do modelo de KNN: {}\".format(metrics.accuracy_score(test_df_y, y_predKNN).round(8)))"
   ],
   "metadata": {
    "collapsed": false,
    "ExecuteTime": {
     "end_time": "2023-09-03T18:17:09.900507Z",
     "start_time": "2023-09-03T18:17:09.849123Z"
    }
   }
  },
  {
   "cell_type": "code",
   "source": [
    "#Questão 17\n",
    "#Rode o otimizador SGD\n",
    "#se você rodar o modelo mais de uma vez, sem alterar nada, o resultado final muda?\n",
    "#Como saber qual o melhor resultado podemos obter com esse modelo?"
   ],
   "metadata": {
    "cell_id": "ab38f67e5ffd4327ac083c3c5fe2037a",
    "tags": [],
    "deepnote_cell_type": "code",
    "deepnote_cell_height": 115,
    "id": "dC22nuIWVjYQ"
   },
   "outputs": [],
   "execution_count": null
  },
  {
   "cell_type": "code",
   "execution_count": 72,
   "outputs": [
    {
     "name": "stdout",
     "output_type": "stream",
     "text": [
      "Acurácia do modelo de SGD com 'log_loss': 0.91626794\n",
      "Acurácia do modelo de SGD com 'squared_error': 0.66985646\n"
     ]
    }
   ],
   "source": [
    "from sklearn.linear_model import SGDClassifier\n",
    "modeloSGD = SGDClassifier(loss='log_loss')\n",
    "modeloSGD.fit(train_df_X, train_df_y)\n",
    "y_predSGD = modeloSGD.predict(test_df_X)\n",
    "print(\"Acurácia do modelo de SGD com 'log_loss': {}\".format(metrics.accuracy_score(test_df_y, y_predSGD).round(8)))\n",
    "modeloSGD = SGDClassifier(loss='squared_error')\n",
    "modeloSGD.fit(train_df_X, train_df_y)\n",
    "y_predSGD = modeloSGD.predict(test_df_X)\n",
    "print(\"Acurácia do modelo de SGD com 'squared_error': {}\".format(metrics.accuracy_score(test_df_y, y_predSGD).round(8)))"
   ],
   "metadata": {
    "collapsed": false,
    "ExecuteTime": {
     "end_time": "2023-09-03T18:23:59.195505Z",
     "start_time": "2023-09-03T18:23:59.167916Z"
    }
   }
  },
  {
   "cell_type": "code",
   "execution_count": 73,
   "outputs": [
    {
     "name": "stdout",
     "output_type": "stream",
     "text": [
      "Acurácia do modelo de SGD com 'log_loss': 0.88995215\n",
      "Acurácia do modelo de SGD com 'squared_error': 0.61244019\n"
     ]
    }
   ],
   "source": [
    "modeloSGD = SGDClassifier(loss='log_loss')\n",
    "modeloSGD.fit(train_df_X, train_df_y)\n",
    "y_predSGD = modeloSGD.predict(test_df_X)\n",
    "print(\"Acurácia do modelo de SGD com 'log_loss': {}\".format(metrics.accuracy_score(test_df_y, y_predSGD).round(8)))\n",
    "modeloSGD = SGDClassifier(loss='squared_error')\n",
    "modeloSGD.fit(train_df_X, train_df_y)\n",
    "y_predSGD = modeloSGD.predict(test_df_X)\n",
    "print(\"Acurácia do modelo de SGD com 'squared_error': {}\".format(metrics.accuracy_score(test_df_y, y_predSGD).round(8)))"
   ],
   "metadata": {
    "collapsed": false,
    "ExecuteTime": {
     "end_time": "2023-09-03T18:24:12.267081Z",
     "start_time": "2023-09-03T18:24:12.218688Z"
    }
   }
  },
  {
   "cell_type": "markdown",
   "source": [
    "### Nota:\n",
    "Se o parâmetro 'random_state' não for definido, o resultado da acurácia pode variar a cada execução do modelo. Isso acontece porque o SGDClassifier utiliza o método de gradiente descendente estocástico, que é um método iterativo que depende de valores aleatórios para convergir para o resultado. O parâmetro 'random_state' serve para definir uma semente para o gerador de números aleatórios, de forma que o resultado seja sempre o mesmo"
   ],
   "metadata": {
    "collapsed": false
   }
  },
  {
   "cell_type": "code",
   "source": [
    "#Questão 18\n",
    "#Rode o otimizador RandomForest\n",
    "#se você rodar o modelo mais de uma vez, sem alterar nada, o resultado final muda?\n",
    "#Como saber qual o melhor resultado podemos obter com esse modelo?\n",
    "#se alterarmos o valor de n_estimators e min_samples_leaf, os resultados mudam?"
   ],
   "metadata": {
    "cell_id": "e8d6a9a46af04e308a99118bc3f4bd62",
    "tags": [],
    "deepnote_cell_type": "code",
    "deepnote_cell_height": 133,
    "id": "uU2SL-8rVjYR"
   },
   "outputs": [],
   "execution_count": null
  },
  {
   "cell_type": "code",
   "execution_count": 74,
   "outputs": [
    {
     "name": "stdout",
     "output_type": "stream",
     "text": [
      "Acurácia do modelo de RandomForest: 0.90430622\n"
     ]
    }
   ],
   "source": [
    "from sklearn.ensemble import RandomForestClassifier\n",
    "modeloRF = RandomForestClassifier(n_estimators=100, min_samples_leaf=5)\n",
    "modeloRF.fit(train_df_X, train_df_y)\n",
    "y_predRF = modeloRF.predict(test_df_X)\n",
    "print(\"Acurácia do modelo de RandomForest: {}\".format(metrics.accuracy_score(test_df_y, y_predRF).round(8)))"
   ],
   "metadata": {
    "collapsed": false,
    "ExecuteTime": {
     "end_time": "2023-09-03T18:25:49.293186Z",
     "start_time": "2023-09-03T18:25:49.036277Z"
    }
   }
  },
  {
   "cell_type": "code",
   "execution_count": 75,
   "outputs": [
    {
     "name": "stdout",
     "output_type": "stream",
     "text": [
      "Acurácia do modelo de RandomForest: 0.90669856\n"
     ]
    }
   ],
   "source": [
    "modeloRF = RandomForestClassifier(n_estimators=100, min_samples_leaf=5)\n",
    "modeloRF.fit(train_df_X, train_df_y)\n",
    "y_predRF = modeloRF.predict(test_df_X)\n",
    "print(\"Acurácia do modelo de RandomForest: {}\".format(metrics.accuracy_score(test_df_y, y_predRF).round(8)))"
   ],
   "metadata": {
    "collapsed": false,
    "ExecuteTime": {
     "end_time": "2023-09-03T18:25:59.561048Z",
     "start_time": "2023-09-03T18:25:59.396402Z"
    }
   }
  },
  {
   "cell_type": "code",
   "execution_count": 76,
   "outputs": [
    {
     "name": "stdout",
     "output_type": "stream",
     "text": [
      "Acurácia do modelo de RandomForest: 0.90191388\n"
     ]
    }
   ],
   "source": [
    "modeloRF = RandomForestClassifier(n_estimators=2000, min_samples_leaf=5)\n",
    "modeloRF.fit(train_df_X, train_df_y)\n",
    "y_predRF = modeloRF.predict(test_df_X)\n",
    "print(\"Acurácia do modelo de RandomForest: {}\".format(metrics.accuracy_score(test_df_y, y_predRF).round(8)))"
   ],
   "metadata": {
    "collapsed": false,
    "ExecuteTime": {
     "end_time": "2023-09-03T18:26:43.571533Z",
     "start_time": "2023-09-03T18:26:37.956966Z"
    }
   }
  },
  {
   "cell_type": "code",
   "execution_count": 77,
   "outputs": [
    {
     "name": "stdout",
     "output_type": "stream",
     "text": [
      "Acurácia do modelo de RandomForest: 0.89712919\n"
     ]
    }
   ],
   "source": [
    "modeloRF = RandomForestClassifier(n_estimators=2000, min_samples_leaf=5)\n",
    "modeloRF.fit(train_df_X, train_df_y)\n",
    "y_predRF = modeloRF.predict(test_df_X)\n",
    "print(\"Acurácia do modelo de RandomForest: {}\".format(metrics.accuracy_score(test_df_y, y_predRF).round(8)))"
   ],
   "metadata": {
    "collapsed": false,
    "ExecuteTime": {
     "end_time": "2023-09-03T18:26:51.211241Z",
     "start_time": "2023-09-03T18:26:45.487116Z"
    }
   }
  },
  {
   "cell_type": "code",
   "execution_count": 78,
   "outputs": [
    {
     "name": "stdout",
     "output_type": "stream",
     "text": [
      "Acurácia do modelo de RandomForest: 0.92344498\n"
     ]
    }
   ],
   "source": [
    "modeloRF = RandomForestClassifier(n_estimators=100, min_samples_leaf=10)\n",
    "modeloRF.fit(train_df_X, train_df_y)\n",
    "y_predRF = modeloRF.predict(test_df_X)\n",
    "print(\"Acurácia do modelo de RandomForest: {}\".format(metrics.accuracy_score(test_df_y, y_predRF).round(8)))"
   ],
   "metadata": {
    "collapsed": false,
    "ExecuteTime": {
     "end_time": "2023-09-03T18:27:06.393150Z",
     "start_time": "2023-09-03T18:27:06.073595Z"
    }
   }
  },
  {
   "cell_type": "code",
   "execution_count": 79,
   "outputs": [
    {
     "name": "stdout",
     "output_type": "stream",
     "text": [
      "Acurácia do modelo de RandomForest: 0.92822967\n"
     ]
    }
   ],
   "source": [
    "modeloRF = RandomForestClassifier(n_estimators=100, min_samples_leaf=10)\n",
    "modeloRF.fit(train_df_X, train_df_y)\n",
    "y_predRF = modeloRF.predict(test_df_X)\n",
    "print(\"Acurácia do modelo de RandomForest: {}\".format(metrics.accuracy_score(test_df_y, y_predRF).round(8)))"
   ],
   "metadata": {
    "collapsed": false,
    "ExecuteTime": {
     "end_time": "2023-09-03T18:27:18.703633Z",
     "start_time": "2023-09-03T18:27:18.386890Z"
    }
   }
  },
  {
   "cell_type": "code",
   "source": [
    "#Questão 19\n",
    "#Qual modelo entregou a maior acurácia?"
   ],
   "metadata": {
    "cell_id": "3ed997739184455c9f4fddee7408219a",
    "tags": [],
    "deepnote_to_be_reexecuted": false,
    "source_hash": "36f5f8e",
    "execution_start": 1660614386834,
    "execution_millis": 1,
    "deepnote_cell_type": "code",
    "deepnote_cell_height": 79,
    "id": "ygIJEA2kVjYR"
   },
   "outputs": [],
   "execution_count": null
  },
  {
   "cell_type": "markdown",
   "source": [
    "## Conclusão\n",
    "O modelo com a maior acurácia foi o Support Vector Classifier com kernel='linear' e C=1.0. No entanto, é pouco provável que qualquer modelo consiga realizar uma previsão exata. Assim, eu desconsideraria esse resultado e revisaria os dados e a metodologia para garantir que não houve overfitting. Desconsiderando esse modelo, a melhor performance foi obtida com os modelos\n",
    "- SVM com kernel='poly', C=0.1\n",
    "- Random Forest com n_estimators=100, min_samples_leaf=10\n",
    "\n",
    "É importante destacar que a acurácia não é a única métrica que deve ser considerada para avaliar a performance de um modelo. Dependendo do problema, outras métricas podem ser mais importantes, como a precisão, o recall, a área sob a curva ROC, etc. Além disso, é importante avaliar o custo de se cometer um erro, pois em alguns casos é mais grave cometer um falso negativo do que um falso positivo, por exemplo.\n"
   ],
   "metadata": {
    "collapsed": false
   }
  },
  {
   "cell_type": "code",
   "execution_count": null,
   "outputs": [],
   "source": [],
   "metadata": {
    "collapsed": false
   }
  }
 ],
 "nbformat": 4,
 "nbformat_minor": 0,
 "metadata": {
  "orig_nbformat": 2,
  "deepnote": {
   "is_reactive": false
  },
  "deepnote_notebook_id": "8f2052cf-165b-464f-84eb-681c6be3a2dd",
  "deepnote_execution_queue": [],
  "colab": {
   "provenance": []
  },
  "language_info": {
   "name": "python"
  },
  "kernelspec": {
   "name": "python3",
   "language": "python",
   "display_name": "Python 3 (ipykernel)"
  },
  "gpuClass": "standard"
 }
}
