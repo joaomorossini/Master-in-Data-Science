{
 "cells": [
  {
   "cell_type": "markdown",
   "source": [
    "# REGRESSÃO LOGÍSTICA BINOMIAL"
   ],
   "metadata": {
    "collapsed": false
   }
  },
  {
   "cell_type": "markdown",
   "source": [
    "## O que é?\n",
    "A Regressão Logística Binominal, assim como a regressão linear, tem o objetivo de prever o comportamento de uma variável resposta (ou variável independente) a partir dos valores de variáveis dependentes. Essa técnica, porém, é aplicada quando a variável dependente é binária (0 ou 1). Para isso, cria-se um modelo que gera uma aproximação da relação entre as variáveis, resultando em parâmetros de cálculo (coeficientes) que - ao serem aplicados a determinados valores de X \"variáveis independentes\" - retornam a probabilidade de que a variável independente pertença a uma classe ou outra."
   ],
   "metadata": {
    "collapsed": false
   }
  },
  {
   "cell_type": "markdown",
   "source": [
    "![Análise de Regressão](https://statplace.com.br/wp-content/uploads/2021/02/Regressao_linear-1-768x608.jpeg)"
   ],
   "metadata": {
    "collapsed": false
   }
  },
  {
   "cell_type": "markdown",
   "source": [
    "## Passo a Passo\n",
    "- Passo 1: Importação das bibliotecas\n"
   ],
   "metadata": {
    "collapsed": false
   }
  },
  {
   "cell_type": "code",
   "execution_count": null,
   "outputs": [],
   "source": [
    "import pandas as pd\n",
    "import seaborn as sns\n",
    "import statsmodels.api as sm\n",
    "import numpy as np\n",
    "import matplotlib.pyplot as plt\n",
    "from imblearn.under_sampling import RandomUnderSampler\n",
    "from sklearn.metrics import confusion_matrix, classification_report, roc_curve, roc_auc_score"
   ],
   "metadata": {
    "collapsed": false
   }
  },
  {
   "cell_type": "markdown",
   "source": [
    "- Passo 2: Base de dados\n",
    "- Passo 3: Tratamento dos dados\n",
    "- Passo 4: `Análise de correlação` das variáveis independentes\n",
    "Nota: Esse passo é importante para evitar que haja colinearidade entre as variáveis independentes, o que pode invalidar o modelo\n",
    "- Passo 5: Armazenar as `variáveis dependentes em \"X\"` e a `variável independente em \"y\"` e `incluir a constante em X`"
   ],
   "metadata": {
    "collapsed": false
   }
  },
  {
   "cell_type": "code",
   "execution_count": null,
   "outputs": [],
   "source": [
    "# separando as variáveis X e y\n",
    "X = df.[['var_ind_1', 'var_ind_2', 'var_ind_3']]\n",
    "y = df['var_dependente']"
   ],
   "metadata": {
    "collapsed": false
   }
  },
  {
   "cell_type": "code",
   "execution_count": null,
   "outputs": [],
   "source": [
    "# adicionando a constante\n",
    "X = sm.add_constant(X)"
   ],
   "metadata": {
    "collapsed": false
   }
  },
  {
   "cell_type": "markdown",
   "source": [
    "- Passo 6 `Balancear amostra`. É importante garantir que o modelo será treinado com uma amostra que disponha da mesma quantidade de observações positivas e negativas (Ex.: 50% de clientes que pagaram e 50% de clientes que não pagaram). Isso é importante para evitar que o modelo seja enviesado para a classe majoritária.\n"
   ],
   "metadata": {
    "collapsed": false
   }
  },
  {
   "cell_type": "code",
   "execution_count": null,
   "outputs": [],
   "source": [
    "# Visualizando distribuição da variável dependente\n",
    "sns.countplot(x='var_dependente', data=df)\n",
    "df['var_dependente'].value_counts()"
   ],
   "metadata": {
    "collapsed": false
   }
  },
  {
   "cell_type": "code",
   "execution_count": null,
   "outputs": [],
   "source": [
    "# balanceando as classes com undersampling\n",
    "undersample = RandomUnderSampler(sampling_strategy='majority')\n",
    "X, y = undersample.fit_resample(X, y)"
   ],
   "metadata": {
    "collapsed": false
   }
  },
  {
   "cell_type": "markdown",
   "source": [
    "- Passo 7: `Treinar` o modelo\n"
   ],
   "metadata": {
    "collapsed": false
   }
  },
  {
   "cell_type": "code",
   "execution_count": null,
   "outputs": [],
   "source": [
    "model = sm.Logit(y, X).fit(method='newton')"
   ],
   "metadata": {
    "collapsed": false
   }
  },
  {
   "cell_type": "markdown",
   "source": [
    "- Passo 8: Gerar o sumário do modelo e `avaliar os resultados`"
   ],
   "metadata": {
    "collapsed": false
   }
  },
  {
   "cell_type": "code",
   "execution_count": null,
   "outputs": [],
   "source": [
    "print(model.summary())"
   ],
   "metadata": {
    "collapsed": false
   }
  },
  {
   "cell_type": "markdown",
   "source": [
    "- Passo 9: Interpretar os `parâmetros do modelo`. Quanto maior o valor do coeficiente, maior a influência da variável independente sobre a variável dependente. O valor de dos coeficientes representa a variação de `y` para o aumento, em uma unidade, no logarítmo natural da variável independente. Outra forma de se interpretar é que o exponente do coeficiente representa a variação de `y` para o aumento, em uma unidade, da variável independente."
   ],
   "metadata": {
    "collapsed": false
   }
  },
  {
   "cell_type": "code",
   "execution_count": null,
   "outputs": [],
   "source": [
    "# Convertendo os coeficientes em percentuais\n",
    "coef = model.params\n",
    "print(((np.exp(coef)-1)*100).round(2))"
   ],
   "metadata": {
    "collapsed": false
   }
  },
  {
   "cell_type": "markdown",
   "source": [
    "- Passo 10: `Obter as previsões` aplicando o modelo sobre a amostra já balanceada (ver Passo 5)"
   ],
   "metadata": {
    "collapsed": false
   }
  },
  {
   "cell_type": "code",
   "execution_count": null,
   "outputs": [],
   "source": [
    "# Aplicando o modelo para prever os valores de y\n",
    "y_pred = model.predict(X)\n",
    "print(y_pred)"
   ],
   "metadata": {
    "collapsed": false
   }
  },
  {
   "cell_type": "markdown",
   "source": [
    "- Passo 11: Gerar as probabilidades de cada registro pertencer a cada classe e aplicar um `threshold` para classificar os registros como 0 ou 1"
   ],
   "metadata": {
    "collapsed": false
   }
  },
  {
   "cell_type": "code",
   "execution_count": null,
   "outputs": [],
   "source": [
    "# Atribuindo valores binários a y_pred\n",
    "y_pred = y_pred.apply(lambda x: 1 if x > 0.5 else 0)\n",
    "print(y_pred)"
   ],
   "metadata": {
    "collapsed": false
   }
  },
  {
   "cell_type": "markdown",
   "source": [
    "- Passo 12: Gerar a `matriz de confusão`. Essa matriz contém 4 quadrantes, que representam os valores (quantidades ou percentuais) de Verdadeiro Positivo, Falso Positivo, Verdadeiro Negativo e Falso Negativo."
   ],
   "metadata": {
    "collapsed": false
   }
  },
  {
   "cell_type": "code",
   "execution_count": null,
   "outputs": [],
   "source": [
    "# Gerando a matriz de confusão e o mapa de calor\n",
    "cm = confusion_matrix(y, y_pred)\n",
    "sns.heatmap(cm/np.sum(cm), annot=True, cmap='Blues', fmt='.2%')\n",
    "plt.title('Matriz de Confusão', y=1.1)\n",
    "plt.ylabel('Valores Observados')\n",
    "plt.xlabel('Valores Preditos');"
   ],
   "metadata": {
    "collapsed": false
   }
  },
  {
   "cell_type": "markdown",
   "source": [
    "- Passo 13: Calcular as métricas de `acurácia`, `precisão`, `recall` e `f1-score`"
   ],
   "metadata": {
    "collapsed": false
   }
  },
  {
   "cell_type": "code",
   "execution_count": null,
   "outputs": [],
   "source": [
    "# Calculando as métricas com o classification_report\n",
    "print(classification_report(y, y_pred))"
   ],
   "metadata": {
    "collapsed": false
   }
  },
  {
   "cell_type": "markdown",
   "source": [
    "- Passo 14: Gerar a curva `ROC (Receiver Operating Characteristic)` e calcular a `AUC (Area Under the Curve)`. Quanto mais próxima de 1 a área sob a curva, melhor o modelo"
   ],
   "metadata": {
    "collapsed": false
   }
  },
  {
   "cell_type": "markdown",
   "source": [
    "# Gerando o gráfico da curva ROC\n",
    "logit_roc_auc = roc_auc_score(y, model.predict(X))\n",
    "fpr, tpr, thresholds = roc_curve(y, model.predict(X))\n",
    "plt.plot(fpr, tpr, label=f'Regressão Logística (área = {round(logit_roc_auc, 2)})')\n",
    "plt.plot([0, 1], [0, 1],'r--')\n",
    "plt.xlabel('Taxa de Falso Positivo')\n",
    "plt.ylabel('Taxa de Verdadeiro Positivo')\n",
    "plt.title('Curva ROC')\n",
    "plt.legend(loc=\"lower right\");"
   ],
   "metadata": {
    "collapsed": false
   }
  },
  {
   "cell_type": "markdown",
   "source": [
    "- Passo 15: Adequar iterativamente o modelo até que se obtenha um resultado satisfatório"
   ],
   "metadata": {
    "collapsed": false
   }
  },
  {
   "cell_type": "markdown",
   "source": [
    "## Notas gerais"
   ],
   "metadata": {
    "collapsed": false
   }
  },
  {
   "cell_type": "markdown",
   "source": [
    "É possível converter uma variável não-binária em binária para então permitir a aplicação da regressão logística binomial (ou dicotômica). No custo, utilizamos uma função sigmóide para fazer essa conversão"
   ],
   "metadata": {
    "collapsed": false
   }
  },
  {
   "cell_type": "code",
   "execution_count": 3,
   "outputs": [],
   "source": [
    "import numpy as np\n",
    "\n",
    "def sigmoide(x):\n",
    "    return 1 / (1 + np.exp(-x))"
   ],
   "metadata": {
    "collapsed": false,
    "ExecuteTime": {
     "end_time": "2023-08-07T17:23:32.830950Z",
     "start_time": "2023-08-07T17:23:32.820357Z"
    }
   }
  },
  {
   "cell_type": "code",
   "execution_count": 4,
   "outputs": [
    {
     "data": {
      "text/plain": "<Figure size 640x480 with 1 Axes>",
      "image/png": "[encoded data removed]"
     },
     "metadata": {},
     "output_type": "display_data"
    }
   ],
   "source": [
    "import seaborn as sns\n",
    "import matplotlib.pyplot as plt\n",
    "\n",
    "x = np.arange(-10,10,0.1)\n",
    "sns.lineplot(x=x, y=sigmoide(x))\n",
    "plt.grid()\n",
    "plt.plot([-10, 10], [0.5, 0.5],'r--')\n",
    "plt.xlabel('x')\n",
    "plt.ylabel('sigmoide(x)')\n",
    "plt.title('Gráfico da Função Sigmóide');"
   ],
   "metadata": {
    "collapsed": false,
    "ExecuteTime": {
     "end_time": "2023-08-07T17:23:34.278461Z",
     "start_time": "2023-08-07T17:23:33.819944Z"
    }
   }
  },
  {
   "cell_type": "markdown",
   "source": [
    "### Como medir a performance da regressão logística?\n",
    "\n",
    "Em problemas de classificação binária temos 4 possibilidade:\n",
    "\n",
    "* Verdadeiro positivo (VP): prever casos positivos corretamente;\n",
    "\n",
    "* Verdadeiro negativo (VN): prever casos negativos corretamente;\n",
    "\n",
    "* Falso positivo (FP): prever casos positivos incorretamente;\n",
    "\n",
    "* Falso negativo (FN): prever casos negativos incorretamente;\n",
    "\n",
    "\n",
    "Claramente, a função (ou modelo) acerta com verdadeiro positivo e verdadeiro negativo, mas erra com falso positivo e falso negativo.\n",
    "\n",
    "Há várias formas de avaliar a performance de um modelo, e todas elas se baseiam no acertos ou erros que o modelo cometeu. Para facilitar, vamos criar uma tabela, conhecida como tabela (ou matriz) de confusão:\n",
    "\n",
    "<table>\n",
    "<thead>\n",
    "  <tr>\n",
    "    <th></th>\n",
    "    <th colspan=\"2\">preditos</th>\n",
    "  </tr>\n",
    "</thead>\n",
    "<tbody>\n",
    "  <tr>\n",
    "    <td rowspan=\"2\">observados</td>\n",
    "    <td>VP</td>\n",
    "    <td>FN</td>\n",
    "  </tr>\n",
    "  <tr>\n",
    "    <td>FP</td>\n",
    "    <td>VN</td>\n",
    "  </tr>\n",
    "</tbody>\n",
    "</table>"
   ],
   "metadata": {
    "collapsed": false
   }
  },
  {
   "cell_type": "markdown",
   "source": [
    "#### Métricas\n",
    "\n",
    "* **Acurácia:** é o número total de acertos dividido pelo número total de observações. Isto é, $\\frac{VP + VN}{VP + VN + FP + FN}$\n",
    "\n",
    "* **Valores Positivos Preditos ou Precision:** é o número de verdadeiro positivos dividido pelo total de positivos observados. Isto é, $\\frac{VP}{VP + FP}$\n",
    "\n",
    "* **Valores Negativos Preditos:** é o número de verdadeiro negativos dividido pelo total de negativos observados. Isto é, $\\frac{VN}{VN + FN}$\n",
    "\n",
    "* **Sensitividade ou Recall:** é o número de verdadeiro positivos dividido pelo total de verdadeiros preditos. Isto é, $\\frac{VP}{VP + FN}$\n",
    "\n",
    "* **Especificidade:** é o número de verdadeiro negativos dividido pelo total de negativos preditos. Isto é, $\\frac{VN}{VN+FP}$.\n",
    "\n",
    "* **f1-score:** é uma média harmônica entre sensitividade e especificidade.\n",
    "\n",
    "\n",
    "Podemos montar a matriz de confusão usando a função `confusion_matrix` do módulo `metrics` do `scikit-learn`."
   ],
   "metadata": {
    "collapsed": false
   }
  },
  {
   "cell_type": "markdown",
   "source": [
    "# REGRESSÃO LOGÍSTICA MULTINOMIAL"
   ],
   "metadata": {
    "collapsed": false
   }
  },
  {
   "cell_type": "markdown",
   "source": [],
   "metadata": {
    "collapsed": false
   }
  },
  {
   "cell_type": "markdown",
   "source": [],
   "metadata": {
    "collapsed": false
   }
  }
 ],
 "metadata": {
  "kernelspec": {
   "display_name": "Python 3",
   "language": "python",
   "name": "python3"
  },
  "language_info": {
   "codemirror_mode": {
    "name": "ipython",
    "version": 2
   },
   "file_extension": ".py",
   "mimetype": "text/x-python",
   "name": "python",
   "nbconvert_exporter": "python",
   "pygments_lexer": "ipython2",
   "version": "2.7.6"
  }
 },
 "nbformat": 4,
 "nbformat_minor": 0
}
