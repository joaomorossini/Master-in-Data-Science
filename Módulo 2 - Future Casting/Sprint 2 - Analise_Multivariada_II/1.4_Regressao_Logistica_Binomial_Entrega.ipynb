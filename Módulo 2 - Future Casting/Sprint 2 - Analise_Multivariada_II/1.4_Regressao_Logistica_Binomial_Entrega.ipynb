{
 "nbformat": 4,
 "nbformat_minor": 0,
 "metadata": {
  "colab": {
   "provenance": []
  },
  "kernelspec": {
   "name": "python3",
   "language": "python",
   "display_name": "Python 3 (ipykernel)"
  },
  "language_info": {
   "name": "python"
  }
 },
 "cells": [
  {
   "cell_type": "markdown",
   "source": [
    "# Regressão Logística Binária\n",
    "\n",
    "Para está atividade iremos utilizar um dataset sobre fraudes em cartão de crédito obtido do [kaggle](https://www.kaggle.com/datasets/dhanushnarayananr/credit-card-fraud?select=card_transdata.csv).\n",
    "\n",
    "Esse conjunto de dados possui as variáveis:\n",
    "\n",
    "* distance_from_home - distância entre a casa e o local onde a transação foi feita.\n",
    "\n",
    "* distance_from_last_transaction - a distância do local em que a última transação ocorreu.\n",
    "\n",
    "* ratio_to_median_purchase_price - Razão entre preço da transação e o preço médio de transação.\n",
    "\n",
    "* repeat_retailer - Se a transação ocorreu na mesma loja.\n",
    "\n",
    "* used_chip - Se a transação foi feita com cartão de crédito.\n",
    "\n",
    "* used_pin_number - Se a transação ocorreu usando número PIN.\n",
    "\n",
    "* online_order - Se a transação foi online.\n",
    "\n",
    "* fraud - Se a transação é fraudulenta.\n"
   ],
   "metadata": {
    "id": "bPYgc7UHk8Wt"
   }
  },
  {
   "cell_type": "markdown",
   "source": [
    "## Atividade 1: Carregue os dados e verifique se há dados faltantes. Se houver, faça o tratamento que julgar adequado."
   ],
   "metadata": {
    "id": "ynczv8RdtupL"
   }
  },
  {
   "cell_type": "code",
   "source": [
    "# Importando as dependências externas\n",
    "import pandas as pd\n",
    "import seaborn as sns\n",
    "import statsmodels.api as sm\n",
    "import numpy as np\n",
    "import matplotlib.pyplot as plt\n",
    "from imblearn.under_sampling import RandomUnderSampler\n",
    "from sklearn.metrics import confusion_matrix, classification_report, roc_curve, roc_auc_score"
   ],
   "metadata": {
    "id": "y4uD071Xj9_V",
    "ExecuteTime": {
     "end_time": "2023-08-04T15:34:55.685646Z",
     "start_time": "2023-08-04T15:34:55.559303Z"
    }
   },
   "execution_count": 42,
   "outputs": []
  },
  {
   "cell_type": "code",
   "source": [
    "# Carregando os dados\n",
    "df_original = pd.read_csv('1.4_Regressao_Logistica_Binomial_Entrega_Dados.csv')\n",
    "df_original.head(2)"
   ],
   "metadata": {
    "id": "OGGvBh-Wj96l",
    "ExecuteTime": {
     "end_time": "2023-08-04T15:34:56.597877Z",
     "start_time": "2023-08-04T15:34:55.567249Z"
    }
   },
   "execution_count": 43,
   "outputs": [
    {
     "data": {
      "text/plain": "   distance_from_home  distance_from_last_transaction  \\\n0           57.877857                        0.311140   \n1           10.829943                        0.175592   \n\n   ratio_to_median_purchase_price  repeat_retailer  used_chip  \\\n0                        1.945940              1.0        1.0   \n1                        1.294219              1.0        0.0   \n\n   used_pin_number  online_order  fraud  \n0              0.0           0.0    0.0  \n1              0.0           0.0    0.0  ",
      "text/html": "<div>\n<style scoped>\n    .dataframe tbody tr th:only-of-type {\n        vertical-align: middle;\n    }\n\n    .dataframe tbody tr th {\n        vertical-align: top;\n    }\n\n    .dataframe thead th {\n        text-align: right;\n    }\n</style>\n<table border=\"1\" class=\"dataframe\">\n  <thead>\n    <tr style=\"text-align: right;\">\n      <th></th>\n      <th>distance_from_home</th>\n      <th>distance_from_last_transaction</th>\n      <th>ratio_to_median_purchase_price</th>\n      <th>repeat_retailer</th>\n      <th>used_chip</th>\n      <th>used_pin_number</th>\n      <th>online_order</th>\n      <th>fraud</th>\n    </tr>\n  </thead>\n  <tbody>\n    <tr>\n      <th>0</th>\n      <td>57.877857</td>\n      <td>0.311140</td>\n      <td>1.945940</td>\n      <td>1.0</td>\n      <td>1.0</td>\n      <td>0.0</td>\n      <td>0.0</td>\n      <td>0.0</td>\n    </tr>\n    <tr>\n      <th>1</th>\n      <td>10.829943</td>\n      <td>0.175592</td>\n      <td>1.294219</td>\n      <td>1.0</td>\n      <td>0.0</td>\n      <td>0.0</td>\n      <td>0.0</td>\n      <td>0.0</td>\n    </tr>\n  </tbody>\n</table>\n</div>"
     },
     "execution_count": 43,
     "metadata": {},
     "output_type": "execute_result"
    }
   ]
  },
  {
   "cell_type": "code",
   "source": [
    "# Avaliando o dataset\n",
    "df_original.info()"
   ],
   "metadata": {
    "id": "L3Z9Nu68ODjn",
    "ExecuteTime": {
     "end_time": "2023-08-04T15:34:56.647548Z",
     "start_time": "2023-08-04T15:34:56.598532Z"
    }
   },
   "execution_count": 44,
   "outputs": [
    {
     "name": "stdout",
     "output_type": "stream",
     "text": [
      "<class 'pandas.core.frame.DataFrame'>\n",
      "RangeIndex: 1000000 entries, 0 to 999999\n",
      "Data columns (total 8 columns):\n",
      " #   Column                          Non-Null Count    Dtype  \n",
      "---  ------                          --------------    -----  \n",
      " 0   distance_from_home              1000000 non-null  float64\n",
      " 1   distance_from_last_transaction  1000000 non-null  float64\n",
      " 2   ratio_to_median_purchase_price  1000000 non-null  float64\n",
      " 3   repeat_retailer                 1000000 non-null  float64\n",
      " 4   used_chip                       1000000 non-null  float64\n",
      " 5   used_pin_number                 1000000 non-null  float64\n",
      " 6   online_order                    1000000 non-null  float64\n",
      " 7   fraud                           1000000 non-null  float64\n",
      "dtypes: float64(8)\n",
      "memory usage: 61.0 MB\n"
     ]
    }
   ]
  },
  {
   "cell_type": "markdown",
   "source": [
    "Obs: Na célula abaixo há um código para renomear as colunas."
   ],
   "metadata": {
    "id": "DG6ZjW99gg5E"
   }
  },
  {
   "cell_type": "code",
   "execution_count": 45,
   "outputs": [],
   "source": [
    "# Criando uma cópia do dataset\n",
    "df = df_original.copy()"
   ],
   "metadata": {
    "collapsed": false,
    "ExecuteTime": {
     "end_time": "2023-08-04T15:34:56.765724Z",
     "start_time": "2023-08-04T15:34:56.625221Z"
    }
   }
  },
  {
   "cell_type": "code",
   "source": [
    "# renomeando as colunas\n",
    "df.columns = ['dist_casa','dist_ultima_transacao','razao_preco_medio',\n",
    "              'loja_repetida','usou_chip','usou_pin','online','fraude']"
   ],
   "metadata": {
    "id": "lwZcqLAzQrS4",
    "ExecuteTime": {
     "end_time": "2023-08-04T15:34:56.779397Z",
     "start_time": "2023-08-04T15:34:56.682782Z"
    }
   },
   "execution_count": 46,
   "outputs": []
  },
  {
   "cell_type": "code",
   "execution_count": 47,
   "outputs": [
    {
     "data": {
      "text/plain": "                       dist_casa  dist_ultima_transacao  razao_preco_medio  \\\ndist_casa               1.000000               0.000193          -0.001374   \ndist_ultima_transacao   0.000193               1.000000           0.001013   \nrazao_preco_medio      -0.001374               0.001013           1.000000   \nloja_repetida           0.143124              -0.000928           0.001374   \nusou_chip              -0.000697               0.002055           0.000587   \nusou_pin               -0.001622              -0.000899           0.000942   \nonline                 -0.001301               0.000141          -0.000330   \nfraude                  0.187571               0.091917           0.462305   \n\n                       loja_repetida  usou_chip  usou_pin    online    fraude  \ndist_casa                   0.143124  -0.000697 -0.001622 -0.001301  0.187571  \ndist_ultima_transacao      -0.000928   0.002055 -0.000899  0.000141  0.091917  \nrazao_preco_medio           0.001374   0.000587  0.000942 -0.000330  0.462305  \nloja_repetida               1.000000  -0.001345 -0.000417 -0.000532 -0.001357  \nusou_chip                  -0.001345   1.000000 -0.001393 -0.000219 -0.060975  \nusou_pin                   -0.000417  -0.001393  1.000000 -0.000291 -0.100293  \nonline                     -0.000532  -0.000219 -0.000291  1.000000  0.191973  \nfraude                     -0.001357  -0.060975 -0.100293  0.191973  1.000000  ",
      "text/html": "<div>\n<style scoped>\n    .dataframe tbody tr th:only-of-type {\n        vertical-align: middle;\n    }\n\n    .dataframe tbody tr th {\n        vertical-align: top;\n    }\n\n    .dataframe thead th {\n        text-align: right;\n    }\n</style>\n<table border=\"1\" class=\"dataframe\">\n  <thead>\n    <tr style=\"text-align: right;\">\n      <th></th>\n      <th>dist_casa</th>\n      <th>dist_ultima_transacao</th>\n      <th>razao_preco_medio</th>\n      <th>loja_repetida</th>\n      <th>usou_chip</th>\n      <th>usou_pin</th>\n      <th>online</th>\n      <th>fraude</th>\n    </tr>\n  </thead>\n  <tbody>\n    <tr>\n      <th>dist_casa</th>\n      <td>1.000000</td>\n      <td>0.000193</td>\n      <td>-0.001374</td>\n      <td>0.143124</td>\n      <td>-0.000697</td>\n      <td>-0.001622</td>\n      <td>-0.001301</td>\n      <td>0.187571</td>\n    </tr>\n    <tr>\n      <th>dist_ultima_transacao</th>\n      <td>0.000193</td>\n      <td>1.000000</td>\n      <td>0.001013</td>\n      <td>-0.000928</td>\n      <td>0.002055</td>\n      <td>-0.000899</td>\n      <td>0.000141</td>\n      <td>0.091917</td>\n    </tr>\n    <tr>\n      <th>razao_preco_medio</th>\n      <td>-0.001374</td>\n      <td>0.001013</td>\n      <td>1.000000</td>\n      <td>0.001374</td>\n      <td>0.000587</td>\n      <td>0.000942</td>\n      <td>-0.000330</td>\n      <td>0.462305</td>\n    </tr>\n    <tr>\n      <th>loja_repetida</th>\n      <td>0.143124</td>\n      <td>-0.000928</td>\n      <td>0.001374</td>\n      <td>1.000000</td>\n      <td>-0.001345</td>\n      <td>-0.000417</td>\n      <td>-0.000532</td>\n      <td>-0.001357</td>\n    </tr>\n    <tr>\n      <th>usou_chip</th>\n      <td>-0.000697</td>\n      <td>0.002055</td>\n      <td>0.000587</td>\n      <td>-0.001345</td>\n      <td>1.000000</td>\n      <td>-0.001393</td>\n      <td>-0.000219</td>\n      <td>-0.060975</td>\n    </tr>\n    <tr>\n      <th>usou_pin</th>\n      <td>-0.001622</td>\n      <td>-0.000899</td>\n      <td>0.000942</td>\n      <td>-0.000417</td>\n      <td>-0.001393</td>\n      <td>1.000000</td>\n      <td>-0.000291</td>\n      <td>-0.100293</td>\n    </tr>\n    <tr>\n      <th>online</th>\n      <td>-0.001301</td>\n      <td>0.000141</td>\n      <td>-0.000330</td>\n      <td>-0.000532</td>\n      <td>-0.000219</td>\n      <td>-0.000291</td>\n      <td>1.000000</td>\n      <td>0.191973</td>\n    </tr>\n    <tr>\n      <th>fraude</th>\n      <td>0.187571</td>\n      <td>0.091917</td>\n      <td>0.462305</td>\n      <td>-0.001357</td>\n      <td>-0.060975</td>\n      <td>-0.100293</td>\n      <td>0.191973</td>\n      <td>1.000000</td>\n    </tr>\n  </tbody>\n</table>\n</div>"
     },
     "execution_count": 47,
     "metadata": {},
     "output_type": "execute_result"
    }
   ],
   "source": [
    "df.corr()"
   ],
   "metadata": {
    "collapsed": false,
    "ExecuteTime": {
     "end_time": "2023-08-04T15:34:56.945745Z",
     "start_time": "2023-08-04T15:34:56.686174Z"
    }
   }
  },
  {
   "cell_type": "markdown",
   "source": [
    "## Atividade 2: Selecione as variáveis que achar interessante para tentar prever se houve ou não fraude."
   ],
   "metadata": {
    "id": "r5ygMFXrDMjB"
   }
  },
  {
   "cell_type": "code",
   "source": [
    "# Como não há nenhuma correlação relevante, decidi utilizar todas as variáveis"
   ],
   "metadata": {
    "id": "ek8IPwZ2OcEF",
    "ExecuteTime": {
     "end_time": "2023-08-04T15:34:56.946968Z",
     "start_time": "2023-08-04T15:34:56.945077Z"
    }
   },
   "execution_count": 48,
   "outputs": []
  },
  {
   "cell_type": "markdown",
   "source": [
    "## Atividade 3: Verifique se há desbalanceamento da variável `fraude`. Se houver, faça um balanceamento de classes."
   ],
   "metadata": {
    "id": "uLnTDczA2FQH"
   }
  },
  {
   "cell_type": "code",
   "source": [
    "# Visualizando distribuição da variável fraude\n",
    "sns.countplot(x='fraude', data=df)\n",
    "df['fraude'].value_counts()"
   ],
   "metadata": {
    "id": "tQ68HjMuSj7q",
    "ExecuteTime": {
     "end_time": "2023-08-04T15:34:57.233901Z",
     "start_time": "2023-08-04T15:34:56.951910Z"
    }
   },
   "execution_count": 49,
   "outputs": [
    {
     "data": {
      "text/plain": "fraude\n0.0    912597\n1.0     87403\nName: count, dtype: int64"
     },
     "execution_count": 49,
     "metadata": {},
     "output_type": "execute_result"
    },
    {
     "data": {
      "text/plain": "<Figure size 640x480 with 1 Axes>",
      "image/png": "[encoded data removed]"
     },
     "metadata": {},
     "output_type": "display_data"
    }
   ]
  },
  {
   "cell_type": "markdown",
   "source": [
    "Se as classes estiverem desbalanceadas execute o código a seguir.\n",
    "\n",
    "Existem várias técnicas de balanceamento. Como temos muitas observações, vamos usar uma técnica chamada undersampling. Esta técnica consiste em descartar observações da classe que possui mais observações até que as duas classes tenham a mesma quantidade.\n",
    "\n",
    "Por exemplo, se temos duas classes, uma com 1000 observações para a classe A e outra com 100 observações para a classe B, então iremos selecionar apenas 100 observações (aleatoriamente) da classe A dentre as 1000. Dessa maneira iremos ter 100 observações de cada classe."
   ],
   "metadata": {
    "id": "gVT355Z1TP0F"
   }
  },
  {
   "cell_type": "code",
   "source": [
    "# separando as variáveis X e y\n",
    "X = df.drop('fraude', axis=1)\n",
    "y = df['fraude']"
   ],
   "metadata": {
    "id": "dbGROGkUXAsi",
    "ExecuteTime": {
     "end_time": "2023-08-04T15:34:57.299764Z",
     "start_time": "2023-08-04T15:34:57.272862Z"
    }
   },
   "execution_count": 50,
   "outputs": []
  },
  {
   "cell_type": "code",
   "execution_count": 51,
   "outputs": [],
   "source": [
    "# balanceando as classes com undersampling\n",
    "undersample = RandomUnderSampler(sampling_strategy='majority')\n",
    "X, y = undersample.fit_resample(X, y)"
   ],
   "metadata": {
    "collapsed": false,
    "ExecuteTime": {
     "end_time": "2023-08-04T15:34:57.604051Z",
     "start_time": "2023-08-04T15:34:57.276031Z"
    }
   }
  },
  {
   "cell_type": "code",
   "execution_count": 52,
   "outputs": [
    {
     "data": {
      "text/plain": "fraude\n0.0    87403\n1.0    87403\nName: count, dtype: int64"
     },
     "execution_count": 52,
     "metadata": {},
     "output_type": "execute_result"
    }
   ],
   "source": [
    "# Visualizando a nova distribuição da variável fraude\n",
    "y.value_counts()"
   ],
   "metadata": {
    "collapsed": false,
    "ExecuteTime": {
     "end_time": "2023-08-04T15:34:57.614511Z",
     "start_time": "2023-08-04T15:34:57.609807Z"
    }
   }
  },
  {
   "cell_type": "code",
   "execution_count": 53,
   "outputs": [
    {
     "name": "stdout",
     "output_type": "stream",
     "text": [
      "         dist_casa  dist_ultima_transacao  razao_preco_medio  loja_repetida  \\\n",
      "273658    2.826782              22.077546           0.274759            1.0   \n",
      "425704    4.967647               1.068489           3.964780            1.0   \n",
      "248687    6.441749               0.109000           1.610864            1.0   \n",
      "268368    6.462042               0.503219           0.583935            1.0   \n",
      "986558   13.138909               0.195629           0.106529            1.0   \n",
      "...            ...                    ...                ...            ...   \n",
      "999908   45.296658               0.882736           8.856861            1.0   \n",
      "999916  167.139756               0.282253           0.308468            1.0   \n",
      "999919  124.640118               0.004416           0.434885            1.0   \n",
      "999939   51.412900               3.429330          29.914254            1.0   \n",
      "999949   15.724799               1.875906          11.009366            1.0   \n",
      "\n",
      "        usou_chip  usou_pin  online  \n",
      "273658        1.0       0.0     1.0  \n",
      "425704        1.0       0.0     1.0  \n",
      "248687        0.0       1.0     1.0  \n",
      "268368        1.0       0.0     1.0  \n",
      "986558        1.0       0.0     1.0  \n",
      "...           ...       ...     ...  \n",
      "999908        0.0       0.0     1.0  \n",
      "999916        0.0       0.0     1.0  \n",
      "999919        0.0       0.0     1.0  \n",
      "999939        0.0       0.0     1.0  \n",
      "999949        1.0       0.0     1.0  \n",
      "\n",
      "[174806 rows x 7 columns]\n"
     ]
    }
   ],
   "source": [
    "print(X)"
   ],
   "metadata": {
    "collapsed": false,
    "ExecuteTime": {
     "end_time": "2023-08-04T15:34:57.626221Z",
     "start_time": "2023-08-04T15:34:57.614912Z"
    }
   }
  },
  {
   "cell_type": "markdown",
   "source": [
    "## Atividade 4: Crie um modelo de regressão logística."
   ],
   "metadata": {
    "id": "LyNahV2VRYqH"
   }
  },
  {
   "cell_type": "code",
   "source": [
    "X = sm.add_constant(X)\n",
    "print(X)"
   ],
   "metadata": {
    "id": "U0LWAEIGN9WB",
    "ExecuteTime": {
     "end_time": "2023-08-04T15:34:57.689264Z",
     "start_time": "2023-08-04T15:34:57.629290Z"
    }
   },
   "execution_count": 54,
   "outputs": [
    {
     "name": "stdout",
     "output_type": "stream",
     "text": [
      "        const   dist_casa  dist_ultima_transacao  razao_preco_medio  \\\n",
      "273658    1.0    2.826782              22.077546           0.274759   \n",
      "425704    1.0    4.967647               1.068489           3.964780   \n",
      "248687    1.0    6.441749               0.109000           1.610864   \n",
      "268368    1.0    6.462042               0.503219           0.583935   \n",
      "986558    1.0   13.138909               0.195629           0.106529   \n",
      "...       ...         ...                    ...                ...   \n",
      "999908    1.0   45.296658               0.882736           8.856861   \n",
      "999916    1.0  167.139756               0.282253           0.308468   \n",
      "999919    1.0  124.640118               0.004416           0.434885   \n",
      "999939    1.0   51.412900               3.429330          29.914254   \n",
      "999949    1.0   15.724799               1.875906          11.009366   \n",
      "\n",
      "        loja_repetida  usou_chip  usou_pin  online  \n",
      "273658            1.0        1.0       0.0     1.0  \n",
      "425704            1.0        1.0       0.0     1.0  \n",
      "248687            1.0        0.0       1.0     1.0  \n",
      "268368            1.0        1.0       0.0     1.0  \n",
      "986558            1.0        1.0       0.0     1.0  \n",
      "...               ...        ...       ...     ...  \n",
      "999908            1.0        0.0       0.0     1.0  \n",
      "999916            1.0        0.0       0.0     1.0  \n",
      "999919            1.0        0.0       0.0     1.0  \n",
      "999939            1.0        0.0       0.0     1.0  \n",
      "999949            1.0        1.0       0.0     1.0  \n",
      "\n",
      "[174806 rows x 8 columns]\n"
     ]
    }
   ]
  },
  {
   "cell_type": "code",
   "source": [
    "model = sm.Logit(y, X).fit(method='newton')"
   ],
   "metadata": {
    "id": "dZhHXu3lBhEO",
    "ExecuteTime": {
     "end_time": "2023-08-04T15:34:57.898950Z",
     "start_time": "2023-08-04T15:34:57.677048Z"
    }
   },
   "execution_count": 55,
   "outputs": [
    {
     "name": "stdout",
     "output_type": "stream",
     "text": [
      "Optimization terminated successfully.\n",
      "         Current function value: 0.216369\n",
      "         Iterations 10\n"
     ]
    }
   ]
  },
  {
   "cell_type": "markdown",
   "source": [
    "## Atividade 5: Verifique os parâmetros do modelo e se eles são relevantes."
   ],
   "metadata": {
    "id": "A75pvaMA4WEM"
   }
  },
  {
   "cell_type": "code",
   "execution_count": 56,
   "outputs": [
    {
     "name": "stdout",
     "output_type": "stream",
     "text": [
      "                           Logit Regression Results                           \n",
      "==============================================================================\n",
      "Dep. Variable:                 fraude   No. Observations:               174806\n",
      "Model:                          Logit   Df Residuals:                   174798\n",
      "Method:                           MLE   Df Model:                            7\n",
      "Date:                Fri, 04 Aug 2023   Pseudo R-squ.:                  0.6878\n",
      "Time:                        12:34:57   Log-Likelihood:                -37823.\n",
      "converged:                       True   LL-Null:                   -1.2117e+05\n",
      "Covariance Type:            nonrobust   LLR p-value:                     0.000\n",
      "=========================================================================================\n",
      "                            coef    std err          z      P>|z|      [0.025      0.975]\n",
      "-----------------------------------------------------------------------------------------\n",
      "const                    -7.5346      0.053   -142.640      0.000      -7.638      -7.431\n",
      "dist_casa                 0.0278      0.000    129.314      0.000       0.027       0.028\n",
      "dist_ultima_transacao     0.0499      0.001     87.828      0.000       0.049       0.051\n",
      "razao_preco_medio         1.1854      0.006    182.373      0.000       1.173       1.198\n",
      "loja_repetida            -1.3449      0.031    -43.610      0.000      -1.405      -1.284\n",
      "usou_chip                -1.1974      0.022    -53.703      0.000      -1.241      -1.154\n",
      "usou_pin                 -9.9807      0.164    -60.691      0.000     -10.303      -9.658\n",
      "online                    4.9293      0.042    117.154      0.000       4.847       5.012\n",
      "=========================================================================================\n",
      "\n",
      "Possibly complete quasi-separation: A fraction 0.13 of observations can be\n",
      "perfectly predicted. This might indicate that there is complete\n",
      "quasi-separation. In this case some parameters will not be identified.\n"
     ]
    }
   ],
   "source": [
    "print(model.summary())"
   ],
   "metadata": {
    "collapsed": false,
    "ExecuteTime": {
     "end_time": "2023-08-04T15:34:57.961809Z",
     "start_time": "2023-08-04T15:34:57.902503Z"
    }
   }
  },
  {
   "cell_type": "code",
   "execution_count": 57,
   "outputs": [
    {
     "name": "stdout",
     "output_type": "stream",
     "text": [
      "const                      -99.95\n",
      "dist_casa                    2.82\n",
      "dist_ultima_transacao        5.11\n",
      "razao_preco_medio          227.19\n",
      "loja_repetida              -73.94\n",
      "usou_chip                  -69.80\n",
      "usou_pin                  -100.00\n",
      "online                   13728.94\n",
      "dtype: float64\n"
     ]
    }
   ],
   "source": [
    "# Convertendo os coeficientes em percentuais\n",
    "coef = model.params\n",
    "print(((np.exp(coef)-1)*100).round(2))"
   ],
   "metadata": {
    "collapsed": false,
    "ExecuteTime": {
     "end_time": "2023-08-04T15:34:57.989886Z",
     "start_time": "2023-08-04T15:34:57.965104Z"
    }
   }
  },
  {
   "cell_type": "markdown",
   "source": [
    "## Atividade 6: Crie a matriz de confusão e o mapa de calor correspondente.\n"
   ],
   "metadata": {
    "id": "KzB5asn6RN8p"
   }
  },
  {
   "cell_type": "code",
   "source": [
    "# Aplicando o modelo para prever os valores de y\n",
    "y_pred = model.predict(X)\n",
    "print(y_pred)"
   ],
   "metadata": {
    "id": "n8QwhzkTPiDs",
    "ExecuteTime": {
     "end_time": "2023-08-04T15:34:58.042573Z",
     "start_time": "2023-08-04T15:34:57.979352Z"
    }
   },
   "execution_count": 58,
   "outputs": [
    {
     "name": "stdout",
     "output_type": "stream",
     "text": [
      "273658    0.025528\n",
      "425704    0.436289\n",
      "248687    0.000007\n",
      "268368    0.014059\n",
      "986558    0.009511\n",
      "            ...   \n",
      "999908    0.999612\n",
      "999916    0.746962\n",
      "999919    0.508841\n",
      "999939    1.000000\n",
      "999949    0.999783\n",
      "Length: 174806, dtype: float64\n"
     ]
    }
   ]
  },
  {
   "cell_type": "code",
   "source": [
    "# Atribuindo valores binários a y_pred\n",
    "y_pred = y_pred.apply(lambda x: 1 if x > 0.5 else 0)\n",
    "print(y_pred)"
   ],
   "metadata": {
    "id": "UpCr12avAR5f",
    "ExecuteTime": {
     "end_time": "2023-08-04T15:34:58.097088Z",
     "start_time": "2023-08-04T15:34:57.995849Z"
    }
   },
   "execution_count": 59,
   "outputs": [
    {
     "name": "stdout",
     "output_type": "stream",
     "text": [
      "273658    0\n",
      "425704    0\n",
      "248687    0\n",
      "268368    0\n",
      "986558    0\n",
      "         ..\n",
      "999908    1\n",
      "999916    1\n",
      "999919    1\n",
      "999939    1\n",
      "999949    1\n",
      "Length: 174806, dtype: int64\n"
     ]
    }
   ]
  },
  {
   "cell_type": "code",
   "source": [
    "# Gerando a matriz de confusão e o mapa de calor\n",
    "cm = confusion_matrix(y, y_pred)\n",
    "sns.heatmap(cm/np.sum(cm), annot=True, cmap='Blues', fmt='.2%')\n",
    "plt.title('Matriz de Confusão', y=1.1)\n",
    "plt.ylabel('Valores Observados')\n",
    "plt.xlabel('Valores Preditos');"
   ],
   "metadata": {
    "id": "9uen0B9OQr6H",
    "ExecuteTime": {
     "end_time": "2023-08-04T15:34:58.379223Z",
     "start_time": "2023-08-04T15:34:58.058231Z"
    }
   },
   "execution_count": 60,
   "outputs": [
    {
     "data": {
      "text/plain": "<Figure size 640x480 with 2 Axes>",
      "image/png": "[encoded data removed]"
     },
     "metadata": {},
     "output_type": "display_data"
    }
   ]
  },
  {
   "cell_type": "markdown",
   "source": [
    "## Atividade 7: Verifique as outras métricas (sensibilidade, especificidade, f1-score)."
   ],
   "metadata": {
    "id": "3Wk5rVVF9qLq"
   }
  },
  {
   "cell_type": "code",
   "source": [
    "# Calculando as métricas com o classification_report\n",
    "print(classification_report(y, y_pred))"
   ],
   "metadata": {
    "id": "iEk4M4vLBhqU",
    "ExecuteTime": {
     "end_time": "2023-08-04T15:34:58.757297Z",
     "start_time": "2023-08-04T15:34:58.380906Z"
    }
   },
   "execution_count": 61,
   "outputs": [
    {
     "name": "stdout",
     "output_type": "stream",
     "text": [
      "              precision    recall  f1-score   support\n",
      "\n",
      "         0.0       0.95      0.93      0.94     87403\n",
      "         1.0       0.93      0.95      0.94     87403\n",
      "\n",
      "    accuracy                           0.94    174806\n",
      "   macro avg       0.94      0.94      0.94    174806\n",
      "weighted avg       0.94      0.94      0.94    174806\n",
      "\n"
     ]
    }
   ]
  },
  {
   "cell_type": "markdown",
   "source": [
    "## Atividade 8: Crie a curva ROC para este modelo."
   ],
   "metadata": {
    "id": "UqZB8GFPShyT"
   }
  },
  {
   "cell_type": "code",
   "source": [
    "# Gerando o gráfico da curva ROC\n",
    "logit_roc_auc = roc_auc_score(y, model.predict(X))\n",
    "fpr, tpr, thresholds = roc_curve(y, model.predict(X))\n",
    "plt.plot(fpr, tpr, label=f'Regressão Logística (área = {round(logit_roc_auc, 2)})')\n",
    "plt.plot([0, 1], [0, 1],'r--')\n",
    "plt.xlabel('Taxa de Falso Positivo')\n",
    "plt.ylabel('Taxa de Verdadeiro Positivo')\n",
    "plt.title('Curva ROC')\n",
    "plt.legend(loc=\"lower right\");"
   ],
   "metadata": {
    "id": "uQNbLEfPBho8",
    "ExecuteTime": {
     "end_time": "2023-08-04T15:34:59.358635Z",
     "start_time": "2023-08-04T15:34:58.757689Z"
    }
   },
   "execution_count": 62,
   "outputs": [
    {
     "data": {
      "text/plain": "<Figure size 640x480 with 1 Axes>",
      "image/png": "[encoded data removed]"
     },
     "metadata": {},
     "output_type": "display_data"
    }
   ]
  },
  {
   "cell_type": "markdown",
   "source": [
    "## Atividade 9: Preveja se uma transação com as características abaixo é ou não fraude.\n",
    "\n",
    "* `dist_casa = 82`\n",
    "* `dist_ultima_transacao = 13`\n",
    "* `razao_preco_medio = 14`\n",
    "* `loja_repetida = 1`\n",
    "* `usou_chip = 0`\n",
    "* `usou_pin = 0`\n",
    "* `online = 1`"
   ],
   "metadata": {
    "id": "PbFaRUFXnSyG"
   }
  },
  {
   "cell_type": "code",
   "source": [
    "# Armazenando valores das variáveis X\n",
    "X_new = pd.DataFrame({'const': 1, 'dist_casa': 82, 'dist_ultima_transacao': 13,\n",
    "                      'razao_preco_medio': 14, 'loja_repetida': 1, 'usou_chip': 0,\n",
    "                      'usou_pin': 0, 'online': 1}, index=[0])\n"
   ],
   "metadata": {
    "id": "e5RifD17nU3K",
    "ExecuteTime": {
     "end_time": "2023-08-04T15:34:59.365302Z",
     "start_time": "2023-08-04T15:34:59.362364Z"
    }
   },
   "execution_count": 63,
   "outputs": []
  },
  {
   "cell_type": "code",
   "source": [
    "# Gerando a previsão\n",
    "y_pred_new = model.predict(X_new)\n",
    "\n",
    "if y_pred_new[0] > 0.5:\n",
    "    print(\"Transação fraudulenta\")\n",
    "else:\n",
    "    print(\"Transação não fraudulenta\")"
   ],
   "metadata": {
    "id": "jrtZuSdcnXtG",
    "ExecuteTime": {
     "end_time": "2023-08-04T15:34:59.374365Z",
     "start_time": "2023-08-04T15:34:59.369147Z"
    }
   },
   "execution_count": 64,
   "outputs": [
    {
     "name": "stdout",
     "output_type": "stream",
     "text": [
      "Transação fraudulenta\n"
     ]
    }
   ]
  },
  {
   "cell_type": "markdown",
   "source": [
    "## Atividade 10: Refaça os exercícios sem realizar o balanceamento de classe e verifique se ocorre algum problema."
   ],
   "metadata": {
    "id": "Qkd31k1Fa5SQ"
   }
  },
  {
   "cell_type": "code",
   "source": [
    "# Criando novo dataframe\n",
    "df_unbalanced = df_original.copy()"
   ],
   "metadata": {
    "id": "CfuUtU1NaURF",
    "ExecuteTime": {
     "end_time": "2023-08-04T15:34:59.491668Z",
     "start_time": "2023-08-04T15:34:59.404285Z"
    }
   },
   "execution_count": 65,
   "outputs": []
  },
  {
   "cell_type": "code",
   "execution_count": 66,
   "outputs": [],
   "source": [
    "# renomeando as colunas\n",
    "df_unbalanced.columns = ['dist_casa','dist_ultima_transacao','razao_preco_medio',\n",
    "              'loja_repetida','usou_chip','usou_pin','online','fraude']"
   ],
   "metadata": {
    "collapsed": false,
    "ExecuteTime": {
     "end_time": "2023-08-04T15:34:59.492090Z",
     "start_time": "2023-08-04T15:34:59.445559Z"
    }
   }
  },
  {
   "cell_type": "code",
   "source": [
    "# Definindo variáveis X e y\n",
    "X_unbalanced = df_unbalanced.drop('fraude', axis=1)\n",
    "y_unbalanced = df_unbalanced['fraude']"
   ],
   "metadata": {
    "id": "TS2GXaV4cYGI",
    "ExecuteTime": {
     "end_time": "2023-08-04T15:34:59.518062Z",
     "start_time": "2023-08-04T15:34:59.492959Z"
    }
   },
   "execution_count": 67,
   "outputs": []
  },
  {
   "cell_type": "code",
   "source": [
    "# Adicionando a constante ao dataframe\n",
    "X_unbalanced = sm.add_constant(X_unbalanced)\n",
    "print(X_unbalanced)"
   ],
   "metadata": {
    "id": "kAeupQi5crqv",
    "ExecuteTime": {
     "end_time": "2023-08-04T15:34:59.664641Z",
     "start_time": "2023-08-04T15:34:59.498912Z"
    }
   },
   "execution_count": 68,
   "outputs": [
    {
     "name": "stdout",
     "output_type": "stream",
     "text": [
      "        const  dist_casa  dist_ultima_transacao  razao_preco_medio  \\\n",
      "0         1.0  57.877857               0.311140           1.945940   \n",
      "1         1.0  10.829943               0.175592           1.294219   \n",
      "2         1.0   5.091079               0.805153           0.427715   \n",
      "3         1.0   2.247564               5.600044           0.362663   \n",
      "4         1.0  44.190936               0.566486           2.222767   \n",
      "...       ...        ...                    ...                ...   \n",
      "999995    1.0   2.207101               0.112651           1.626798   \n",
      "999996    1.0  19.872726               2.683904           2.778303   \n",
      "999997    1.0   2.914857               1.472687           0.218075   \n",
      "999998    1.0   4.258729               0.242023           0.475822   \n",
      "999999    1.0  58.108125               0.318110           0.386920   \n",
      "\n",
      "        loja_repetida  usou_chip  usou_pin  online  \n",
      "0                 1.0        1.0       0.0     0.0  \n",
      "1                 1.0        0.0       0.0     0.0  \n",
      "2                 1.0        0.0       0.0     1.0  \n",
      "3                 1.0        1.0       0.0     1.0  \n",
      "4                 1.0        1.0       0.0     1.0  \n",
      "...               ...        ...       ...     ...  \n",
      "999995            1.0        1.0       0.0     0.0  \n",
      "999996            1.0        1.0       0.0     0.0  \n",
      "999997            1.0        1.0       0.0     1.0  \n",
      "999998            1.0        0.0       0.0     1.0  \n",
      "999999            1.0        1.0       0.0     1.0  \n",
      "\n",
      "[1000000 rows x 8 columns]\n"
     ]
    }
   ]
  },
  {
   "cell_type": "code",
   "source": [
    "# Criando o modelo\n",
    "model_unbalanced = sm.Logit(y_unbalanced, X_unbalanced).fit(method='newton')"
   ],
   "metadata": {
    "id": "h1estIACctnS",
    "ExecuteTime": {
     "end_time": "2023-08-04T15:35:01.394225Z",
     "start_time": "2023-08-04T15:34:59.665136Z"
    }
   },
   "execution_count": 69,
   "outputs": [
    {
     "name": "stdout",
     "output_type": "stream",
     "text": [
      "Optimization terminated successfully.\n",
      "         Current function value: 0.135695\n",
      "         Iterations 12\n"
     ]
    }
   ]
  },
  {
   "cell_type": "code",
   "source": [
    "# Visualizando o sumário do modelo\n",
    "print(model_unbalanced.summary())"
   ],
   "metadata": {
    "id": "bbltvkaTcvpo",
    "ExecuteTime": {
     "end_time": "2023-08-04T15:35:03.652235Z",
     "start_time": "2023-08-04T15:35:01.396605Z"
    }
   },
   "execution_count": 70,
   "outputs": [
    {
     "name": "stdout",
     "output_type": "stream",
     "text": [
      "                           Logit Regression Results                           \n",
      "==============================================================================\n",
      "Dep. Variable:                 fraude   No. Observations:              1000000\n",
      "Model:                          Logit   Df Residuals:                   999992\n",
      "Method:                           MLE   Df Model:                            7\n",
      "Date:                Fri, 04 Aug 2023   Pseudo R-squ.:                  0.5423\n",
      "Time:                        12:35:03   Log-Likelihood:            -1.3570e+05\n",
      "converged:                       True   LL-Null:                   -2.9649e+05\n",
      "Covariance Type:            nonrobust   LLR p-value:                     0.000\n",
      "=========================================================================================\n",
      "                            coef    std err          z      P>|z|      [0.025      0.975]\n",
      "-----------------------------------------------------------------------------------------\n",
      "const                   -10.3611      0.044   -237.200      0.000     -10.447     -10.275\n",
      "dist_casa                 0.0152   8.32e-05    182.831      0.000       0.015       0.015\n",
      "dist_ultima_transacao     0.0253      0.000    105.614      0.000       0.025       0.026\n",
      "razao_preco_medio         0.8623      0.003    303.723      0.000       0.857       0.868\n",
      "loja_repetida            -0.6215      0.016    -39.456      0.000      -0.652      -0.591\n",
      "usou_chip                -1.0491      0.012    -85.804      0.000      -1.073      -1.025\n",
      "usou_pin                -13.7404      0.159    -86.663      0.000     -14.051     -13.430\n",
      "online                    6.6514      0.037    178.712      0.000       6.578       6.724\n",
      "=========================================================================================\n",
      "\n",
      "Possibly complete quasi-separation: A fraction 0.31 of observations can be\n",
      "perfectly predicted. This might indicate that there is complete\n",
      "quasi-separation. In this case some parameters will not be identified.\n"
     ]
    }
   ]
  },
  {
   "cell_type": "code",
   "source": [
    "# Convertendo os parâmetros em percentuais\n",
    "coef_unbalanced = model_unbalanced.params\n",
    "print(((np.exp(coef_unbalanced)-1)*100).round(2))"
   ],
   "metadata": {
    "id": "qyD4qm43cxsu",
    "ExecuteTime": {
     "end_time": "2023-08-04T15:35:03.662200Z",
     "start_time": "2023-08-04T15:35:03.658035Z"
    }
   },
   "execution_count": 71,
   "outputs": [
    {
     "name": "stdout",
     "output_type": "stream",
     "text": [
      "const                     -100.00\n",
      "dist_casa                    1.53\n",
      "dist_ultima_transacao        2.56\n",
      "razao_preco_medio          136.85\n",
      "loja_repetida              -46.28\n",
      "usou_chip                  -64.97\n",
      "usou_pin                  -100.00\n",
      "online                   77285.06\n",
      "dtype: float64\n"
     ]
    }
   ]
  },
  {
   "cell_type": "code",
   "execution_count": 72,
   "outputs": [
    {
     "name": "stdout",
     "output_type": "stream",
     "text": [
      "0         0.000078\n",
      "1         0.000061\n",
      "2         0.020542\n",
      "3         0.007451\n",
      "4         0.058587\n",
      "            ...   \n",
      "999995    0.000025\n",
      "999996    0.000095\n",
      "999997    0.005996\n",
      "999998    0.020837\n",
      "999999    0.015454\n",
      "Length: 1000000, dtype: float64\n"
     ]
    }
   ],
   "source": [
    "# Aplicando o modelo para prever os valores de y\n",
    "y_pred_unbalanced = model_unbalanced.predict(X_unbalanced)\n",
    "print(y_pred_unbalanced)"
   ],
   "metadata": {
    "collapsed": false,
    "ExecuteTime": {
     "end_time": "2023-08-04T15:35:03.735015Z",
     "start_time": "2023-08-04T15:35:03.664991Z"
    }
   }
  },
  {
   "cell_type": "code",
   "source": [
    "# Gerando a matriz de confusão e o mapa de calor\n",
    "y_pred_unbalanced = y_pred_unbalanced.apply(lambda x: 1 if x > 0.5 else 0)\n",
    "cm_unbalanced = confusion_matrix(y_unbalanced, y_pred_unbalanced)\n",
    "sns.heatmap(cm_unbalanced/np.sum(cm_unbalanced), annot=True, cmap='Blues', fmt='.2%')\n",
    "plt.title('Matriz de Confusão', y=1.1)\n",
    "plt.ylabel('Valores Observados')\n",
    "plt.xlabel('Valores Preditos');"
   ],
   "metadata": {
    "id": "6EiiNwKdhKUc",
    "ExecuteTime": {
     "end_time": "2023-08-04T15:35:04.904454Z",
     "start_time": "2023-08-04T15:35:03.711893Z"
    }
   },
   "execution_count": 73,
   "outputs": [
    {
     "data": {
      "text/plain": "<Figure size 640x480 with 2 Axes>",
      "image/png": "[encoded data removed]"
     },
     "metadata": {},
     "output_type": "display_data"
    }
   ]
  },
  {
   "cell_type": "code",
   "execution_count": 74,
   "outputs": [
    {
     "name": "stdout",
     "output_type": "stream",
     "text": [
      "              precision    recall  f1-score   support\n",
      "\n",
      "         0.0       0.96      0.99      0.98    912597\n",
      "         1.0       0.89      0.60      0.72     87403\n",
      "\n",
      "    accuracy                           0.96   1000000\n",
      "   macro avg       0.93      0.80      0.85   1000000\n",
      "weighted avg       0.96      0.96      0.96   1000000\n",
      "\n"
     ]
    }
   ],
   "source": [
    "# Calculando as métricas com o classification_report\n",
    "print(classification_report(y_unbalanced, y_pred_unbalanced))"
   ],
   "metadata": {
    "collapsed": false,
    "ExecuteTime": {
     "end_time": "2023-08-04T15:35:07.228598Z",
     "start_time": "2023-08-04T15:35:04.908293Z"
    }
   }
  },
  {
   "cell_type": "code",
   "execution_count": 75,
   "outputs": [
    {
     "data": {
      "text/plain": "<Figure size 640x480 with 1 Axes>",
      "image/png": "[encoded data removed]"
     },
     "metadata": {},
     "output_type": "display_data"
    }
   ],
   "source": [
    "# Gerando o gráfico da curva ROC\n",
    "logit_roc_auc_unbalanced = roc_auc_score(y_unbalanced, y_pred_unbalanced)\n",
    "fpr_unbalanced, tpr_unbalanced, thresholds_unbalanced = roc_curve(y_unbalanced, y_pred_unbalanced)\n",
    "plt.plot(fpr_unbalanced, tpr_unbalanced, label=f'Regressão Logística (área = {round(logit_roc_auc_unbalanced, 2)})')\n",
    "plt.plot([0, 1], [0, 1],'r--')\n",
    "plt.xlabel('Taxa de Falso Positivo')\n",
    "plt.ylabel('Taxa de Verdadeiro Positivo')\n",
    "plt.title('Curva ROC')\n",
    "plt.legend(loc=\"lower right\");"
   ],
   "metadata": {
    "collapsed": false,
    "ExecuteTime": {
     "end_time": "2023-08-04T15:35:07.867378Z",
     "start_time": "2023-08-04T15:35:07.233151Z"
    }
   }
  },
  {
   "cell_type": "code",
   "execution_count": 76,
   "outputs": [
    {
     "name": "stdout",
     "output_type": "stream",
     "text": [
      "Transação fraudulenta\n"
     ]
    }
   ],
   "source": [
    "# Gerando previsão com o modelo desbalanceado\n",
    "y_pred_unbalanced_new = model_unbalanced.predict(X_new)\n",
    "\n",
    "if y_pred_unbalanced_new[0] > 0.5:\n",
    "    print(\"Transação fraudulenta\")\n",
    "else:\n",
    "    print(\"Transação não fraudulenta\")"
   ],
   "metadata": {
    "collapsed": false,
    "ExecuteTime": {
     "end_time": "2023-08-04T15:37:40.614035Z",
     "start_time": "2023-08-04T15:37:40.598236Z"
    }
   }
  },
  {
   "cell_type": "code",
   "execution_count": null,
   "outputs": [],
   "source": [],
   "metadata": {
    "collapsed": false
   }
  }
 ]
}
