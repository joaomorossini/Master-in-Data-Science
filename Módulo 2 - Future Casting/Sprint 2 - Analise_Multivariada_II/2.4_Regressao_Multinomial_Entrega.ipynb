{
 "nbformat": 4,
 "nbformat_minor": 0,
 "metadata": {
  "colab": {
   "provenance": [],
   "authorship_tag": "ABX9TyMaXyckvMiMUAi1mVtLYuaR"
  },
  "kernelspec": {
   "name": "python3",
   "language": "python",
   "display_name": "Python 3 (ipykernel)"
  },
  "language_info": {
   "name": "python"
  }
 },
 "cells": [
  {
   "cell_type": "markdown",
   "source": [
    "# Regressão Logística Multinomial\n",
    "\n",
    "Para esta atividade usaremos um conjunto de dados sobre métricas do coração de pacientes, com o objetivo de determinar se o paciente é normal, suspeito ou com doença patológica. O conjunto de dado pode ser encontrado no [GitHub](https://raw.githubusercontent.com/bkrai/R-files-from-YouTube/main/Cardiotocographic.csv) de alguns usuários.\n",
    "\n",
    "Abaixo encontra-se o dicionário de dados:\n",
    "\n",
    "* LB: baseline value (SisPorto)\n",
    "* AC: accelerations (SisPorto)\n",
    "* FM: foetal movement (SisPorto)\n",
    "* UC: uterine contractions (SisPorto)\n",
    "* DL: light decelerations\n",
    "* DS: severe decelerations\n",
    "* DP: prolongued decelerations\n",
    "* ASTV: percentage of time with abnormal short term variability (SisPorto)\n",
    "* mSTV: mean value of short term variability (SisPorto)\n",
    "* ALTV: percentage of time with abnormal long term variability (SisPorto)\n",
    "* mLTV: mean value of long term variability (SisPorto)\n",
    "* Width: histogram width\n",
    "* Min: low freq. of the histogram\n",
    "* Max: high freq. of the histogram\n",
    "* Nmax: number of histogram peaks\n",
    "* Nzeros: number of histogram zeros\n",
    "* Mode: histogram mode\n",
    "* Mean: histogram mean\n",
    "* Median: histogram median\n",
    "* Variance: histogram variance\n",
    "* Tendency: histogram tendency: -1=left assymetric; 0=symmetric; 1=right assymetric\n",
    "* NSP: Normal=0; Suspect=1; Pathologic=2\n",
    "\n",
    "\n",
    "O objetivo é entender/prever a variável `NSP` em função das demais.\n",
    "\n",
    "Obs: Não se preocupe se não entender o significado de cada variável, estamos lidando com um problema técnico e provavelmente você não terá um especialista na área e nem tempo suficiente para entender sobre a área de negócio para este exercício. Foque na construção do modelo de regressão logística."
   ],
   "metadata": {
    "id": "bPYgc7UHk8Wt"
   }
  },
  {
   "cell_type": "markdown",
   "source": [
    "## Atividade 1: Importe o conjunto de dados, verifique se há dados faltantes e a correlação entre as variáveis."
   ],
   "metadata": {
    "id": "YVgM5i4toExb"
   }
  },
  {
   "cell_type": "code",
   "source": [
    "# importando as bibliotecas\n",
    "import pandas as pd\n",
    "import numpy as np\n",
    "import matplotlib.pyplot as plt\n",
    "import seaborn as sns\n",
    "from imblearn.over_sampling import SMOTE\n",
    "from sklearn.model_selection import train_test_split\n",
    "import statsmodels.api as sm\n",
    "from statsmodels.discrete.discrete_model import MNLogit\n",
    "\n",
    "import warnings\n",
    "warnings.filterwarnings('ignore')"
   ],
   "metadata": {
    "id": "y4uD071Xj9_V",
    "executionInfo": {
     "status": "ok",
     "timestamp": 1677109794076,
     "user_tz": 180,
     "elapsed": 11,
     "user": {
      "displayName": "Hevans Pereira",
      "userId": "05229330684698288921"
     }
    },
    "ExecuteTime": {
     "end_time": "2023-08-10T22:53:50.478903Z",
     "start_time": "2023-08-10T22:53:50.440295Z"
    }
   },
   "execution_count": 38,
   "outputs": []
  },
  {
   "cell_type": "code",
   "source": [
    "# importando os dados\n",
    "df_original = pd.read_excel('2.4_Regressao_Multinomial_Entrega_Dados.xlsx')\n",
    "df_original.head()"
   ],
   "metadata": {
    "id": "OGGvBh-Wj96l",
    "executionInfo": {
     "status": "ok",
     "timestamp": 1677109794078,
     "user_tz": 180,
     "elapsed": 11,
     "user": {
      "displayName": "Hevans Pereira",
      "userId": "05229330684698288921"
     }
    },
    "ExecuteTime": {
     "end_time": "2023-08-10T22:53:51.207601Z",
     "start_time": "2023-08-10T22:53:50.446702Z"
    }
   },
   "execution_count": 39,
   "outputs": [
    {
     "data": {
      "text/plain": "    LB        AC   FM        UC        DL   DS   DP  ASTV  MSTV  ALTV  ...  \\\n0  120  0.000000  0.0  0.000000  0.000000  0.0  0.0    73   0.5    43  ...   \n1  132  0.006380  0.0  0.006380  0.003190  0.0  0.0    17   2.1     0  ...   \n2  133  0.003322  0.0  0.008306  0.003322  0.0  0.0    16   2.1     0  ...   \n3  134  0.002561  0.0  0.007682  0.002561  0.0  0.0    16   2.4     0  ...   \n4  132  0.006515  0.0  0.008143  0.000000  0.0  0.0    16   2.4     0  ...   \n\n   Min  Max  Nmax  Nzeros  Mode  Mean  Median  Variance  Tendency  NSP  \n0   62  126     2       0   120   137     121        73         1    1  \n1   68  198     6       1   141   136     140        12         0    0  \n2   68  198     5       1   141   135     138        13         0    0  \n3   53  170    11       0   137   134     137        13         1    0  \n4   53  170     9       0   137   136     138        11         1    0  \n\n[5 rows x 22 columns]",
      "text/html": "<div>\n<style scoped>\n    .dataframe tbody tr th:only-of-type {\n        vertical-align: middle;\n    }\n\n    .dataframe tbody tr th {\n        vertical-align: top;\n    }\n\n    .dataframe thead th {\n        text-align: right;\n    }\n</style>\n<table border=\"1\" class=\"dataframe\">\n  <thead>\n    <tr style=\"text-align: right;\">\n      <th></th>\n      <th>LB</th>\n      <th>AC</th>\n      <th>FM</th>\n      <th>UC</th>\n      <th>DL</th>\n      <th>DS</th>\n      <th>DP</th>\n      <th>ASTV</th>\n      <th>MSTV</th>\n      <th>ALTV</th>\n      <th>...</th>\n      <th>Min</th>\n      <th>Max</th>\n      <th>Nmax</th>\n      <th>Nzeros</th>\n      <th>Mode</th>\n      <th>Mean</th>\n      <th>Median</th>\n      <th>Variance</th>\n      <th>Tendency</th>\n      <th>NSP</th>\n    </tr>\n  </thead>\n  <tbody>\n    <tr>\n      <th>0</th>\n      <td>120</td>\n      <td>0.000000</td>\n      <td>0.0</td>\n      <td>0.000000</td>\n      <td>0.000000</td>\n      <td>0.0</td>\n      <td>0.0</td>\n      <td>73</td>\n      <td>0.5</td>\n      <td>43</td>\n      <td>...</td>\n      <td>62</td>\n      <td>126</td>\n      <td>2</td>\n      <td>0</td>\n      <td>120</td>\n      <td>137</td>\n      <td>121</td>\n      <td>73</td>\n      <td>1</td>\n      <td>1</td>\n    </tr>\n    <tr>\n      <th>1</th>\n      <td>132</td>\n      <td>0.006380</td>\n      <td>0.0</td>\n      <td>0.006380</td>\n      <td>0.003190</td>\n      <td>0.0</td>\n      <td>0.0</td>\n      <td>17</td>\n      <td>2.1</td>\n      <td>0</td>\n      <td>...</td>\n      <td>68</td>\n      <td>198</td>\n      <td>6</td>\n      <td>1</td>\n      <td>141</td>\n      <td>136</td>\n      <td>140</td>\n      <td>12</td>\n      <td>0</td>\n      <td>0</td>\n    </tr>\n    <tr>\n      <th>2</th>\n      <td>133</td>\n      <td>0.003322</td>\n      <td>0.0</td>\n      <td>0.008306</td>\n      <td>0.003322</td>\n      <td>0.0</td>\n      <td>0.0</td>\n      <td>16</td>\n      <td>2.1</td>\n      <td>0</td>\n      <td>...</td>\n      <td>68</td>\n      <td>198</td>\n      <td>5</td>\n      <td>1</td>\n      <td>141</td>\n      <td>135</td>\n      <td>138</td>\n      <td>13</td>\n      <td>0</td>\n      <td>0</td>\n    </tr>\n    <tr>\n      <th>3</th>\n      <td>134</td>\n      <td>0.002561</td>\n      <td>0.0</td>\n      <td>0.007682</td>\n      <td>0.002561</td>\n      <td>0.0</td>\n      <td>0.0</td>\n      <td>16</td>\n      <td>2.4</td>\n      <td>0</td>\n      <td>...</td>\n      <td>53</td>\n      <td>170</td>\n      <td>11</td>\n      <td>0</td>\n      <td>137</td>\n      <td>134</td>\n      <td>137</td>\n      <td>13</td>\n      <td>1</td>\n      <td>0</td>\n    </tr>\n    <tr>\n      <th>4</th>\n      <td>132</td>\n      <td>0.006515</td>\n      <td>0.0</td>\n      <td>0.008143</td>\n      <td>0.000000</td>\n      <td>0.0</td>\n      <td>0.0</td>\n      <td>16</td>\n      <td>2.4</td>\n      <td>0</td>\n      <td>...</td>\n      <td>53</td>\n      <td>170</td>\n      <td>9</td>\n      <td>0</td>\n      <td>137</td>\n      <td>136</td>\n      <td>138</td>\n      <td>11</td>\n      <td>1</td>\n      <td>0</td>\n    </tr>\n  </tbody>\n</table>\n<p>5 rows × 22 columns</p>\n</div>"
     },
     "execution_count": 39,
     "metadata": {},
     "output_type": "execute_result"
    }
   ]
  },
  {
   "cell_type": "code",
   "source": [
    "# Criando cópia do dataframe\n",
    "df = df_original.copy()"
   ],
   "metadata": {
    "id": "LQUYPMN0bQlk",
    "executionInfo": {
     "status": "ok",
     "timestamp": 1677109794078,
     "user_tz": 180,
     "elapsed": 11,
     "user": {
      "displayName": "Hevans Pereira",
      "userId": "05229330684698288921"
     }
    },
    "ExecuteTime": {
     "end_time": "2023-08-10T22:53:51.213562Z",
     "start_time": "2023-08-10T22:53:51.206651Z"
    }
   },
   "execution_count": 40,
   "outputs": []
  },
  {
   "cell_type": "code",
   "execution_count": 41,
   "outputs": [
    {
     "name": "stdout",
     "output_type": "stream",
     "text": [
      "<class 'pandas.core.frame.DataFrame'>\n",
      "RangeIndex: 2126 entries, 0 to 2125\n",
      "Data columns (total 22 columns):\n",
      " #   Column    Non-Null Count  Dtype  \n",
      "---  ------    --------------  -----  \n",
      " 0   LB        2126 non-null   int64  \n",
      " 1   AC        2126 non-null   float64\n",
      " 2   FM        2126 non-null   float64\n",
      " 3   UC        2126 non-null   float64\n",
      " 4   DL        2126 non-null   float64\n",
      " 5   DS        2126 non-null   float64\n",
      " 6   DP        2126 non-null   float64\n",
      " 7   ASTV      2126 non-null   int64  \n",
      " 8   MSTV      2126 non-null   float64\n",
      " 9   ALTV      2126 non-null   int64  \n",
      " 10  MLTV      2126 non-null   float64\n",
      " 11  Width     2126 non-null   int64  \n",
      " 12  Min       2126 non-null   int64  \n",
      " 13  Max       2126 non-null   int64  \n",
      " 14  Nmax      2126 non-null   int64  \n",
      " 15  Nzeros    2126 non-null   int64  \n",
      " 16  Mode      2126 non-null   int64  \n",
      " 17  Mean      2126 non-null   int64  \n",
      " 18  Median    2126 non-null   int64  \n",
      " 19  Variance  2126 non-null   int64  \n",
      " 20  Tendency  2126 non-null   int64  \n",
      " 21  NSP       2126 non-null   int64  \n",
      "dtypes: float64(8), int64(14)\n",
      "memory usage: 365.5 KB\n"
     ]
    }
   ],
   "source": [
    "df.info()"
   ],
   "metadata": {
    "collapsed": false,
    "ExecuteTime": {
     "end_time": "2023-08-10T22:53:51.239408Z",
     "start_time": "2023-08-10T22:53:51.215393Z"
    }
   }
  },
  {
   "cell_type": "code",
   "execution_count": 42,
   "outputs": [
    {
     "data": {
      "text/plain": "                LB           AC           FM           UC           DL  \\\ncount  2126.000000  2126.000000  2126.000000  2126.000000  2126.000000   \nmean    133.303857     0.003170     0.009474     0.004357     0.001885   \nstd       9.840844     0.003860     0.046670     0.002940     0.002962   \nmin     106.000000     0.000000     0.000000     0.000000     0.000000   \n25%     126.000000     0.000000     0.000000     0.001876     0.000000   \n50%     133.000000     0.001630     0.000000     0.004482     0.000000   \n75%     140.000000     0.005631     0.002512     0.006525     0.003264   \nmax     160.000000     0.019284     0.480634     0.014925     0.015385   \n\n                DS           DP         ASTV         MSTV        ALTV  ...  \\\ncount  2126.000000  2126.000000  2126.000000  2126.000000  2126.00000  ...   \nmean      0.000004     0.000157    46.990122     1.332785     9.84666  ...   \nstd       0.000063     0.000580    17.192814     0.883241    18.39688  ...   \nmin       0.000000     0.000000    12.000000     0.200000     0.00000  ...   \n25%       0.000000     0.000000    32.000000     0.700000     0.00000  ...   \n50%       0.000000     0.000000    49.000000     1.200000     0.00000  ...   \n75%       0.000000     0.000000    61.000000     1.700000    11.00000  ...   \nmax       0.001353     0.005348    87.000000     7.000000    91.00000  ...   \n\n               Min          Max         Nmax       Nzeros         Mode  \\\ncount  2126.000000  2126.000000  2126.000000  2126.000000  2126.000000   \nmean     93.579492   164.025400     4.068203     0.323612   137.452023   \nstd      29.560212    17.944183     2.949386     0.706059    16.381289   \nmin      50.000000   122.000000     0.000000     0.000000    60.000000   \n25%      67.000000   152.000000     2.000000     0.000000   129.000000   \n50%      93.000000   162.000000     3.000000     0.000000   139.000000   \n75%     120.000000   174.000000     6.000000     0.000000   148.000000   \nmax     159.000000   238.000000    18.000000    10.000000   187.000000   \n\n              Mean       Median     Variance     Tendency          NSP  \ncount  2126.000000  2126.000000  2126.000000  2126.000000  2126.000000  \nmean    134.610536   138.090310    18.808090     0.320320     0.304327  \nstd      15.593596    14.466589    28.977636     0.610829     0.614377  \nmin      73.000000    77.000000     0.000000    -1.000000     0.000000  \n25%     125.000000   129.000000     2.000000     0.000000     0.000000  \n50%     136.000000   139.000000     7.000000     0.000000     0.000000  \n75%     145.000000   148.000000    24.000000     1.000000     0.000000  \nmax     182.000000   186.000000   269.000000     1.000000     2.000000  \n\n[8 rows x 22 columns]",
      "text/html": "<div>\n<style scoped>\n    .dataframe tbody tr th:only-of-type {\n        vertical-align: middle;\n    }\n\n    .dataframe tbody tr th {\n        vertical-align: top;\n    }\n\n    .dataframe thead th {\n        text-align: right;\n    }\n</style>\n<table border=\"1\" class=\"dataframe\">\n  <thead>\n    <tr style=\"text-align: right;\">\n      <th></th>\n      <th>LB</th>\n      <th>AC</th>\n      <th>FM</th>\n      <th>UC</th>\n      <th>DL</th>\n      <th>DS</th>\n      <th>DP</th>\n      <th>ASTV</th>\n      <th>MSTV</th>\n      <th>ALTV</th>\n      <th>...</th>\n      <th>Min</th>\n      <th>Max</th>\n      <th>Nmax</th>\n      <th>Nzeros</th>\n      <th>Mode</th>\n      <th>Mean</th>\n      <th>Median</th>\n      <th>Variance</th>\n      <th>Tendency</th>\n      <th>NSP</th>\n    </tr>\n  </thead>\n  <tbody>\n    <tr>\n      <th>count</th>\n      <td>2126.000000</td>\n      <td>2126.000000</td>\n      <td>2126.000000</td>\n      <td>2126.000000</td>\n      <td>2126.000000</td>\n      <td>2126.000000</td>\n      <td>2126.000000</td>\n      <td>2126.000000</td>\n      <td>2126.000000</td>\n      <td>2126.00000</td>\n      <td>...</td>\n      <td>2126.000000</td>\n      <td>2126.000000</td>\n      <td>2126.000000</td>\n      <td>2126.000000</td>\n      <td>2126.000000</td>\n      <td>2126.000000</td>\n      <td>2126.000000</td>\n      <td>2126.000000</td>\n      <td>2126.000000</td>\n      <td>2126.000000</td>\n    </tr>\n    <tr>\n      <th>mean</th>\n      <td>133.303857</td>\n      <td>0.003170</td>\n      <td>0.009474</td>\n      <td>0.004357</td>\n      <td>0.001885</td>\n      <td>0.000004</td>\n      <td>0.000157</td>\n      <td>46.990122</td>\n      <td>1.332785</td>\n      <td>9.84666</td>\n      <td>...</td>\n      <td>93.579492</td>\n      <td>164.025400</td>\n      <td>4.068203</td>\n      <td>0.323612</td>\n      <td>137.452023</td>\n      <td>134.610536</td>\n      <td>138.090310</td>\n      <td>18.808090</td>\n      <td>0.320320</td>\n      <td>0.304327</td>\n    </tr>\n    <tr>\n      <th>std</th>\n      <td>9.840844</td>\n      <td>0.003860</td>\n      <td>0.046670</td>\n      <td>0.002940</td>\n      <td>0.002962</td>\n      <td>0.000063</td>\n      <td>0.000580</td>\n      <td>17.192814</td>\n      <td>0.883241</td>\n      <td>18.39688</td>\n      <td>...</td>\n      <td>29.560212</td>\n      <td>17.944183</td>\n      <td>2.949386</td>\n      <td>0.706059</td>\n      <td>16.381289</td>\n      <td>15.593596</td>\n      <td>14.466589</td>\n      <td>28.977636</td>\n      <td>0.610829</td>\n      <td>0.614377</td>\n    </tr>\n    <tr>\n      <th>min</th>\n      <td>106.000000</td>\n      <td>0.000000</td>\n      <td>0.000000</td>\n      <td>0.000000</td>\n      <td>0.000000</td>\n      <td>0.000000</td>\n      <td>0.000000</td>\n      <td>12.000000</td>\n      <td>0.200000</td>\n      <td>0.00000</td>\n      <td>...</td>\n      <td>50.000000</td>\n      <td>122.000000</td>\n      <td>0.000000</td>\n      <td>0.000000</td>\n      <td>60.000000</td>\n      <td>73.000000</td>\n      <td>77.000000</td>\n      <td>0.000000</td>\n      <td>-1.000000</td>\n      <td>0.000000</td>\n    </tr>\n    <tr>\n      <th>25%</th>\n      <td>126.000000</td>\n      <td>0.000000</td>\n      <td>0.000000</td>\n      <td>0.001876</td>\n      <td>0.000000</td>\n      <td>0.000000</td>\n      <td>0.000000</td>\n      <td>32.000000</td>\n      <td>0.700000</td>\n      <td>0.00000</td>\n      <td>...</td>\n      <td>67.000000</td>\n      <td>152.000000</td>\n      <td>2.000000</td>\n      <td>0.000000</td>\n      <td>129.000000</td>\n      <td>125.000000</td>\n      <td>129.000000</td>\n      <td>2.000000</td>\n      <td>0.000000</td>\n      <td>0.000000</td>\n    </tr>\n    <tr>\n      <th>50%</th>\n      <td>133.000000</td>\n      <td>0.001630</td>\n      <td>0.000000</td>\n      <td>0.004482</td>\n      <td>0.000000</td>\n      <td>0.000000</td>\n      <td>0.000000</td>\n      <td>49.000000</td>\n      <td>1.200000</td>\n      <td>0.00000</td>\n      <td>...</td>\n      <td>93.000000</td>\n      <td>162.000000</td>\n      <td>3.000000</td>\n      <td>0.000000</td>\n      <td>139.000000</td>\n      <td>136.000000</td>\n      <td>139.000000</td>\n      <td>7.000000</td>\n      <td>0.000000</td>\n      <td>0.000000</td>\n    </tr>\n    <tr>\n      <th>75%</th>\n      <td>140.000000</td>\n      <td>0.005631</td>\n      <td>0.002512</td>\n      <td>0.006525</td>\n      <td>0.003264</td>\n      <td>0.000000</td>\n      <td>0.000000</td>\n      <td>61.000000</td>\n      <td>1.700000</td>\n      <td>11.00000</td>\n      <td>...</td>\n      <td>120.000000</td>\n      <td>174.000000</td>\n      <td>6.000000</td>\n      <td>0.000000</td>\n      <td>148.000000</td>\n      <td>145.000000</td>\n      <td>148.000000</td>\n      <td>24.000000</td>\n      <td>1.000000</td>\n      <td>0.000000</td>\n    </tr>\n    <tr>\n      <th>max</th>\n      <td>160.000000</td>\n      <td>0.019284</td>\n      <td>0.480634</td>\n      <td>0.014925</td>\n      <td>0.015385</td>\n      <td>0.001353</td>\n      <td>0.005348</td>\n      <td>87.000000</td>\n      <td>7.000000</td>\n      <td>91.00000</td>\n      <td>...</td>\n      <td>159.000000</td>\n      <td>238.000000</td>\n      <td>18.000000</td>\n      <td>10.000000</td>\n      <td>187.000000</td>\n      <td>182.000000</td>\n      <td>186.000000</td>\n      <td>269.000000</td>\n      <td>1.000000</td>\n      <td>2.000000</td>\n    </tr>\n  </tbody>\n</table>\n<p>8 rows × 22 columns</p>\n</div>"
     },
     "execution_count": 42,
     "metadata": {},
     "output_type": "execute_result"
    }
   ],
   "source": [
    "df.describe()"
   ],
   "metadata": {
    "collapsed": false,
    "ExecuteTime": {
     "end_time": "2023-08-10T22:53:51.459789Z",
     "start_time": "2023-08-10T22:53:51.237176Z"
    }
   }
  },
  {
   "cell_type": "markdown",
   "source": [
    "## Atividade 2: Verifique se a variável está balanceada."
   ],
   "metadata": {
    "id": "KTmGalb8ox5h"
   }
  },
  {
   "cell_type": "code",
   "source": [
    " # Verificando se a variável está balanceada\n",
    "sns.countplot(x='NSP', data=df);"
   ],
   "metadata": {
    "id": "SrJ6EcNN1TnE",
    "executionInfo": {
     "status": "ok",
     "timestamp": 1677109796723,
     "user_tz": 180,
     "elapsed": 14,
     "user": {
      "displayName": "Hevans Pereira",
      "userId": "05229330684698288921"
     }
    },
    "ExecuteTime": {
     "end_time": "2023-08-10T22:53:51.680724Z",
     "start_time": "2023-08-10T22:53:51.329922Z"
    }
   },
   "execution_count": 43,
   "outputs": [
    {
     "data": {
      "text/plain": "<Figure size 640x480 with 1 Axes>",
      "image/png": "[encoded data removed]"
     },
     "metadata": {},
     "output_type": "display_data"
    }
   ]
  },
  {
   "cell_type": "markdown",
   "source": [
    "## Atividade 3: Use as variáveis que achar relevante e separe as variáveis em $X$ e $y$, a seguir crie um modelo de regressão logística."
   ],
   "metadata": {
    "id": "B8vkJbh1o8F5"
   }
  },
  {
   "cell_type": "code",
   "source": [
    "# Atribuindo variáveis a X e y\n",
    "X = df.drop('NSP', axis=1)\n",
    "y = df['NSP']"
   ],
   "metadata": {
    "id": "ah8kCxBhvLhi",
    "executionInfo": {
     "status": "ok",
     "timestamp": 1677109804573,
     "user_tz": 180,
     "elapsed": 6,
     "user": {
      "displayName": "Hevans Pereira",
      "userId": "05229330684698288921"
     }
    },
    "ExecuteTime": {
     "end_time": "2023-08-10T22:53:51.681003Z",
     "start_time": "2023-08-10T22:53:51.666858Z"
    }
   },
   "execution_count": 44,
   "outputs": []
  },
  {
   "cell_type": "code",
   "source": [
    "# Balanceando as classes da variável y\n",
    "smote = SMOTE()\n",
    "X, y = smote.fit_resample(X, y)"
   ],
   "metadata": {
    "id": "inqE0_kvj94z",
    "executionInfo": {
     "status": "ok",
     "timestamp": 1677109807736,
     "user_tz": 180,
     "elapsed": 8,
     "user": {
      "displayName": "Hevans Pereira",
      "userId": "05229330684698288921"
     }
    },
    "ExecuteTime": {
     "end_time": "2023-08-10T22:53:56.482095Z",
     "start_time": "2023-08-10T22:53:56.461063Z"
    }
   },
   "execution_count": 45,
   "outputs": []
  },
  {
   "cell_type": "code",
   "source": [
    "# Adicionando a constante a X\n",
    "X = sm.add_constant(X)\n",
    "\n",
    "# Criando o modelo de regressão logística multinomial\n",
    "model = MNLogit(y, X).fit()"
   ],
   "metadata": {
    "id": "KCCQCtD8xMAZ",
    "executionInfo": {
     "status": "ok",
     "timestamp": 1677109811025,
     "user_tz": 180,
     "elapsed": 462,
     "user": {
      "displayName": "Hevans Pereira",
      "userId": "05229330684698288921"
     }
    },
    "ExecuteTime": {
     "end_time": "2023-08-10T22:54:00.596982Z",
     "start_time": "2023-08-10T22:54:00.437611Z"
    }
   },
   "execution_count": 46,
   "outputs": [
    {
     "name": "stdout",
     "output_type": "stream",
     "text": [
      "Warning: Maximum number of iterations has been exceeded.\n",
      "         Current function value: 0.274564\n",
      "         Iterations: 35\n"
     ]
    }
   ]
  },
  {
   "cell_type": "code",
   "execution_count": 49,
   "outputs": [
    {
     "name": "stdout",
     "output_type": "stream",
     "text": [
      "                          MNLogit Regression Results                          \n",
      "==============================================================================\n",
      "Dep. Variable:                    NSP   No. Observations:                 4965\n",
      "Model:                        MNLogit   Df Residuals:                     4921\n",
      "Method:                           MLE   Df Model:                           42\n",
      "Date:                Thu, 10 Aug 2023   Pseudo R-squ.:                  0.7501\n",
      "Time:                        19:59:47   Log-Likelihood:                -1363.2\n",
      "converged:                      False   LL-Null:                       -5454.6\n",
      "Covariance Type:            nonrobust   LLR p-value:                     0.000\n",
      "==============================================================================\n",
      "     NSP=1       coef    std err          z      P>|z|      [0.025      0.975]\n",
      "------------------------------------------------------------------------------\n",
      "const        -16.8442      1.392    -12.105      0.000     -19.572     -14.117\n",
      "LB            -0.1052      0.025     -4.240      0.000      -0.154      -0.057\n",
      "AC          -996.5865     76.057    -13.103      0.000   -1145.656    -847.517\n",
      "FM            10.7300      1.797      5.972      0.000       7.208      14.252\n",
      "UC          -260.8693     31.524     -8.275      0.000    -322.656    -199.083\n",
      "DL            32.9785     68.103      0.484      0.628    -100.501     166.458\n",
      "DS          5020.7643   1.11e+06      0.005      0.996   -2.18e+06    2.19e+06\n",
      "DP          2936.1404    320.965      9.148      0.000    2307.061    3565.220\n",
      "ASTV           0.0804      0.008     10.062      0.000       0.065       0.096\n",
      "MSTV          -0.7356      0.234     -3.139      0.002      -1.195      -0.276\n",
      "ALTV           0.0279      0.005      5.698      0.000       0.018       0.037\n",
      "MLTV           0.0185      0.026      0.710      0.478      -0.033       0.070\n",
      "Width        -19.9871   1228.563     -0.016      0.987   -2427.927    2387.952\n",
      "Min          -19.9840   1228.563     -0.016      0.987   -2427.923    2387.956\n",
      "Max           20.0064   1228.563      0.016      0.987   -2387.933    2427.946\n",
      "Nmax           0.1432      0.042      3.436      0.001       0.062       0.225\n",
      "Nzeros        -0.2871      0.116     -2.479      0.013      -0.514      -0.060\n",
      "Mode          -0.0683      0.022     -3.104      0.002      -0.111      -0.025\n",
      "Mean           0.2447      0.042      5.803      0.000       0.162       0.327\n",
      "Median        -0.0031      0.046     -0.067      0.947      -0.094       0.088\n",
      "Variance       0.0402      0.006      6.356      0.000       0.028       0.053\n",
      "Tendency      -0.2229      0.206     -1.082      0.279      -0.627       0.181\n",
      "------------------------------------------------------------------------------\n",
      "     NSP=2       coef    std err          z      P>|z|      [0.025      0.975]\n",
      "------------------------------------------------------------------------------\n",
      "const        -27.8399      2.024    -13.753      0.000     -31.808     -23.872\n",
      "LB             0.2180      0.034      6.366      0.000       0.151       0.285\n",
      "AC         -1876.1020    239.869     -7.821      0.000   -2346.237   -1405.967\n",
      "FM            31.1654      2.831     11.009      0.000      25.617      36.714\n",
      "UC          -275.6344     47.910     -5.753      0.000    -369.537    -181.732\n",
      "DL           132.6532     70.736      1.875      0.061      -5.986     271.293\n",
      "DS          6.396e+04   6.47e+05      0.099      0.921    -1.2e+06    1.33e+06\n",
      "DP          4100.0930    358.549     11.435      0.000    3397.350    4802.836\n",
      "ASTV           0.2378      0.013     18.456      0.000       0.213       0.263\n",
      "MSTV          -0.9925      0.300     -3.308      0.001      -1.580      -0.404\n",
      "ALTV           0.0927      0.007     14.030      0.000       0.080       0.106\n",
      "MLTV           0.0021      0.044      0.047      0.963      -0.085       0.089\n",
      "Width        -20.3018   1228.563     -0.017      0.987   -2428.241    2387.638\n",
      "Min          -20.3179   1228.563     -0.017      0.987   -2428.257    2387.622\n",
      "Max           20.3890   1228.563      0.017      0.987   -2387.551    2428.328\n",
      "Nmax          -0.8176      0.082     -9.989      0.000      -0.978      -0.657\n",
      "Nzeros         0.0714      0.258      0.277      0.782      -0.434       0.577\n",
      "Mode          -0.0813      0.027     -2.960      0.003      -0.135      -0.027\n",
      "Mean          -0.0285      0.031     -0.920      0.357      -0.089       0.032\n",
      "Median        -0.1114      0.047     -2.351      0.019      -0.204      -0.019\n",
      "Variance       0.0813      0.007     11.150      0.000       0.067       0.096\n",
      "Tendency      -0.1323      0.269     -0.492      0.623      -0.659       0.395\n",
      "==============================================================================\n"
     ]
    }
   ],
   "source": [
    "# Visualizando o sumário do modelo\n",
    "print(model.summary())"
   ],
   "metadata": {
    "collapsed": false,
    "ExecuteTime": {
     "end_time": "2023-08-10T22:59:47.425178Z",
     "start_time": "2023-08-10T22:59:47.368142Z"
    }
   }
  },
  {
   "cell_type": "markdown",
   "source": [
    "## Atividade 4: Faça previsões e avalie o modelo."
   ],
   "metadata": {
    "id": "9VHtr2fppc4h"
   }
  },
  {
   "cell_type": "code",
   "source": [
    "model.predict(X)"
   ],
   "metadata": {
    "id": "x3QqabTtPY1O",
    "executionInfo": {
     "status": "ok",
     "timestamp": 1677109824268,
     "user_tz": 180,
     "elapsed": 24,
     "user": {
      "displayName": "Hevans Pereira",
      "userId": "05229330684698288921"
     }
    },
    "ExecuteTime": {
     "end_time": "2023-08-10T22:58:17.294777Z",
     "start_time": "2023-08-10T22:58:17.270048Z"
    }
   },
   "execution_count": 47,
   "outputs": [
    {
     "data": {
      "text/plain": "                 0         1             2\n0     3.275531e-04  0.840008  1.596643e-01\n1     9.999673e-01  0.000033  2.518608e-13\n2     9.997393e-01  0.000261  1.454807e-10\n3     9.992049e-01  0.000795  6.536428e-13\n4     9.999834e-01  0.000017  5.830315e-16\n...            ...       ...           ...\n4960  2.650831e-03  0.124667  8.726822e-01\n4961  1.506395e-10  0.000002  9.999983e-01\n4962  7.950811e-11  0.113402  8.865977e-01\n4963  1.929766e-10  0.000317  9.996827e-01\n4964  2.590895e-11  0.085285  9.147154e-01\n\n[4965 rows x 3 columns]",
      "text/html": "<div>\n<style scoped>\n    .dataframe tbody tr th:only-of-type {\n        vertical-align: middle;\n    }\n\n    .dataframe tbody tr th {\n        vertical-align: top;\n    }\n\n    .dataframe thead th {\n        text-align: right;\n    }\n</style>\n<table border=\"1\" class=\"dataframe\">\n  <thead>\n    <tr style=\"text-align: right;\">\n      <th></th>\n      <th>0</th>\n      <th>1</th>\n      <th>2</th>\n    </tr>\n  </thead>\n  <tbody>\n    <tr>\n      <th>0</th>\n      <td>3.275531e-04</td>\n      <td>0.840008</td>\n      <td>1.596643e-01</td>\n    </tr>\n    <tr>\n      <th>1</th>\n      <td>9.999673e-01</td>\n      <td>0.000033</td>\n      <td>2.518608e-13</td>\n    </tr>\n    <tr>\n      <th>2</th>\n      <td>9.997393e-01</td>\n      <td>0.000261</td>\n      <td>1.454807e-10</td>\n    </tr>\n    <tr>\n      <th>3</th>\n      <td>9.992049e-01</td>\n      <td>0.000795</td>\n      <td>6.536428e-13</td>\n    </tr>\n    <tr>\n      <th>4</th>\n      <td>9.999834e-01</td>\n      <td>0.000017</td>\n      <td>5.830315e-16</td>\n    </tr>\n    <tr>\n      <th>...</th>\n      <td>...</td>\n      <td>...</td>\n      <td>...</td>\n    </tr>\n    <tr>\n      <th>4960</th>\n      <td>2.650831e-03</td>\n      <td>0.124667</td>\n      <td>8.726822e-01</td>\n    </tr>\n    <tr>\n      <th>4961</th>\n      <td>1.506395e-10</td>\n      <td>0.000002</td>\n      <td>9.999983e-01</td>\n    </tr>\n    <tr>\n      <th>4962</th>\n      <td>7.950811e-11</td>\n      <td>0.113402</td>\n      <td>8.865977e-01</td>\n    </tr>\n    <tr>\n      <th>4963</th>\n      <td>1.929766e-10</td>\n      <td>0.000317</td>\n      <td>9.996827e-01</td>\n    </tr>\n    <tr>\n      <th>4964</th>\n      <td>2.590895e-11</td>\n      <td>0.085285</td>\n      <td>9.147154e-01</td>\n    </tr>\n  </tbody>\n</table>\n<p>4965 rows × 3 columns</p>\n</div>"
     },
     "execution_count": 47,
     "metadata": {},
     "output_type": "execute_result"
    }
   ]
  },
  {
   "cell_type": "code",
   "source": [
    "# seu código"
   ],
   "metadata": {
    "id": "n8QwhzkTPiDs",
    "executionInfo": {
     "status": "ok",
     "timestamp": 1677109827225,
     "user_tz": 180,
     "elapsed": 9,
     "user": {
      "displayName": "Hevans Pereira",
      "userId": "05229330684698288921"
     }
    }
   },
   "execution_count": null,
   "outputs": []
  },
  {
   "cell_type": "code",
   "source": [
    "# seu código"
   ],
   "metadata": {
    "id": "hv7AEF01Pt0y",
    "executionInfo": {
     "status": "ok",
     "timestamp": 1677109831345,
     "user_tz": 180,
     "elapsed": 305,
     "user": {
      "displayName": "Hevans Pereira",
      "userId": "05229330684698288921"
     }
    }
   },
   "execution_count": null,
   "outputs": []
  },
  {
   "cell_type": "code",
   "source": [
    "# seu código"
   ],
   "metadata": {
    "id": "UpCr12avAR5f",
    "executionInfo": {
     "status": "ok",
     "timestamp": 1677109835199,
     "user_tz": 180,
     "elapsed": 431,
     "user": {
      "displayName": "Hevans Pereira",
      "userId": "05229330684698288921"
     }
    }
   },
   "execution_count": null,
   "outputs": []
  },
  {
   "cell_type": "code",
   "source": [
    "# seu código"
   ],
   "metadata": {
    "id": "9uen0B9OQr6H",
    "executionInfo": {
     "status": "ok",
     "timestamp": 1677109840015,
     "user_tz": 180,
     "elapsed": 15,
     "user": {
      "displayName": "Hevans Pereira",
      "userId": "05229330684698288921"
     }
    }
   },
   "execution_count": null,
   "outputs": []
  },
  {
   "cell_type": "code",
   "source": [
    "# seu código"
   ],
   "metadata": {
    "id": "nscwn8QmRCK4",
    "executionInfo": {
     "status": "ok",
     "timestamp": 1677109846194,
     "user_tz": 180,
     "elapsed": 390,
     "user": {
      "displayName": "Hevans Pereira",
      "userId": "05229330684698288921"
     }
    }
   },
   "execution_count": null,
   "outputs": []
  },
  {
   "cell_type": "code",
   "source": [
    "# seu código"
   ],
   "metadata": {
    "id": "iEk4M4vLBhqU",
    "executionInfo": {
     "status": "ok",
     "timestamp": 1677109852030,
     "user_tz": 180,
     "elapsed": 14,
     "user": {
      "displayName": "Hevans Pereira",
      "userId": "05229330684698288921"
     }
    }
   },
   "execution_count": null,
   "outputs": []
  },
  {
   "cell_type": "code",
   "source": [
    "# seu código"
   ],
   "metadata": {
    "id": "OVxjXURJyM9s",
    "executionInfo": {
     "status": "ok",
     "timestamp": 1677109859167,
     "user_tz": 180,
     "elapsed": 6,
     "user": {
      "displayName": "Hevans Pereira",
      "userId": "05229330684698288921"
     }
    }
   },
   "execution_count": null,
   "outputs": []
  },
  {
   "cell_type": "code",
   "source": [
    "# seu código"
   ],
   "metadata": {
    "id": "8RAgfG5wfy76",
    "executionInfo": {
     "status": "ok",
     "timestamp": 1677109863358,
     "user_tz": 180,
     "elapsed": 13,
     "user": {
      "displayName": "Hevans Pereira",
      "userId": "05229330684698288921"
     }
    }
   },
   "execution_count": null,
   "outputs": []
  },
  {
   "cell_type": "markdown",
   "source": [
    "## Atividade 5: Faça a previsão para um paciente que apresenta as seguintes características:\n",
    "\n",
    "* `LB` = 121\n",
    "* `AC` = 0.004176\n",
    "* `FM` = 0.0\n",
    "* `UC` = 0.007541\n",
    "* `DL` = 0.003176\n",
    "* `DS` = 0.0\n",
    "* `DP` = 0.0\n",
    "* `ASTV` = 20\n",
    "* `mSTV` = 2.3\n",
    "* `ALTV` = 0\n",
    "* `mLTV` = 11.5\n",
    "* `Width` = 129\n",
    "* `Min` = 54\n",
    "* `Max` = 171\n",
    "* `Nmax` = 5\n",
    "* `Nzeros` = 0\n",
    "* `Mode` = 140\n",
    "* `Mean` = 136\n",
    "* `Median` = 123\n",
    "* `Variance` = 14\n",
    "* `Tendency` = 1"
   ],
   "metadata": {
    "id": "U2QDyKPU1asW"
   }
  },
  {
   "cell_type": "code",
   "source": [
    "# seu código"
   ],
   "metadata": {
    "id": "Ir5gqOy72BLQ",
    "executionInfo": {
     "status": "ok",
     "timestamp": 1677109873719,
     "user_tz": 180,
     "elapsed": 8,
     "user": {
      "displayName": "Hevans Pereira",
      "userId": "05229330684698288921"
     }
    }
   },
   "execution_count": null,
   "outputs": []
  },
  {
   "cell_type": "code",
   "source": [
    "# seu código"
   ],
   "metadata": {
    "id": "sJByYbo_2Hle",
    "executionInfo": {
     "status": "ok",
     "timestamp": 1677109876453,
     "user_tz": 180,
     "elapsed": 7,
     "user": {
      "displayName": "Hevans Pereira",
      "userId": "05229330684698288921"
     }
    }
   },
   "execution_count": null,
   "outputs": []
  }
 ]
}
