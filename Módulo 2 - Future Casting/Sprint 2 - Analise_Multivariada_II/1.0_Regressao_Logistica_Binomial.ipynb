{
 "cells": [
  {
   "cell_type": "markdown",
   "source": [
    "# Regressão Logística Binomial"
   ],
   "metadata": {
    "collapsed": false
   }
  },
  {
   "cell_type": "markdown",
   "source": [
    "## O que é?\n",
    "A Regressão Logística Binominal, assim como a regressão linear, tem o objetivo de prever o comportamento de uma variável \"alvo\" ou variável independente a partir dos valores de variáveis dependentes. Essa técnica, porém, é aplicada quando a variável dependente é binária (0 ou 1). Para isso, cria-se um modelo que gera uma aproximação da relação entre as variáveis, resultando em parâmetros de cálculo (coeficientes) que - ao serem aplicados a determinados valores de X \"variáveis independentes\" - retornam a probabilidade de que a variável independente pertença a uma classe ou outra."
   ],
   "metadata": {
    "collapsed": false
   }
  },
  {
   "cell_type": "markdown",
   "source": [
    "## Passo a Passo\n",
    "- Passo 1: Importação das bibliotecas\n"
   ],
   "metadata": {
    "collapsed": false
   }
  },
  {
   "cell_type": "code",
   "execution_count": null,
   "outputs": [],
   "source": [
    "import pandas as pd\n",
    "import seaborn as sns\n",
    "import statsmodels.api as sm\n",
    "import numpy as np\n",
    "import matplotlib.pyplot as plt\n",
    "from imblearn.under_sampling import RandomUnderSampler\n",
    "from sklearn.metrics import confusion_matrix, classification_report, roc_curve, roc_auc_score"
   ],
   "metadata": {
    "collapsed": false
   }
  },
  {
   "cell_type": "markdown",
   "source": [
    "- Passo 2: Base de dados\n",
    "- Passo 3: Tratamento dos dados\n",
    "- Passo 4: `Análise de correlação` das variáveis independentes\n",
    "Nota: Esse passo é importante para evitar que haja colinearidade entre as variáveis independentes, o que pode invalidar o modelo\n",
    "- Passo 5: Armazenar as `variáveis dependentes em \"X\"` e a `variável independente em \"y\"` e `incluir a constante em X`"
   ],
   "metadata": {
    "collapsed": false
   }
  },
  {
   "cell_type": "code",
   "execution_count": null,
   "outputs": [],
   "source": [
    "# separando as variáveis X e y\n",
    "X = df.[['var_ind_1', 'var_ind_2', 'var_ind_3']]\n",
    "y = df['var_dependente']"
   ],
   "metadata": {
    "collapsed": false
   }
  },
  {
   "cell_type": "code",
   "execution_count": null,
   "outputs": [],
   "source": [
    "# adicionando a constante\n",
    "X = sm.add_constant(X)"
   ],
   "metadata": {
    "collapsed": false
   }
  },
  {
   "cell_type": "markdown",
   "source": [
    "- Passo 6 `Balancear amostra`. É importante garantir que o modelo será treinado com uma amostra que disponha da mesma quantidade de observações positivas e negativas (Ex.: 50% de clientes que pagaram e 50% de clientes que não pagaram). Isso é importante para evitar que o modelo seja enviesado para a classe majoritária.\n"
   ],
   "metadata": {
    "collapsed": false
   }
  },
  {
   "cell_type": "code",
   "execution_count": null,
   "outputs": [],
   "source": [
    "# Visualizando distribuição da variável dependente\n",
    "sns.countplot(x='var_dependente', data=df)\n",
    "df['var_dependente'].value_counts()"
   ],
   "metadata": {
    "collapsed": false
   }
  },
  {
   "cell_type": "code",
   "execution_count": null,
   "outputs": [],
   "source": [
    "# balanceando as classes com undersampling\n",
    "undersample = RandomUnderSampler(sampling_strategy='majority')\n",
    "X, y = undersample.fit_resample(X, y)"
   ],
   "metadata": {
    "collapsed": false
   }
  },
  {
   "cell_type": "markdown",
   "source": [
    "- Passo 7: `Treinar` o modelo\n"
   ],
   "metadata": {
    "collapsed": false
   }
  },
  {
   "cell_type": "code",
   "execution_count": null,
   "outputs": [],
   "source": [
    "model = sm.Logit(y, X).fit(method='newton')"
   ],
   "metadata": {
    "collapsed": false
   }
  },
  {
   "cell_type": "markdown",
   "source": [
    "- Passo 8: Gerar o sumário do modelo e `avaliar os resultados`"
   ],
   "metadata": {
    "collapsed": false
   }
  },
  {
   "cell_type": "code",
   "execution_count": null,
   "outputs": [],
   "source": [
    "print(model.summary())"
   ],
   "metadata": {
    "collapsed": false
   }
  },
  {
   "cell_type": "markdown",
   "source": [
    "- Passo 9: Interpretar os `parâmetros do modelo`. Quanto maior o valor do coeficiente, maior a influência da variável independente sobre a variável dependente. O valor de dos coeficientes representa a variação de `y` para o aumento, em uma unidade, no logarítmo natural da variável independente. Outra forma de se interpretar é que o exponente do coeficiente representa a variação de `y` para o aumento, em uma unidade, da variável independente."
   ],
   "metadata": {
    "collapsed": false
   }
  },
  {
   "cell_type": "code",
   "execution_count": null,
   "outputs": [],
   "source": [
    "# Convertendo os coeficientes em percentuais\n",
    "coef = model.params\n",
    "print(((np.exp(coef)-1)*100).round(2))"
   ],
   "metadata": {
    "collapsed": false
   }
  },
  {
   "cell_type": "markdown",
   "source": [
    "- Passo 10: `Obter as previsões` aplicando o modelo sobre a amostra já balanceada (ver Passo 5)"
   ],
   "metadata": {
    "collapsed": false
   }
  },
  {
   "cell_type": "code",
   "execution_count": null,
   "outputs": [],
   "source": [
    "# Aplicando o modelo para prever os valores de y\n",
    "y_pred = model.predict(X)\n",
    "print(y_pred)"
   ],
   "metadata": {
    "collapsed": false
   }
  },
  {
   "cell_type": "markdown",
   "source": [
    "- Passo 11: Gerar as probabilidades de cada registro pertencer a cada classe e aplicar um `threshold` para classificar os registros como 0 ou 1"
   ],
   "metadata": {
    "collapsed": false
   }
  },
  {
   "cell_type": "code",
   "execution_count": null,
   "outputs": [],
   "source": [
    "# Atribuindo valores binários a y_pred\n",
    "y_pred = y_pred.apply(lambda x: 1 if x > 0.5 else 0)\n",
    "print(y_pred)"
   ],
   "metadata": {
    "collapsed": false
   }
  },
  {
   "cell_type": "markdown",
   "source": [
    "- Passo 12: Gerar a `matriz de confusão`. Essa matriz contém 4 quadrantes, que representam os valores (quantidades ou percentuais) de Verdadeiro Positivo, Falso Positivo, Verdadeiro Negativo e Falso Negativo."
   ],
   "metadata": {
    "collapsed": false
   }
  },
  {
   "cell_type": "code",
   "execution_count": null,
   "outputs": [],
   "source": [
    "# Gerando a matriz de confusão e o mapa de calor\n",
    "cm = confusion_matrix(y, y_pred)\n",
    "sns.heatmap(cm/np.sum(cm), annot=True, cmap='Blues', fmt='.2%')\n",
    "plt.title('Matriz de Confusão', y=1.1)\n",
    "plt.ylabel('Valores Observados')\n",
    "plt.xlabel('Valores Preditos');"
   ],
   "metadata": {
    "collapsed": false
   }
  },
  {
   "cell_type": "markdown",
   "source": [
    "- Passo 13: Calcular as métricas de `acurácia`, `precisão`, `recall` e `f1-score`"
   ],
   "metadata": {
    "collapsed": false
   }
  },
  {
   "cell_type": "code",
   "execution_count": null,
   "outputs": [],
   "source": [
    "# Calculando as métricas com o classification_report\n",
    "print(classification_report(y, y_pred))"
   ],
   "metadata": {
    "collapsed": false
   }
  },
  {
   "cell_type": "markdown",
   "source": [
    "- Passo 14: Gerar a curva `ROC (Receiver Operating Characteristic)` e calcular a `AUC (Area Under the Curve)`. Quanto mais próxima de 1 a área sob a curva, melhor o modelo"
   ],
   "metadata": {
    "collapsed": false
   }
  },
  {
   "cell_type": "markdown",
   "source": [
    "# Gerando o gráfico da curva ROC\n",
    "logit_roc_auc = roc_auc_score(y, model.predict(X))\n",
    "fpr, tpr, thresholds = roc_curve(y, model.predict(X))\n",
    "plt.plot(fpr, tpr, label=f'Regressão Logística (área = {round(logit_roc_auc, 2)})')\n",
    "plt.plot([0, 1], [0, 1],'r--')\n",
    "plt.xlabel('Taxa de Falso Positivo')\n",
    "plt.ylabel('Taxa de Verdadeiro Positivo')\n",
    "plt.title('Curva ROC')\n",
    "plt.legend(loc=\"lower right\");"
   ],
   "metadata": {
    "collapsed": false
   }
  },
  {
   "cell_type": "markdown",
   "source": [
    "- Passo 15: Adequar iterativamente o modelo até que se obtenha um resultado satisfatório"
   ],
   "metadata": {
    "collapsed": false
   }
  }
 ],
 "metadata": {
  "kernelspec": {
   "display_name": "Python 3",
   "language": "python",
   "name": "python3"
  },
  "language_info": {
   "codemirror_mode": {
    "name": "ipython",
    "version": 2
   },
   "file_extension": ".py",
   "mimetype": "text/x-python",
   "name": "python",
   "nbconvert_exporter": "python",
   "pygments_lexer": "ipython2",
   "version": "2.7.6"
  }
 },
 "nbformat": 4,
 "nbformat_minor": 0
}
