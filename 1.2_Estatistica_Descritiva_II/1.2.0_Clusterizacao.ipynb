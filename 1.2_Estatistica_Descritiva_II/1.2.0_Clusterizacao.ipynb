{
 "cells": [
  {
   "cell_type": "markdown",
   "source": [
    "# Módulo 1 - Busines Intelligence e Análise Estatística\n",
    "\n",
    "<br>"
   ],
   "metadata": {
    "id": "r-cCCBvcyfm1"
   }
  },
  {
   "cell_type": "markdown",
   "source": [
    "## Sprint 2 - Clusterização"
   ],
   "metadata": {
    "id": "BAh_gyaMySix"
   }
  },
  {
   "cell_type": "markdown",
   "source": [
    "### Introdução <br>\n",
    "\n",
    "Clusterização é uma forma de **agrupamento** aplicada em **Machine Learning** para aprendizagem ***não* supervisionada**. Em contraste com os métodos supervisionados - que trabalham com datasets rotulados - os algoritmos de clustering, por meio de diferentes abordagens, encontram similaridades entre conjuntos de dados não rotulados e permitem seu agrupamento, o que, por sua vez, possibilita a adoção de diferentes estratégias para trabalhar com os distintos grupos ou mesmo, em alguns casos, para tratar os dados anômalos (*outliers*), que não se encaixam em nenhum dos grupos definidos pelo algoritmo.\n",
    "\n",
    "<br>\n",
    "\n",
    "**Tipos de Clusterização e Seus Prós e Contras**\n",
    "\n",
    "| Tipo de Clusterização | Prós | Contras | Exemplo |\n",
    "|-----------------------|------|---------|---------|\n",
    "| 1. Baseada em centróides | Eficiente  | Não lida bem com outliers ou com clusters não convexos | K-Means |\n",
    "| 2. Hierárquica | Fácil implementação, visualização com dendrograma | Pouco eficiente | Clusterização aglomerativa |\n",
    "| 3. Baseada em densidade |   |   |   |\n",
    "| 4. Baseada em distribuição |   |   |   |\n"
   ],
   "metadata": {
    "id": "x_E7utCgrwMk"
   }
  },
  {
   "cell_type": "markdown",
   "source": [
    "### K-Means (Clusterização baseada em centróides)\n",
    "\n",
    "<br>\n",
    "\n",
    "#### Escolhendo o número de clusters\n",
    "\n",
    "<br>\n",
    "\n",
    "##### Método do Cotovelo\n",
    "\n",
    "<br>\n",
    "\n",
    "##### Método da silhueta\n",
    "\n",
    "<br>\n"
   ],
   "metadata": {
    "id": "BbiKzqatrwDH"
   }
  },
  {
   "cell_type": "code",
   "source": [],
   "metadata": {
    "id": "mxgpOSBqru0D"
   },
   "execution_count": null,
   "outputs": []
  },
  {
   "cell_type": "markdown",
   "source": [
    "### Clusterização Hierárquica"
   ],
   "metadata": {
    "id": "1KLnQ-TIrvtT"
   }
  }
 ],
 "metadata": {
  "colab": {
   "toc_visible": true,
   "provenance": []
  },
  "kernelspec": {
   "display_name": "Python 3",
   "name": "python3"
  },
  "language_info": {
   "name": "python"
  }
 },
 "nbformat": 4,
 "nbformat_minor": 0
}
