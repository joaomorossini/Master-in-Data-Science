{
 "cells": [
  {
   "cell_type": "markdown",
   "metadata": {
    "id": "xaWkga_nhqgC"
   },
   "source": [
    "# Clustering (Agrupamento)\n",
    "\n",
    "Vamos usar o conjunto de dados de cidades para ver se conseguimos os estados em grupos relativamente homogêneos, a fim de direcionar políticas públicas mais específicas e eficazes auxiliando gestores públicos.\n",
    "\n",
    "Suponha que o governo federal deseja identificar estados que necessitem de maior investimento no combate à pobreza e você foi encarregado de entregar a lista de tais estados. \n",
    "\n",
    "Para fazer essa análise precisaremos olhar para os dados, mas algumas perguntas podem surgir nesse momento como, por exemplo, \"Qual(is) indicador(es) deveremos usar para fazer a classificação dos estados?\" e \"Qual será a linha de corte usada para a classificação?\".\n",
    "\n",
    "Estas questões, entre outras, podem atrapalhar a eficiência da política pública se forem escolhidas sem base técnica. Por exemplo, poderíamos considerar que precisa de mais investimento todos os estados cujo IDH seja menor que 0.7, esse é um critério possível mas arbitrário. Será que esse seria um bom valor para fazer a classificação? Se for muito baixo, alguns estados que precisam dos recursos acabariam ficando sem, e se for muito alto estaríamos enviando recursos para estados que não precisam, diminuindo a eficiência da política pública."
   ]
  },
  {
   "cell_type": "markdown",
   "metadata": {
    "id": "N66b0hBSZC5Y"
   },
   "source": [
    "Vamos importar a biblioteca `pandas` e os nossos dados para começar a análise."
   ]
  },
  {
   "cell_type": "code",
   "execution_count": null,
   "metadata": {
    "ExecuteTime": {
     "end_time": "2023-02-02T19:55:11.294087Z",
     "start_time": "2023-02-02T19:54:50.501078Z"
    },
    "id": "NQBrGCdf9RJQ"
   },
   "outputs": [],
   "source": [
    "# Importando as dependências externas\n",
    "import pandas as pd\n",
    "import seaborn as sns\n",
    "import numpy as np\n",
    "from sklearn.preprocessing import StandardScaler\n",
    "from sklearn.cluster import KMeans\n",
    "from sklearn.metrics import silhouette_score\n",
    "import matplotlib.pyplot as plt"
   ]
  },
  {
   "cell_type": "code",
   "execution_count": null,
   "metadata": {
    "ExecuteTime": {
     "end_time": "2023-02-02T19:55:43.958988Z",
     "start_time": "2023-02-02T19:55:43.930064Z"
    },
    "colab": {
     "base_uri": "https://localhost:8080/",
     "height": 310
    },
    "id": "fIC_-6Q995Pa",
    "outputId": "1049cfc3-abb7-43f6-fbd9-9d138c0ed282"
   },
   "outputs": [
    {
     "output_type": "execute_result",
     "data": {
      "text/plain": [
       "  nomeLocalidade estado  População residente  Densidade demográfica  \\\n",
       "0     Acrelândia   Acre                12538                   6.93   \n",
       "1   Assis Brasil   Acre                 6072                   1.22   \n",
       "\n",
       "   Porcentagem de Jovens  Porcentagem de Ativos  Porcentagem de Idosos  \\\n",
       "0                  52.92                  43.04                   4.04   \n",
       "1                  55.58                  40.07                   4.35   \n",
       "\n",
       "   Taxa de Urbanização  Taxa de Saneamento Básico  \\\n",
       "0                48.34                       0.00   \n",
       "1                65.30                       2.39   \n",
       "\n",
       "   Ativos com Baixo Nível Educacional  ...  \\\n",
       "0                               75.34  ...   \n",
       "1                               66.83  ...   \n",
       "\n",
       "   Percentual de empresas do setor terciário em relação ao total  \\\n",
       "0                                              75.41               \n",
       "1                                             100.00               \n",
       "\n",
       "   Percentual de trabalhadores do setor primário em relação ao total  \\\n",
       "0                                               8.86                   \n",
       "1                                               0.60                   \n",
       "\n",
       "   Percentual de trabalhadores do setor secundário em relação ao total  \\\n",
       "0                                              21.53                     \n",
       "1                                               0.00                     \n",
       "\n",
       "   Percentual de trabalhadores do setor terciário em relação ao total  \\\n",
       "0                                              34.07                    \n",
       "1                                              36.25                    \n",
       "\n",
       "   Média Salarial  Produtividade  Taxa de desemprego dos jovens  \\\n",
       "0          994.67     2654247.23                          19.17   \n",
       "1         1163.49     2113108.99                          10.57   \n",
       "\n",
       "   Taxa de desemprego  \\\n",
       "0                9.62   \n",
       "1                7.44   \n",
       "\n",
       "   Número de trabalhadores(Comerciais, hotéis e restaurantes) por 1,000 habitantes  \\\n",
       "0                                              12.12                                 \n",
       "1                                              17.79                                 \n",
       "\n",
       "   Número de ativos culturais e de lazer por 10,000 habitantes  \n",
       "0                                                0.0            \n",
       "1                                                0.0            \n",
       "\n",
       "[2 rows x 40 columns]"
      ],
      "text/html": [
       "\n",
       "  <div id=\"df-4cee6952-f4ba-417c-96fd-b8f8a93974cc\">\n",
       "    <div class=\"colab-df-container\">\n",
       "      <div>\n",
       "<style scoped>\n",
       "    .dataframe tbody tr th:only-of-type {\n",
       "        vertical-align: middle;\n",
       "    }\n",
       "\n",
       "    .dataframe tbody tr th {\n",
       "        vertical-align: top;\n",
       "    }\n",
       "\n",
       "    .dataframe thead th {\n",
       "        text-align: right;\n",
       "    }\n",
       "</style>\n",
       "<table border=\"1\" class=\"dataframe\">\n",
       "  <thead>\n",
       "    <tr style=\"text-align: right;\">\n",
       "      <th></th>\n",
       "      <th>nomeLocalidade</th>\n",
       "      <th>estado</th>\n",
       "      <th>População residente</th>\n",
       "      <th>Densidade demográfica</th>\n",
       "      <th>Porcentagem de Jovens</th>\n",
       "      <th>Porcentagem de Ativos</th>\n",
       "      <th>Porcentagem de Idosos</th>\n",
       "      <th>Taxa de Urbanização</th>\n",
       "      <th>Taxa de Saneamento Básico</th>\n",
       "      <th>Ativos com Baixo Nível Educacional</th>\n",
       "      <th>...</th>\n",
       "      <th>Percentual de empresas do setor terciário em relação ao total</th>\n",
       "      <th>Percentual de trabalhadores do setor primário em relação ao total</th>\n",
       "      <th>Percentual de trabalhadores do setor secundário em relação ao total</th>\n",
       "      <th>Percentual de trabalhadores do setor terciário em relação ao total</th>\n",
       "      <th>Média Salarial</th>\n",
       "      <th>Produtividade</th>\n",
       "      <th>Taxa de desemprego dos jovens</th>\n",
       "      <th>Taxa de desemprego</th>\n",
       "      <th>Número de trabalhadores(Comerciais, hotéis e restaurantes) por 1,000 habitantes</th>\n",
       "      <th>Número de ativos culturais e de lazer por 10,000 habitantes</th>\n",
       "    </tr>\n",
       "  </thead>\n",
       "  <tbody>\n",
       "    <tr>\n",
       "      <th>0</th>\n",
       "      <td>Acrelândia</td>\n",
       "      <td>Acre</td>\n",
       "      <td>12538</td>\n",
       "      <td>6.93</td>\n",
       "      <td>52.92</td>\n",
       "      <td>43.04</td>\n",
       "      <td>4.04</td>\n",
       "      <td>48.34</td>\n",
       "      <td>0.00</td>\n",
       "      <td>75.34</td>\n",
       "      <td>...</td>\n",
       "      <td>75.41</td>\n",
       "      <td>8.86</td>\n",
       "      <td>21.53</td>\n",
       "      <td>34.07</td>\n",
       "      <td>994.67</td>\n",
       "      <td>2654247.23</td>\n",
       "      <td>19.17</td>\n",
       "      <td>9.62</td>\n",
       "      <td>12.12</td>\n",
       "      <td>0.0</td>\n",
       "    </tr>\n",
       "    <tr>\n",
       "      <th>1</th>\n",
       "      <td>Assis Brasil</td>\n",
       "      <td>Acre</td>\n",
       "      <td>6072</td>\n",
       "      <td>1.22</td>\n",
       "      <td>55.58</td>\n",
       "      <td>40.07</td>\n",
       "      <td>4.35</td>\n",
       "      <td>65.30</td>\n",
       "      <td>2.39</td>\n",
       "      <td>66.83</td>\n",
       "      <td>...</td>\n",
       "      <td>100.00</td>\n",
       "      <td>0.60</td>\n",
       "      <td>0.00</td>\n",
       "      <td>36.25</td>\n",
       "      <td>1163.49</td>\n",
       "      <td>2113108.99</td>\n",
       "      <td>10.57</td>\n",
       "      <td>7.44</td>\n",
       "      <td>17.79</td>\n",
       "      <td>0.0</td>\n",
       "    </tr>\n",
       "  </tbody>\n",
       "</table>\n",
       "<p>2 rows × 40 columns</p>\n",
       "</div>\n",
       "      <button class=\"colab-df-convert\" onclick=\"convertToInteractive('df-4cee6952-f4ba-417c-96fd-b8f8a93974cc')\"\n",
       "              title=\"Convert this dataframe to an interactive table.\"\n",
       "              style=\"display:none;\">\n",
       "        \n",
       "  <svg xmlns=\"http://www.w3.org/2000/svg\" height=\"24px\"viewBox=\"0 0 24 24\"\n",
       "       width=\"24px\">\n",
       "    <path d=\"M0 0h24v24H0V0z\" fill=\"none\"/>\n",
       "    <path d=\"M18.56 5.44l.94 2.06.94-2.06 2.06-.94-2.06-.94-.94-2.06-.94 2.06-2.06.94zm-11 1L8.5 8.5l.94-2.06 2.06-.94-2.06-.94L8.5 2.5l-.94 2.06-2.06.94zm10 10l.94 2.06.94-2.06 2.06-.94-2.06-.94-.94-2.06-.94 2.06-2.06.94z\"/><path d=\"M17.41 7.96l-1.37-1.37c-.4-.4-.92-.59-1.43-.59-.52 0-1.04.2-1.43.59L10.3 9.45l-7.72 7.72c-.78.78-.78 2.05 0 2.83L4 21.41c.39.39.9.59 1.41.59.51 0 1.02-.2 1.41-.59l7.78-7.78 2.81-2.81c.8-.78.8-2.07 0-2.86zM5.41 20L4 18.59l7.72-7.72 1.47 1.35L5.41 20z\"/>\n",
       "  </svg>\n",
       "      </button>\n",
       "      \n",
       "  <style>\n",
       "    .colab-df-container {\n",
       "      display:flex;\n",
       "      flex-wrap:wrap;\n",
       "      gap: 12px;\n",
       "    }\n",
       "\n",
       "    .colab-df-convert {\n",
       "      background-color: #E8F0FE;\n",
       "      border: none;\n",
       "      border-radius: 50%;\n",
       "      cursor: pointer;\n",
       "      display: none;\n",
       "      fill: #1967D2;\n",
       "      height: 32px;\n",
       "      padding: 0 0 0 0;\n",
       "      width: 32px;\n",
       "    }\n",
       "\n",
       "    .colab-df-convert:hover {\n",
       "      background-color: #E2EBFA;\n",
       "      box-shadow: 0px 1px 2px rgba(60, 64, 67, 0.3), 0px 1px 3px 1px rgba(60, 64, 67, 0.15);\n",
       "      fill: #174EA6;\n",
       "    }\n",
       "\n",
       "    [theme=dark] .colab-df-convert {\n",
       "      background-color: #3B4455;\n",
       "      fill: #D2E3FC;\n",
       "    }\n",
       "\n",
       "    [theme=dark] .colab-df-convert:hover {\n",
       "      background-color: #434B5C;\n",
       "      box-shadow: 0px 1px 3px 1px rgba(0, 0, 0, 0.15);\n",
       "      filter: drop-shadow(0px 1px 2px rgba(0, 0, 0, 0.3));\n",
       "      fill: #FFFFFF;\n",
       "    }\n",
       "  </style>\n",
       "\n",
       "      <script>\n",
       "        const buttonEl =\n",
       "          document.querySelector('#df-4cee6952-f4ba-417c-96fd-b8f8a93974cc button.colab-df-convert');\n",
       "        buttonEl.style.display =\n",
       "          google.colab.kernel.accessAllowed ? 'block' : 'none';\n",
       "\n",
       "        async function convertToInteractive(key) {\n",
       "          const element = document.querySelector('#df-4cee6952-f4ba-417c-96fd-b8f8a93974cc');\n",
       "          const dataTable =\n",
       "            await google.colab.kernel.invokeFunction('convertToInteractive',\n",
       "                                                     [key], {});\n",
       "          if (!dataTable) return;\n",
       "\n",
       "          const docLinkHtml = 'Like what you see? Visit the ' +\n",
       "            '<a target=\"_blank\" href=https://colab.research.google.com/notebooks/data_table.ipynb>data table notebook</a>'\n",
       "            + ' to learn more about interactive tables.';\n",
       "          element.innerHTML = '';\n",
       "          dataTable['output_type'] = 'display_data';\n",
       "          await google.colab.output.renderOutput(dataTable, element);\n",
       "          const docLink = document.createElement('div');\n",
       "          docLink.innerHTML = docLinkHtml;\n",
       "          element.appendChild(docLink);\n",
       "        }\n",
       "      </script>\n",
       "    </div>\n",
       "  </div>\n",
       "  "
      ]
     },
     "metadata": {},
     "execution_count": 26
    }
   ],
   "source": [
    "# Criando o dataframe a partir da base de dados oficial\n",
    "df = pd.read_excel('dados.xlsx')\n",
    "df.head(2)"
   ]
  },
  {
   "cell_type": "markdown",
   "metadata": {
    "id": "q4vxVZLvZd6G"
   },
   "source": [
    "Nesse primeiro momento vamos trabalhar com as variáveis `estado`, `PIB Municipal`, `% de pobres`, `IDH`, `Média Salarial` e `Taxa de desemprego` do nosso banco de dados e vamos agrupar os dados por estado."
   ]
  },
  {
   "cell_type": "code",
   "source": [
    "# Criando novo dataframe com as colunas de interesse\n",
    "df2 = df[['estado', 'PIB Municipal', '% de pobres', 'IDH', 'Média Salarial', 'Taxa de desemprego']]\n",
    "df2.head(2)"
   ],
   "metadata": {
    "id": "d7oaCnkvYH9h",
    "outputId": "20f565c3-cb5e-4a7f-c566-0d1972e12d69",
    "colab": {
     "base_uri": "https://localhost:8080/",
     "height": 112
    }
   },
   "execution_count": null,
   "outputs": [
    {
     "output_type": "execute_result",
     "data": {
      "text/plain": [
       "  estado  PIB Municipal  % de pobres   IDH  Média Salarial  Taxa de desemprego\n",
       "0   Acre   1.221749e+08        36.56  0.81          994.67                9.62\n",
       "1   Acre   4.205170e+07        44.09  0.77         1163.49                7.44"
      ],
      "text/html": [
       "\n",
       "  <div id=\"df-a60c1c21-2366-43b2-a60c-af069a34fb94\">\n",
       "    <div class=\"colab-df-container\">\n",
       "      <div>\n",
       "<style scoped>\n",
       "    .dataframe tbody tr th:only-of-type {\n",
       "        vertical-align: middle;\n",
       "    }\n",
       "\n",
       "    .dataframe tbody tr th {\n",
       "        vertical-align: top;\n",
       "    }\n",
       "\n",
       "    .dataframe thead th {\n",
       "        text-align: right;\n",
       "    }\n",
       "</style>\n",
       "<table border=\"1\" class=\"dataframe\">\n",
       "  <thead>\n",
       "    <tr style=\"text-align: right;\">\n",
       "      <th></th>\n",
       "      <th>estado</th>\n",
       "      <th>PIB Municipal</th>\n",
       "      <th>% de pobres</th>\n",
       "      <th>IDH</th>\n",
       "      <th>Média Salarial</th>\n",
       "      <th>Taxa de desemprego</th>\n",
       "    </tr>\n",
       "  </thead>\n",
       "  <tbody>\n",
       "    <tr>\n",
       "      <th>0</th>\n",
       "      <td>Acre</td>\n",
       "      <td>1.221749e+08</td>\n",
       "      <td>36.56</td>\n",
       "      <td>0.81</td>\n",
       "      <td>994.67</td>\n",
       "      <td>9.62</td>\n",
       "    </tr>\n",
       "    <tr>\n",
       "      <th>1</th>\n",
       "      <td>Acre</td>\n",
       "      <td>4.205170e+07</td>\n",
       "      <td>44.09</td>\n",
       "      <td>0.77</td>\n",
       "      <td>1163.49</td>\n",
       "      <td>7.44</td>\n",
       "    </tr>\n",
       "  </tbody>\n",
       "</table>\n",
       "</div>\n",
       "      <button class=\"colab-df-convert\" onclick=\"convertToInteractive('df-a60c1c21-2366-43b2-a60c-af069a34fb94')\"\n",
       "              title=\"Convert this dataframe to an interactive table.\"\n",
       "              style=\"display:none;\">\n",
       "        \n",
       "  <svg xmlns=\"http://www.w3.org/2000/svg\" height=\"24px\"viewBox=\"0 0 24 24\"\n",
       "       width=\"24px\">\n",
       "    <path d=\"M0 0h24v24H0V0z\" fill=\"none\"/>\n",
       "    <path d=\"M18.56 5.44l.94 2.06.94-2.06 2.06-.94-2.06-.94-.94-2.06-.94 2.06-2.06.94zm-11 1L8.5 8.5l.94-2.06 2.06-.94-2.06-.94L8.5 2.5l-.94 2.06-2.06.94zm10 10l.94 2.06.94-2.06 2.06-.94-2.06-.94-.94-2.06-.94 2.06-2.06.94z\"/><path d=\"M17.41 7.96l-1.37-1.37c-.4-.4-.92-.59-1.43-.59-.52 0-1.04.2-1.43.59L10.3 9.45l-7.72 7.72c-.78.78-.78 2.05 0 2.83L4 21.41c.39.39.9.59 1.41.59.51 0 1.02-.2 1.41-.59l7.78-7.78 2.81-2.81c.8-.78.8-2.07 0-2.86zM5.41 20L4 18.59l7.72-7.72 1.47 1.35L5.41 20z\"/>\n",
       "  </svg>\n",
       "      </button>\n",
       "      \n",
       "  <style>\n",
       "    .colab-df-container {\n",
       "      display:flex;\n",
       "      flex-wrap:wrap;\n",
       "      gap: 12px;\n",
       "    }\n",
       "\n",
       "    .colab-df-convert {\n",
       "      background-color: #E8F0FE;\n",
       "      border: none;\n",
       "      border-radius: 50%;\n",
       "      cursor: pointer;\n",
       "      display: none;\n",
       "      fill: #1967D2;\n",
       "      height: 32px;\n",
       "      padding: 0 0 0 0;\n",
       "      width: 32px;\n",
       "    }\n",
       "\n",
       "    .colab-df-convert:hover {\n",
       "      background-color: #E2EBFA;\n",
       "      box-shadow: 0px 1px 2px rgba(60, 64, 67, 0.3), 0px 1px 3px 1px rgba(60, 64, 67, 0.15);\n",
       "      fill: #174EA6;\n",
       "    }\n",
       "\n",
       "    [theme=dark] .colab-df-convert {\n",
       "      background-color: #3B4455;\n",
       "      fill: #D2E3FC;\n",
       "    }\n",
       "\n",
       "    [theme=dark] .colab-df-convert:hover {\n",
       "      background-color: #434B5C;\n",
       "      box-shadow: 0px 1px 3px 1px rgba(0, 0, 0, 0.15);\n",
       "      filter: drop-shadow(0px 1px 2px rgba(0, 0, 0, 0.3));\n",
       "      fill: #FFFFFF;\n",
       "    }\n",
       "  </style>\n",
       "\n",
       "      <script>\n",
       "        const buttonEl =\n",
       "          document.querySelector('#df-a60c1c21-2366-43b2-a60c-af069a34fb94 button.colab-df-convert');\n",
       "        buttonEl.style.display =\n",
       "          google.colab.kernel.accessAllowed ? 'block' : 'none';\n",
       "\n",
       "        async function convertToInteractive(key) {\n",
       "          const element = document.querySelector('#df-a60c1c21-2366-43b2-a60c-af069a34fb94');\n",
       "          const dataTable =\n",
       "            await google.colab.kernel.invokeFunction('convertToInteractive',\n",
       "                                                     [key], {});\n",
       "          if (!dataTable) return;\n",
       "\n",
       "          const docLinkHtml = 'Like what you see? Visit the ' +\n",
       "            '<a target=\"_blank\" href=https://colab.research.google.com/notebooks/data_table.ipynb>data table notebook</a>'\n",
       "            + ' to learn more about interactive tables.';\n",
       "          element.innerHTML = '';\n",
       "          dataTable['output_type'] = 'display_data';\n",
       "          await google.colab.output.renderOutput(dataTable, element);\n",
       "          const docLink = document.createElement('div');\n",
       "          docLink.innerHTML = docLinkHtml;\n",
       "          element.appendChild(docLink);\n",
       "        }\n",
       "      </script>\n",
       "    </div>\n",
       "  </div>\n",
       "  "
      ]
     },
     "metadata": {},
     "execution_count": 27
    }
   ]
  },
  {
   "cell_type": "code",
   "execution_count": null,
   "metadata": {
    "ExecuteTime": {
     "end_time": "2023-02-02T19:55:12.128143Z",
     "start_time": "2023-02-02T19:55:12.128143Z"
    },
    "id": "WWwt3KqQEpWA",
    "colab": {
     "base_uri": "https://localhost:8080/",
     "height": 112
    },
    "outputId": "1933008a-dc6d-43dc-d2ed-25d50df73c9e"
   },
   "outputs": [
    {
     "output_type": "execute_result",
     "data": {
      "text/plain": [
       "    estado  PIB Municipal  % de pobres       IDH  Média Salarial  \\\n",
       "0     Acre   3.795693e+08    43.369091  0.767273      931.031818   \n",
       "1  Alagoas   2.660082e+08    45.935490  0.739706      874.946373   \n",
       "\n",
       "   Taxa de desemprego  \n",
       "0            5.955000  \n",
       "1            9.200196  "
      ],
      "text/html": [
       "\n",
       "  <div id=\"df-9ba0eb17-b0b9-4ce7-901e-45bacc7fdf8d\">\n",
       "    <div class=\"colab-df-container\">\n",
       "      <div>\n",
       "<style scoped>\n",
       "    .dataframe tbody tr th:only-of-type {\n",
       "        vertical-align: middle;\n",
       "    }\n",
       "\n",
       "    .dataframe tbody tr th {\n",
       "        vertical-align: top;\n",
       "    }\n",
       "\n",
       "    .dataframe thead th {\n",
       "        text-align: right;\n",
       "    }\n",
       "</style>\n",
       "<table border=\"1\" class=\"dataframe\">\n",
       "  <thead>\n",
       "    <tr style=\"text-align: right;\">\n",
       "      <th></th>\n",
       "      <th>estado</th>\n",
       "      <th>PIB Municipal</th>\n",
       "      <th>% de pobres</th>\n",
       "      <th>IDH</th>\n",
       "      <th>Média Salarial</th>\n",
       "      <th>Taxa de desemprego</th>\n",
       "    </tr>\n",
       "  </thead>\n",
       "  <tbody>\n",
       "    <tr>\n",
       "      <th>0</th>\n",
       "      <td>Acre</td>\n",
       "      <td>3.795693e+08</td>\n",
       "      <td>43.369091</td>\n",
       "      <td>0.767273</td>\n",
       "      <td>931.031818</td>\n",
       "      <td>5.955000</td>\n",
       "    </tr>\n",
       "    <tr>\n",
       "      <th>1</th>\n",
       "      <td>Alagoas</td>\n",
       "      <td>2.660082e+08</td>\n",
       "      <td>45.935490</td>\n",
       "      <td>0.739706</td>\n",
       "      <td>874.946373</td>\n",
       "      <td>9.200196</td>\n",
       "    </tr>\n",
       "  </tbody>\n",
       "</table>\n",
       "</div>\n",
       "      <button class=\"colab-df-convert\" onclick=\"convertToInteractive('df-9ba0eb17-b0b9-4ce7-901e-45bacc7fdf8d')\"\n",
       "              title=\"Convert this dataframe to an interactive table.\"\n",
       "              style=\"display:none;\">\n",
       "        \n",
       "  <svg xmlns=\"http://www.w3.org/2000/svg\" height=\"24px\"viewBox=\"0 0 24 24\"\n",
       "       width=\"24px\">\n",
       "    <path d=\"M0 0h24v24H0V0z\" fill=\"none\"/>\n",
       "    <path d=\"M18.56 5.44l.94 2.06.94-2.06 2.06-.94-2.06-.94-.94-2.06-.94 2.06-2.06.94zm-11 1L8.5 8.5l.94-2.06 2.06-.94-2.06-.94L8.5 2.5l-.94 2.06-2.06.94zm10 10l.94 2.06.94-2.06 2.06-.94-2.06-.94-.94-2.06-.94 2.06-2.06.94z\"/><path d=\"M17.41 7.96l-1.37-1.37c-.4-.4-.92-.59-1.43-.59-.52 0-1.04.2-1.43.59L10.3 9.45l-7.72 7.72c-.78.78-.78 2.05 0 2.83L4 21.41c.39.39.9.59 1.41.59.51 0 1.02-.2 1.41-.59l7.78-7.78 2.81-2.81c.8-.78.8-2.07 0-2.86zM5.41 20L4 18.59l7.72-7.72 1.47 1.35L5.41 20z\"/>\n",
       "  </svg>\n",
       "      </button>\n",
       "      \n",
       "  <style>\n",
       "    .colab-df-container {\n",
       "      display:flex;\n",
       "      flex-wrap:wrap;\n",
       "      gap: 12px;\n",
       "    }\n",
       "\n",
       "    .colab-df-convert {\n",
       "      background-color: #E8F0FE;\n",
       "      border: none;\n",
       "      border-radius: 50%;\n",
       "      cursor: pointer;\n",
       "      display: none;\n",
       "      fill: #1967D2;\n",
       "      height: 32px;\n",
       "      padding: 0 0 0 0;\n",
       "      width: 32px;\n",
       "    }\n",
       "\n",
       "    .colab-df-convert:hover {\n",
       "      background-color: #E2EBFA;\n",
       "      box-shadow: 0px 1px 2px rgba(60, 64, 67, 0.3), 0px 1px 3px 1px rgba(60, 64, 67, 0.15);\n",
       "      fill: #174EA6;\n",
       "    }\n",
       "\n",
       "    [theme=dark] .colab-df-convert {\n",
       "      background-color: #3B4455;\n",
       "      fill: #D2E3FC;\n",
       "    }\n",
       "\n",
       "    [theme=dark] .colab-df-convert:hover {\n",
       "      background-color: #434B5C;\n",
       "      box-shadow: 0px 1px 3px 1px rgba(0, 0, 0, 0.15);\n",
       "      filter: drop-shadow(0px 1px 2px rgba(0, 0, 0, 0.3));\n",
       "      fill: #FFFFFF;\n",
       "    }\n",
       "  </style>\n",
       "\n",
       "      <script>\n",
       "        const buttonEl =\n",
       "          document.querySelector('#df-9ba0eb17-b0b9-4ce7-901e-45bacc7fdf8d button.colab-df-convert');\n",
       "        buttonEl.style.display =\n",
       "          google.colab.kernel.accessAllowed ? 'block' : 'none';\n",
       "\n",
       "        async function convertToInteractive(key) {\n",
       "          const element = document.querySelector('#df-9ba0eb17-b0b9-4ce7-901e-45bacc7fdf8d');\n",
       "          const dataTable =\n",
       "            await google.colab.kernel.invokeFunction('convertToInteractive',\n",
       "                                                     [key], {});\n",
       "          if (!dataTable) return;\n",
       "\n",
       "          const docLinkHtml = 'Like what you see? Visit the ' +\n",
       "            '<a target=\"_blank\" href=https://colab.research.google.com/notebooks/data_table.ipynb>data table notebook</a>'\n",
       "            + ' to learn more about interactive tables.';\n",
       "          element.innerHTML = '';\n",
       "          dataTable['output_type'] = 'display_data';\n",
       "          await google.colab.output.renderOutput(dataTable, element);\n",
       "          const docLink = document.createElement('div');\n",
       "          docLink.innerHTML = docLinkHtml;\n",
       "          element.appendChild(docLink);\n",
       "        }\n",
       "      </script>\n",
       "    </div>\n",
       "  </div>\n",
       "  "
      ]
     },
     "metadata": {},
     "execution_count": 28
    }
   ],
   "source": [
    "# Calculando as médias por estado\n",
    "df2 = df2.groupby(by='estado').mean()\n",
    "\n",
    "# Ajustando o index\n",
    "df2 = df2.reset_index()\n",
    "\n",
    "df2.head(2)"
   ]
  },
  {
   "cell_type": "markdown",
   "metadata": {
    "id": "-pqw1311t6ld"
   },
   "source": [
    "## Padronizando os Dados\n",
    "\n",
    "Como os dados de diferentes variáveis estão em diferentes escalas, é necessário padronizar as variáveis de forma que todos contribuam igualmente nos cálculos de distâncias que serão feitos.\n",
    "\n",
    "Para fazer a padronização vamos usar a função `StandardScaler()` do [scikit-learn](https://scikit-learn.org/stable/modules/generated/sklearn.preprocessing.StandardScaler.html)"
   ]
  },
  {
   "cell_type": "code",
   "execution_count": null,
   "metadata": {
    "ExecuteTime": {
     "end_time": "2023-02-02T19:55:12.131136Z",
     "start_time": "2023-02-02T19:55:12.131136Z"
    },
    "colab": {
     "base_uri": "https://localhost:8080/",
     "height": 112
    },
    "id": "kjBYwgzIt-wB",
    "outputId": "1bbfa3df-0e4f-4a47-8d30-e3a028f10cfa"
   },
   "outputs": [
    {
     "output_type": "execute_result",
     "data": {
      "text/plain": [
       "   PIB Municipal  % de pobres       IDH  Média Salarial  Taxa de desemprego  \\\n",
       "0      -0.206834     0.924792 -0.702782       -0.328065           -0.606967   \n",
       "1      -0.211010     1.085804 -1.465417       -0.522383            0.934667   \n",
       "\n",
       "    estado  \n",
       "0     Acre  \n",
       "1  Alagoas  "
      ],
      "text/html": [
       "\n",
       "  <div id=\"df-23796260-6d7a-4199-a447-7558088ed23c\">\n",
       "    <div class=\"colab-df-container\">\n",
       "      <div>\n",
       "<style scoped>\n",
       "    .dataframe tbody tr th:only-of-type {\n",
       "        vertical-align: middle;\n",
       "    }\n",
       "\n",
       "    .dataframe tbody tr th {\n",
       "        vertical-align: top;\n",
       "    }\n",
       "\n",
       "    .dataframe thead th {\n",
       "        text-align: right;\n",
       "    }\n",
       "</style>\n",
       "<table border=\"1\" class=\"dataframe\">\n",
       "  <thead>\n",
       "    <tr style=\"text-align: right;\">\n",
       "      <th></th>\n",
       "      <th>PIB Municipal</th>\n",
       "      <th>% de pobres</th>\n",
       "      <th>IDH</th>\n",
       "      <th>Média Salarial</th>\n",
       "      <th>Taxa de desemprego</th>\n",
       "      <th>estado</th>\n",
       "    </tr>\n",
       "  </thead>\n",
       "  <tbody>\n",
       "    <tr>\n",
       "      <th>0</th>\n",
       "      <td>-0.206834</td>\n",
       "      <td>0.924792</td>\n",
       "      <td>-0.702782</td>\n",
       "      <td>-0.328065</td>\n",
       "      <td>-0.606967</td>\n",
       "      <td>Acre</td>\n",
       "    </tr>\n",
       "    <tr>\n",
       "      <th>1</th>\n",
       "      <td>-0.211010</td>\n",
       "      <td>1.085804</td>\n",
       "      <td>-1.465417</td>\n",
       "      <td>-0.522383</td>\n",
       "      <td>0.934667</td>\n",
       "      <td>Alagoas</td>\n",
       "    </tr>\n",
       "  </tbody>\n",
       "</table>\n",
       "</div>\n",
       "      <button class=\"colab-df-convert\" onclick=\"convertToInteractive('df-23796260-6d7a-4199-a447-7558088ed23c')\"\n",
       "              title=\"Convert this dataframe to an interactive table.\"\n",
       "              style=\"display:none;\">\n",
       "        \n",
       "  <svg xmlns=\"http://www.w3.org/2000/svg\" height=\"24px\"viewBox=\"0 0 24 24\"\n",
       "       width=\"24px\">\n",
       "    <path d=\"M0 0h24v24H0V0z\" fill=\"none\"/>\n",
       "    <path d=\"M18.56 5.44l.94 2.06.94-2.06 2.06-.94-2.06-.94-.94-2.06-.94 2.06-2.06.94zm-11 1L8.5 8.5l.94-2.06 2.06-.94-2.06-.94L8.5 2.5l-.94 2.06-2.06.94zm10 10l.94 2.06.94-2.06 2.06-.94-2.06-.94-.94-2.06-.94 2.06-2.06.94z\"/><path d=\"M17.41 7.96l-1.37-1.37c-.4-.4-.92-.59-1.43-.59-.52 0-1.04.2-1.43.59L10.3 9.45l-7.72 7.72c-.78.78-.78 2.05 0 2.83L4 21.41c.39.39.9.59 1.41.59.51 0 1.02-.2 1.41-.59l7.78-7.78 2.81-2.81c.8-.78.8-2.07 0-2.86zM5.41 20L4 18.59l7.72-7.72 1.47 1.35L5.41 20z\"/>\n",
       "  </svg>\n",
       "      </button>\n",
       "      \n",
       "  <style>\n",
       "    .colab-df-container {\n",
       "      display:flex;\n",
       "      flex-wrap:wrap;\n",
       "      gap: 12px;\n",
       "    }\n",
       "\n",
       "    .colab-df-convert {\n",
       "      background-color: #E8F0FE;\n",
       "      border: none;\n",
       "      border-radius: 50%;\n",
       "      cursor: pointer;\n",
       "      display: none;\n",
       "      fill: #1967D2;\n",
       "      height: 32px;\n",
       "      padding: 0 0 0 0;\n",
       "      width: 32px;\n",
       "    }\n",
       "\n",
       "    .colab-df-convert:hover {\n",
       "      background-color: #E2EBFA;\n",
       "      box-shadow: 0px 1px 2px rgba(60, 64, 67, 0.3), 0px 1px 3px 1px rgba(60, 64, 67, 0.15);\n",
       "      fill: #174EA6;\n",
       "    }\n",
       "\n",
       "    [theme=dark] .colab-df-convert {\n",
       "      background-color: #3B4455;\n",
       "      fill: #D2E3FC;\n",
       "    }\n",
       "\n",
       "    [theme=dark] .colab-df-convert:hover {\n",
       "      background-color: #434B5C;\n",
       "      box-shadow: 0px 1px 3px 1px rgba(0, 0, 0, 0.15);\n",
       "      filter: drop-shadow(0px 1px 2px rgba(0, 0, 0, 0.3));\n",
       "      fill: #FFFFFF;\n",
       "    }\n",
       "  </style>\n",
       "\n",
       "      <script>\n",
       "        const buttonEl =\n",
       "          document.querySelector('#df-23796260-6d7a-4199-a447-7558088ed23c button.colab-df-convert');\n",
       "        buttonEl.style.display =\n",
       "          google.colab.kernel.accessAllowed ? 'block' : 'none';\n",
       "\n",
       "        async function convertToInteractive(key) {\n",
       "          const element = document.querySelector('#df-23796260-6d7a-4199-a447-7558088ed23c');\n",
       "          const dataTable =\n",
       "            await google.colab.kernel.invokeFunction('convertToInteractive',\n",
       "                                                     [key], {});\n",
       "          if (!dataTable) return;\n",
       "\n",
       "          const docLinkHtml = 'Like what you see? Visit the ' +\n",
       "            '<a target=\"_blank\" href=https://colab.research.google.com/notebooks/data_table.ipynb>data table notebook</a>'\n",
       "            + ' to learn more about interactive tables.';\n",
       "          element.innerHTML = '';\n",
       "          dataTable['output_type'] = 'display_data';\n",
       "          await google.colab.output.renderOutput(dataTable, element);\n",
       "          const docLink = document.createElement('div');\n",
       "          docLink.innerHTML = docLinkHtml;\n",
       "          element.appendChild(docLink);\n",
       "        }\n",
       "      </script>\n",
       "    </div>\n",
       "  </div>\n",
       "  "
      ]
     },
     "metadata": {},
     "execution_count": 29
    }
   ],
   "source": [
    "# Criando uma cópia do dataframe para os dados padronizados\n",
    "df_scaled = df2.copy()\n",
    "\n",
    "# Eliminando os dados em formato string\n",
    "df_scaled.drop('estado', axis=1, inplace=True)\n",
    "\n",
    "# Instanciando a função StandardScaler()\n",
    "# @Hevans, esse passo é opcional, correto? Entendo que é só uma forma de simplificar a sintaxe no próximo passo\n",
    "scaler = StandardScaler()\n",
    "\n",
    "# Aplicando a padronização dos dados e transformando o array em dataframe\n",
    "df_scaled[df_scaled.columns] = scaler.fit_transform(df_scaled)\n",
    "\n",
    "\n",
    "# Reinserindo a coluna 'estado'\n",
    "df_scaled['estado'] = df2['estado']\n",
    "\n",
    "# Visualizando o dataframe padronizado\n",
    "df_scaled.head(2)\n"
   ]
  },
  {
   "cell_type": "markdown",
   "metadata": {
    "id": "FUckeTlDUHvq"
   },
   "source": [
    "## `Taxa de desemprego` x `% de pobres`\n",
    "\n",
    "Suspeitamos que as variáveis `Taxa de desemprego` e `% de pobres` deve ter grande influência na identificação de estados que precisem de uma melhor política de combate à pobreza.\n",
    "\n",
    "Para enxergar alguma relação nos dados, vamos fazer um gráfico de dispersão (scatterplot) usando a biblioteca [seaborn](https://seaborn.pydata.org/generated/seaborn.scatterplot.html)"
   ]
  },
  {
   "cell_type": "code",
   "source": [
    "# Gerando o gráfico de dispersão do df2\n",
    "sns.scatterplot(data=df2, x=df2['Taxa de desemprego'], y=df2['% de pobres'])"
   ],
   "metadata": {
    "colab": {
     "base_uri": "https://localhost:8080/",
     "height": 479
    },
    "id": "O7snJQTW0nmK",
    "outputId": "831abfdd-3f63-4256-bc0a-304167467804"
   },
   "execution_count": null,
   "outputs": [
    {
     "output_type": "execute_result",
     "data": {
      "text/plain": [
       "<Axes: xlabel='Taxa de desemprego', ylabel='% de pobres'>"
      ]
     },
     "metadata": {},
     "execution_count": 30
    },
    {
     "output_type": "display_data",
     "data": {
      "text/plain": [
       "<Figure size 640x480 with 1 Axes>"
      ],
      "image/png": "[encoded data removed]"
     },
     "metadata": {}
    }
   ]
  },
  {
   "cell_type": "code",
   "source": [
    "# Gerando o gráfico de dispersão do df_scaled\n",
    "sns.scatterplot(data=df_scaled, x=df_scaled['Taxa de desemprego'], y=df_scaled['% de pobres'])"
   ],
   "metadata": {
    "colab": {
     "base_uri": "https://localhost:8080/",
     "height": 479
    },
    "id": "uIPzMq0guqgr",
    "outputId": "cfc08c85-1cd2-47bf-c51c-65870e3194e5"
   },
   "execution_count": null,
   "outputs": [
    {
     "output_type": "execute_result",
     "data": {
      "text/plain": [
       "<Axes: xlabel='Taxa de desemprego', ylabel='% de pobres'>"
      ]
     },
     "metadata": {},
     "execution_count": 31
    },
    {
     "output_type": "display_data",
     "data": {
      "text/plain": [
       "<Figure size 640x480 with 1 Axes>"
      ],
      "image/png": "[encoded data removed]"
     },
     "metadata": {}
    }
   ]
  },
  {
   "cell_type": "markdown",
   "metadata": {
    "id": "vWGIx3Thave3"
   },
   "source": [
    "Analisando este gráfico, parece haver uma divisão natural em dois grupos. Observe que estados com percentual de pobres menor que 20 possuem taxa de desemprego que vai de 3 a 8, aproximadamente, enquanto que estados com percentual de pobres maior que 30 possuem taxa de desemprego variando de 6 a 12, aproximadamente.\n",
    "\n",
    "Parece haver uma correlação entre as variáveis, mesmo que não muito forte."
   ]
  },
  {
   "cell_type": "code",
   "execution_count": null,
   "metadata": {
    "ExecuteTime": {
     "end_time": "2023-02-02T19:55:12.135125Z",
     "start_time": "2023-02-02T19:55:12.135125Z"
    },
    "colab": {
     "base_uri": "https://localhost:8080/",
     "height": 263
    },
    "id": "Hvneu98cbwIC",
    "outputId": "fd67046e-7db6-4ebe-e88e-e005c4b8f26f"
   },
   "outputs": [
    {
     "output_type": "stream",
     "name": "stderr",
     "text": [
      "<ipython-input-32-2ab6b2dd5a70>:2: FutureWarning: The default value of numeric_only in DataFrame.corr is deprecated. In a future version, it will default to False. Select only valid columns or specify the value of numeric_only to silence this warning.\n",
      "  df2.corr() #Coeficiente de correlação de 0.583135 entre 'Taxa de desemprego' e '% de pobres'\n"
     ]
    },
    {
     "output_type": "execute_result",
     "data": {
      "text/plain": [
       "                    PIB Municipal  % de pobres       IDH  Média Salarial  \\\n",
       "PIB Municipal            1.000000    -0.303727  0.429402        0.543247   \n",
       "% de pobres             -0.303727     1.000000 -0.908692       -0.105157   \n",
       "IDH                      0.429402    -0.908692  1.000000        0.319924   \n",
       "Média Salarial           0.543247    -0.105157  0.319924        1.000000   \n",
       "Taxa de desemprego       0.090652     0.583135 -0.529284        0.093576   \n",
       "\n",
       "                    Taxa de desemprego  \n",
       "PIB Municipal                 0.090652  \n",
       "% de pobres                   0.583135  \n",
       "IDH                          -0.529284  \n",
       "Média Salarial                0.093576  \n",
       "Taxa de desemprego            1.000000  "
      ],
      "text/html": [
       "\n",
       "  <div id=\"df-1958c59d-b2b0-438d-8d59-cbbb76d1d081\">\n",
       "    <div class=\"colab-df-container\">\n",
       "      <div>\n",
       "<style scoped>\n",
       "    .dataframe tbody tr th:only-of-type {\n",
       "        vertical-align: middle;\n",
       "    }\n",
       "\n",
       "    .dataframe tbody tr th {\n",
       "        vertical-align: top;\n",
       "    }\n",
       "\n",
       "    .dataframe thead th {\n",
       "        text-align: right;\n",
       "    }\n",
       "</style>\n",
       "<table border=\"1\" class=\"dataframe\">\n",
       "  <thead>\n",
       "    <tr style=\"text-align: right;\">\n",
       "      <th></th>\n",
       "      <th>PIB Municipal</th>\n",
       "      <th>% de pobres</th>\n",
       "      <th>IDH</th>\n",
       "      <th>Média Salarial</th>\n",
       "      <th>Taxa de desemprego</th>\n",
       "    </tr>\n",
       "  </thead>\n",
       "  <tbody>\n",
       "    <tr>\n",
       "      <th>PIB Municipal</th>\n",
       "      <td>1.000000</td>\n",
       "      <td>-0.303727</td>\n",
       "      <td>0.429402</td>\n",
       "      <td>0.543247</td>\n",
       "      <td>0.090652</td>\n",
       "    </tr>\n",
       "    <tr>\n",
       "      <th>% de pobres</th>\n",
       "      <td>-0.303727</td>\n",
       "      <td>1.000000</td>\n",
       "      <td>-0.908692</td>\n",
       "      <td>-0.105157</td>\n",
       "      <td>0.583135</td>\n",
       "    </tr>\n",
       "    <tr>\n",
       "      <th>IDH</th>\n",
       "      <td>0.429402</td>\n",
       "      <td>-0.908692</td>\n",
       "      <td>1.000000</td>\n",
       "      <td>0.319924</td>\n",
       "      <td>-0.529284</td>\n",
       "    </tr>\n",
       "    <tr>\n",
       "      <th>Média Salarial</th>\n",
       "      <td>0.543247</td>\n",
       "      <td>-0.105157</td>\n",
       "      <td>0.319924</td>\n",
       "      <td>1.000000</td>\n",
       "      <td>0.093576</td>\n",
       "    </tr>\n",
       "    <tr>\n",
       "      <th>Taxa de desemprego</th>\n",
       "      <td>0.090652</td>\n",
       "      <td>0.583135</td>\n",
       "      <td>-0.529284</td>\n",
       "      <td>0.093576</td>\n",
       "      <td>1.000000</td>\n",
       "    </tr>\n",
       "  </tbody>\n",
       "</table>\n",
       "</div>\n",
       "      <button class=\"colab-df-convert\" onclick=\"convertToInteractive('df-1958c59d-b2b0-438d-8d59-cbbb76d1d081')\"\n",
       "              title=\"Convert this dataframe to an interactive table.\"\n",
       "              style=\"display:none;\">\n",
       "        \n",
       "  <svg xmlns=\"http://www.w3.org/2000/svg\" height=\"24px\"viewBox=\"0 0 24 24\"\n",
       "       width=\"24px\">\n",
       "    <path d=\"M0 0h24v24H0V0z\" fill=\"none\"/>\n",
       "    <path d=\"M18.56 5.44l.94 2.06.94-2.06 2.06-.94-2.06-.94-.94-2.06-.94 2.06-2.06.94zm-11 1L8.5 8.5l.94-2.06 2.06-.94-2.06-.94L8.5 2.5l-.94 2.06-2.06.94zm10 10l.94 2.06.94-2.06 2.06-.94-2.06-.94-.94-2.06-.94 2.06-2.06.94z\"/><path d=\"M17.41 7.96l-1.37-1.37c-.4-.4-.92-.59-1.43-.59-.52 0-1.04.2-1.43.59L10.3 9.45l-7.72 7.72c-.78.78-.78 2.05 0 2.83L4 21.41c.39.39.9.59 1.41.59.51 0 1.02-.2 1.41-.59l7.78-7.78 2.81-2.81c.8-.78.8-2.07 0-2.86zM5.41 20L4 18.59l7.72-7.72 1.47 1.35L5.41 20z\"/>\n",
       "  </svg>\n",
       "      </button>\n",
       "      \n",
       "  <style>\n",
       "    .colab-df-container {\n",
       "      display:flex;\n",
       "      flex-wrap:wrap;\n",
       "      gap: 12px;\n",
       "    }\n",
       "\n",
       "    .colab-df-convert {\n",
       "      background-color: #E8F0FE;\n",
       "      border: none;\n",
       "      border-radius: 50%;\n",
       "      cursor: pointer;\n",
       "      display: none;\n",
       "      fill: #1967D2;\n",
       "      height: 32px;\n",
       "      padding: 0 0 0 0;\n",
       "      width: 32px;\n",
       "    }\n",
       "\n",
       "    .colab-df-convert:hover {\n",
       "      background-color: #E2EBFA;\n",
       "      box-shadow: 0px 1px 2px rgba(60, 64, 67, 0.3), 0px 1px 3px 1px rgba(60, 64, 67, 0.15);\n",
       "      fill: #174EA6;\n",
       "    }\n",
       "\n",
       "    [theme=dark] .colab-df-convert {\n",
       "      background-color: #3B4455;\n",
       "      fill: #D2E3FC;\n",
       "    }\n",
       "\n",
       "    [theme=dark] .colab-df-convert:hover {\n",
       "      background-color: #434B5C;\n",
       "      box-shadow: 0px 1px 3px 1px rgba(0, 0, 0, 0.15);\n",
       "      filter: drop-shadow(0px 1px 2px rgba(0, 0, 0, 0.3));\n",
       "      fill: #FFFFFF;\n",
       "    }\n",
       "  </style>\n",
       "\n",
       "      <script>\n",
       "        const buttonEl =\n",
       "          document.querySelector('#df-1958c59d-b2b0-438d-8d59-cbbb76d1d081 button.colab-df-convert');\n",
       "        buttonEl.style.display =\n",
       "          google.colab.kernel.accessAllowed ? 'block' : 'none';\n",
       "\n",
       "        async function convertToInteractive(key) {\n",
       "          const element = document.querySelector('#df-1958c59d-b2b0-438d-8d59-cbbb76d1d081');\n",
       "          const dataTable =\n",
       "            await google.colab.kernel.invokeFunction('convertToInteractive',\n",
       "                                                     [key], {});\n",
       "          if (!dataTable) return;\n",
       "\n",
       "          const docLinkHtml = 'Like what you see? Visit the ' +\n",
       "            '<a target=\"_blank\" href=https://colab.research.google.com/notebooks/data_table.ipynb>data table notebook</a>'\n",
       "            + ' to learn more about interactive tables.';\n",
       "          element.innerHTML = '';\n",
       "          dataTable['output_type'] = 'display_data';\n",
       "          await google.colab.output.renderOutput(dataTable, element);\n",
       "          const docLink = document.createElement('div');\n",
       "          docLink.innerHTML = docLinkHtml;\n",
       "          element.appendChild(docLink);\n",
       "        }\n",
       "      </script>\n",
       "    </div>\n",
       "  </div>\n",
       "  "
      ]
     },
     "metadata": {},
     "execution_count": 32
    }
   ],
   "source": [
    "# Avaliando correlações entre as variáveis do dataframe\n",
    "df2.corr() #Coeficiente de correlação de 0.583135 entre 'Taxa de desemprego' e '% de pobres'"
   ]
  },
  {
   "cell_type": "markdown",
   "metadata": {
    "id": "gTsnZUcEb6hN"
   },
   "source": [
    "Poderíamos usar apenas a variável `% de pobres` para criar a classificação, mas perceba que é interessante usar as duas variáveis, pois podemos assim obter não apenas os estados que mais precisam dos recursos como também indicadores de que áreas deveriam receber os recursos a fim de orientar as políticas públicas como, por exemplo, programas voltados à facilitação ao emprego.\n",
    "\n",
    "O gráfico sugere que poderíamos usar essa duas variáveis para agrupar os estados e uma maneira de fazer isso é com o KMeans.\n",
    "\n",
    "Usaremos a função `KMeans` da biblioteca [scikit-learn](https://scikit-learn.org/stable/modules/generated/sklearn.cluster.KMeans.html)"
   ]
  },
  {
   "cell_type": "code",
   "execution_count": null,
   "metadata": {
    "ExecuteTime": {
     "end_time": "2023-02-02T19:55:12.139114Z",
     "start_time": "2023-02-02T19:55:12.138116Z"
    },
    "colab": {
     "base_uri": "https://localhost:8080/",
     "height": 131
    },
    "id": "2muin8buMhxD",
    "outputId": "32d4fe1f-f19b-46fc-a858-5db0deb1ffea"
   },
   "outputs": [
    {
     "output_type": "stream",
     "name": "stderr",
     "text": [
      "/usr/local/lib/python3.10/dist-packages/sklearn/cluster/_kmeans.py:870: FutureWarning: The default value of `n_init` will change from 10 to 'auto' in 1.4. Set the value of `n_init` explicitly to suppress the warning\n",
      "  warnings.warn(\n"
     ]
    },
    {
     "output_type": "execute_result",
     "data": {
      "text/plain": [
       "KMeans(n_clusters=2, random_state=42)"
      ],
      "text/html": [
       "<style>#sk-container-id-2 {color: black;background-color: white;}#sk-container-id-2 pre{padding: 0;}#sk-container-id-2 div.sk-toggleable {background-color: white;}#sk-container-id-2 label.sk-toggleable__label {cursor: pointer;display: block;width: 100%;margin-bottom: 0;padding: 0.3em;box-sizing: border-box;text-align: center;}#sk-container-id-2 label.sk-toggleable__label-arrow:before {content: \"▸\";float: left;margin-right: 0.25em;color: #696969;}#sk-container-id-2 label.sk-toggleable__label-arrow:hover:before {color: black;}#sk-container-id-2 div.sk-estimator:hover label.sk-toggleable__label-arrow:before {color: black;}#sk-container-id-2 div.sk-toggleable__content {max-height: 0;max-width: 0;overflow: hidden;text-align: left;background-color: #f0f8ff;}#sk-container-id-2 div.sk-toggleable__content pre {margin: 0.2em;color: black;border-radius: 0.25em;background-color: #f0f8ff;}#sk-container-id-2 input.sk-toggleable__control:checked~div.sk-toggleable__content {max-height: 200px;max-width: 100%;overflow: auto;}#sk-container-id-2 input.sk-toggleable__control:checked~label.sk-toggleable__label-arrow:before {content: \"▾\";}#sk-container-id-2 div.sk-estimator input.sk-toggleable__control:checked~label.sk-toggleable__label {background-color: #d4ebff;}#sk-container-id-2 div.sk-label input.sk-toggleable__control:checked~label.sk-toggleable__label {background-color: #d4ebff;}#sk-container-id-2 input.sk-hidden--visually {border: 0;clip: rect(1px 1px 1px 1px);clip: rect(1px, 1px, 1px, 1px);height: 1px;margin: -1px;overflow: hidden;padding: 0;position: absolute;width: 1px;}#sk-container-id-2 div.sk-estimator {font-family: monospace;background-color: #f0f8ff;border: 1px dotted black;border-radius: 0.25em;box-sizing: border-box;margin-bottom: 0.5em;}#sk-container-id-2 div.sk-estimator:hover {background-color: #d4ebff;}#sk-container-id-2 div.sk-parallel-item::after {content: \"\";width: 100%;border-bottom: 1px solid gray;flex-grow: 1;}#sk-container-id-2 div.sk-label:hover label.sk-toggleable__label {background-color: #d4ebff;}#sk-container-id-2 div.sk-serial::before {content: \"\";position: absolute;border-left: 1px solid gray;box-sizing: border-box;top: 0;bottom: 0;left: 50%;z-index: 0;}#sk-container-id-2 div.sk-serial {display: flex;flex-direction: column;align-items: center;background-color: white;padding-right: 0.2em;padding-left: 0.2em;position: relative;}#sk-container-id-2 div.sk-item {position: relative;z-index: 1;}#sk-container-id-2 div.sk-parallel {display: flex;align-items: stretch;justify-content: center;background-color: white;position: relative;}#sk-container-id-2 div.sk-item::before, #sk-container-id-2 div.sk-parallel-item::before {content: \"\";position: absolute;border-left: 1px solid gray;box-sizing: border-box;top: 0;bottom: 0;left: 50%;z-index: -1;}#sk-container-id-2 div.sk-parallel-item {display: flex;flex-direction: column;z-index: 1;position: relative;background-color: white;}#sk-container-id-2 div.sk-parallel-item:first-child::after {align-self: flex-end;width: 50%;}#sk-container-id-2 div.sk-parallel-item:last-child::after {align-self: flex-start;width: 50%;}#sk-container-id-2 div.sk-parallel-item:only-child::after {width: 0;}#sk-container-id-2 div.sk-dashed-wrapped {border: 1px dashed gray;margin: 0 0.4em 0.5em 0.4em;box-sizing: border-box;padding-bottom: 0.4em;background-color: white;}#sk-container-id-2 div.sk-label label {font-family: monospace;font-weight: bold;display: inline-block;line-height: 1.2em;}#sk-container-id-2 div.sk-label-container {text-align: center;}#sk-container-id-2 div.sk-container {/* jupyter's `normalize.less` sets `[hidden] { display: none; }` but bootstrap.min.css set `[hidden] { display: none !important; }` so we also need the `!important` here to be able to override the default hidden behavior on the sphinx rendered scikit-learn.org. See: https://github.com/scikit-learn/scikit-learn/issues/21755 */display: inline-block !important;position: relative;}#sk-container-id-2 div.sk-text-repr-fallback {display: none;}</style><div id=\"sk-container-id-2\" class=\"sk-top-container\"><div class=\"sk-text-repr-fallback\"><pre>KMeans(n_clusters=2, random_state=42)</pre><b>In a Jupyter environment, please rerun this cell to show the HTML representation or trust the notebook. <br />On GitHub, the HTML representation is unable to render, please try loading this page with nbviewer.org.</b></div><div class=\"sk-container\" hidden><div class=\"sk-item\"><div class=\"sk-estimator sk-toggleable\"><input class=\"sk-toggleable__control sk-hidden--visually\" id=\"sk-estimator-id-2\" type=\"checkbox\" checked><label for=\"sk-estimator-id-2\" class=\"sk-toggleable__label sk-toggleable__label-arrow\">KMeans</label><div class=\"sk-toggleable__content\"><pre>KMeans(n_clusters=2, random_state=42)</pre></div></div></div></div></div>"
      ]
     },
     "metadata": {},
     "execution_count": 33
    }
   ],
   "source": [
    "#Aplicando a função KMeans da biblioteca scikit-learn (sklearn)\n",
    "kmeans = KMeans(n_clusters=2, random_state=42)\n",
    "kmeans.fit(df_scaled[['Taxa de desemprego', '% de pobres']])"
   ]
  },
  {
   "cell_type": "code",
   "execution_count": null,
   "metadata": {
    "ExecuteTime": {
     "end_time": "2023-02-02T19:55:12.141108Z",
     "start_time": "2023-02-02T19:55:12.141108Z"
    },
    "colab": {
     "base_uri": "https://localhost:8080/"
    },
    "id": "ylScwYbsNR-r",
    "outputId": "b60e5dfd-342d-4eb3-c1ea-c22be93295d9"
   },
   "outputs": [
    {
     "output_type": "execute_result",
     "data": {
      "text/plain": [
       "array([0, 0, 0, 0, 0, 0, 1, 1, 1, 0, 1, 1, 1, 1, 0, 0, 0, 0, 0, 1, 1, 1,\n",
       "       0, 1, 0, 1, 0], dtype=int32)"
      ]
     },
     "metadata": {},
     "execution_count": 34
    }
   ],
   "source": [
    "# Visualizando os rótulos da variável 'kmeans'\n",
    "kmeans.labels_"
   ]
  },
  {
   "cell_type": "code",
   "execution_count": null,
   "metadata": {
    "ExecuteTime": {
     "end_time": "2023-02-02T19:55:12.144103Z",
     "start_time": "2023-02-02T19:55:12.144103Z"
    },
    "colab": {
     "base_uri": "https://localhost:8080/",
     "height": 363
    },
    "id": "P3q-YyYcQ4QZ",
    "outputId": "b0e2c7c4-91f8-4ca3-dee8-a34b37a12ab4"
   },
   "outputs": [
    {
     "output_type": "execute_result",
     "data": {
      "text/plain": [
       "             estado  PIB Municipal  % de pobres       IDH  Média Salarial  \\\n",
       "0              Acre   3.795693e+08    43.369091  0.767273      931.031818   \n",
       "1           Alagoas   2.660082e+08    45.935490  0.739706      874.946373   \n",
       "2             Amapá   5.154880e+08    39.180625  0.783750     1239.088750   \n",
       "3          Amazonas   9.820415e+08    53.020161  0.765968     2097.015484   \n",
       "4             Bahia   3.701926e+08    38.945468  0.760168      865.359856   \n",
       "5             Ceará   4.314891e+08    42.712772  0.761630      780.787609   \n",
       "6  Distrito Federal   1.445732e+11     4.930000  0.870000     1814.710000   \n",
       "7    Espírito Santo   1.095770e+09    14.555513  0.826026      932.606923   \n",
       "8             Goiás   4.339869e+08    11.468008  0.825894      977.789228   \n",
       "9          Maranhão   2.137135e+08    50.173733  0.740876      822.918157   \n",
       "\n",
       "   Taxa de desemprego  grupo  \n",
       "0            5.955000      0  \n",
       "1            9.200196      0  \n",
       "2           12.243125      0  \n",
       "3            7.696452      0  \n",
       "4            9.694556      0  \n",
       "5            7.216522      0  \n",
       "6            8.190000      1  \n",
       "7            5.803590      1  \n",
       "8            6.186789      1  \n",
       "9            7.589631      0  "
      ],
      "text/html": [
       "\n",
       "  <div id=\"df-dba64088-835d-4782-947b-53fcf3f150a6\">\n",
       "    <div class=\"colab-df-container\">\n",
       "      <div>\n",
       "<style scoped>\n",
       "    .dataframe tbody tr th:only-of-type {\n",
       "        vertical-align: middle;\n",
       "    }\n",
       "\n",
       "    .dataframe tbody tr th {\n",
       "        vertical-align: top;\n",
       "    }\n",
       "\n",
       "    .dataframe thead th {\n",
       "        text-align: right;\n",
       "    }\n",
       "</style>\n",
       "<table border=\"1\" class=\"dataframe\">\n",
       "  <thead>\n",
       "    <tr style=\"text-align: right;\">\n",
       "      <th></th>\n",
       "      <th>estado</th>\n",
       "      <th>PIB Municipal</th>\n",
       "      <th>% de pobres</th>\n",
       "      <th>IDH</th>\n",
       "      <th>Média Salarial</th>\n",
       "      <th>Taxa de desemprego</th>\n",
       "      <th>grupo</th>\n",
       "    </tr>\n",
       "  </thead>\n",
       "  <tbody>\n",
       "    <tr>\n",
       "      <th>0</th>\n",
       "      <td>Acre</td>\n",
       "      <td>3.795693e+08</td>\n",
       "      <td>43.369091</td>\n",
       "      <td>0.767273</td>\n",
       "      <td>931.031818</td>\n",
       "      <td>5.955000</td>\n",
       "      <td>0</td>\n",
       "    </tr>\n",
       "    <tr>\n",
       "      <th>1</th>\n",
       "      <td>Alagoas</td>\n",
       "      <td>2.660082e+08</td>\n",
       "      <td>45.935490</td>\n",
       "      <td>0.739706</td>\n",
       "      <td>874.946373</td>\n",
       "      <td>9.200196</td>\n",
       "      <td>0</td>\n",
       "    </tr>\n",
       "    <tr>\n",
       "      <th>2</th>\n",
       "      <td>Amapá</td>\n",
       "      <td>5.154880e+08</td>\n",
       "      <td>39.180625</td>\n",
       "      <td>0.783750</td>\n",
       "      <td>1239.088750</td>\n",
       "      <td>12.243125</td>\n",
       "      <td>0</td>\n",
       "    </tr>\n",
       "    <tr>\n",
       "      <th>3</th>\n",
       "      <td>Amazonas</td>\n",
       "      <td>9.820415e+08</td>\n",
       "      <td>53.020161</td>\n",
       "      <td>0.765968</td>\n",
       "      <td>2097.015484</td>\n",
       "      <td>7.696452</td>\n",
       "      <td>0</td>\n",
       "    </tr>\n",
       "    <tr>\n",
       "      <th>4</th>\n",
       "      <td>Bahia</td>\n",
       "      <td>3.701926e+08</td>\n",
       "      <td>38.945468</td>\n",
       "      <td>0.760168</td>\n",
       "      <td>865.359856</td>\n",
       "      <td>9.694556</td>\n",
       "      <td>0</td>\n",
       "    </tr>\n",
       "    <tr>\n",
       "      <th>5</th>\n",
       "      <td>Ceará</td>\n",
       "      <td>4.314891e+08</td>\n",
       "      <td>42.712772</td>\n",
       "      <td>0.761630</td>\n",
       "      <td>780.787609</td>\n",
       "      <td>7.216522</td>\n",
       "      <td>0</td>\n",
       "    </tr>\n",
       "    <tr>\n",
       "      <th>6</th>\n",
       "      <td>Distrito Federal</td>\n",
       "      <td>1.445732e+11</td>\n",
       "      <td>4.930000</td>\n",
       "      <td>0.870000</td>\n",
       "      <td>1814.710000</td>\n",
       "      <td>8.190000</td>\n",
       "      <td>1</td>\n",
       "    </tr>\n",
       "    <tr>\n",
       "      <th>7</th>\n",
       "      <td>Espírito Santo</td>\n",
       "      <td>1.095770e+09</td>\n",
       "      <td>14.555513</td>\n",
       "      <td>0.826026</td>\n",
       "      <td>932.606923</td>\n",
       "      <td>5.803590</td>\n",
       "      <td>1</td>\n",
       "    </tr>\n",
       "    <tr>\n",
       "      <th>8</th>\n",
       "      <td>Goiás</td>\n",
       "      <td>4.339869e+08</td>\n",
       "      <td>11.468008</td>\n",
       "      <td>0.825894</td>\n",
       "      <td>977.789228</td>\n",
       "      <td>6.186789</td>\n",
       "      <td>1</td>\n",
       "    </tr>\n",
       "    <tr>\n",
       "      <th>9</th>\n",
       "      <td>Maranhão</td>\n",
       "      <td>2.137135e+08</td>\n",
       "      <td>50.173733</td>\n",
       "      <td>0.740876</td>\n",
       "      <td>822.918157</td>\n",
       "      <td>7.589631</td>\n",
       "      <td>0</td>\n",
       "    </tr>\n",
       "  </tbody>\n",
       "</table>\n",
       "</div>\n",
       "      <button class=\"colab-df-convert\" onclick=\"convertToInteractive('df-dba64088-835d-4782-947b-53fcf3f150a6')\"\n",
       "              title=\"Convert this dataframe to an interactive table.\"\n",
       "              style=\"display:none;\">\n",
       "        \n",
       "  <svg xmlns=\"http://www.w3.org/2000/svg\" height=\"24px\"viewBox=\"0 0 24 24\"\n",
       "       width=\"24px\">\n",
       "    <path d=\"M0 0h24v24H0V0z\" fill=\"none\"/>\n",
       "    <path d=\"M18.56 5.44l.94 2.06.94-2.06 2.06-.94-2.06-.94-.94-2.06-.94 2.06-2.06.94zm-11 1L8.5 8.5l.94-2.06 2.06-.94-2.06-.94L8.5 2.5l-.94 2.06-2.06.94zm10 10l.94 2.06.94-2.06 2.06-.94-2.06-.94-.94-2.06-.94 2.06-2.06.94z\"/><path d=\"M17.41 7.96l-1.37-1.37c-.4-.4-.92-.59-1.43-.59-.52 0-1.04.2-1.43.59L10.3 9.45l-7.72 7.72c-.78.78-.78 2.05 0 2.83L4 21.41c.39.39.9.59 1.41.59.51 0 1.02-.2 1.41-.59l7.78-7.78 2.81-2.81c.8-.78.8-2.07 0-2.86zM5.41 20L4 18.59l7.72-7.72 1.47 1.35L5.41 20z\"/>\n",
       "  </svg>\n",
       "      </button>\n",
       "      \n",
       "  <style>\n",
       "    .colab-df-container {\n",
       "      display:flex;\n",
       "      flex-wrap:wrap;\n",
       "      gap: 12px;\n",
       "    }\n",
       "\n",
       "    .colab-df-convert {\n",
       "      background-color: #E8F0FE;\n",
       "      border: none;\n",
       "      border-radius: 50%;\n",
       "      cursor: pointer;\n",
       "      display: none;\n",
       "      fill: #1967D2;\n",
       "      height: 32px;\n",
       "      padding: 0 0 0 0;\n",
       "      width: 32px;\n",
       "    }\n",
       "\n",
       "    .colab-df-convert:hover {\n",
       "      background-color: #E2EBFA;\n",
       "      box-shadow: 0px 1px 2px rgba(60, 64, 67, 0.3), 0px 1px 3px 1px rgba(60, 64, 67, 0.15);\n",
       "      fill: #174EA6;\n",
       "    }\n",
       "\n",
       "    [theme=dark] .colab-df-convert {\n",
       "      background-color: #3B4455;\n",
       "      fill: #D2E3FC;\n",
       "    }\n",
       "\n",
       "    [theme=dark] .colab-df-convert:hover {\n",
       "      background-color: #434B5C;\n",
       "      box-shadow: 0px 1px 3px 1px rgba(0, 0, 0, 0.15);\n",
       "      filter: drop-shadow(0px 1px 2px rgba(0, 0, 0, 0.3));\n",
       "      fill: #FFFFFF;\n",
       "    }\n",
       "  </style>\n",
       "\n",
       "      <script>\n",
       "        const buttonEl =\n",
       "          document.querySelector('#df-dba64088-835d-4782-947b-53fcf3f150a6 button.colab-df-convert');\n",
       "        buttonEl.style.display =\n",
       "          google.colab.kernel.accessAllowed ? 'block' : 'none';\n",
       "\n",
       "        async function convertToInteractive(key) {\n",
       "          const element = document.querySelector('#df-dba64088-835d-4782-947b-53fcf3f150a6');\n",
       "          const dataTable =\n",
       "            await google.colab.kernel.invokeFunction('convertToInteractive',\n",
       "                                                     [key], {});\n",
       "          if (!dataTable) return;\n",
       "\n",
       "          const docLinkHtml = 'Like what you see? Visit the ' +\n",
       "            '<a target=\"_blank\" href=https://colab.research.google.com/notebooks/data_table.ipynb>data table notebook</a>'\n",
       "            + ' to learn more about interactive tables.';\n",
       "          element.innerHTML = '';\n",
       "          dataTable['output_type'] = 'display_data';\n",
       "          await google.colab.output.renderOutput(dataTable, element);\n",
       "          const docLink = document.createElement('div');\n",
       "          docLink.innerHTML = docLinkHtml;\n",
       "          element.appendChild(docLink);\n",
       "        }\n",
       "      </script>\n",
       "    </div>\n",
       "  </div>\n",
       "  "
      ]
     },
     "metadata": {},
     "execution_count": 35
    }
   ],
   "source": [
    "# Criando a coluna 'grupo' para identificar a qual dos dois clusters cada estado pertence\n",
    "df2['grupo'] = kmeans.labels_\n",
    "df2.head(10)\n",
    "\n",
    "# No tutorial, o Hevans utilizou o método '.tolist()' para fazer isso. Testei dos dois jeitos e vi que não \\\n",
    "# há necessidade. Fazendo sem  o '.tolist()' retorna o mesmo resultado"
   ]
  },
  {
   "cell_type": "markdown",
   "metadata": {
    "id": "KESEbgnodsGk"
   },
   "source": [
    "Agora, podemos visualizar novamente os dados considerando o agrupamento encontrado pelo `KMeans`."
   ]
  },
  {
   "cell_type": "code",
   "execution_count": null,
   "metadata": {
    "ExecuteTime": {
     "end_time": "2023-02-02T19:55:12.147092Z",
     "start_time": "2023-02-02T19:55:12.147092Z"
    },
    "colab": {
     "base_uri": "https://localhost:8080/",
     "height": 479
    },
    "id": "0NwrS8Lrd2Go",
    "outputId": "a0a8d029-1397-4732-b686-08d8ecc37181"
   },
   "outputs": [
    {
     "output_type": "execute_result",
     "data": {
      "text/plain": [
       "<Axes: xlabel='Taxa de desemprego', ylabel='% de pobres'>"
      ]
     },
     "metadata": {},
     "execution_count": 36
    },
    {
     "output_type": "display_data",
     "data": {
      "text/plain": [
       "<Figure size 640x480 with 1 Axes>"
      ],
      "image/png": "[encoded data removed]"
     },
     "metadata": {}
    }
   ],
   "source": [
    "# Gerando gráfico de dispersão com legenda de cores para os clusters\n",
    "sns.scatterplot(data=df2, x=df2['Taxa de desemprego'], y=df2['% de pobres'], hue=df2['grupo'])"
   ]
  },
  {
   "cell_type": "markdown",
   "metadata": {
    "id": "bA2Clalwd_AP"
   },
   "source": [
    "Podemos ver que os grupos encontrados pelo `KMeans` coincidem com nossa intuição (o que é um bom sinal) mas agora temos uma maneira técnica de justificar nossa classificação.\n",
    "\n",
    "Observe que o `KMeans` separou em dois grupos `0` e `1`, mas não nos diz qual grupo precisa de mais investimento, essa tarefa é nossa. O algoritmo só conseguiu agrupar os dados similares mas não sabe o que eles significam.\n",
    "\n",
    "Podemos ainda modificar um pouco nosso gráfico a fim de saber qual ponto representa cada estado."
   ]
  },
  {
   "cell_type": "code",
   "execution_count": null,
   "metadata": {
    "ExecuteTime": {
     "end_time": "2023-02-02T19:55:12.149090Z",
     "start_time": "2023-02-02T19:55:12.149090Z"
    },
    "colab": {
     "base_uri": "https://localhost:8080/",
     "height": 461
    },
    "id": "kJzLIJbMRgCz",
    "outputId": "5e4d067a-3c04-4a04-e2ac-25bca3462a02"
   },
   "outputs": [
    {
     "output_type": "display_data",
     "data": {
      "text/plain": [
       "<Figure size 640x480 with 1 Axes>"
      ],
      "image/png": "[encoded data removed]"
     },
     "metadata": {}
    }
   ],
   "source": [
    "# Adicionando siglas dos estados aos seus respectivos pontos no gráfico\n",
    "sns.scatterplot(data=df2, x=df2['Taxa de desemprego'], y=df2['% de pobres'], hue=df2['grupo'])\n",
    "\n",
    "# Instanciando variáveis\n",
    "desemp = df2['Taxa de desemprego']\n",
    "pobres = df2['% de pobres']\n",
    "estados = [\"AC\", 'AL', 'AP', 'AM', 'BA', 'CE', 'DF', 'ES', 'GO', 'MA', 'MS', 'MG', 'PR', 'PB', 'PA', 'PE', 'PI', 'RN', 'RS', 'RJ', 'RO', 'RR', 'SC', 'SE', 'SP', 'TO']\n",
    "\n",
    "# Utilizando for loop para adicionar as siglas dos estados às respectivas coordenadas\n",
    "for i in range(len(estados)):\n",
    "  plt.text(x=desemp[i], y=pobres[i], s=estados[i])\n",
    "\n"
   ]
  },
  {
   "cell_type": "markdown",
   "metadata": {
    "id": "nNIOFv_EfKBH"
   },
   "source": [
    "Se precisássemos usar o algoritmo para classificar novos dados, \n",
    "bastaria usar a sintaxe da forma `kmeans.predict(novos_dados)`"
   ]
  },
  {
   "cell_type": "code",
   "source": [
    "# Aplicando o método .predict\n",
    "kmeans2 = kmeans.predict(df2[['Taxa de desemprego', '% de pobres']])\n",
    "print(kmeans2)\n",
    "\n",
    "# O resultado mostra todos os dados alocados ao mesmo cluster. Isso está certo?"
   ],
   "metadata": {
    "colab": {
     "base_uri": "https://localhost:8080/"
    },
    "id": "ailq8W9EIy1R",
    "outputId": "3aefa636-f655-490d-fbe5-1e4b2418ef1e"
   },
   "execution_count": null,
   "outputs": [
    {
     "output_type": "stream",
     "name": "stdout",
     "text": [
      "[0 0 0 0 0 0 0 0 0 0 0 0 0 0 0 0 0 0 0 0 0 0 0 0 0 0 0]\n"
     ]
    }
   ]
  },
  {
   "cell_type": "markdown",
   "metadata": {
    "id": "bYIyPT7UfyrK"
   },
   "source": [
    "Na classificação acima nós usamos apenas as variáveis `Taxa de desemprego` e `% de pobres`, mas poderíamos usar outro par de variáveis. Se fizermos isso, será que obteremos o mesmo agrupamento?"
   ]
  },
  {
   "cell_type": "markdown",
   "metadata": {
    "id": "LjUh6A2iZZcc"
   },
   "source": [
    "# Encontrando o Melhor k\n",
    "\n",
    "Nos exemplos acima estavámos interessados em obter dois grupos, mas como devemos proceder quando não soubermos a quantidade natural de grupos que devemos procurar? Nestes casos existem métodos que nos ajudam a encontrar o melhor valor de k.\n",
    "\n",
    "\n",
    "### Método de Cotovelo (Elbow Method)\n",
    "Neste método, a ideia é rodar o KMeans para várias quantidades diferentes de clusters (k) e tentar encontrar um número ótimo de clusters. Quando aumentamos muito a quantidade de clusters no KMeans, as diferenças entre clusters se tornam muito pequenas, e as diferenças das observações intra-clusters vão aumentando.\n",
    "\n",
    "Com o Método de Cotovelo, utilizaremos a métrica da Soma dos Quadrados Intra-Clusters (WCSS / Inércia), que é a soma das distâncias entre os objetos e o centróides (centros do agrupamento), isso nos dá uma ideia de similaridade e, portanto, nos ajuda a encontrar um valor adequado para k."
   ]
  },
  {
   "cell_type": "code",
   "execution_count": null,
   "metadata": {
    "ExecuteTime": {
     "end_time": "2023-02-02T19:55:12.152079Z",
     "start_time": "2023-02-02T19:55:12.152079Z"
    },
    "id": "UjolAj1PYwnz"
   },
   "outputs": [],
   "source": [
    "# Criando lista vazia para inserir as inércias\n",
    "inercia = []\n",
    "\n",
    "# Definind os parâmetros de cálculo\n",
    "k_min = 2\n",
    "k_max = 10\n",
    "\n",
    "# Laço de repetição para cálculo iterativo da inércia\n",
    "for i in range (k_min, k_max+1):\n",
    "  kmeans = KMeans(n_clusters=i, random_state=42, n_init=10)\n",
    "  kmeans.fit(df_scaled[['Taxa de desemprego', '% de pobres']])\n",
    "  inercia.append(kmeans.inertia_)"
   ]
  },
  {
   "cell_type": "code",
   "source": [
    "# Definindo o estilo geral dos gráficos\n",
    "sns.set(style='darkgrid', font_scale=1.1)\n",
    "\n",
    "# Gerando o gráfico de 'cotovelo'\n",
    "sns.lineplot(x=range(k_min, k_max+1), y=inercia)\n",
    "\n",
    "# Formatando o gráfico\n",
    "plt.title('Método do cotovelo - Soma dos Quadrados Intra Cluster')\n",
    "plt.xlabel(\"Número de clusters\")\n",
    "plt.grid=True"
   ],
   "metadata": {
    "colab": {
     "base_uri": "https://localhost:8080/",
     "height": 483
    },
    "id": "Osch6oQ8NVou",
    "outputId": "f22d3eed-3984-470d-fd96-1a49ef1fb942"
   },
   "execution_count": null,
   "outputs": [
    {
     "output_type": "display_data",
     "data": {
      "text/plain": [
       "<Figure size 640x480 with 1 Axes>"
      ],
      "image/png": "[encoded data removed]"
     },
     "metadata": {}
    }
   ]
  },
  {
   "cell_type": "markdown",
   "metadata": {
    "id": "0S818zJFJIrB"
   },
   "source": [
    "Outro método utilizado é calcular o número ótimo de clusters com base no ponto que mais se afasta de uma linha traçada entre o primeiro e o último pontos no gráfico do cotovelo.\n",
    "\n",
    "Basicamente vamos calcular a distância de cada ponto da forma (n,inercia[n]) para n inteiro até a reta formada pelo primeiro ponto do gráfico e o último. A forma para calcular essa distância é dada por $distância(reta, (x,y)) = \\frac{|(y_1 - y_0)x - (x_1 - x_0)y + x_1 y_0 - y_1 x_0|}{\\sqrt{(y_1-y_0)^2 + (x_1-x_0)^2}}$\n",
    "\n",
    "Para mais detalhes veja [medium](https://medium.com/pizzadedados/kmeans-e-metodo-do-cotovelo-94ded9fdf3a9)\n"
   ]
  },
  {
   "cell_type": "code",
   "source": [],
   "metadata": {
    "id": "tpDkDq72cDgv"
   },
   "execution_count": null,
   "outputs": []
  },
  {
   "cell_type": "markdown",
   "metadata": {
    "id": "3Rw05jxdWlVL"
   },
   "source": [
    "### Coeficiente de Silhueta\n",
    "O Coeficiente de Silhueta é a medida de quão semelhante um objeto é ao seu próprio cluster (coesão) em comparação com outros clusters (separação).\n",
    "\n",
    "Vamos importar a métrica `silhouette_score` do [scikit-learn](https://scikit-learn.org/stable/modules/generated/sklearn.metrics.silhouette_score.html)\n",
    "\n",
    "\n",
    "O coeficiente silhuera varia de -1 a +1, em que +1 denota está muito coeso com seu cluster e muitos distante dos demais clusters; 0 denota sobreposição de clusters e -1 indica resultados muito ruins.\n",
    "\n",
    "\n",
    "Para mais detalhes veja [silhueta](https://scikit-learn.org/stable/auto_examples/cluster/plot_kmeans_silhouette_analysis.html#:~:text=The%20silhouette%20plot%20displays%20a,of%20%5B%2D1%2C%201%5D.)"
   ]
  },
  {
   "cell_type": "code",
   "execution_count": null,
   "metadata": {
    "ExecuteTime": {
     "end_time": "2023-02-02T19:55:12.155071Z",
     "start_time": "2023-02-02T19:55:12.155071Z"
    },
    "colab": {
     "base_uri": "https://localhost:8080/"
    },
    "id": "habmdnWOYwmU",
    "outputId": "4cdb2dfc-1df6-4dd1-e3ff-3a5d6a9c2311"
   },
   "outputs": [
    {
     "output_type": "stream",
     "name": "stderr",
     "text": [
      "/usr/local/lib/python3.10/dist-packages/sklearn/cluster/_kmeans.py:870: FutureWarning: The default value of `n_init` will change from 10 to 'auto' in 1.4. Set the value of `n_init` explicitly to suppress the warning\n",
      "  warnings.warn(\n",
      "/usr/local/lib/python3.10/dist-packages/sklearn/cluster/_kmeans.py:870: FutureWarning: The default value of `n_init` will change from 10 to 'auto' in 1.4. Set the value of `n_init` explicitly to suppress the warning\n",
      "  warnings.warn(\n",
      "/usr/local/lib/python3.10/dist-packages/sklearn/cluster/_kmeans.py:870: FutureWarning: The default value of `n_init` will change from 10 to 'auto' in 1.4. Set the value of `n_init` explicitly to suppress the warning\n",
      "  warnings.warn(\n",
      "/usr/local/lib/python3.10/dist-packages/sklearn/cluster/_kmeans.py:870: FutureWarning: The default value of `n_init` will change from 10 to 'auto' in 1.4. Set the value of `n_init` explicitly to suppress the warning\n",
      "  warnings.warn(\n",
      "/usr/local/lib/python3.10/dist-packages/sklearn/cluster/_kmeans.py:870: FutureWarning: The default value of `n_init` will change from 10 to 'auto' in 1.4. Set the value of `n_init` explicitly to suppress the warning\n",
      "  warnings.warn(\n",
      "/usr/local/lib/python3.10/dist-packages/sklearn/cluster/_kmeans.py:870: FutureWarning: The default value of `n_init` will change from 10 to 'auto' in 1.4. Set the value of `n_init` explicitly to suppress the warning\n",
      "  warnings.warn(\n",
      "/usr/local/lib/python3.10/dist-packages/sklearn/cluster/_kmeans.py:870: FutureWarning: The default value of `n_init` will change from 10 to 'auto' in 1.4. Set the value of `n_init` explicitly to suppress the warning\n",
      "  warnings.warn(\n",
      "/usr/local/lib/python3.10/dist-packages/sklearn/cluster/_kmeans.py:870: FutureWarning: The default value of `n_init` will change from 10 to 'auto' in 1.4. Set the value of `n_init` explicitly to suppress the warning\n",
      "  warnings.warn(\n",
      "/usr/local/lib/python3.10/dist-packages/sklearn/cluster/_kmeans.py:870: FutureWarning: The default value of `n_init` will change from 10 to 'auto' in 1.4. Set the value of `n_init` explicitly to suppress the warning\n",
      "  warnings.warn(\n"
     ]
    }
   ],
   "source": [
    "# Criando lista vazia para inserir os coeficientes de silhueta\n",
    "silhueta = []\n",
    "\n",
    "# Definindo os parâmetros gerais de cálculo\n",
    "k_min = 2\n",
    "k_max = 10\n",
    "n = [i for i in range(k_min, k_max+1)]\n",
    "\n",
    "# Criando laço de repetição para cálculo do coeficiente de silhueta para diferentes números de clusters\n",
    "for i in range(k_min,k_max+1):\n",
    "  kmeans = KMeans(n_clusters=i, random_state=42)\n",
    "  kmeans.fit(df_scaled[['Taxa de desemprego','% de pobres']])\n",
    "  silhueta.append(silhouette_score(df_scaled[['Taxa de desemprego','% de pobres']], kmeans.labels_, metric='euclidean'))"
   ]
  },
  {
   "cell_type": "code",
   "source": [
    "print(silhueta)"
   ],
   "metadata": {
    "colab": {
     "base_uri": "https://localhost:8080/"
    },
    "id": "33sET4EwZ5Gy",
    "outputId": "f48b862b-5cc3-4dbc-c707-8d2ab775cfc1"
   },
   "execution_count": null,
   "outputs": [
    {
     "output_type": "stream",
     "name": "stdout",
     "text": [
      "[0.5822282283405786, 0.4907150452794632, 0.45871170806681044, 0.5259444915615071, 0.5166769133326405, 0.4854114513067814, 0.4421900496450175, 0.46686358734783934, 0.4638708731245167]\n"
     ]
    }
   ]
  },
  {
   "cell_type": "code",
   "source": [
    "# Criando gráfico de barras para representação dos coeficientes de silhueta\n",
    "sns.barplot(x=n, y=silhueta, color='blue')\n",
    "plt.title('Coeficiente de Silhueta')\n",
    "plt.xlabel('Número de Clusters')"
   ],
   "metadata": {
    "colab": {
     "base_uri": "https://localhost:8080/",
     "height": 501
    },
    "id": "kkCTM2RWaOWg",
    "outputId": "ab036b36-d2d6-4551-827d-4caa08936e13"
   },
   "execution_count": null,
   "outputs": [
    {
     "output_type": "execute_result",
     "data": {
      "text/plain": [
       "Text(0.5, 0, 'Número de Clusters')"
      ]
     },
     "metadata": {},
     "execution_count": 43
    },
    {
     "output_type": "display_data",
     "data": {
      "text/plain": [
       "<Figure size 640x480 with 1 Axes>"
      ],
      "image/png": "[encoded data removed]"
     },
     "metadata": {}
    }
   ]
  },
  {
   "cell_type": "markdown",
   "metadata": {
    "id": "QWeu-_yTa3pn"
   },
   "source": [
    "Também podemos sobrepor os gráficos do cotovelo e da silhueta. Veremos que estes dois gráficos acabam se encontrando e esse encontro se dá no melhor valor para k"
   ]
  },
  {
   "cell_type": "code",
   "execution_count": null,
   "metadata": {
    "ExecuteTime": {
     "end_time": "2023-02-02T19:55:12.157066Z",
     "start_time": "2023-02-02T19:55:12.157066Z"
    },
    "colab": {
     "base_uri": "https://localhost:8080/",
     "height": 437
    },
    "id": "y7vy9CRAWtHH",
    "outputId": "0a163d3a-47da-4323-dbde-be65f3d65cf5"
   },
   "outputs": [
    {
     "output_type": "display_data",
     "data": {
      "text/plain": [
       "<Figure size 640x480 with 2 Axes>"
      ],
      "image/png": "[encoded data removed]"
     },
     "metadata": {}
    }
   ],
   "source": [
    "# Criandos gráficos de linhas sobrepostas com ambos os coeficientes\n",
    "fig, ax = plt.subplots()\n",
    "sns.lineplot(x=range(k_min,k_max+1), y=inercia, marker='o')\n",
    "plt.legend(labels=['cotovelo'], bbox_to_anchor=(0.8,1), loc='upper right')\n",
    "ax2 = ax.twinx()\n",
    "sns.lineplot(x=range(k_min, k_max+1), y=silhueta, marker='o', color='red')\n",
    "plt.legend(labels=['silhueta'], bbox_to_anchor=(0.8, 0.9), loc='upper right');"
   ]
  }
 ],
 "metadata": {
  "colab": {
   "provenance": []
  },
  "kernelspec": {
   "display_name": "Python 3 (ipykernel)",
   "language": "python",
   "name": "python3"
  },
  "language_info": {
   "codemirror_mode": {
    "name": "ipython",
    "version": 3
   },
   "file_extension": ".py",
   "mimetype": "text/x-python",
   "name": "python",
   "nbconvert_exporter": "python",
   "pygments_lexer": "ipython3",
   "version": "3.7.0"
  },
  "latex_envs": {
   "LaTeX_envs_menu_present": true,
   "autoclose": true,
   "autocomplete": true,
   "bibliofile": "biblio.bib",
   "cite_by": "apalike",
   "current_citInitial": 1,
   "eqLabelWithNumbers": true,
   "eqNumInitial": 1,
   "hotkeys": {
    "equation": "Ctrl-E",
    "itemize": "Ctrl-I"
   },
   "labels_anchors": false,
   "latex_user_defs": false,
   "report_style_numbering": false,
   "user_envs_cfg": false
  },
  "toc": {
   "base_numbering": 1,
   "nav_menu": {},
   "number_sections": true,
   "sideBar": true,
   "skip_h1_title": false,
   "title_cell": "Table of Contents",
   "title_sidebar": "Contents",
   "toc_cell": false,
   "toc_position": {},
   "toc_section_display": true,
   "toc_window_display": false
  }
 },
 "nbformat": 4,
 "nbformat_minor": 0
}
