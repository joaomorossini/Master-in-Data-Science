{
 "cells": [
  {
   "cell_type": "markdown",
   "source": [
    "# BOOTCAMP"
   ],
   "metadata": {
    "collapsed": false
   }
  },
  {
   "cell_type": "markdown",
   "metadata": {
    "id": "3DBaAuaqDCQA"
   },
   "source": [
    "## Parte 1 - Lógica de Programação em Python"
   ]
  },
  {
   "cell_type": "markdown",
   "metadata": {
    "id": "zA1AvrQNO2Ia"
   },
   "source": [
    "### Variáveis\n",
    "\n",
    "Para criar variáveis em Python, basta nomear a variável de acordo com as boas práticas recomendadas e atribuir um valor utilizando o sinal de igual\n",
    "\n",
    "\n",
    "```\n",
    "<variável> = <valor>\n",
    "\n",
    "Exemplo: idade = 35\n",
    "\n",
    "```\n",
    "\n",
    "Existem 4 tipos principais de valores que podem ser atribuídos às variáveis\n",
    "* Inteiro (int)\n",
    "* Real (float)\n",
    "* Booleano (bool)\n",
    "* Texto (str)\n",
    "\n",
    "Não é necessário especificar o tipo de dado que será atribuído a cada variável.\n",
    "\n",
    "<br>\n",
    "\n",
    "#### Boas práticas para declaração de variáveis\n",
    "* Letras minúsculas\n",
    "* Expressões separadas por underscore\n",
    "* Utilizar nomes significativos / auto explicativos\n",
    "\n",
    "<br>\n",
    "\n",
    "---"
   ]
  },
  {
   "cell_type": "markdown",
   "metadata": {
    "id": "BHrOmszIO-8e"
   },
   "source": [
    "### Operadores Aritméticos\n",
    "\n",
    "* Soma: +\n",
    "* Subtração: -\n",
    "* Multiplicação: *\n",
    "* Divisão: /\n",
    "* Exponenciação: **\n",
    "* Divisão inteira: //\n",
    "* Módulo (resto da divisão): %\n",
    "\n",
    "Notas:\n",
    "- A divisão inteira retorna o número inteiro que resulta da divisão e ignora. Ex.: `9 // 2 retorna 4`\n",
    "\n",
    "- O que é chamado no curso de \"Módulo\", retorna o resto da divisão. Ex.: `9 % 2 retorna 1`\n",
    "\n",
    "<br>\n",
    "\n",
    "---"
   ]
  },
  {
   "cell_type": "markdown",
   "metadata": {
    "id": "OnJcsnTHPE3l"
   },
   "source": [
    "### Operadores de Comparação\n",
    "\n",
    "* x é igual a y: `x == y`\n",
    "* x é diferente de y: `x != y`\n",
    "* x é maior que y: `x > y`\n",
    "* x é menor que y: `x < y`\n",
    "* x é maior ou igual a y: `x >= y`\n",
    "* x é menor ou igual a y: `x <= y`"
   ]
  },
  {
   "cell_type": "markdown",
   "metadata": {
    "id": "SdKhk8npPdtu"
   },
   "source": [
    "<br>\n",
    "\n",
    "---\n",
    "\n",
    "### Saída de Dados\n",
    "\n",
    "Para exibir dados ao usuário utiliza-se a função `print`"
   ]
  },
  {
   "cell_type": "code",
   "execution_count": null,
   "metadata": {
    "colab": {
     "base_uri": "https://localhost:8080/"
    },
    "id": "UHdReKk1PpPo",
    "outputId": "5f1c4c33-dfaa-48de-d111-2cb91208e2fc"
   },
   "outputs": [
    {
     "name": "stdout",
     "output_type": "stream",
     "text": [
      "Capinzal\n"
     ]
    }
   ],
   "source": [
    "cidade = \"Capinzal\"\n",
    "print(cidade)"
   ]
  },
  {
   "cell_type": "markdown",
   "metadata": {
    "id": "hRqEq3SGPxe4"
   },
   "source": [
    "A função print pode ser combinada com outras funções para alterar a forma de exibição ao usuário"
   ]
  },
  {
   "cell_type": "code",
   "execution_count": null,
   "metadata": {
    "colab": {
     "base_uri": "https://localhost:8080/"
    },
    "id": "JeaDY3VXQIQz",
    "outputId": "3ea93c68-fd13-4c7b-f22d-8d3d9d1e3ef2"
   },
   "outputs": [
    {
     "name": "stdout",
     "output_type": "stream",
     "text": [
      "Eu moro em Santa Catarina\n"
     ]
    }
   ],
   "source": [
    "estado = \"Santa Catarina\"\n",
    "print(f\"Eu moro em {estado}\")"
   ]
  },
  {
   "cell_type": "markdown",
   "metadata": {
    "id": "oTBScLPnOmWg"
   },
   "source": [
    "<br>\n",
    "\n",
    "---\n",
    "\n",
    "### Entrada de Dados\n",
    "\n",
    "A função `input` pode ser utilizada para receber dados fornecidos pelo usuário. Esses dados são recebidos por padrão como texto/string e podem ser atribuídos a variáveis"
   ]
  },
  {
   "cell_type": "code",
   "execution_count": null,
   "metadata": {
    "colab": {
     "base_uri": "https://localhost:8080/"
    },
    "id": "B15OvuLNLkzX",
    "outputId": "cbc09e3d-862e-4904-dc9d-c27b47aa27a9"
   },
   "outputs": [
    {
     "name": "stdout",
     "output_type": "stream",
     "text": [
      "Digite seu nome: João\n"
     ]
    }
   ],
   "source": [
    "nome = input(\"Digite seu nome: \")"
   ]
  },
  {
   "cell_type": "markdown",
   "metadata": {
    "id": "KW5wqqObMFlp"
   },
   "source": [
    "Como os dados são recebidos como *strings*, pode ser necessário convertê-los para um formato mais adequado"
   ]
  },
  {
   "cell_type": "code",
   "execution_count": null,
   "metadata": {
    "colab": {
     "base_uri": "https://localhost:8080/"
    },
    "id": "YNM-m8rHMviY",
    "outputId": "fe2a41e6-7c09-4a85-82e4-e664bff2fc75"
   },
   "outputs": [
    {
     "name": "stdout",
     "output_type": "stream",
     "text": [
      "Digite a sua idade: 35\n",
      "Digite a sua altura: 1.73\n"
     ]
    }
   ],
   "source": [
    "idade = int(input(\"Digite a sua idade: \"))\n",
    "\n",
    "altura = float(input(\"Digite a sua altura: \"))"
   ]
  },
  {
   "cell_type": "markdown",
   "metadata": {
    "id": "wSo-S8TzNKHe"
   },
   "source": [
    "Para verificar a classe atribuída ao dado recebido, utilize a função `type`\n"
   ]
  },
  {
   "cell_type": "code",
   "execution_count": null,
   "metadata": {
    "colab": {
     "base_uri": "https://localhost:8080/"
    },
    "id": "q9f8117KNWKW",
    "outputId": "72060bb9-d887-43ea-e3af-6d3dfeaa4b15"
   },
   "outputs": [
    {
     "name": "stdout",
     "output_type": "stream",
     "text": [
      "A classe do dado armazenado na variável idade é <class 'int'> e a classe do dado armazenado na variável altura é <class 'float'>\n"
     ]
    }
   ],
   "source": [
    "print(f\"A classe do dado armazenado na variável idade é {type(idade)} e a classe do dado armazenado na variável altura é {type(altura)}\")\n",
    "\n"
   ]
  },
  {
   "cell_type": "markdown",
   "metadata": {
    "id": "Ufxwsw7LYcr0"
   },
   "source": [
    "<br>\n",
    "\n",
    "---\n",
    "\n",
    "### Estruturas de dados\n",
    "\n",
    "As estrutras a seguir são coleções de dados. Os dados armazenados podem ser de qualquer tipo. Além disso, a mesma coleção pode conter vários tipos de dados\n",
    "\n",
    "\n",
    "*   Listas\n",
    "*   Tuplas\n",
    "*  Dicionários\n",
    "\n"
   ]
  },
  {
   "cell_type": "markdown",
   "metadata": {
    "id": "pcy2kXK5YpWr"
   },
   "source": [
    "<br>\n",
    "\n",
    "---\n",
    "\n",
    "**Listas**\n",
    "\n",
    "Listas são coleções de dados armazenadas entre colchetes. Os dados são separados entre si por vírgulas.\n",
    "\n",
    "<br>\n",
    "\n",
    "\n",
    "`lista = [\"Lívia˜, \"Jessica\", \"João\"]`\n",
    "\n",
    "`outra_lista = [\"Jessica\", 32, 1.75]`\n",
    "\n"
   ]
  },
  {
   "cell_type": "markdown",
   "metadata": {
    "id": "FK3iglawYt0S"
   },
   "source": [
    "<br>\n",
    "\n",
    "---\n",
    "\n",
    "**Tuplas**\n",
    "\n",
    "São coleções de dados separados por vírgulas. Os dados podem estar entre parênteses ou \"soltos\". Diferente dos outros tipos de coleções, **depois de criadas, as tuplas NÃO podem ser modificadas**\n",
    "\n",
    "<br>\n",
    "\n",
    "\n",
    "`primeira_tupla = (\"João\", \"22/03/1988\")`\n",
    "\n",
    "`segunda_tupla = \"Jessisa\", \"22/04/1991`"
   ]
  },
  {
   "cell_type": "markdown",
   "metadata": {
    "id": "Q6-XuEUMYxYG"
   },
   "source": [
    "<br>\n",
    "\n",
    "---\n",
    "\n",
    "**Dicionários**\n",
    "\n",
    "Coleções de dados representados entre chaves, cujos elementos contêm duas partes:\n",
    "\n",
    "\n",
    "1.   Chave\n",
    "2.   Valor\n",
    "\n",
    "\n",
    "`dicionário = {1: \"Maçã\", 2: \"Banana\", 3: \"Laranja\"}`\n",
    "\n"
   ]
  },
  {
   "cell_type": "code",
   "execution_count": null,
   "metadata": {
    "id": "0uf1BGJHYsqA"
   },
   "outputs": [],
   "source": []
  },
  {
   "cell_type": "markdown",
   "source": [
    "<br>\n",
    "\n",
    "---\n",
    "\n",
    "### Estruturas de Repetição"
   ],
   "metadata": {
    "collapsed": false
   }
  },
  {
   "cell_type": "markdown",
   "source": [
    " <br>\n",
    "\n",
    " ---\n",
    "\n",
    " #### Função `for`\n",
    "\n",
    "Utiliza-se a função `for` quando o número de iterações é conhecido. Cada iteração executa aquele determinado bloco de código até que se alcance a quantidade pré determinada de iterações\n",
    "\n",
    "É comum utilizar um índice - normalmente chamado de `i` - para contagem do número de iterações. Ao final do bloco de código que será iterado, o valor de `i` é incrementado, até que alcance um limite pré estabelecido."
   ],
   "metadata": {
    "collapsed": false
   }
  },
  {
   "cell_type": "code",
   "execution_count": null,
   "outputs": [
    {
     "name": "stdout",
     "output_type": "stream",
     "text": [
      "O elemento de índice número 0 na lista é igual a Lívia\n",
      "O elemento de índice número 1 na lista é igual a Jessica\n",
      "O elemento de índice número 2 na lista é igual a João\n"
     ]
    }
   ],
   "source": [
    "lista = [\"Lívia\", \"Jessica\", \"João\"]\n",
    "\n",
    "# Ao seguir a instrução, a função `for` vai substituir o valor de `i` por 0, depois por 1 e então por 2\n",
    "\n",
    "for i in range(3):\n",
    "  print(f\"O elemento de índice número {i} na lista é igual a {lista[i]}\")\n",
    "  i = i + 1\n",
    "\n",
    "# Em linguagem natural, pode-se ler a fórmula acima como:\n",
    "# Para valores de `i` a partir de zero (padrão) até o valor anterior a três, repita a operação abaixo"
   ],
   "metadata": {
    "collapsed": false
   }
  },
  {
   "cell_type": "markdown",
   "source": [
    "<br>\n",
    "\n",
    "---\n",
    "\n",
    "#### Função `while`\n",
    "\n",
    "Utiliza-se a função `while` quando o número de iterações é **DES**conhecido. Cada iteração executa o bloco de código até que a condição estabelecida seja alcançada.\n",
    "\n",
    "Em linguagem natural, pode-se ler a função `while` da seguinte forma:\n",
    "\n",
    "<br>\n",
    "\n",
    "*Enquanto esta condição for verdadeira, repita a seguinte operação. Quando a condição não for mais verdadeira, pare*\n",
    "\n",
    "<br>\n",
    "\n"
   ],
   "metadata": {
    "collapsed": false
   }
  }
 ],
 "metadata": {
  "colab": {
   "toc_visible": true,
   "provenance": []
  },
  "kernelspec": {
   "display_name": "Python 3",
   "name": "python3"
  },
  "language_info": {
   "name": "python"
  }
 },
 "nbformat": 4,
 "nbformat_minor": 0
}
